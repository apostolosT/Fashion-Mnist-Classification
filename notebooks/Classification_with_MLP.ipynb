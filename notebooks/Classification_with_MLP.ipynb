{
  "nbformat": 4,
  "nbformat_minor": 0,
  "metadata": {
    "colab": {
      "name": "Classification with MLP",
      "provenance": [],
      "collapsed_sections": []
    },
    "kernelspec": {
      "name": "python3",
      "display_name": "Python 3"
    },
    "accelerator": "GPU"
  },
  "cells": [
    {
      "cell_type": "code",
      "metadata": {
        "id": "GAt5uM1tULyA",
        "colab_type": "code",
        "colab": {}
      },
      "source": [
        "%tensorflow_version 2.x"
      ],
      "execution_count": null,
      "outputs": []
    },
    {
      "cell_type": "code",
      "metadata": {
        "id": "9lHS6g4Jhk77",
        "colab_type": "code",
        "colab": {}
      },
      "source": [
        "import tensorflow as tf\n",
        "import tensorflow.keras as keras\n",
        "import numpy as np\n",
        "import matplotlib.pyplot as plt"
      ],
      "execution_count": null,
      "outputs": []
    },
    {
      "cell_type": "code",
      "metadata": {
        "id": "-YUFvPibTxNT",
        "colab_type": "code",
        "colab": {
          "base_uri": "https://localhost:8080/",
          "height": 34
        },
        "outputId": "22bf4391-7012-475a-fb5f-769f40d25ce6"
      },
      "source": [
        "tf.__version__"
      ],
      "execution_count": null,
      "outputs": [
        {
          "output_type": "execute_result",
          "data": {
            "text/plain": [
              "'2.2.0'"
            ]
          },
          "metadata": {
            "tags": []
          },
          "execution_count": 3
        }
      ]
    },
    {
      "cell_type": "code",
      "metadata": {
        "id": "8BvkY4BHhs7b",
        "colab_type": "code",
        "colab": {
          "base_uri": "https://localhost:8080/",
          "height": 156
        },
        "outputId": "f1c16142-4d4e-4c45-f3f5-916d819c6f3d"
      },
      "source": [
        "fashion_mnist = tf.keras.datasets.fashion_mnist\n",
        "\n",
        "(train_images, train_labels), (test_images, test_labels) = fashion_mnist.load_data()\n"
      ],
      "execution_count": null,
      "outputs": [
        {
          "output_type": "stream",
          "text": [
            "Downloading data from https://storage.googleapis.com/tensorflow/tf-keras-datasets/train-labels-idx1-ubyte.gz\n",
            "32768/29515 [=================================] - 0s 0us/step\n",
            "Downloading data from https://storage.googleapis.com/tensorflow/tf-keras-datasets/train-images-idx3-ubyte.gz\n",
            "26427392/26421880 [==============================] - 1s 0us/step\n",
            "Downloading data from https://storage.googleapis.com/tensorflow/tf-keras-datasets/t10k-labels-idx1-ubyte.gz\n",
            "8192/5148 [===============================================] - 0s 0us/step\n",
            "Downloading data from https://storage.googleapis.com/tensorflow/tf-keras-datasets/t10k-images-idx3-ubyte.gz\n",
            "4423680/4422102 [==============================] - 0s 0us/step\n"
          ],
          "name": "stdout"
        }
      ]
    },
    {
      "cell_type": "code",
      "metadata": {
        "id": "Rez1JH_qif1Z",
        "colab_type": "code",
        "colab": {}
      },
      "source": [
        "class_names = ['T-shirt/top', 'Trouser', 'Pullover', 'Dress', 'Coat',\n",
        "               'Sandal',      'Shirt',   'Sneaker',  'Bag',   'Ankle boot']"
      ],
      "execution_count": null,
      "outputs": []
    },
    {
      "cell_type": "code",
      "metadata": {
        "id": "gX6Liqvbi0N2",
        "colab_type": "code",
        "colab": {
          "base_uri": "https://localhost:8080/",
          "height": 34
        },
        "outputId": "d45396da-c66f-4279-a2b5-2c2ad8aa5e79"
      },
      "source": [
        "print(train_images.shape,test_images.shape)"
      ],
      "execution_count": null,
      "outputs": [
        {
          "output_type": "stream",
          "text": [
            "(60000, 28, 28) (10000, 28, 28)\n"
          ],
          "name": "stdout"
        }
      ]
    },
    {
      "cell_type": "code",
      "metadata": {
        "id": "BWq0aEDvjUvn",
        "colab_type": "code",
        "colab": {
          "base_uri": "https://localhost:8080/",
          "height": 281
        },
        "outputId": "5343be40-10a0-4b83-9bd3-c9af75d84e68"
      },
      "source": [
        "# random check with nine training examples\n",
        "np.random.seed(0);\n",
        "indices = list(np.random.randint(train_images.shape[0],size=9))\n",
        "for i in range(9):\n",
        "    plt.subplot(3,3,i+1)\n",
        "    plt.imshow(train_images[indices[i]].reshape(28,28), cmap='gray', interpolation='none')\n",
        "    plt.subplots_adjust(hspace=0.6,wspace=0.6)\n",
        "    plt.title(\"Class {}\".format(class_names[train_labels[indices[i]]]))\n"
      ],
      "execution_count": null,
      "outputs": [
        {
          "output_type": "display_data",
          "data": {
            "image/png": "[encoded data removed]",
            "text/plain": [
              "<Figure size 432x288 with 9 Axes>"
            ]
          },
          "metadata": {
            "tags": [],
            "needs_background": "light"
          }
        }
      ]
    },
    {
      "cell_type": "markdown",
      "metadata": {
        "id": "RcxRj_AXpAqE",
        "colab_type": "text"
      },
      "source": [
        "\n",
        "### Prepare Pixel Data\n",
        "\n",
        "We know that the pixel values for each image in the dataset are unsigned integers in the range between black and white, or 0 and 255.\n",
        "\n",
        "We do not know the best way to scale the pixel values for modeling, but we know that some scaling will be required.\n",
        "\n",
        "**Data**:\n",
        "- The data are grayscale 28*28 images of scanned handwritten digits\n",
        "- We will use an MLP to classify them so we first need to flatten them\n",
        "- The values of the inputs are in [0, 255] so we normalize them to [0, 1]"
      ]
    },
    {
      "cell_type": "code",
      "metadata": {
        "id": "OXaBsvfAl2Av",
        "colab_type": "code",
        "colab": {}
      },
      "source": [
        "classes=len(np.unique(train_labels))\n",
        "X_train = train_images.reshape(60000, 784)\n",
        "X_test = test_images.reshape(10000, 784)\n",
        "X_train = X_train.astype('float32')\n",
        "X_test = X_test.astype('float32')\n",
        "X_train /= 255\n",
        "X_test /= 255\n",
        "y_train = keras.utils.to_categorical(train_labels, classes)\n",
        "y_test = keras.utils.to_categorical(test_labels, classes)"
      ],
      "execution_count": null,
      "outputs": []
    },
    {
      "cell_type": "markdown",
      "metadata": {
        "id": "jmM7JQnYN8QY",
        "colab_type": "text"
      },
      "source": [
        "\n",
        "### Define Evaluation metrics & Helper Functions"
      ]
    },
    {
      "cell_type": "code",
      "metadata": {
        "id": "Do6FkPHjtmD7",
        "colab_type": "code",
        "colab": {
          "base_uri": "https://localhost:8080/",
          "height": 34
        },
        "outputId": "748525bf-f7a2-46a2-9c97-c7337329098f"
      },
      "source": [
        "import keras.backend as K"
      ],
      "execution_count": null,
      "outputs": [
        {
          "output_type": "stream",
          "text": [
            "Using TensorFlow backend.\n"
          ],
          "name": "stderr"
        }
      ]
    },
    {
      "cell_type": "code",
      "metadata": {
        "id": "xbt7y-G7w6aG",
        "colab_type": "code",
        "colab": {}
      },
      "source": [
        "from sklearn.metrics import *"
      ],
      "execution_count": null,
      "outputs": []
    },
    {
      "cell_type": "code",
      "metadata": {
        "id": "Be8deO7X-MyI",
        "colab_type": "code",
        "colab": {}
      },
      "source": [
        "# for visualizing the training progress of our models\n",
        "%matplotlib inline\n",
        "import matplotlib.pyplot as plt\n",
        "def viz_history(hs_dict,metric):\n",
        "  plt.style.use('dark_background')\n",
        "  plt.rcParams['figure.figsize'] = [15, 8]\n",
        "  plt.rcParams['font.size'] = 16\n",
        "  plt.clf()\n",
        "  for model in hs_dict.keys():\n",
        "    plt.plot(hs_dict[model].history[metric],label='{0:s} train {1:s}'.format(model, metric))\n",
        "    plt.plot(hs_dict[model].history['val_{0:s}'.format(metric)],label='{0:s} validation {1:s}'.format(model, metric))\n",
        "    plt.ylabel(metric) \n",
        "    plt.xlabel('epoch')\n",
        "    plt.legend()\n",
        "  plt.show()\n"
      ],
      "execution_count": null,
      "outputs": []
    },
    {
      "cell_type": "code",
      "metadata": {
        "id": "LtT1qAD8GQiN",
        "colab_type": "code",
        "colab": {}
      },
      "source": [
        "def print_results(hs,model,best_epoch=-1):\n",
        "  print(\"Train Loss     : {0:.5f}\".format(hs.history['loss'][best_epoch]))\n",
        "  print(\"Validation Loss: {0:.5f}\".format(hs.history['val_loss'][best_epoch]))\n",
        "  eval_model=model.evaluate(X_test, y_test, verbose=0)\n",
        "  print(\"Test Loss: {0:.5f}\".format(eval_model[0]))\n",
        "\n",
        " \n",
        "  print('-------')\n",
        "  print(\"Train Accuracy     : {0:.5f}\".format(hs.history['accuracy'][best_epoch]))\n",
        "  print(\"Validation Accuracy: {0:.5f}\".format(hs.history['val_accuracy'][best_epoch]))\n",
        "  print(\"Test Accuracy: {0:.5f}\".format(eval_model[1]))\n",
        "  # print('-------')\n",
        "  # print(\"Train f1 score     : {0:.5f}\".format(hs.history['f1'][-1]))\n",
        "  # print(\"Validation f1 score: {0:.5f}\".format(hs.history['val_f1'][-1]))\n",
        "\n"
      ],
      "execution_count": null,
      "outputs": []
    },
    {
      "cell_type": "code",
      "metadata": {
        "id": "j_1J1D0Fh9XH",
        "colab_type": "code",
        "colab": {}
      },
      "source": [
        "from keras.models import Sequential\n",
        "from keras.layers import *\n",
        "from keras.optimizers import *\n",
        "from keras.models import Model\n",
        "from keras.callbacks import ModelCheckpoint,EarlyStopping"
      ],
      "execution_count": null,
      "outputs": []
    },
    {
      "cell_type": "markdown",
      "metadata": {
        "id": "KFDLnZQ0wOjc",
        "colab_type": "text"
      },
      "source": [
        "### General Function for creating MLP models"
      ]
    },
    {
      "cell_type": "code",
      "metadata": {
        "id": "hw4VJMybDLCf",
        "colab_type": "code",
        "colab": {}
      },
      "source": [
        "model_params={'dropout':0.2,\n",
        "              'hidden_units':128,\n",
        "              'hidden_layers':1,\n",
        "              'hidden_activation':'relu',\n",
        "              'lr':0.001,\n",
        "              'learning_rate':0.001,\n",
        "              }"
      ],
      "execution_count": null,
      "outputs": []
    },
    {
      "cell_type": "code",
      "metadata": {
        "id": "4xLsQXNMF1v_",
        "colab_type": "code",
        "colab": {}
      },
      "source": [
        "def train_model(train_data,\n",
        "                train_labels,\n",
        "                model_params,\n",
        "                optimizer=Adam,\n",
        "                epochs=100,\n",
        "                batch_size=128,\n",
        "                ):\n",
        "    \n",
        "    np.random.seed(1402) # Define the seed for numpy to have reproducible experiments.\n",
        "    tf.random.set_seed(1981) # Define the seed for Tensorflow to have reproducible experiments.\n",
        "    \n",
        "    # Define the input layer.\n",
        "    input = Input(\n",
        "        shape=(784,),\n",
        "        name='Input'\n",
        "    )\n",
        "\n",
        "    x = input\n",
        "    # Define the remaining hidden layers.\n",
        "    for i in range(model_params['hidden_layers']):\n",
        "        x = Dense(\n",
        "            units=model_params['hidden_units'],\n",
        "            kernel_initializer='glorot_uniform',\n",
        "            activation=model_params['hidden_activation'],\n",
        "            name='Hidden-{0:d}'.format(i + 1)\n",
        "        )(x)\n",
        "        if model_params['dropout']:\n",
        "          x = Dropout(\n",
        "                rate=model_params['dropout'],\n",
        "                name='Dropout-{0:d}'.format(i + 1)\n",
        "            )(x)\n",
        "        \n",
        "    # Define the output layer.\n",
        "    output = Dense(\n",
        "        units=10,\n",
        "        kernel_initializer='uniform',\n",
        "        activation='softmax',\n",
        "        name='Output'\n",
        "    )(x)\n",
        "\n",
        "    # Define the model and train it.\n",
        "    model = Model(inputs=input, outputs=output)\n",
        "    if(optimizer==Adam):\n",
        "      model.compile(optimizer=optimizer(model_params['learning_rate']), loss='categorical_crossentropy', metrics=['accuracy'])\n",
        "\n",
        "    else:\n",
        "      model.compile(optimizer=optimizer(model_params['lr'],momentum=0.9,nesterov=True), loss='categorical_crossentropy', metrics=['accuracy'])\n",
        "\n",
        "    print('------------------')\n",
        "    model.summary() # Print a description of the model.\n",
        "    keras.utils.plot_model(model, to_file='model.png', show_shapes=True, dpi=50)\n",
        "    \n",
        "    early_stopping = EarlyStopping(monitor='val_accuracy',\n",
        "                                    patience=10,\n",
        "                                    verbose=1,\n",
        "                                    restore_best_weights=True\n",
        "  )\n",
        "    hs = model.fit(\n",
        "        x=train_data,\n",
        "        y=train_labels,\n",
        "        validation_split=0.1, # use 10% of the training data as validation data\n",
        "        epochs=epochs,\n",
        "        verbose=1,\n",
        "        callbacks=[early_stopping],\n",
        "        batch_size=batch_size\n",
        "    )\n",
        "    print('Finished training.')\n",
        "    print('------------------')\n",
        "    # model.summary() # Print a description of the model.\n",
        "    return model, hs\n"
      ],
      "execution_count": null,
      "outputs": []
    },
    {
      "cell_type": "markdown",
      "metadata": {
        "id": "Gu5rgCyLh5nL",
        "colab_type": "text"
      },
      "source": [
        "### Baseline model\n"
      ]
    },
    {
      "cell_type": "markdown",
      "metadata": {
        "id": "jCbiM4v6jcYk",
        "colab_type": "text"
      },
      "source": [
        "* The baseline model will consist of three layers.\n",
        "\n",
        "* The first layer will *flatten* the input, from 28x28 arrays to 1D arrays of 784 pixels.\n",
        "\n",
        "* The second is densely-connected, or fully-connected, with 128 nodes (neurons), and ReLU for activation.\n",
        "\n",
        "* The third is again dense, with 10 output nodes and softmax to yield the probabilities of an item belonging to each class.\n"
      ]
    },
    {
      "cell_type": "code",
      "metadata": {
        "id": "nCoeLnUzIh6j",
        "colab_type": "code",
        "colab": {
          "base_uri": "https://localhost:8080/",
          "height": 1000
        },
        "outputId": "715a6d30-d4f8-4c71-c58a-40e0406451a3"
      },
      "source": [
        "#call the baseline Model through the train function\n",
        "base_model,base_hs=train_model(\n",
        "    train_data=X_train,\n",
        "    train_labels=y_train,\n",
        "    optimizer=Adam,\n",
        "    epochs=100,\n",
        "    batch_size=128,\n",
        "    model_params=model_params\n",
        ")"
      ],
      "execution_count": null,
      "outputs": [
        {
          "output_type": "stream",
          "text": [
            "------------------\n",
            "Model: \"model_12\"\n",
            "_________________________________________________________________\n",
            "Layer (type)                 Output Shape              Param #   \n",
            "=================================================================\n",
            "Input (InputLayer)           (None, 784)               0         \n",
            "_________________________________________________________________\n",
            "Hidden-1 (Dense)             (None, 128)               100480    \n",
            "_________________________________________________________________\n",
            "Dropout-1 (Dropout)          (None, 128)               0         \n",
            "_________________________________________________________________\n",
            "Output (Dense)               (None, 10)                1290      \n",
            "=================================================================\n",
            "Total params: 101,770\n",
            "Trainable params: 101,770\n",
            "Non-trainable params: 0\n",
            "_________________________________________________________________\n",
            "Train on 54000 samples, validate on 6000 samples\n",
            "Epoch 1/100\n",
            "54000/54000 [==============================] - 2s 29us/step - loss: 0.6633 - accuracy: 0.7715 - val_loss: 0.4567 - val_accuracy: 0.8395\n",
            "Epoch 2/100\n",
            "54000/54000 [==============================] - 1s 27us/step - loss: 0.4434 - accuracy: 0.8436 - val_loss: 0.3947 - val_accuracy: 0.8592\n",
            "Epoch 3/100\n",
            "54000/54000 [==============================] - 1s 28us/step - loss: 0.3919 - accuracy: 0.8619 - val_loss: 0.3790 - val_accuracy: 0.8672\n",
            "Epoch 4/100\n",
            "54000/54000 [==============================] - 2s 28us/step - loss: 0.3648 - accuracy: 0.8683 - val_loss: 0.3569 - val_accuracy: 0.8698\n",
            "Epoch 5/100\n",
            "54000/54000 [==============================] - 1s 27us/step - loss: 0.3482 - accuracy: 0.8740 - val_loss: 0.3445 - val_accuracy: 0.8747\n",
            "Epoch 6/100\n",
            "54000/54000 [==============================] - 1s 27us/step - loss: 0.3338 - accuracy: 0.8789 - val_loss: 0.3307 - val_accuracy: 0.8815\n",
            "Epoch 7/100\n",
            "54000/54000 [==============================] - 1s 27us/step - loss: 0.3197 - accuracy: 0.8836 - val_loss: 0.3298 - val_accuracy: 0.8773\n",
            "Epoch 8/100\n",
            "54000/54000 [==============================] - 1s 27us/step - loss: 0.3120 - accuracy: 0.8874 - val_loss: 0.3372 - val_accuracy: 0.8778\n",
            "Epoch 9/100\n",
            "54000/54000 [==============================] - 1s 28us/step - loss: 0.3018 - accuracy: 0.8882 - val_loss: 0.3348 - val_accuracy: 0.8733\n",
            "Epoch 10/100\n",
            "54000/54000 [==============================] - 2s 28us/step - loss: 0.2931 - accuracy: 0.8932 - val_loss: 0.3189 - val_accuracy: 0.8835\n",
            "Epoch 11/100\n",
            "54000/54000 [==============================] - 2s 28us/step - loss: 0.2840 - accuracy: 0.8962 - val_loss: 0.3413 - val_accuracy: 0.8755\n",
            "Epoch 12/100\n",
            "54000/54000 [==============================] - 2s 28us/step - loss: 0.2830 - accuracy: 0.8953 - val_loss: 0.3213 - val_accuracy: 0.8853\n",
            "Epoch 13/100\n",
            "54000/54000 [==============================] - 1s 27us/step - loss: 0.2731 - accuracy: 0.9002 - val_loss: 0.3097 - val_accuracy: 0.8892\n",
            "Epoch 14/100\n",
            "54000/54000 [==============================] - 1s 27us/step - loss: 0.2682 - accuracy: 0.9013 - val_loss: 0.3256 - val_accuracy: 0.8817\n",
            "Epoch 15/100\n",
            "54000/54000 [==============================] - 2s 28us/step - loss: 0.2649 - accuracy: 0.9024 - val_loss: 0.3247 - val_accuracy: 0.8823\n",
            "Epoch 16/100\n",
            "54000/54000 [==============================] - 1s 28us/step - loss: 0.2585 - accuracy: 0.9036 - val_loss: 0.3243 - val_accuracy: 0.8862\n",
            "Epoch 17/100\n",
            "54000/54000 [==============================] - 2s 29us/step - loss: 0.2546 - accuracy: 0.9051 - val_loss: 0.3136 - val_accuracy: 0.8868\n",
            "Epoch 18/100\n",
            "54000/54000 [==============================] - 1s 27us/step - loss: 0.2490 - accuracy: 0.9078 - val_loss: 0.3121 - val_accuracy: 0.8898\n",
            "Epoch 19/100\n",
            "54000/54000 [==============================] - 2s 28us/step - loss: 0.2448 - accuracy: 0.9082 - val_loss: 0.3203 - val_accuracy: 0.8860\n",
            "Epoch 20/100\n",
            "54000/54000 [==============================] - 1s 27us/step - loss: 0.2398 - accuracy: 0.9108 - val_loss: 0.3157 - val_accuracy: 0.8882\n",
            "Epoch 21/100\n",
            "54000/54000 [==============================] - 2s 28us/step - loss: 0.2367 - accuracy: 0.9115 - val_loss: 0.3094 - val_accuracy: 0.8920\n",
            "Epoch 22/100\n",
            "54000/54000 [==============================] - 1s 28us/step - loss: 0.2316 - accuracy: 0.9134 - val_loss: 0.3173 - val_accuracy: 0.8893\n",
            "Epoch 23/100\n",
            "54000/54000 [==============================] - 1s 27us/step - loss: 0.2296 - accuracy: 0.9144 - val_loss: 0.3259 - val_accuracy: 0.8845\n",
            "Epoch 24/100\n",
            "54000/54000 [==============================] - 2s 28us/step - loss: 0.2281 - accuracy: 0.9145 - val_loss: 0.3263 - val_accuracy: 0.8890\n",
            "Epoch 25/100\n",
            "54000/54000 [==============================] - 2s 28us/step - loss: 0.2237 - accuracy: 0.9167 - val_loss: 0.3191 - val_accuracy: 0.8892\n",
            "Epoch 26/100\n",
            "54000/54000 [==============================] - 1s 27us/step - loss: 0.2238 - accuracy: 0.9158 - val_loss: 0.3122 - val_accuracy: 0.8965\n",
            "Epoch 27/100\n",
            "54000/54000 [==============================] - 2s 28us/step - loss: 0.2163 - accuracy: 0.9187 - val_loss: 0.3346 - val_accuracy: 0.8858\n",
            "Epoch 28/100\n",
            "54000/54000 [==============================] - 1s 27us/step - loss: 0.2148 - accuracy: 0.9191 - val_loss: 0.3270 - val_accuracy: 0.8873\n",
            "Epoch 29/100\n",
            "54000/54000 [==============================] - 1s 28us/step - loss: 0.2116 - accuracy: 0.9197 - val_loss: 0.3150 - val_accuracy: 0.8913\n",
            "Epoch 30/100\n",
            "54000/54000 [==============================] - 1s 27us/step - loss: 0.2107 - accuracy: 0.9215 - val_loss: 0.3240 - val_accuracy: 0.8860\n",
            "Epoch 31/100\n",
            "54000/54000 [==============================] - 2s 28us/step - loss: 0.2050 - accuracy: 0.9239 - val_loss: 0.3245 - val_accuracy: 0.8940\n",
            "Epoch 32/100\n",
            "54000/54000 [==============================] - 1s 27us/step - loss: 0.2036 - accuracy: 0.9235 - val_loss: 0.3242 - val_accuracy: 0.8903\n",
            "Epoch 33/100\n",
            "54000/54000 [==============================] - 1s 27us/step - loss: 0.2024 - accuracy: 0.9234 - val_loss: 0.3238 - val_accuracy: 0.8928\n",
            "Epoch 34/100\n",
            "54000/54000 [==============================] - 1s 27us/step - loss: 0.1979 - accuracy: 0.9256 - val_loss: 0.3186 - val_accuracy: 0.8947\n",
            "Epoch 35/100\n",
            "54000/54000 [==============================] - 1s 27us/step - loss: 0.1973 - accuracy: 0.9252 - val_loss: 0.3214 - val_accuracy: 0.8922\n",
            "Epoch 36/100\n",
            "54000/54000 [==============================] - 1s 27us/step - loss: 0.1944 - accuracy: 0.9260 - val_loss: 0.3271 - val_accuracy: 0.8935\n",
            "Restoring model weights from the end of the best epoch\n",
            "Epoch 00036: early stopping\n",
            "Finished training.\n",
            "------------------\n"
          ],
          "name": "stdout"
        }
      ]
    },
    {
      "cell_type": "code",
      "metadata": {
        "id": "okQktsKLAEKX",
        "colab_type": "code",
        "colab": {
          "base_uri": "https://localhost:8080/",
          "height": 52
        },
        "outputId": "b42b63ac-29d0-4e44-9eb6-bf5a89b64c4a"
      },
      "source": [
        "# Find the scores from the epochs according to Early stopping\n",
        "best_epoch = np.argmax(base_hs.history['val_accuracy']) + 1\n",
        "print('Best epoch=',best_epoch)\n",
        "print('Best val_accuracy=',np.max(base_hs.history['val_accuracy']))"
      ],
      "execution_count": null,
      "outputs": [
        {
          "output_type": "stream",
          "text": [
            "Best epoch= 26\n",
            "Best val_accuracy= 0.8964999914169312\n"
          ],
          "name": "stdout"
        }
      ]
    },
    {
      "cell_type": "code",
      "metadata": {
        "id": "JjW0plLmHBrF",
        "colab_type": "code",
        "colab": {
          "base_uri": "https://localhost:8080/",
          "height": 139
        },
        "outputId": "fb84b649-f2fb-4b4a-978d-f632b391ed2c"
      },
      "source": [
        "#print results at last epoch\n",
        "print_results(base_hs,base_model)"
      ],
      "execution_count": null,
      "outputs": [
        {
          "output_type": "stream",
          "text": [
            "Train Loss     : 0.19439\n",
            "Validation Loss: 0.32707\n",
            "Test Loss: 0.32705\n",
            "-------\n",
            "Train Accuracy     : 0.92602\n",
            "Validation Accuracy: 0.89350\n",
            "Test Accuracy: 0.88930\n"
          ],
          "name": "stdout"
        }
      ]
    },
    {
      "cell_type": "code",
      "metadata": {
        "id": "N-lsbTumIIXw",
        "colab_type": "code",
        "colab": {
          "base_uri": "https://localhost:8080/",
          "height": 139
        },
        "outputId": "b56d3152-1aa1-47e2-80e1-3ba05adf5ad8"
      },
      "source": [
        "#print results at best epoch\n",
        "print_results(base_hs,base_model,best_epoch=best_epoch-1)"
      ],
      "execution_count": null,
      "outputs": [
        {
          "output_type": "stream",
          "text": [
            "Train Loss     : 0.22376\n",
            "Validation Loss: 0.31224\n",
            "Test Loss: 0.32705\n",
            "-------\n",
            "Train Accuracy     : 0.91576\n",
            "Validation Accuracy: 0.89650\n",
            "Test Accuracy: 0.88930\n"
          ],
          "name": "stdout"
        }
      ]
    },
    {
      "cell_type": "markdown",
      "metadata": {
        "id": "KLKEk-EjEpy5",
        "colab_type": "text"
      },
      "source": [
        "### Train baseline SGD\n"
      ]
    },
    {
      "cell_type": "code",
      "metadata": {
        "id": "G0sg1msbfGwg",
        "colab_type": "code",
        "colab": {
          "base_uri": "https://localhost:8080/",
          "height": 1000
        },
        "outputId": "c1ef91f7-16da-40e3-a530-8450f9ba05ff"
      },
      "source": [
        "#call the baseline Model through the train function\n",
        "base_model_sgd,base_hs_sgd=train_model(\n",
        "    train_data=X_train,\n",
        "    train_labels=y_train,\n",
        "    optimizer=SGD,\n",
        "    epochs=100,\n",
        "    batch_size=128,\n",
        "    model_params=model_params\n",
        ")"
      ],
      "execution_count": null,
      "outputs": [
        {
          "output_type": "stream",
          "text": [
            "------------------\n",
            "Model: \"model_3\"\n",
            "_________________________________________________________________\n",
            "Layer (type)                 Output Shape              Param #   \n",
            "=================================================================\n",
            "Input (InputLayer)           (None, 784)               0         \n",
            "_________________________________________________________________\n",
            "Hidden-1 (Dense)             (None, 128)               100480    \n",
            "_________________________________________________________________\n",
            "Dropout-1 (Dropout)          (None, 128)               0         \n",
            "_________________________________________________________________\n",
            "Output (Dense)               (None, 10)                1290      \n",
            "=================================================================\n",
            "Total params: 101,770\n",
            "Trainable params: 101,770\n",
            "Non-trainable params: 0\n",
            "_________________________________________________________________\n",
            "Train on 54000 samples, validate on 6000 samples\n",
            "Epoch 1/100\n",
            "54000/54000 [==============================] - 1s 25us/step - loss: 1.6336 - accuracy: 0.5170 - val_loss: 1.0602 - val_accuracy: 0.6750\n",
            "Epoch 2/100\n",
            "54000/54000 [==============================] - 1s 24us/step - loss: 0.9566 - accuracy: 0.6672 - val_loss: 0.8020 - val_accuracy: 0.7282\n",
            "Epoch 3/100\n",
            "54000/54000 [==============================] - 1s 23us/step - loss: 0.8075 - accuracy: 0.7147 - val_loss: 0.7108 - val_accuracy: 0.7533\n",
            "Epoch 4/100\n",
            "54000/54000 [==============================] - 1s 24us/step - loss: 0.7339 - accuracy: 0.7444 - val_loss: 0.6553 - val_accuracy: 0.7735\n",
            "Epoch 5/100\n",
            "54000/54000 [==============================] - 1s 24us/step - loss: 0.6834 - accuracy: 0.7654 - val_loss: 0.6156 - val_accuracy: 0.7873\n",
            "Epoch 6/100\n",
            "54000/54000 [==============================] - 1s 24us/step - loss: 0.6446 - accuracy: 0.7806 - val_loss: 0.5863 - val_accuracy: 0.7965\n",
            "Epoch 7/100\n",
            "54000/54000 [==============================] - 1s 24us/step - loss: 0.6158 - accuracy: 0.7901 - val_loss: 0.5641 - val_accuracy: 0.8087\n",
            "Epoch 8/100\n",
            "54000/54000 [==============================] - 1s 24us/step - loss: 0.5933 - accuracy: 0.7978 - val_loss: 0.5438 - val_accuracy: 0.8127\n",
            "Epoch 9/100\n",
            "54000/54000 [==============================] - 1s 24us/step - loss: 0.5739 - accuracy: 0.8039 - val_loss: 0.5311 - val_accuracy: 0.8178\n",
            "Epoch 10/100\n",
            "54000/54000 [==============================] - 1s 25us/step - loss: 0.5556 - accuracy: 0.8111 - val_loss: 0.5158 - val_accuracy: 0.8232\n",
            "Epoch 11/100\n",
            "54000/54000 [==============================] - 1s 24us/step - loss: 0.5421 - accuracy: 0.8150 - val_loss: 0.5061 - val_accuracy: 0.8267\n",
            "Epoch 12/100\n",
            "54000/54000 [==============================] - 1s 24us/step - loss: 0.5309 - accuracy: 0.8178 - val_loss: 0.4959 - val_accuracy: 0.8268\n",
            "Epoch 13/100\n",
            "54000/54000 [==============================] - 1s 24us/step - loss: 0.5186 - accuracy: 0.8229 - val_loss: 0.4865 - val_accuracy: 0.8332\n",
            "Epoch 14/100\n",
            "54000/54000 [==============================] - 1s 24us/step - loss: 0.5090 - accuracy: 0.8272 - val_loss: 0.4796 - val_accuracy: 0.8355\n",
            "Epoch 15/100\n",
            "54000/54000 [==============================] - 1s 24us/step - loss: 0.5013 - accuracy: 0.8268 - val_loss: 0.4725 - val_accuracy: 0.8378\n",
            "Epoch 16/100\n",
            "54000/54000 [==============================] - 1s 24us/step - loss: 0.4940 - accuracy: 0.8304 - val_loss: 0.4685 - val_accuracy: 0.8370\n",
            "Epoch 17/100\n",
            "54000/54000 [==============================] - 1s 24us/step - loss: 0.4876 - accuracy: 0.8340 - val_loss: 0.4604 - val_accuracy: 0.8370\n",
            "Epoch 18/100\n",
            "54000/54000 [==============================] - 1s 24us/step - loss: 0.4805 - accuracy: 0.8356 - val_loss: 0.4567 - val_accuracy: 0.8410\n",
            "Epoch 19/100\n",
            "54000/54000 [==============================] - 1s 24us/step - loss: 0.4738 - accuracy: 0.8367 - val_loss: 0.4503 - val_accuracy: 0.8425\n",
            "Epoch 20/100\n",
            "54000/54000 [==============================] - 1s 24us/step - loss: 0.4685 - accuracy: 0.8388 - val_loss: 0.4463 - val_accuracy: 0.8418\n",
            "Epoch 21/100\n",
            "54000/54000 [==============================] - 1s 23us/step - loss: 0.4637 - accuracy: 0.8406 - val_loss: 0.4420 - val_accuracy: 0.8423\n",
            "Epoch 22/100\n",
            "54000/54000 [==============================] - 1s 24us/step - loss: 0.4592 - accuracy: 0.8428 - val_loss: 0.4386 - val_accuracy: 0.8453\n",
            "Epoch 23/100\n",
            "54000/54000 [==============================] - 1s 24us/step - loss: 0.4529 - accuracy: 0.8432 - val_loss: 0.4332 - val_accuracy: 0.8467\n",
            "Epoch 24/100\n",
            "54000/54000 [==============================] - 1s 23us/step - loss: 0.4488 - accuracy: 0.8451 - val_loss: 0.4323 - val_accuracy: 0.8472\n",
            "Epoch 25/100\n",
            "54000/54000 [==============================] - 1s 24us/step - loss: 0.4445 - accuracy: 0.8472 - val_loss: 0.4264 - val_accuracy: 0.8485\n",
            "Epoch 26/100\n",
            "54000/54000 [==============================] - 1s 24us/step - loss: 0.4398 - accuracy: 0.8473 - val_loss: 0.4251 - val_accuracy: 0.8485\n",
            "Epoch 27/100\n",
            "54000/54000 [==============================] - 1s 24us/step - loss: 0.4361 - accuracy: 0.8490 - val_loss: 0.4221 - val_accuracy: 0.8508\n",
            "Epoch 28/100\n",
            "54000/54000 [==============================] - 1s 24us/step - loss: 0.4328 - accuracy: 0.8493 - val_loss: 0.4185 - val_accuracy: 0.8522\n",
            "Epoch 29/100\n",
            "54000/54000 [==============================] - 1s 23us/step - loss: 0.4294 - accuracy: 0.8507 - val_loss: 0.4150 - val_accuracy: 0.8527\n",
            "Epoch 30/100\n",
            "54000/54000 [==============================] - 1s 24us/step - loss: 0.4244 - accuracy: 0.8523 - val_loss: 0.4120 - val_accuracy: 0.8552\n",
            "Epoch 31/100\n",
            "54000/54000 [==============================] - 1s 24us/step - loss: 0.4232 - accuracy: 0.8521 - val_loss: 0.4088 - val_accuracy: 0.8545\n",
            "Epoch 32/100\n",
            "54000/54000 [==============================] - 1s 23us/step - loss: 0.4198 - accuracy: 0.8528 - val_loss: 0.4078 - val_accuracy: 0.8545\n",
            "Epoch 33/100\n",
            "54000/54000 [==============================] - 1s 24us/step - loss: 0.4174 - accuracy: 0.8550 - val_loss: 0.4063 - val_accuracy: 0.8575\n",
            "Epoch 34/100\n",
            "54000/54000 [==============================] - 1s 24us/step - loss: 0.4132 - accuracy: 0.8558 - val_loss: 0.4021 - val_accuracy: 0.8573\n",
            "Epoch 35/100\n",
            "54000/54000 [==============================] - 1s 24us/step - loss: 0.4111 - accuracy: 0.8556 - val_loss: 0.3996 - val_accuracy: 0.8573\n",
            "Epoch 36/100\n",
            "54000/54000 [==============================] - 1s 24us/step - loss: 0.4097 - accuracy: 0.8566 - val_loss: 0.3986 - val_accuracy: 0.8558\n",
            "Epoch 37/100\n",
            "54000/54000 [==============================] - 1s 24us/step - loss: 0.4078 - accuracy: 0.8575 - val_loss: 0.3981 - val_accuracy: 0.8602\n",
            "Epoch 38/100\n",
            "54000/54000 [==============================] - 1s 24us/step - loss: 0.4033 - accuracy: 0.8588 - val_loss: 0.3964 - val_accuracy: 0.8608\n",
            "Epoch 39/100\n",
            "54000/54000 [==============================] - 1s 24us/step - loss: 0.4030 - accuracy: 0.8599 - val_loss: 0.3930 - val_accuracy: 0.8615\n",
            "Epoch 40/100\n",
            "54000/54000 [==============================] - 1s 23us/step - loss: 0.3995 - accuracy: 0.8608 - val_loss: 0.3928 - val_accuracy: 0.8603\n",
            "Epoch 41/100\n",
            "54000/54000 [==============================] - 1s 24us/step - loss: 0.3970 - accuracy: 0.8616 - val_loss: 0.3913 - val_accuracy: 0.8593\n",
            "Epoch 42/100\n",
            "54000/54000 [==============================] - 1s 24us/step - loss: 0.3941 - accuracy: 0.8624 - val_loss: 0.3859 - val_accuracy: 0.8613\n",
            "Epoch 43/100\n",
            "54000/54000 [==============================] - 1s 24us/step - loss: 0.3927 - accuracy: 0.8633 - val_loss: 0.3867 - val_accuracy: 0.8617\n",
            "Epoch 44/100\n",
            "54000/54000 [==============================] - 1s 24us/step - loss: 0.3910 - accuracy: 0.8637 - val_loss: 0.3851 - val_accuracy: 0.8617\n",
            "Epoch 45/100\n",
            "54000/54000 [==============================] - 1s 24us/step - loss: 0.3883 - accuracy: 0.8641 - val_loss: 0.3825 - val_accuracy: 0.8628\n",
            "Epoch 46/100\n",
            "54000/54000 [==============================] - 1s 24us/step - loss: 0.3873 - accuracy: 0.8637 - val_loss: 0.3808 - val_accuracy: 0.8615\n",
            "Epoch 47/100\n",
            "54000/54000 [==============================] - 1s 23us/step - loss: 0.3845 - accuracy: 0.8641 - val_loss: 0.3797 - val_accuracy: 0.8623\n",
            "Epoch 48/100\n",
            "54000/54000 [==============================] - 1s 23us/step - loss: 0.3851 - accuracy: 0.8642 - val_loss: 0.3782 - val_accuracy: 0.8632\n",
            "Epoch 49/100\n",
            "54000/54000 [==============================] - 1s 24us/step - loss: 0.3819 - accuracy: 0.8669 - val_loss: 0.3780 - val_accuracy: 0.8628\n",
            "Epoch 50/100\n",
            "54000/54000 [==============================] - 1s 24us/step - loss: 0.3804 - accuracy: 0.8668 - val_loss: 0.3757 - val_accuracy: 0.8652\n",
            "Epoch 51/100\n",
            "54000/54000 [==============================] - 1s 24us/step - loss: 0.3782 - accuracy: 0.8677 - val_loss: 0.3742 - val_accuracy: 0.8648\n",
            "Epoch 52/100\n",
            "54000/54000 [==============================] - 1s 24us/step - loss: 0.3778 - accuracy: 0.8682 - val_loss: 0.3741 - val_accuracy: 0.8652\n",
            "Epoch 53/100\n",
            "54000/54000 [==============================] - 1s 24us/step - loss: 0.3737 - accuracy: 0.8683 - val_loss: 0.3704 - val_accuracy: 0.8655\n",
            "Epoch 54/100\n",
            "54000/54000 [==============================] - 1s 23us/step - loss: 0.3745 - accuracy: 0.8686 - val_loss: 0.3713 - val_accuracy: 0.8668\n",
            "Epoch 55/100\n",
            "54000/54000 [==============================] - 1s 24us/step - loss: 0.3735 - accuracy: 0.8689 - val_loss: 0.3700 - val_accuracy: 0.8665\n",
            "Epoch 56/100\n",
            "54000/54000 [==============================] - 1s 24us/step - loss: 0.3702 - accuracy: 0.8710 - val_loss: 0.3708 - val_accuracy: 0.8653\n",
            "Epoch 57/100\n",
            "54000/54000 [==============================] - 1s 24us/step - loss: 0.3686 - accuracy: 0.8701 - val_loss: 0.3686 - val_accuracy: 0.8662\n",
            "Epoch 58/100\n",
            "54000/54000 [==============================] - 1s 24us/step - loss: 0.3674 - accuracy: 0.8712 - val_loss: 0.3679 - val_accuracy: 0.8662\n",
            "Epoch 59/100\n",
            "54000/54000 [==============================] - 1s 24us/step - loss: 0.3670 - accuracy: 0.8709 - val_loss: 0.3663 - val_accuracy: 0.8658\n",
            "Epoch 60/100\n",
            "54000/54000 [==============================] - 1s 23us/step - loss: 0.3650 - accuracy: 0.8716 - val_loss: 0.3654 - val_accuracy: 0.8688\n",
            "Epoch 61/100\n",
            "54000/54000 [==============================] - 1s 24us/step - loss: 0.3649 - accuracy: 0.8733 - val_loss: 0.3631 - val_accuracy: 0.8673\n",
            "Epoch 62/100\n",
            "54000/54000 [==============================] - 1s 26us/step - loss: 0.3632 - accuracy: 0.8724 - val_loss: 0.3636 - val_accuracy: 0.8680\n",
            "Epoch 63/100\n",
            "54000/54000 [==============================] - 1s 26us/step - loss: 0.3614 - accuracy: 0.8739 - val_loss: 0.3602 - val_accuracy: 0.8702\n",
            "Epoch 64/100\n",
            "54000/54000 [==============================] - 1s 26us/step - loss: 0.3598 - accuracy: 0.8738 - val_loss: 0.3608 - val_accuracy: 0.8690\n",
            "Epoch 65/100\n",
            "54000/54000 [==============================] - 1s 26us/step - loss: 0.3604 - accuracy: 0.8729 - val_loss: 0.3604 - val_accuracy: 0.8702\n",
            "Epoch 66/100\n",
            "54000/54000 [==============================] - 1s 26us/step - loss: 0.3572 - accuracy: 0.8743 - val_loss: 0.3585 - val_accuracy: 0.8722\n",
            "Epoch 67/100\n",
            "54000/54000 [==============================] - 1s 27us/step - loss: 0.3563 - accuracy: 0.8756 - val_loss: 0.3578 - val_accuracy: 0.8703\n",
            "Epoch 68/100\n",
            "54000/54000 [==============================] - 1s 26us/step - loss: 0.3548 - accuracy: 0.8756 - val_loss: 0.3580 - val_accuracy: 0.8702\n",
            "Epoch 69/100\n",
            "54000/54000 [==============================] - 1s 25us/step - loss: 0.3554 - accuracy: 0.8753 - val_loss: 0.3564 - val_accuracy: 0.8685\n",
            "Epoch 70/100\n",
            "54000/54000 [==============================] - 1s 24us/step - loss: 0.3513 - accuracy: 0.8761 - val_loss: 0.3560 - val_accuracy: 0.8702\n",
            "Epoch 71/100\n",
            "54000/54000 [==============================] - 1s 24us/step - loss: 0.3519 - accuracy: 0.8768 - val_loss: 0.3561 - val_accuracy: 0.8712\n",
            "Epoch 72/100\n",
            "54000/54000 [==============================] - 1s 24us/step - loss: 0.3497 - accuracy: 0.8774 - val_loss: 0.3530 - val_accuracy: 0.8720\n",
            "Epoch 73/100\n",
            "54000/54000 [==============================] - 1s 24us/step - loss: 0.3494 - accuracy: 0.8768 - val_loss: 0.3537 - val_accuracy: 0.8722\n",
            "Epoch 74/100\n",
            "54000/54000 [==============================] - 1s 24us/step - loss: 0.3477 - accuracy: 0.8777 - val_loss: 0.3541 - val_accuracy: 0.8727\n",
            "Epoch 75/100\n",
            "54000/54000 [==============================] - 1s 24us/step - loss: 0.3483 - accuracy: 0.8779 - val_loss: 0.3519 - val_accuracy: 0.8722\n",
            "Epoch 76/100\n",
            "54000/54000 [==============================] - 1s 23us/step - loss: 0.3462 - accuracy: 0.8780 - val_loss: 0.3521 - val_accuracy: 0.8727\n",
            "Epoch 77/100\n",
            "54000/54000 [==============================] - 1s 24us/step - loss: 0.3456 - accuracy: 0.8776 - val_loss: 0.3512 - val_accuracy: 0.8730\n",
            "Epoch 78/100\n",
            "54000/54000 [==============================] - 1s 23us/step - loss: 0.3441 - accuracy: 0.8790 - val_loss: 0.3512 - val_accuracy: 0.8738\n",
            "Epoch 79/100\n",
            "54000/54000 [==============================] - 1s 23us/step - loss: 0.3438 - accuracy: 0.8792 - val_loss: 0.3490 - val_accuracy: 0.8743\n",
            "Epoch 80/100\n",
            "54000/54000 [==============================] - 1s 24us/step - loss: 0.3429 - accuracy: 0.8803 - val_loss: 0.3484 - val_accuracy: 0.8738\n",
            "Epoch 81/100\n",
            "54000/54000 [==============================] - 1s 24us/step - loss: 0.3412 - accuracy: 0.8813 - val_loss: 0.3467 - val_accuracy: 0.8748\n",
            "Epoch 82/100\n",
            "54000/54000 [==============================] - 1s 23us/step - loss: 0.3405 - accuracy: 0.8803 - val_loss: 0.3471 - val_accuracy: 0.8747\n",
            "Epoch 83/100\n",
            "54000/54000 [==============================] - 1s 24us/step - loss: 0.3400 - accuracy: 0.8804 - val_loss: 0.3465 - val_accuracy: 0.8737\n",
            "Epoch 84/100\n",
            "54000/54000 [==============================] - 1s 24us/step - loss: 0.3393 - accuracy: 0.8809 - val_loss: 0.3469 - val_accuracy: 0.8750\n",
            "Epoch 85/100\n",
            "54000/54000 [==============================] - 1s 24us/step - loss: 0.3386 - accuracy: 0.8812 - val_loss: 0.3439 - val_accuracy: 0.8758\n",
            "Epoch 86/100\n",
            "54000/54000 [==============================] - 1s 23us/step - loss: 0.3374 - accuracy: 0.8832 - val_loss: 0.3450 - val_accuracy: 0.8757\n",
            "Epoch 87/100\n",
            "54000/54000 [==============================] - 1s 24us/step - loss: 0.3373 - accuracy: 0.8811 - val_loss: 0.3433 - val_accuracy: 0.8763\n",
            "Epoch 88/100\n",
            "54000/54000 [==============================] - 1s 23us/step - loss: 0.3352 - accuracy: 0.8829 - val_loss: 0.3448 - val_accuracy: 0.8745\n",
            "Epoch 89/100\n",
            "54000/54000 [==============================] - 1s 24us/step - loss: 0.3350 - accuracy: 0.8829 - val_loss: 0.3438 - val_accuracy: 0.8765\n",
            "Epoch 90/100\n",
            "54000/54000 [==============================] - 1s 24us/step - loss: 0.3333 - accuracy: 0.8829 - val_loss: 0.3419 - val_accuracy: 0.8772\n",
            "Epoch 91/100\n",
            "54000/54000 [==============================] - 1s 24us/step - loss: 0.3321 - accuracy: 0.8823 - val_loss: 0.3424 - val_accuracy: 0.8780\n",
            "Epoch 92/100\n",
            "54000/54000 [==============================] - 1s 24us/step - loss: 0.3322 - accuracy: 0.8836 - val_loss: 0.3404 - val_accuracy: 0.8780\n",
            "Epoch 93/100\n",
            "54000/54000 [==============================] - 1s 23us/step - loss: 0.3307 - accuracy: 0.8840 - val_loss: 0.3405 - val_accuracy: 0.8768\n",
            "Epoch 94/100\n",
            "54000/54000 [==============================] - 1s 24us/step - loss: 0.3295 - accuracy: 0.8841 - val_loss: 0.3418 - val_accuracy: 0.8777\n",
            "Epoch 95/100\n",
            "54000/54000 [==============================] - 1s 24us/step - loss: 0.3290 - accuracy: 0.8863 - val_loss: 0.3400 - val_accuracy: 0.8783\n",
            "Epoch 96/100\n",
            "54000/54000 [==============================] - 1s 24us/step - loss: 0.3285 - accuracy: 0.8838 - val_loss: 0.3388 - val_accuracy: 0.8780\n",
            "Epoch 97/100\n",
            "54000/54000 [==============================] - 1s 24us/step - loss: 0.3267 - accuracy: 0.8856 - val_loss: 0.3386 - val_accuracy: 0.8777\n",
            "Epoch 98/100\n",
            "54000/54000 [==============================] - 1s 24us/step - loss: 0.3269 - accuracy: 0.8844 - val_loss: 0.3369 - val_accuracy: 0.8777\n",
            "Epoch 99/100\n",
            "54000/54000 [==============================] - 1s 24us/step - loss: 0.3257 - accuracy: 0.8852 - val_loss: 0.3365 - val_accuracy: 0.8802\n",
            "Epoch 100/100\n",
            "54000/54000 [==============================] - 1s 24us/step - loss: 0.3247 - accuracy: 0.8862 - val_loss: 0.3362 - val_accuracy: 0.8802\n",
            "Finished training.\n",
            "------------------\n"
          ],
          "name": "stdout"
        }
      ]
    },
    {
      "cell_type": "code",
      "metadata": {
        "colab_type": "code",
        "id": "r-5389_LgVRa",
        "colab": {
          "base_uri": "https://localhost:8080/",
          "height": 139
        },
        "outputId": "bdfe8fab-142a-4bcd-df66-78f715e09a2b"
      },
      "source": [
        "#print results at last epoch\n",
        "print_results(base_hs_sgd,base_model_sgd)"
      ],
      "execution_count": null,
      "outputs": [
        {
          "output_type": "stream",
          "text": [
            "Train Loss     : 0.32471\n",
            "Validation Loss: 0.33625\n",
            "Test Loss: 0.36317\n",
            "-------\n",
            "Train Accuracy     : 0.88622\n",
            "Validation Accuracy: 0.88017\n",
            "Test Accuracy: 0.86990\n"
          ],
          "name": "stdout"
        }
      ]
    },
    {
      "cell_type": "code",
      "metadata": {
        "colab_type": "code",
        "id": "s_EP99ymgVR3",
        "colab": {
          "base_uri": "https://localhost:8080/",
          "height": 139
        },
        "outputId": "d89ed225-946b-464d-b5b7-5214cff0ed7a"
      },
      "source": [
        "#print results at best epoch\n",
        "print_results(base_hs_sgd,base_model_sgd)"
      ],
      "execution_count": null,
      "outputs": [
        {
          "output_type": "stream",
          "text": [
            "Train Loss     : 0.32471\n",
            "Validation Loss: 0.33625\n",
            "Test Loss: 0.36317\n",
            "-------\n",
            "Train Accuracy     : 0.88622\n",
            "Validation Accuracy: 0.88017\n",
            "Test Accuracy: 0.86990\n"
          ],
          "name": "stdout"
        }
      ]
    },
    {
      "cell_type": "markdown",
      "metadata": {
        "id": "Asgx0TX0fxzj",
        "colab_type": "text"
      },
      "source": [
        "### Visualize Results"
      ]
    },
    {
      "cell_type": "code",
      "metadata": {
        "id": "E0-zk1MEQrOO",
        "colab_type": "code",
        "colab": {
          "base_uri": "https://localhost:8080/",
          "height": 467
        },
        "outputId": "f83a87c2-cc75-4444-9cc5-ec092c7ba677"
      },
      "source": [
        "viz_history(hs_dict={'MLP_adam':base_hs,'MLP_SGD':base_hs_sgd},metric='accuracy')\n"
      ],
      "execution_count": null,
      "outputs": [
        {
          "output_type": "display_data",
          "data": {
            "image/png": "[encoded data removed]",
            "text/plain": [
              "<Figure size 1080x576 with 1 Axes>"
            ]
          },
          "metadata": {
            "tags": []
          }
        }
      ]
    },
    {
      "cell_type": "code",
      "metadata": {
        "id": "SO7h3U0ihH43",
        "colab_type": "code",
        "colab": {
          "base_uri": "https://localhost:8080/",
          "height": 472
        },
        "outputId": "73c051d3-a5eb-42dd-93d7-e7e1cb6d2d11"
      },
      "source": [
        "viz_history(hs_dict={'MLP_adam':base_hs,'MLP_SGD':base_hs_sgd},metric='loss')\n"
      ],
      "execution_count": null,
      "outputs": [
        {
          "output_type": "display_data",
          "data": {
            "image/png": "[encoded data removed]",
            "text/plain": [
              "<Figure size 1080x576 with 1 Axes>"
            ]
          },
          "metadata": {
            "tags": []
          }
        }
      ]
    },
    {
      "cell_type": "markdown",
      "metadata": {
        "id": "AO-LFAjYMYIB",
        "colab_type": "text"
      },
      "source": [
        "### MLP Fine Tuning"
      ]
    },
    {
      "cell_type": "code",
      "metadata": {
        "id": "IWnWBXW2MV45",
        "colab_type": "code",
        "colab": {}
      },
      "source": [
        "!pip install keras-tuner"
      ],
      "execution_count": null,
      "outputs": []
    },
    {
      "cell_type": "code",
      "metadata": {
        "id": "XyVQHSdAzYgg",
        "colab_type": "code",
        "colab": {
          "base_uri": "https://localhost:8080/",
          "height": 34
        },
        "outputId": "1e5cb373-3914-43e8-eda5-38c3c43f78bc"
      },
      "source": [
        "tf.__version__"
      ],
      "execution_count": null,
      "outputs": [
        {
          "output_type": "execute_result",
          "data": {
            "text/plain": [
              "'2.2.0'"
            ]
          },
          "metadata": {
            "tags": []
          },
          "execution_count": 16
        }
      ]
    },
    {
      "cell_type": "code",
      "metadata": {
        "id": "Oy3nHgyKPR4g",
        "colab_type": "code",
        "colab": {
          "base_uri": "https://localhost:8080/",
          "height": 34
        },
        "outputId": "2594de30-1b15-4781-c955-6387ed15253e"
      },
      "source": [
        "model_params.keys()"
      ],
      "execution_count": null,
      "outputs": [
        {
          "output_type": "execute_result",
          "data": {
            "text/plain": [
              "dict_keys(['dropout', 'hidden_units', 'hidden_layers', 'hidden_activation', 'lr', 'learning_rate'])"
            ]
          },
          "metadata": {
            "tags": []
          },
          "execution_count": 133
        }
      ]
    },
    {
      "cell_type": "code",
      "metadata": {
        "id": "5igmMafLutPF",
        "colab_type": "code",
        "colab": {}
      },
      "source": [
        "\n",
        "def tune_mlp_adam(hp):\n",
        "    \n",
        "    np.random.seed(1402) # Define the seed for numpy to have reproducible experiments.\n",
        "    # tf.random.set_seed(1981) # Define the seed for Tensorflow to have reproducible experiments.\n",
        "    \n",
        "    # Define the input layer.\n",
        "    input = tf.keras.Input(\n",
        "        shape=(784,),\n",
        "        name='Input'\n",
        "    )\n",
        "\n",
        "    x = input\n",
        "    hp_units = hp.Choice('hidden_units',values=[256])\n",
        "    hp_hidden_layers=hp.Choice('hidden_layers',values=[1,2])\n",
        "    hp_hidden_activation=hp.Choice('hidden_activation',values=['relu'])\n",
        "    hp_dropout=hp.Choice('dropout',values=[0.2,0.5])\n",
        "    # Define the remaining hidden layers.\n",
        "    for i in range( hp_hidden_layers):\n",
        "        x = tf.keras.layers.Dense(\n",
        "            units=hp_units,\n",
        "            kernel_initializer='glorot_uniform',\n",
        "            activation=hp_hidden_activation,\n",
        "            name='Hidden-{0:d}'.format(i + 1)\n",
        "        )(x)\n",
        "        x = tf.keras.layers.Dropout(\n",
        "              rate=hp_dropout,\n",
        "              name='Dropout-{0:d}'.format(i + 1)\n",
        "          )(x)\n",
        "        \n",
        "    # Define the output layer.\n",
        "    output = tf.keras.layers.Dense(\n",
        "        units=10,\n",
        "        kernel_initializer='uniform',\n",
        "        activation='softmax',\n",
        "        name='Output'\n",
        "    )(x)\n",
        "\n",
        "    # Define the model and train it.\n",
        "    model = tf.keras.Model(inputs=input, outputs=output)\n",
        "    model.compile(optimizer=tf.keras.optimizers.Adam(\n",
        "                hp.Float(\n",
        "                    'learning_rate',\n",
        "                    min_value=1e-4,\n",
        "                    max_value=1e-2,\n",
        "                    sampling='LOG',\n",
        "                    default=1e-3)),\n",
        "                    loss='categorical_crossentropy', \n",
        "                    metrics=['accuracy'])\n",
        "\n",
        "    #print('------------------')\n",
        "    #model.summary() # Print a description of the model.\n",
        "\n",
        "   # model.summary() # Print a description of the model.\n",
        "    return model"
      ],
      "execution_count": null,
      "outputs": []
    },
    {
      "cell_type": "code",
      "metadata": {
        "id": "sr_HiW4BFLrj",
        "colab_type": "code",
        "colab": {}
      },
      "source": [
        "def tune_mlp_sgd(hp):\n",
        "    \n",
        "    np.random.seed(1402) # Define the seed for numpy to have reproducible experiments.\n",
        "    # tf.random.set_seed(1981) # Define the seed for Tensorflow to have reproducible experiments.\n",
        "    \n",
        "    # Define the input layer.\n",
        "    input = tf.keras.Input(\n",
        "        shape=(784,),\n",
        "        name='Input'\n",
        "    )\n",
        "\n",
        "    x = input\n",
        "    hp_units = hp.Choice('hidden_units',values=[256])\n",
        "    hp_hidden_layers=hp.Choice('hidden_layers',values=[1,2])\n",
        "    hp_hidden_activation=hp.Choice('hidden_activation',values=['relu'])\n",
        "    hp_dropout=hp.Choice('dropout',values=[0.2])\n",
        "    # Define the remaining hidden layers.\n",
        "    for i in range( hp_hidden_layers):\n",
        "        x = tf.keras.layers.Dense(\n",
        "            units=hp_units,\n",
        "            kernel_initializer='glorot_uniform',\n",
        "            activation=hp_hidden_activation,\n",
        "            name='Hidden-{0:d}'.format(i + 1)\n",
        "        )(x)\n",
        "        x = tf.keras.layers.Dropout(\n",
        "              rate=hp_dropout,\n",
        "              name='Dropout-{0:d}'.format(i + 1)\n",
        "          )(x)\n",
        "        \n",
        "    # Define the output layer.\n",
        "    output = tf.keras.layers.Dense(\n",
        "        units=10,\n",
        "        kernel_initializer='uniform',\n",
        "        activation='softmax',\n",
        "        name='Output'\n",
        "    )(x)\n",
        "\n",
        "    # Define the model and train it.\n",
        "    model = tf.keras.Model(inputs=input, outputs=output)\n",
        "    model.compile(optimizer=tf.keras.optimizers.SGD(\n",
        "                hp.Float(\n",
        "                    'lr',\n",
        "                    min_value=1e-4,\n",
        "                    max_value=1e-2,\n",
        "                    sampling='LOG',\n",
        "                    default=1e-3),\n",
        "                    momentum=0.9,\n",
        "                    nesterov=True),\n",
        "                    loss='categorical_crossentropy', \n",
        "                    metrics=['accuracy'])\n",
        "\n",
        "    #print('------------------')\n",
        "    #model.summary() # Print a description of the model.\n",
        "\n",
        "   # model.summary() # Print a description of the model.\n",
        "    return model"
      ],
      "execution_count": null,
      "outputs": []
    },
    {
      "cell_type": "code",
      "metadata": {
        "id": "n5B2UjY81UQM",
        "colab_type": "code",
        "colab": {}
      },
      "source": [
        "import kerastuner as kt"
      ],
      "execution_count": null,
      "outputs": []
    },
    {
      "cell_type": "code",
      "metadata": {
        "id": "JwtjjddM2q4-",
        "colab_type": "code",
        "colab": {}
      },
      "source": [
        "MAX_TRIALS = 20\n",
        "EXECUTIONS_PER_TRIAL = 1\n",
        "\n",
        "!rm -R /content/tune_mlp_adam\n",
        "tuner_adam = kt.RandomSearch(tune_mlp_adam,\n",
        "    objective='val_accuracy',\n",
        "    max_trials=MAX_TRIALS,\n",
        "    executions_per_trial=EXECUTIONS_PER_TRIAL,\n",
        "    project_name='tune_mlp_adam',\n",
        "    seed=1\n",
        "\n",
        ")"
      ],
      "execution_count": null,
      "outputs": []
    },
    {
      "cell_type": "markdown",
      "metadata": {
        "id": "JAzp3EXwHr44",
        "colab_type": "text"
      },
      "source": [
        "### Fine Tuning MLP with Adam optimizer"
      ]
    },
    {
      "cell_type": "code",
      "metadata": {
        "id": "vfqUyuas6W0m",
        "colab_type": "code",
        "colab": {
          "base_uri": "https://localhost:8080/",
          "height": 554
        },
        "outputId": "53182b9a-df9b-4b99-9184-9b023000b426"
      },
      "source": [
        "tuner_adam.search_space_summary()"
      ],
      "execution_count": null,
      "outputs": [
        {
          "output_type": "display_data",
          "data": {
            "text/html": [
              "<span style=\"color:#4527A0\"><h1 style=\"font-size:18px\">Search space summary</h1></span>"
            ],
            "text/plain": [
              "<IPython.core.display.HTML object>"
            ]
          },
          "metadata": {
            "tags": []
          }
        },
        {
          "output_type": "display_data",
          "data": {
            "text/html": [
              "<span style=\"color:cyan\"> |-Default search space size: 5</span>"
            ],
            "text/plain": [
              "<IPython.core.display.HTML object>"
            ]
          },
          "metadata": {
            "tags": []
          }
        },
        {
          "output_type": "display_data",
          "data": {
            "text/html": [
              "<span style=\"color:#7E57C2\"><h2 style=\"font-size:16px\">hidden_units (Choice)</h2></span>"
            ],
            "text/plain": [
              "<IPython.core.display.HTML object>"
            ]
          },
          "metadata": {
            "tags": []
          }
        },
        {
          "output_type": "display_data",
          "data": {
            "text/html": [
              "<span style=\"color:cyan\"> |-default: 256</span>"
            ],
            "text/plain": [
              "<IPython.core.display.HTML object>"
            ]
          },
          "metadata": {
            "tags": []
          }
        },
        {
          "output_type": "display_data",
          "data": {
            "text/html": [
              "<span style=\"color:blue\"> |-ordered: True</span>"
            ],
            "text/plain": [
              "<IPython.core.display.HTML object>"
            ]
          },
          "metadata": {
            "tags": []
          }
        },
        {
          "output_type": "display_data",
          "data": {
            "text/html": [
              "<span style=\"color:cyan\"> |-values: [256]</span>"
            ],
            "text/plain": [
              "<IPython.core.display.HTML object>"
            ]
          },
          "metadata": {
            "tags": []
          }
        },
        {
          "output_type": "display_data",
          "data": {
            "text/html": [
              "<span style=\"color:#7E57C2\"><h2 style=\"font-size:16px\">hidden_layers (Choice)</h2></span>"
            ],
            "text/plain": [
              "<IPython.core.display.HTML object>"
            ]
          },
          "metadata": {
            "tags": []
          }
        },
        {
          "output_type": "display_data",
          "data": {
            "text/html": [
              "<span style=\"color:cyan\"> |-default: 1</span>"
            ],
            "text/plain": [
              "<IPython.core.display.HTML object>"
            ]
          },
          "metadata": {
            "tags": []
          }
        },
        {
          "output_type": "display_data",
          "data": {
            "text/html": [
              "<span style=\"color:blue\"> |-ordered: True</span>"
            ],
            "text/plain": [
              "<IPython.core.display.HTML object>"
            ]
          },
          "metadata": {
            "tags": []
          }
        },
        {
          "output_type": "display_data",
          "data": {
            "text/html": [
              "<span style=\"color:cyan\"> |-values: [1, 2]</span>"
            ],
            "text/plain": [
              "<IPython.core.display.HTML object>"
            ]
          },
          "metadata": {
            "tags": []
          }
        },
        {
          "output_type": "display_data",
          "data": {
            "text/html": [
              "<span style=\"color:#7E57C2\"><h2 style=\"font-size:16px\">hidden_activation (Choice)</h2></span>"
            ],
            "text/plain": [
              "<IPython.core.display.HTML object>"
            ]
          },
          "metadata": {
            "tags": []
          }
        },
        {
          "output_type": "display_data",
          "data": {
            "text/html": [
              "<span style=\"color:cyan\"> |-default: relu</span>"
            ],
            "text/plain": [
              "<IPython.core.display.HTML object>"
            ]
          },
          "metadata": {
            "tags": []
          }
        },
        {
          "output_type": "display_data",
          "data": {
            "text/html": [
              "<span style=\"color:blue\"> |-ordered: False</span>"
            ],
            "text/plain": [
              "<IPython.core.display.HTML object>"
            ]
          },
          "metadata": {
            "tags": []
          }
        },
        {
          "output_type": "display_data",
          "data": {
            "text/html": [
              "<span style=\"color:cyan\"> |-values: ['relu']</span>"
            ],
            "text/plain": [
              "<IPython.core.display.HTML object>"
            ]
          },
          "metadata": {
            "tags": []
          }
        },
        {
          "output_type": "display_data",
          "data": {
            "text/html": [
              "<span style=\"color:#7E57C2\"><h2 style=\"font-size:16px\">dropout (Choice)</h2></span>"
            ],
            "text/plain": [
              "<IPython.core.display.HTML object>"
            ]
          },
          "metadata": {
            "tags": []
          }
        },
        {
          "output_type": "display_data",
          "data": {
            "text/html": [
              "<span style=\"color:cyan\"> |-default: 0.2</span>"
            ],
            "text/plain": [
              "<IPython.core.display.HTML object>"
            ]
          },
          "metadata": {
            "tags": []
          }
        },
        {
          "output_type": "display_data",
          "data": {
            "text/html": [
              "<span style=\"color:blue\"> |-ordered: True</span>"
            ],
            "text/plain": [
              "<IPython.core.display.HTML object>"
            ]
          },
          "metadata": {
            "tags": []
          }
        },
        {
          "output_type": "display_data",
          "data": {
            "text/html": [
              "<span style=\"color:cyan\"> |-values: [0.2, 0.5]</span>"
            ],
            "text/plain": [
              "<IPython.core.display.HTML object>"
            ]
          },
          "metadata": {
            "tags": []
          }
        },
        {
          "output_type": "display_data",
          "data": {
            "text/html": [
              "<span style=\"color:#7E57C2\"><h2 style=\"font-size:16px\">learning_rate (Float)</h2></span>"
            ],
            "text/plain": [
              "<IPython.core.display.HTML object>"
            ]
          },
          "metadata": {
            "tags": []
          }
        },
        {
          "output_type": "display_data",
          "data": {
            "text/html": [
              "<span style=\"color:cyan\"> |-default: 0.001</span>"
            ],
            "text/plain": [
              "<IPython.core.display.HTML object>"
            ]
          },
          "metadata": {
            "tags": []
          }
        },
        {
          "output_type": "display_data",
          "data": {
            "text/html": [
              "<span style=\"color:blue\"> |-max_value: 0.01</span>"
            ],
            "text/plain": [
              "<IPython.core.display.HTML object>"
            ]
          },
          "metadata": {
            "tags": []
          }
        },
        {
          "output_type": "display_data",
          "data": {
            "text/html": [
              "<span style=\"color:cyan\"> |-min_value: 0.0001</span>"
            ],
            "text/plain": [
              "<IPython.core.display.HTML object>"
            ]
          },
          "metadata": {
            "tags": []
          }
        },
        {
          "output_type": "display_data",
          "data": {
            "text/html": [
              "<span style=\"color:blue\"> |-sampling: log</span>"
            ],
            "text/plain": [
              "<IPython.core.display.HTML object>"
            ]
          },
          "metadata": {
            "tags": []
          }
        },
        {
          "output_type": "display_data",
          "data": {
            "text/html": [
              "<span style=\"color:cyan\"> |-step: None</span>"
            ],
            "text/plain": [
              "<IPython.core.display.HTML object>"
            ]
          },
          "metadata": {
            "tags": []
          }
        }
      ]
    },
    {
      "cell_type": "code",
      "metadata": {
        "id": "f61DyHnFw2qA",
        "colab_type": "code",
        "colab": {
          "base_uri": "https://localhost:8080/",
          "height": 1000
        },
        "outputId": "b46dcd6f-ad88-4d73-927b-ee1e1cd02c95"
      },
      "source": [
        "tuner_adam.search(X_train,\n",
        "             y_train,\n",
        "             validation_split=0.1,\n",
        "             epochs=100,\n",
        "             callbacks=[tf.keras.callbacks.EarlyStopping(monitor='val_loss',\n",
        "                                   patience=5,\n",
        "                                   verbose=1,\n",
        "                                   restore_best_weights=True)])"
      ],
      "execution_count": null,
      "outputs": [
        {
          "output_type": "stream",
          "text": [
            "Epoch 1/100\n",
            "1688/1688 [==============================] - 5s 3ms/step - loss: 0.5148 - accuracy: 0.8140 - val_loss: 0.4062 - val_accuracy: 0.8532\n",
            "Epoch 2/100\n",
            "1688/1688 [==============================] - 5s 3ms/step - loss: 0.4003 - accuracy: 0.8541 - val_loss: 0.3778 - val_accuracy: 0.8608\n",
            "Epoch 3/100\n",
            "1688/1688 [==============================] - 5s 3ms/step - loss: 0.3689 - accuracy: 0.8661 - val_loss: 0.3526 - val_accuracy: 0.8745\n",
            "Epoch 4/100\n",
            "1688/1688 [==============================] - 5s 3ms/step - loss: 0.3448 - accuracy: 0.8737 - val_loss: 0.3442 - val_accuracy: 0.8732\n",
            "Epoch 5/100\n",
            "1688/1688 [==============================] - 5s 3ms/step - loss: 0.3335 - accuracy: 0.8766 - val_loss: 0.3602 - val_accuracy: 0.8697\n",
            "Epoch 6/100\n",
            "1688/1688 [==============================] - 5s 3ms/step - loss: 0.3212 - accuracy: 0.8813 - val_loss: 0.3476 - val_accuracy: 0.8758\n",
            "Epoch 7/100\n",
            "1688/1688 [==============================] - 5s 3ms/step - loss: 0.3114 - accuracy: 0.8840 - val_loss: 0.3651 - val_accuracy: 0.8722\n",
            "Epoch 8/100\n",
            "1688/1688 [==============================] - 5s 3ms/step - loss: 0.3028 - accuracy: 0.8879 - val_loss: 0.3478 - val_accuracy: 0.8740\n",
            "Epoch 9/100\n",
            "1681/1688 [============================>.] - ETA: 0s - loss: 0.2974 - accuracy: 0.8887Restoring model weights from the end of the best epoch.\n",
            "1688/1688 [==============================] - 5s 3ms/step - loss: 0.2973 - accuracy: 0.8888 - val_loss: 0.3737 - val_accuracy: 0.8730\n",
            "Epoch 00009: early stopping\n"
          ],
          "name": "stdout"
        },
        {
          "output_type": "display_data",
          "data": {
            "text/html": [
              "<span style=\"color:#4527A0\"><h1 style=\"font-size:18px\">Trial complete</h1></span>"
            ],
            "text/plain": [
              "<IPython.core.display.HTML object>"
            ]
          },
          "metadata": {
            "tags": []
          }
        },
        {
          "output_type": "display_data",
          "data": {
            "text/html": [
              "<span style=\"color:#4527A0\"><h1 style=\"font-size:18px\">Trial summary</h1></span>"
            ],
            "text/plain": [
              "<IPython.core.display.HTML object>"
            ]
          },
          "metadata": {
            "tags": []
          }
        },
        {
          "output_type": "display_data",
          "data": {
            "text/html": [
              "<span style=\"color:cyan\"> |-Trial ID: d367d40281d1371d41dbe935b8ae853c</span>"
            ],
            "text/plain": [
              "<IPython.core.display.HTML object>"
            ]
          },
          "metadata": {
            "tags": []
          }
        },
        {
          "output_type": "display_data",
          "data": {
            "text/html": [
              "<span style=\"color:cyan\"> |-Score: 0.8758333325386047</span>"
            ],
            "text/plain": [
              "<IPython.core.display.HTML object>"
            ]
          },
          "metadata": {
            "tags": []
          }
        },
        {
          "output_type": "display_data",
          "data": {
            "text/html": [
              "<span style=\"color:cyan\"> |-Best step: 0</span>"
            ],
            "text/plain": [
              "<IPython.core.display.HTML object>"
            ]
          },
          "metadata": {
            "tags": []
          }
        },
        {
          "output_type": "display_data",
          "data": {
            "text/html": [
              "<span style=\"color:#7E57C2\"><h2 style=\"font-size:16px\">Hyperparameters:</h2></span>"
            ],
            "text/plain": [
              "<IPython.core.display.HTML object>"
            ]
          },
          "metadata": {
            "tags": []
          }
        },
        {
          "output_type": "display_data",
          "data": {
            "text/html": [
              "<span style=\"color:cyan\"> |-dropout: 0.2</span>"
            ],
            "text/plain": [
              "<IPython.core.display.HTML object>"
            ]
          },
          "metadata": {
            "tags": []
          }
        },
        {
          "output_type": "display_data",
          "data": {
            "text/html": [
              "<span style=\"color:blue\"> |-hidden_activation: relu</span>"
            ],
            "text/plain": [
              "<IPython.core.display.HTML object>"
            ]
          },
          "metadata": {
            "tags": []
          }
        },
        {
          "output_type": "display_data",
          "data": {
            "text/html": [
              "<span style=\"color:cyan\"> |-hidden_layers: 1</span>"
            ],
            "text/plain": [
              "<IPython.core.display.HTML object>"
            ]
          },
          "metadata": {
            "tags": []
          }
        },
        {
          "output_type": "display_data",
          "data": {
            "text/html": [
              "<span style=\"color:blue\"> |-hidden_units: 256</span>"
            ],
            "text/plain": [
              "<IPython.core.display.HTML object>"
            ]
          },
          "metadata": {
            "tags": []
          }
        },
        {
          "output_type": "display_data",
          "data": {
            "text/html": [
              "<span style=\"color:cyan\"> |-learning_rate: 0.0017611785596585996</span>"
            ],
            "text/plain": [
              "<IPython.core.display.HTML object>"
            ]
          },
          "metadata": {
            "tags": []
          }
        },
        {
          "output_type": "stream",
          "text": [
            "Epoch 1/100\n",
            "1688/1688 [==============================] - 5s 3ms/step - loss: 0.6532 - accuracy: 0.7615 - val_loss: 0.4597 - val_accuracy: 0.8378\n",
            "Epoch 2/100\n",
            "1688/1688 [==============================] - 5s 3ms/step - loss: 0.5163 - accuracy: 0.8159 - val_loss: 0.4252 - val_accuracy: 0.8460\n",
            "Epoch 3/100\n",
            "1688/1688 [==============================] - 5s 3ms/step - loss: 0.4876 - accuracy: 0.8258 - val_loss: 0.3909 - val_accuracy: 0.8585\n",
            "Epoch 4/100\n",
            "1688/1688 [==============================] - 5s 3ms/step - loss: 0.4612 - accuracy: 0.8345 - val_loss: 0.3772 - val_accuracy: 0.8568\n",
            "Epoch 5/100\n",
            "1688/1688 [==============================] - 6s 3ms/step - loss: 0.4505 - accuracy: 0.8380 - val_loss: 0.3919 - val_accuracy: 0.8588\n",
            "Epoch 6/100\n",
            "1688/1688 [==============================] - 5s 3ms/step - loss: 0.4478 - accuracy: 0.8400 - val_loss: 0.3836 - val_accuracy: 0.8627\n",
            "Epoch 7/100\n",
            "1688/1688 [==============================] - 5s 3ms/step - loss: 0.4364 - accuracy: 0.8457 - val_loss: 0.4064 - val_accuracy: 0.8515\n",
            "Epoch 8/100\n",
            "1688/1688 [==============================] - 5s 3ms/step - loss: 0.4307 - accuracy: 0.8471 - val_loss: 0.3844 - val_accuracy: 0.8540\n",
            "Epoch 9/100\n",
            "1688/1688 [==============================] - 5s 3ms/step - loss: 0.4202 - accuracy: 0.8484 - val_loss: 0.3740 - val_accuracy: 0.8602\n",
            "Epoch 10/100\n",
            "1688/1688 [==============================] - 5s 3ms/step - loss: 0.4195 - accuracy: 0.8502 - val_loss: 0.3557 - val_accuracy: 0.8732\n",
            "Epoch 11/100\n",
            "1688/1688 [==============================] - 5s 3ms/step - loss: 0.4142 - accuracy: 0.8528 - val_loss: 0.3558 - val_accuracy: 0.8660\n",
            "Epoch 12/100\n",
            "1688/1688 [==============================] - 5s 3ms/step - loss: 0.4112 - accuracy: 0.8536 - val_loss: 0.3730 - val_accuracy: 0.8617\n",
            "Epoch 13/100\n",
            "1688/1688 [==============================] - 5s 3ms/step - loss: 0.4115 - accuracy: 0.8549 - val_loss: 0.3626 - val_accuracy: 0.8692\n",
            "Epoch 14/100\n",
            "1688/1688 [==============================] - 5s 3ms/step - loss: 0.4066 - accuracy: 0.8554 - val_loss: 0.3594 - val_accuracy: 0.8685\n",
            "Epoch 15/100\n",
            "1677/1688 [============================>.] - ETA: 0s - loss: 0.4007 - accuracy: 0.8580Restoring model weights from the end of the best epoch.\n",
            "1688/1688 [==============================] - 5s 3ms/step - loss: 0.4006 - accuracy: 0.8580 - val_loss: 0.3751 - val_accuracy: 0.8665\n",
            "Epoch 00015: early stopping\n"
          ],
          "name": "stdout"
        },
        {
          "output_type": "display_data",
          "data": {
            "text/html": [
              "<span style=\"color:#4527A0\"><h1 style=\"font-size:18px\">Trial complete</h1></span>"
            ],
            "text/plain": [
              "<IPython.core.display.HTML object>"
            ]
          },
          "metadata": {
            "tags": []
          }
        },
        {
          "output_type": "display_data",
          "data": {
            "text/html": [
              "<span style=\"color:#4527A0\"><h1 style=\"font-size:18px\">Trial summary</h1></span>"
            ],
            "text/plain": [
              "<IPython.core.display.HTML object>"
            ]
          },
          "metadata": {
            "tags": []
          }
        },
        {
          "output_type": "display_data",
          "data": {
            "text/html": [
              "<span style=\"color:cyan\"> |-Trial ID: 392f1621ad2962f9a627c202badb5715</span>"
            ],
            "text/plain": [
              "<IPython.core.display.HTML object>"
            ]
          },
          "metadata": {
            "tags": []
          }
        },
        {
          "output_type": "display_data",
          "data": {
            "text/html": [
              "<span style=\"color:cyan\"> |-Score: 0.8731666803359985</span>"
            ],
            "text/plain": [
              "<IPython.core.display.HTML object>"
            ]
          },
          "metadata": {
            "tags": []
          }
        },
        {
          "output_type": "display_data",
          "data": {
            "text/html": [
              "<span style=\"color:cyan\"> |-Best step: 0</span>"
            ],
            "text/plain": [
              "<IPython.core.display.HTML object>"
            ]
          },
          "metadata": {
            "tags": []
          }
        },
        {
          "output_type": "display_data",
          "data": {
            "text/html": [
              "<span style=\"color:#7E57C2\"><h2 style=\"font-size:16px\">Hyperparameters:</h2></span>"
            ],
            "text/plain": [
              "<IPython.core.display.HTML object>"
            ]
          },
          "metadata": {
            "tags": []
          }
        },
        {
          "output_type": "display_data",
          "data": {
            "text/html": [
              "<span style=\"color:cyan\"> |-dropout: 0.5</span>"
            ],
            "text/plain": [
              "<IPython.core.display.HTML object>"
            ]
          },
          "metadata": {
            "tags": []
          }
        },
        {
          "output_type": "display_data",
          "data": {
            "text/html": [
              "<span style=\"color:blue\"> |-hidden_activation: relu</span>"
            ],
            "text/plain": [
              "<IPython.core.display.HTML object>"
            ]
          },
          "metadata": {
            "tags": []
          }
        },
        {
          "output_type": "display_data",
          "data": {
            "text/html": [
              "<span style=\"color:cyan\"> |-hidden_layers: 2</span>"
            ],
            "text/plain": [
              "<IPython.core.display.HTML object>"
            ]
          },
          "metadata": {
            "tags": []
          }
        },
        {
          "output_type": "display_data",
          "data": {
            "text/html": [
              "<span style=\"color:blue\"> |-hidden_units: 256</span>"
            ],
            "text/plain": [
              "<IPython.core.display.HTML object>"
            ]
          },
          "metadata": {
            "tags": []
          }
        },
        {
          "output_type": "display_data",
          "data": {
            "text/html": [
              "<span style=\"color:cyan\"> |-learning_rate: 0.0013893292827173778</span>"
            ],
            "text/plain": [
              "<IPython.core.display.HTML object>"
            ]
          },
          "metadata": {
            "tags": []
          }
        },
        {
          "output_type": "stream",
          "text": [
            "Epoch 1/100\n",
            "1688/1688 [==============================] - 5s 3ms/step - loss: 0.7268 - accuracy: 0.7406 - val_loss: 0.5561 - val_accuracy: 0.8163\n",
            "Epoch 2/100\n",
            "1688/1688 [==============================] - 5s 3ms/step - loss: 0.6456 - accuracy: 0.7759 - val_loss: 0.5232 - val_accuracy: 0.8217\n",
            "Epoch 3/100\n",
            "1688/1688 [==============================] - 5s 3ms/step - loss: 0.6254 - accuracy: 0.7829 - val_loss: 0.5050 - val_accuracy: 0.8260\n",
            "Epoch 4/100\n",
            "1688/1688 [==============================] - 5s 3ms/step - loss: 0.6131 - accuracy: 0.7875 - val_loss: 0.5170 - val_accuracy: 0.8188\n",
            "Epoch 5/100\n",
            "1688/1688 [==============================] - 5s 3ms/step - loss: 0.6160 - accuracy: 0.7859 - val_loss: 0.5205 - val_accuracy: 0.8347\n",
            "Epoch 6/100\n",
            "1688/1688 [==============================] - 5s 3ms/step - loss: 0.5961 - accuracy: 0.7935 - val_loss: 0.5582 - val_accuracy: 0.8107\n",
            "Epoch 7/100\n",
            "1688/1688 [==============================] - 5s 3ms/step - loss: 0.5860 - accuracy: 0.7978 - val_loss: 0.4715 - val_accuracy: 0.8378\n",
            "Epoch 8/100\n",
            "1688/1688 [==============================] - 5s 3ms/step - loss: 0.5848 - accuracy: 0.8014 - val_loss: 0.4817 - val_accuracy: 0.8427\n",
            "Epoch 9/100\n",
            "1688/1688 [==============================] - 5s 3ms/step - loss: 0.5760 - accuracy: 0.7988 - val_loss: 0.4818 - val_accuracy: 0.8413\n",
            "Epoch 10/100\n",
            "1688/1688 [==============================] - 5s 3ms/step - loss: 0.5834 - accuracy: 0.7984 - val_loss: 0.4631 - val_accuracy: 0.8492\n",
            "Epoch 11/100\n",
            "1688/1688 [==============================] - 5s 3ms/step - loss: 0.5832 - accuracy: 0.7975 - val_loss: 0.5149 - val_accuracy: 0.8302\n",
            "Epoch 12/100\n",
            "1688/1688 [==============================] - 5s 3ms/step - loss: 0.5934 - accuracy: 0.7989 - val_loss: 0.4766 - val_accuracy: 0.8423\n",
            "Epoch 13/100\n",
            "1688/1688 [==============================] - 5s 3ms/step - loss: 0.5720 - accuracy: 0.8027 - val_loss: 0.4920 - val_accuracy: 0.8367\n",
            "Epoch 14/100\n",
            "1688/1688 [==============================] - 5s 3ms/step - loss: 0.5714 - accuracy: 0.8033 - val_loss: 0.5029 - val_accuracy: 0.8350\n",
            "Epoch 15/100\n",
            "1671/1688 [============================>.] - ETA: 0s - loss: 0.5600 - accuracy: 0.8048Restoring model weights from the end of the best epoch.\n",
            "1688/1688 [==============================] - 5s 3ms/step - loss: 0.5602 - accuracy: 0.8046 - val_loss: 0.4948 - val_accuracy: 0.8290\n",
            "Epoch 00015: early stopping\n"
          ],
          "name": "stdout"
        },
        {
          "output_type": "display_data",
          "data": {
            "text/html": [
              "<span style=\"color:#4527A0\"><h1 style=\"font-size:18px\">Trial complete</h1></span>"
            ],
            "text/plain": [
              "<IPython.core.display.HTML object>"
            ]
          },
          "metadata": {
            "tags": []
          }
        },
        {
          "output_type": "display_data",
          "data": {
            "text/html": [
              "<span style=\"color:#4527A0\"><h1 style=\"font-size:18px\">Trial summary</h1></span>"
            ],
            "text/plain": [
              "<IPython.core.display.HTML object>"
            ]
          },
          "metadata": {
            "tags": []
          }
        },
        {
          "output_type": "display_data",
          "data": {
            "text/html": [
              "<span style=\"color:cyan\"> |-Trial ID: f5fda31cca0d743830d24f0c15c08337</span>"
            ],
            "text/plain": [
              "<IPython.core.display.HTML object>"
            ]
          },
          "metadata": {
            "tags": []
          }
        },
        {
          "output_type": "display_data",
          "data": {
            "text/html": [
              "<span style=\"color:cyan\"> |-Score: 0.8491666913032532</span>"
            ],
            "text/plain": [
              "<IPython.core.display.HTML object>"
            ]
          },
          "metadata": {
            "tags": []
          }
        },
        {
          "output_type": "display_data",
          "data": {
            "text/html": [
              "<span style=\"color:cyan\"> |-Best step: 0</span>"
            ],
            "text/plain": [
              "<IPython.core.display.HTML object>"
            ]
          },
          "metadata": {
            "tags": []
          }
        },
        {
          "output_type": "display_data",
          "data": {
            "text/html": [
              "<span style=\"color:#7E57C2\"><h2 style=\"font-size:16px\">Hyperparameters:</h2></span>"
            ],
            "text/plain": [
              "<IPython.core.display.HTML object>"
            ]
          },
          "metadata": {
            "tags": []
          }
        },
        {
          "output_type": "display_data",
          "data": {
            "text/html": [
              "<span style=\"color:cyan\"> |-dropout: 0.2</span>"
            ],
            "text/plain": [
              "<IPython.core.display.HTML object>"
            ]
          },
          "metadata": {
            "tags": []
          }
        },
        {
          "output_type": "display_data",
          "data": {
            "text/html": [
              "<span style=\"color:blue\"> |-hidden_activation: relu</span>"
            ],
            "text/plain": [
              "<IPython.core.display.HTML object>"
            ]
          },
          "metadata": {
            "tags": []
          }
        },
        {
          "output_type": "display_data",
          "data": {
            "text/html": [
              "<span style=\"color:cyan\"> |-hidden_layers: 2</span>"
            ],
            "text/plain": [
              "<IPython.core.display.HTML object>"
            ]
          },
          "metadata": {
            "tags": []
          }
        },
        {
          "output_type": "display_data",
          "data": {
            "text/html": [
              "<span style=\"color:blue\"> |-hidden_units: 256</span>"
            ],
            "text/plain": [
              "<IPython.core.display.HTML object>"
            ]
          },
          "metadata": {
            "tags": []
          }
        },
        {
          "output_type": "display_data",
          "data": {
            "text/html": [
              "<span style=\"color:cyan\"> |-learning_rate: 0.008520876742029873</span>"
            ],
            "text/plain": [
              "<IPython.core.display.HTML object>"
            ]
          },
          "metadata": {
            "tags": []
          }
        },
        {
          "output_type": "stream",
          "text": [
            "Epoch 1/100\n",
            "1688/1688 [==============================] - 5s 3ms/step - loss: 0.6528 - accuracy: 0.7693 - val_loss: 0.4928 - val_accuracy: 0.8393\n",
            "Epoch 2/100\n",
            "1688/1688 [==============================] - 5s 3ms/step - loss: 0.5660 - accuracy: 0.8038 - val_loss: 0.4693 - val_accuracy: 0.8175\n",
            "Epoch 3/100\n",
            "1688/1688 [==============================] - 5s 3ms/step - loss: 0.5419 - accuracy: 0.8126 - val_loss: 0.4506 - val_accuracy: 0.8477\n",
            "Epoch 4/100\n",
            "1688/1688 [==============================] - 5s 3ms/step - loss: 0.5320 - accuracy: 0.8159 - val_loss: 0.4471 - val_accuracy: 0.8380\n",
            "Epoch 5/100\n",
            "1688/1688 [==============================] - 5s 3ms/step - loss: 0.5243 - accuracy: 0.8197 - val_loss: 0.4438 - val_accuracy: 0.8487\n",
            "Epoch 6/100\n",
            "1688/1688 [==============================] - 5s 3ms/step - loss: 0.5209 - accuracy: 0.8183 - val_loss: 0.4607 - val_accuracy: 0.8462\n",
            "Epoch 7/100\n",
            "1688/1688 [==============================] - 5s 3ms/step - loss: 0.5183 - accuracy: 0.8199 - val_loss: 0.4718 - val_accuracy: 0.8355\n",
            "Epoch 8/100\n",
            "1688/1688 [==============================] - 5s 3ms/step - loss: 0.5152 - accuracy: 0.8257 - val_loss: 0.4801 - val_accuracy: 0.8153\n",
            "Epoch 9/100\n",
            "1688/1688 [==============================] - 5s 3ms/step - loss: 0.5023 - accuracy: 0.8287 - val_loss: 0.4318 - val_accuracy: 0.8492\n",
            "Epoch 10/100\n",
            "1688/1688 [==============================] - 5s 3ms/step - loss: 0.4909 - accuracy: 0.8306 - val_loss: 0.4269 - val_accuracy: 0.8607\n",
            "Epoch 11/100\n",
            "1688/1688 [==============================] - 5s 3ms/step - loss: 0.4935 - accuracy: 0.8313 - val_loss: 0.4572 - val_accuracy: 0.8500\n",
            "Epoch 12/100\n",
            "1688/1688 [==============================] - 5s 3ms/step - loss: 0.5082 - accuracy: 0.8285 - val_loss: 0.4534 - val_accuracy: 0.8455\n",
            "Epoch 13/100\n",
            "1688/1688 [==============================] - 5s 3ms/step - loss: 0.4966 - accuracy: 0.8313 - val_loss: 0.4435 - val_accuracy: 0.8572\n",
            "Epoch 14/100\n",
            "1688/1688 [==============================] - 5s 3ms/step - loss: 0.5050 - accuracy: 0.8325 - val_loss: 0.4547 - val_accuracy: 0.8370\n",
            "Epoch 15/100\n",
            "1671/1688 [============================>.] - ETA: 0s - loss: 0.4945 - accuracy: 0.8317Restoring model weights from the end of the best epoch.\n",
            "1688/1688 [==============================] - 5s 3ms/step - loss: 0.4944 - accuracy: 0.8316 - val_loss: 0.4756 - val_accuracy: 0.8393\n",
            "Epoch 00015: early stopping\n"
          ],
          "name": "stdout"
        },
        {
          "output_type": "display_data",
          "data": {
            "text/html": [
              "<span style=\"color:#4527A0\"><h1 style=\"font-size:18px\">Trial complete</h1></span>"
            ],
            "text/plain": [
              "<IPython.core.display.HTML object>"
            ]
          },
          "metadata": {
            "tags": []
          }
        },
        {
          "output_type": "display_data",
          "data": {
            "text/html": [
              "<span style=\"color:#4527A0\"><h1 style=\"font-size:18px\">Trial summary</h1></span>"
            ],
            "text/plain": [
              "<IPython.core.display.HTML object>"
            ]
          },
          "metadata": {
            "tags": []
          }
        },
        {
          "output_type": "display_data",
          "data": {
            "text/html": [
              "<span style=\"color:cyan\"> |-Trial ID: c9071ffa08eced753e702391e6b1fe7e</span>"
            ],
            "text/plain": [
              "<IPython.core.display.HTML object>"
            ]
          },
          "metadata": {
            "tags": []
          }
        },
        {
          "output_type": "display_data",
          "data": {
            "text/html": [
              "<span style=\"color:cyan\"> |-Score: 0.8606666922569275</span>"
            ],
            "text/plain": [
              "<IPython.core.display.HTML object>"
            ]
          },
          "metadata": {
            "tags": []
          }
        },
        {
          "output_type": "display_data",
          "data": {
            "text/html": [
              "<span style=\"color:cyan\"> |-Best step: 0</span>"
            ],
            "text/plain": [
              "<IPython.core.display.HTML object>"
            ]
          },
          "metadata": {
            "tags": []
          }
        },
        {
          "output_type": "display_data",
          "data": {
            "text/html": [
              "<span style=\"color:#7E57C2\"><h2 style=\"font-size:16px\">Hyperparameters:</h2></span>"
            ],
            "text/plain": [
              "<IPython.core.display.HTML object>"
            ]
          },
          "metadata": {
            "tags": []
          }
        },
        {
          "output_type": "display_data",
          "data": {
            "text/html": [
              "<span style=\"color:cyan\"> |-dropout: 0.2</span>"
            ],
            "text/plain": [
              "<IPython.core.display.HTML object>"
            ]
          },
          "metadata": {
            "tags": []
          }
        },
        {
          "output_type": "display_data",
          "data": {
            "text/html": [
              "<span style=\"color:blue\"> |-hidden_activation: relu</span>"
            ],
            "text/plain": [
              "<IPython.core.display.HTML object>"
            ]
          },
          "metadata": {
            "tags": []
          }
        },
        {
          "output_type": "display_data",
          "data": {
            "text/html": [
              "<span style=\"color:cyan\"> |-hidden_layers: 2</span>"
            ],
            "text/plain": [
              "<IPython.core.display.HTML object>"
            ]
          },
          "metadata": {
            "tags": []
          }
        },
        {
          "output_type": "display_data",
          "data": {
            "text/html": [
              "<span style=\"color:blue\"> |-hidden_units: 256</span>"
            ],
            "text/plain": [
              "<IPython.core.display.HTML object>"
            ]
          },
          "metadata": {
            "tags": []
          }
        },
        {
          "output_type": "display_data",
          "data": {
            "text/html": [
              "<span style=\"color:cyan\"> |-learning_rate: 0.006475590128522282</span>"
            ],
            "text/plain": [
              "<IPython.core.display.HTML object>"
            ]
          },
          "metadata": {
            "tags": []
          }
        },
        {
          "output_type": "stream",
          "text": [
            "Epoch 1/100\n",
            "1688/1688 [==============================] - 5s 3ms/step - loss: 0.6121 - accuracy: 0.7851 - val_loss: 0.4404 - val_accuracy: 0.8435\n",
            "Epoch 2/100\n",
            "1688/1688 [==============================] - 5s 3ms/step - loss: 0.4447 - accuracy: 0.8391 - val_loss: 0.3919 - val_accuracy: 0.8570\n",
            "Epoch 3/100\n",
            "1688/1688 [==============================] - 5s 3ms/step - loss: 0.4049 - accuracy: 0.8533 - val_loss: 0.3569 - val_accuracy: 0.8708\n",
            "Epoch 4/100\n",
            "1688/1688 [==============================] - 5s 3ms/step - loss: 0.3834 - accuracy: 0.8598 - val_loss: 0.3554 - val_accuracy: 0.8690\n",
            "Epoch 5/100\n",
            "1688/1688 [==============================] - 5s 3ms/step - loss: 0.3670 - accuracy: 0.8661 - val_loss: 0.3430 - val_accuracy: 0.8762\n",
            "Epoch 6/100\n",
            "1688/1688 [==============================] - 5s 3ms/step - loss: 0.3560 - accuracy: 0.8695 - val_loss: 0.3346 - val_accuracy: 0.8797\n",
            "Epoch 7/100\n",
            "1688/1688 [==============================] - 5s 3ms/step - loss: 0.3463 - accuracy: 0.8727 - val_loss: 0.3438 - val_accuracy: 0.8767\n",
            "Epoch 8/100\n",
            "1688/1688 [==============================] - 5s 3ms/step - loss: 0.3357 - accuracy: 0.8779 - val_loss: 0.3270 - val_accuracy: 0.8782\n",
            "Epoch 9/100\n",
            "1688/1688 [==============================] - 5s 3ms/step - loss: 0.3292 - accuracy: 0.8786 - val_loss: 0.3277 - val_accuracy: 0.8777\n",
            "Epoch 10/100\n",
            "1688/1688 [==============================] - 5s 3ms/step - loss: 0.3238 - accuracy: 0.8802 - val_loss: 0.3133 - val_accuracy: 0.8870\n",
            "Epoch 11/100\n",
            "1688/1688 [==============================] - 5s 3ms/step - loss: 0.3168 - accuracy: 0.8826 - val_loss: 0.3200 - val_accuracy: 0.8805\n",
            "Epoch 12/100\n",
            "1688/1688 [==============================] - 5s 3ms/step - loss: 0.3095 - accuracy: 0.8868 - val_loss: 0.3119 - val_accuracy: 0.8832\n",
            "Epoch 13/100\n",
            "1688/1688 [==============================] - 5s 3ms/step - loss: 0.3060 - accuracy: 0.8853 - val_loss: 0.3135 - val_accuracy: 0.8863\n",
            "Epoch 14/100\n",
            "1688/1688 [==============================] - 5s 3ms/step - loss: 0.2989 - accuracy: 0.8894 - val_loss: 0.3129 - val_accuracy: 0.8872\n",
            "Epoch 15/100\n",
            "1688/1688 [==============================] - 5s 3ms/step - loss: 0.2967 - accuracy: 0.8884 - val_loss: 0.3113 - val_accuracy: 0.8910\n",
            "Epoch 16/100\n",
            "1688/1688 [==============================] - 5s 3ms/step - loss: 0.2886 - accuracy: 0.8914 - val_loss: 0.3101 - val_accuracy: 0.8873\n",
            "Epoch 17/100\n",
            "1688/1688 [==============================] - 5s 3ms/step - loss: 0.2878 - accuracy: 0.8914 - val_loss: 0.3145 - val_accuracy: 0.8857\n",
            "Epoch 18/100\n",
            "1688/1688 [==============================] - 5s 3ms/step - loss: 0.2863 - accuracy: 0.8945 - val_loss: 0.3070 - val_accuracy: 0.8923\n",
            "Epoch 19/100\n",
            "1688/1688 [==============================] - 5s 3ms/step - loss: 0.2788 - accuracy: 0.8951 - val_loss: 0.3149 - val_accuracy: 0.8853\n",
            "Epoch 20/100\n",
            "1688/1688 [==============================] - 5s 3ms/step - loss: 0.2752 - accuracy: 0.8976 - val_loss: 0.3072 - val_accuracy: 0.8872\n",
            "Epoch 21/100\n",
            "1688/1688 [==============================] - 5s 3ms/step - loss: 0.2766 - accuracy: 0.8965 - val_loss: 0.3030 - val_accuracy: 0.8905\n",
            "Epoch 22/100\n",
            "1688/1688 [==============================] - 5s 3ms/step - loss: 0.2688 - accuracy: 0.8996 - val_loss: 0.3058 - val_accuracy: 0.8905\n",
            "Epoch 23/100\n",
            "1688/1688 [==============================] - 5s 3ms/step - loss: 0.2690 - accuracy: 0.8988 - val_loss: 0.3061 - val_accuracy: 0.8892\n",
            "Epoch 24/100\n",
            "1688/1688 [==============================] - 5s 3ms/step - loss: 0.2642 - accuracy: 0.8999 - val_loss: 0.3178 - val_accuracy: 0.8878\n",
            "Epoch 25/100\n",
            "1688/1688 [==============================] - 5s 3ms/step - loss: 0.2626 - accuracy: 0.9023 - val_loss: 0.3060 - val_accuracy: 0.8933\n",
            "Epoch 26/100\n",
            "1673/1688 [============================>.] - ETA: 0s - loss: 0.2591 - accuracy: 0.9030Restoring model weights from the end of the best epoch.\n",
            "1688/1688 [==============================] - 5s 3ms/step - loss: 0.2590 - accuracy: 0.9030 - val_loss: 0.3145 - val_accuracy: 0.8915\n",
            "Epoch 00026: early stopping\n"
          ],
          "name": "stdout"
        },
        {
          "output_type": "display_data",
          "data": {
            "text/html": [
              "<span style=\"color:#4527A0\"><h1 style=\"font-size:18px\">Trial complete</h1></span>"
            ],
            "text/plain": [
              "<IPython.core.display.HTML object>"
            ]
          },
          "metadata": {
            "tags": []
          }
        },
        {
          "output_type": "display_data",
          "data": {
            "text/html": [
              "<span style=\"color:#4527A0\"><h1 style=\"font-size:18px\">Trial summary</h1></span>"
            ],
            "text/plain": [
              "<IPython.core.display.HTML object>"
            ]
          },
          "metadata": {
            "tags": []
          }
        },
        {
          "output_type": "display_data",
          "data": {
            "text/html": [
              "<span style=\"color:cyan\"> |-Trial ID: 7dc24b04c3da61f5f34bf843fbeed789</span>"
            ],
            "text/plain": [
              "<IPython.core.display.HTML object>"
            ]
          },
          "metadata": {
            "tags": []
          }
        },
        {
          "output_type": "display_data",
          "data": {
            "text/html": [
              "<span style=\"color:cyan\"> |-Score: 0.8933333158493042</span>"
            ],
            "text/plain": [
              "<IPython.core.display.HTML object>"
            ]
          },
          "metadata": {
            "tags": []
          }
        },
        {
          "output_type": "display_data",
          "data": {
            "text/html": [
              "<span style=\"color:cyan\"> |-Best step: 0</span>"
            ],
            "text/plain": [
              "<IPython.core.display.HTML object>"
            ]
          },
          "metadata": {
            "tags": []
          }
        },
        {
          "output_type": "display_data",
          "data": {
            "text/html": [
              "<span style=\"color:#7E57C2\"><h2 style=\"font-size:16px\">Hyperparameters:</h2></span>"
            ],
            "text/plain": [
              "<IPython.core.display.HTML object>"
            ]
          },
          "metadata": {
            "tags": []
          }
        },
        {
          "output_type": "display_data",
          "data": {
            "text/html": [
              "<span style=\"color:cyan\"> |-dropout: 0.5</span>"
            ],
            "text/plain": [
              "<IPython.core.display.HTML object>"
            ]
          },
          "metadata": {
            "tags": []
          }
        },
        {
          "output_type": "display_data",
          "data": {
            "text/html": [
              "<span style=\"color:blue\"> |-hidden_activation: relu</span>"
            ],
            "text/plain": [
              "<IPython.core.display.HTML object>"
            ]
          },
          "metadata": {
            "tags": []
          }
        },
        {
          "output_type": "display_data",
          "data": {
            "text/html": [
              "<span style=\"color:cyan\"> |-hidden_layers: 1</span>"
            ],
            "text/plain": [
              "<IPython.core.display.HTML object>"
            ]
          },
          "metadata": {
            "tags": []
          }
        },
        {
          "output_type": "display_data",
          "data": {
            "text/html": [
              "<span style=\"color:blue\"> |-hidden_units: 256</span>"
            ],
            "text/plain": [
              "<IPython.core.display.HTML object>"
            ]
          },
          "metadata": {
            "tags": []
          }
        },
        {
          "output_type": "display_data",
          "data": {
            "text/html": [
              "<span style=\"color:cyan\"> |-learning_rate: 0.0005674460859990781</span>"
            ],
            "text/plain": [
              "<IPython.core.display.HTML object>"
            ]
          },
          "metadata": {
            "tags": []
          }
        },
        {
          "output_type": "stream",
          "text": [
            "Epoch 1/100\n",
            "1688/1688 [==============================] - 5s 3ms/step - loss: 0.5334 - accuracy: 0.8056 - val_loss: 0.4158 - val_accuracy: 0.8523\n",
            "Epoch 2/100\n",
            "1688/1688 [==============================] - 5s 3ms/step - loss: 0.4051 - accuracy: 0.8520 - val_loss: 0.3881 - val_accuracy: 0.8568\n",
            "Epoch 3/100\n",
            "1688/1688 [==============================] - 5s 3ms/step - loss: 0.3727 - accuracy: 0.8630 - val_loss: 0.3619 - val_accuracy: 0.8718\n",
            "Epoch 4/100\n",
            "1688/1688 [==============================] - 5s 3ms/step - loss: 0.3472 - accuracy: 0.8729 - val_loss: 0.3400 - val_accuracy: 0.8717\n",
            "Epoch 5/100\n",
            "1688/1688 [==============================] - 5s 3ms/step - loss: 0.3376 - accuracy: 0.8759 - val_loss: 0.3604 - val_accuracy: 0.8742\n",
            "Epoch 6/100\n",
            "1688/1688 [==============================] - 5s 3ms/step - loss: 0.3258 - accuracy: 0.8807 - val_loss: 0.3264 - val_accuracy: 0.8842\n",
            "Epoch 7/100\n",
            "1688/1688 [==============================] - 5s 3ms/step - loss: 0.3139 - accuracy: 0.8839 - val_loss: 0.3509 - val_accuracy: 0.8702\n",
            "Epoch 8/100\n",
            "1688/1688 [==============================] - 5s 3ms/step - loss: 0.3074 - accuracy: 0.8866 - val_loss: 0.3284 - val_accuracy: 0.8733\n",
            "Epoch 9/100\n",
            "1688/1688 [==============================] - 5s 3ms/step - loss: 0.2997 - accuracy: 0.8880 - val_loss: 0.3300 - val_accuracy: 0.8752\n",
            "Epoch 10/100\n",
            "1688/1688 [==============================] - 5s 3ms/step - loss: 0.2935 - accuracy: 0.8901 - val_loss: 0.3220 - val_accuracy: 0.8863\n",
            "Epoch 11/100\n",
            "1688/1688 [==============================] - 5s 3ms/step - loss: 0.2865 - accuracy: 0.8927 - val_loss: 0.3349 - val_accuracy: 0.8802\n",
            "Epoch 12/100\n",
            "1688/1688 [==============================] - 5s 3ms/step - loss: 0.2822 - accuracy: 0.8951 - val_loss: 0.3393 - val_accuracy: 0.8775\n",
            "Epoch 13/100\n",
            "1688/1688 [==============================] - 5s 3ms/step - loss: 0.2771 - accuracy: 0.8961 - val_loss: 0.3128 - val_accuracy: 0.8885\n",
            "Epoch 14/100\n",
            "1688/1688 [==============================] - 5s 3ms/step - loss: 0.2695 - accuracy: 0.8982 - val_loss: 0.3248 - val_accuracy: 0.8787\n",
            "Epoch 15/100\n",
            "1688/1688 [==============================] - 5s 3ms/step - loss: 0.2673 - accuracy: 0.9006 - val_loss: 0.3266 - val_accuracy: 0.8893\n",
            "Epoch 16/100\n",
            "1688/1688 [==============================] - 5s 3ms/step - loss: 0.2640 - accuracy: 0.9005 - val_loss: 0.3288 - val_accuracy: 0.8853\n",
            "Epoch 17/100\n",
            "1688/1688 [==============================] - 5s 3ms/step - loss: 0.2634 - accuracy: 0.9015 - val_loss: 0.3267 - val_accuracy: 0.8823\n",
            "Epoch 18/100\n",
            "1670/1688 [============================>.] - ETA: 0s - loss: 0.2582 - accuracy: 0.9028Restoring model weights from the end of the best epoch.\n",
            "1688/1688 [==============================] - 5s 3ms/step - loss: 0.2580 - accuracy: 0.9026 - val_loss: 0.3233 - val_accuracy: 0.8915\n",
            "Epoch 00018: early stopping\n"
          ],
          "name": "stdout"
        },
        {
          "output_type": "display_data",
          "data": {
            "text/html": [
              "<span style=\"color:#4527A0\"><h1 style=\"font-size:18px\">Trial complete</h1></span>"
            ],
            "text/plain": [
              "<IPython.core.display.HTML object>"
            ]
          },
          "metadata": {
            "tags": []
          }
        },
        {
          "output_type": "display_data",
          "data": {
            "text/html": [
              "<span style=\"color:#4527A0\"><h1 style=\"font-size:18px\">Trial summary</h1></span>"
            ],
            "text/plain": [
              "<IPython.core.display.HTML object>"
            ]
          },
          "metadata": {
            "tags": []
          }
        },
        {
          "output_type": "display_data",
          "data": {
            "text/html": [
              "<span style=\"color:cyan\"> |-Trial ID: 0686ed45753a3d4510a77c29efc0022a</span>"
            ],
            "text/plain": [
              "<IPython.core.display.HTML object>"
            ]
          },
          "metadata": {
            "tags": []
          }
        },
        {
          "output_type": "display_data",
          "data": {
            "text/html": [
              "<span style=\"color:cyan\"> |-Score: 0.8914999961853027</span>"
            ],
            "text/plain": [
              "<IPython.core.display.HTML object>"
            ]
          },
          "metadata": {
            "tags": []
          }
        },
        {
          "output_type": "display_data",
          "data": {
            "text/html": [
              "<span style=\"color:cyan\"> |-Best step: 0</span>"
            ],
            "text/plain": [
              "<IPython.core.display.HTML object>"
            ]
          },
          "metadata": {
            "tags": []
          }
        },
        {
          "output_type": "display_data",
          "data": {
            "text/html": [
              "<span style=\"color:#7E57C2\"><h2 style=\"font-size:16px\">Hyperparameters:</h2></span>"
            ],
            "text/plain": [
              "<IPython.core.display.HTML object>"
            ]
          },
          "metadata": {
            "tags": []
          }
        },
        {
          "output_type": "display_data",
          "data": {
            "text/html": [
              "<span style=\"color:cyan\"> |-dropout: 0.2</span>"
            ],
            "text/plain": [
              "<IPython.core.display.HTML object>"
            ]
          },
          "metadata": {
            "tags": []
          }
        },
        {
          "output_type": "display_data",
          "data": {
            "text/html": [
              "<span style=\"color:blue\"> |-hidden_activation: relu</span>"
            ],
            "text/plain": [
              "<IPython.core.display.HTML object>"
            ]
          },
          "metadata": {
            "tags": []
          }
        },
        {
          "output_type": "display_data",
          "data": {
            "text/html": [
              "<span style=\"color:cyan\"> |-hidden_layers: 2</span>"
            ],
            "text/plain": [
              "<IPython.core.display.HTML object>"
            ]
          },
          "metadata": {
            "tags": []
          }
        },
        {
          "output_type": "display_data",
          "data": {
            "text/html": [
              "<span style=\"color:blue\"> |-hidden_units: 256</span>"
            ],
            "text/plain": [
              "<IPython.core.display.HTML object>"
            ]
          },
          "metadata": {
            "tags": []
          }
        },
        {
          "output_type": "display_data",
          "data": {
            "text/html": [
              "<span style=\"color:cyan\"> |-learning_rate: 0.0011971901340926848</span>"
            ],
            "text/plain": [
              "<IPython.core.display.HTML object>"
            ]
          },
          "metadata": {
            "tags": []
          }
        },
        {
          "output_type": "stream",
          "text": [
            "Epoch 1/100\n",
            "1688/1688 [==============================] - 5s 3ms/step - loss: 0.5797 - accuracy: 0.7916 - val_loss: 0.4214 - val_accuracy: 0.8518\n",
            "Epoch 2/100\n",
            "1688/1688 [==============================] - 5s 3ms/step - loss: 0.4528 - accuracy: 0.8354 - val_loss: 0.3863 - val_accuracy: 0.8570\n",
            "Epoch 3/100\n",
            "1688/1688 [==============================] - 5s 3ms/step - loss: 0.4206 - accuracy: 0.8487 - val_loss: 0.3689 - val_accuracy: 0.8673\n",
            "Epoch 4/100\n",
            "1688/1688 [==============================] - 5s 3ms/step - loss: 0.4041 - accuracy: 0.8525 - val_loss: 0.3506 - val_accuracy: 0.8678\n",
            "Epoch 5/100\n",
            "1688/1688 [==============================] - 5s 3ms/step - loss: 0.3890 - accuracy: 0.8579 - val_loss: 0.3550 - val_accuracy: 0.8668\n",
            "Epoch 6/100\n",
            "1688/1688 [==============================] - 5s 3ms/step - loss: 0.3777 - accuracy: 0.8609 - val_loss: 0.3403 - val_accuracy: 0.8762\n",
            "Epoch 7/100\n",
            "1688/1688 [==============================] - 5s 3ms/step - loss: 0.3655 - accuracy: 0.8658 - val_loss: 0.3468 - val_accuracy: 0.8778\n",
            "Epoch 8/100\n",
            "1688/1688 [==============================] - 5s 3ms/step - loss: 0.3623 - accuracy: 0.8668 - val_loss: 0.3566 - val_accuracy: 0.8682\n",
            "Epoch 9/100\n",
            "1688/1688 [==============================] - 5s 3ms/step - loss: 0.3591 - accuracy: 0.8676 - val_loss: 0.3450 - val_accuracy: 0.8735\n",
            "Epoch 10/100\n",
            "1688/1688 [==============================] - 5s 3ms/step - loss: 0.3464 - accuracy: 0.8711 - val_loss: 0.3331 - val_accuracy: 0.8800\n",
            "Epoch 11/100\n",
            "1688/1688 [==============================] - 5s 3ms/step - loss: 0.3407 - accuracy: 0.8745 - val_loss: 0.3453 - val_accuracy: 0.8787\n",
            "Epoch 12/100\n",
            "1688/1688 [==============================] - 5s 3ms/step - loss: 0.3389 - accuracy: 0.8746 - val_loss: 0.3352 - val_accuracy: 0.8783\n",
            "Epoch 13/100\n",
            "1688/1688 [==============================] - 5s 3ms/step - loss: 0.3326 - accuracy: 0.8759 - val_loss: 0.3301 - val_accuracy: 0.8837\n",
            "Epoch 14/100\n",
            "1688/1688 [==============================] - 5s 3ms/step - loss: 0.3284 - accuracy: 0.8793 - val_loss: 0.3262 - val_accuracy: 0.8840\n",
            "Epoch 15/100\n",
            "1688/1688 [==============================] - 5s 3ms/step - loss: 0.3241 - accuracy: 0.8801 - val_loss: 0.3510 - val_accuracy: 0.8790\n",
            "Epoch 16/100\n",
            "1688/1688 [==============================] - 5s 3ms/step - loss: 0.3171 - accuracy: 0.8814 - val_loss: 0.3324 - val_accuracy: 0.8807\n",
            "Epoch 17/100\n",
            "1688/1688 [==============================] - 5s 3ms/step - loss: 0.3162 - accuracy: 0.8810 - val_loss: 0.3402 - val_accuracy: 0.8805\n",
            "Epoch 18/100\n",
            "1688/1688 [==============================] - 5s 3ms/step - loss: 0.3159 - accuracy: 0.8823 - val_loss: 0.3333 - val_accuracy: 0.8875\n",
            "Epoch 19/100\n",
            "1687/1688 [============================>.] - ETA: 0s - loss: 0.3078 - accuracy: 0.8840Restoring model weights from the end of the best epoch.\n",
            "1688/1688 [==============================] - 5s 3ms/step - loss: 0.3078 - accuracy: 0.8840 - val_loss: 0.3344 - val_accuracy: 0.8818\n",
            "Epoch 00019: early stopping\n"
          ],
          "name": "stdout"
        },
        {
          "output_type": "display_data",
          "data": {
            "text/html": [
              "<span style=\"color:#4527A0\"><h1 style=\"font-size:18px\">Trial complete</h1></span>"
            ],
            "text/plain": [
              "<IPython.core.display.HTML object>"
            ]
          },
          "metadata": {
            "tags": []
          }
        },
        {
          "output_type": "display_data",
          "data": {
            "text/html": [
              "<span style=\"color:#4527A0\"><h1 style=\"font-size:18px\">Trial summary</h1></span>"
            ],
            "text/plain": [
              "<IPython.core.display.HTML object>"
            ]
          },
          "metadata": {
            "tags": []
          }
        },
        {
          "output_type": "display_data",
          "data": {
            "text/html": [
              "<span style=\"color:cyan\"> |-Trial ID: b46dc5b3ceb4b14756a682a8b0b33f0c</span>"
            ],
            "text/plain": [
              "<IPython.core.display.HTML object>"
            ]
          },
          "metadata": {
            "tags": []
          }
        },
        {
          "output_type": "display_data",
          "data": {
            "text/html": [
              "<span style=\"color:cyan\"> |-Score: 0.887499988079071</span>"
            ],
            "text/plain": [
              "<IPython.core.display.HTML object>"
            ]
          },
          "metadata": {
            "tags": []
          }
        },
        {
          "output_type": "display_data",
          "data": {
            "text/html": [
              "<span style=\"color:cyan\"> |-Best step: 0</span>"
            ],
            "text/plain": [
              "<IPython.core.display.HTML object>"
            ]
          },
          "metadata": {
            "tags": []
          }
        },
        {
          "output_type": "display_data",
          "data": {
            "text/html": [
              "<span style=\"color:#7E57C2\"><h2 style=\"font-size:16px\">Hyperparameters:</h2></span>"
            ],
            "text/plain": [
              "<IPython.core.display.HTML object>"
            ]
          },
          "metadata": {
            "tags": []
          }
        },
        {
          "output_type": "display_data",
          "data": {
            "text/html": [
              "<span style=\"color:cyan\"> |-dropout: 0.5</span>"
            ],
            "text/plain": [
              "<IPython.core.display.HTML object>"
            ]
          },
          "metadata": {
            "tags": []
          }
        },
        {
          "output_type": "display_data",
          "data": {
            "text/html": [
              "<span style=\"color:blue\"> |-hidden_activation: relu</span>"
            ],
            "text/plain": [
              "<IPython.core.display.HTML object>"
            ]
          },
          "metadata": {
            "tags": []
          }
        },
        {
          "output_type": "display_data",
          "data": {
            "text/html": [
              "<span style=\"color:cyan\"> |-hidden_layers: 1</span>"
            ],
            "text/plain": [
              "<IPython.core.display.HTML object>"
            ]
          },
          "metadata": {
            "tags": []
          }
        },
        {
          "output_type": "display_data",
          "data": {
            "text/html": [
              "<span style=\"color:blue\"> |-hidden_units: 256</span>"
            ],
            "text/plain": [
              "<IPython.core.display.HTML object>"
            ]
          },
          "metadata": {
            "tags": []
          }
        },
        {
          "output_type": "display_data",
          "data": {
            "text/html": [
              "<span style=\"color:cyan\"> |-learning_rate: 0.0012513800047239778</span>"
            ],
            "text/plain": [
              "<IPython.core.display.HTML object>"
            ]
          },
          "metadata": {
            "tags": []
          }
        },
        {
          "output_type": "stream",
          "text": [
            "Epoch 1/100\n",
            "1688/1688 [==============================] - 5s 3ms/step - loss: 0.5311 - accuracy: 0.8115 - val_loss: 0.4116 - val_accuracy: 0.8548\n",
            "Epoch 2/100\n",
            "1688/1688 [==============================] - 5s 3ms/step - loss: 0.3928 - accuracy: 0.8569 - val_loss: 0.3717 - val_accuracy: 0.8655\n",
            "Epoch 3/100\n",
            "1688/1688 [==============================] - 5s 3ms/step - loss: 0.3555 - accuracy: 0.8704 - val_loss: 0.3492 - val_accuracy: 0.8773\n",
            "Epoch 4/100\n",
            "1688/1688 [==============================] - 5s 3ms/step - loss: 0.3308 - accuracy: 0.8786 - val_loss: 0.3326 - val_accuracy: 0.8788\n",
            "Epoch 5/100\n",
            "1688/1688 [==============================] - 5s 3ms/step - loss: 0.3152 - accuracy: 0.8837 - val_loss: 0.3304 - val_accuracy: 0.8825\n",
            "Epoch 6/100\n",
            "1688/1688 [==============================] - 5s 3ms/step - loss: 0.3022 - accuracy: 0.8887 - val_loss: 0.3233 - val_accuracy: 0.8827\n",
            "Epoch 7/100\n",
            "1688/1688 [==============================] - 5s 3ms/step - loss: 0.2927 - accuracy: 0.8921 - val_loss: 0.3403 - val_accuracy: 0.8813\n",
            "Epoch 8/100\n",
            "1688/1688 [==============================] - 4s 3ms/step - loss: 0.2802 - accuracy: 0.8964 - val_loss: 0.3284 - val_accuracy: 0.8820\n",
            "Epoch 9/100\n",
            "1688/1688 [==============================] - 5s 3ms/step - loss: 0.2736 - accuracy: 0.8975 - val_loss: 0.3371 - val_accuracy: 0.8803\n",
            "Epoch 10/100\n",
            "1688/1688 [==============================] - 5s 3ms/step - loss: 0.2660 - accuracy: 0.9002 - val_loss: 0.3197 - val_accuracy: 0.8843\n",
            "Epoch 11/100\n",
            "1688/1688 [==============================] - 5s 3ms/step - loss: 0.2554 - accuracy: 0.9049 - val_loss: 0.3223 - val_accuracy: 0.8875\n",
            "Epoch 12/100\n",
            "1688/1688 [==============================] - 5s 3ms/step - loss: 0.2512 - accuracy: 0.9061 - val_loss: 0.3256 - val_accuracy: 0.8872\n",
            "Epoch 13/100\n",
            "1688/1688 [==============================] - 5s 3ms/step - loss: 0.2461 - accuracy: 0.9085 - val_loss: 0.3178 - val_accuracy: 0.8840\n",
            "Epoch 14/100\n",
            "1688/1688 [==============================] - 5s 3ms/step - loss: 0.2392 - accuracy: 0.9087 - val_loss: 0.3045 - val_accuracy: 0.8938\n",
            "Epoch 15/100\n",
            "1688/1688 [==============================] - 5s 3ms/step - loss: 0.2349 - accuracy: 0.9114 - val_loss: 0.3120 - val_accuracy: 0.8912\n",
            "Epoch 16/100\n",
            "1688/1688 [==============================] - 5s 3ms/step - loss: 0.2288 - accuracy: 0.9137 - val_loss: 0.3188 - val_accuracy: 0.8913\n",
            "Epoch 17/100\n",
            "1688/1688 [==============================] - 5s 3ms/step - loss: 0.2246 - accuracy: 0.9157 - val_loss: 0.3450 - val_accuracy: 0.8817\n",
            "Epoch 18/100\n",
            "1688/1688 [==============================] - 5s 3ms/step - loss: 0.2226 - accuracy: 0.9174 - val_loss: 0.3136 - val_accuracy: 0.8925\n",
            "Epoch 19/100\n",
            "1686/1688 [============================>.] - ETA: 0s - loss: 0.2144 - accuracy: 0.9184Restoring model weights from the end of the best epoch.\n",
            "1688/1688 [==============================] - 5s 3ms/step - loss: 0.2143 - accuracy: 0.9184 - val_loss: 0.3415 - val_accuracy: 0.8888\n",
            "Epoch 00019: early stopping\n"
          ],
          "name": "stdout"
        },
        {
          "output_type": "display_data",
          "data": {
            "text/html": [
              "<span style=\"color:#4527A0\"><h1 style=\"font-size:18px\">Trial complete</h1></span>"
            ],
            "text/plain": [
              "<IPython.core.display.HTML object>"
            ]
          },
          "metadata": {
            "tags": []
          }
        },
        {
          "output_type": "display_data",
          "data": {
            "text/html": [
              "<span style=\"color:#4527A0\"><h1 style=\"font-size:18px\">Trial summary</h1></span>"
            ],
            "text/plain": [
              "<IPython.core.display.HTML object>"
            ]
          },
          "metadata": {
            "tags": []
          }
        },
        {
          "output_type": "display_data",
          "data": {
            "text/html": [
              "<span style=\"color:cyan\"> |-Trial ID: 679fedeca77b58d96b66ff502de84752</span>"
            ],
            "text/plain": [
              "<IPython.core.display.HTML object>"
            ]
          },
          "metadata": {
            "tags": []
          }
        },
        {
          "output_type": "display_data",
          "data": {
            "text/html": [
              "<span style=\"color:cyan\"> |-Score: 0.893833339214325</span>"
            ],
            "text/plain": [
              "<IPython.core.display.HTML object>"
            ]
          },
          "metadata": {
            "tags": []
          }
        },
        {
          "output_type": "display_data",
          "data": {
            "text/html": [
              "<span style=\"color:cyan\"> |-Best step: 0</span>"
            ],
            "text/plain": [
              "<IPython.core.display.HTML object>"
            ]
          },
          "metadata": {
            "tags": []
          }
        },
        {
          "output_type": "display_data",
          "data": {
            "text/html": [
              "<span style=\"color:#7E57C2\"><h2 style=\"font-size:16px\">Hyperparameters:</h2></span>"
            ],
            "text/plain": [
              "<IPython.core.display.HTML object>"
            ]
          },
          "metadata": {
            "tags": []
          }
        },
        {
          "output_type": "display_data",
          "data": {
            "text/html": [
              "<span style=\"color:cyan\"> |-dropout: 0.2</span>"
            ],
            "text/plain": [
              "<IPython.core.display.HTML object>"
            ]
          },
          "metadata": {
            "tags": []
          }
        },
        {
          "output_type": "display_data",
          "data": {
            "text/html": [
              "<span style=\"color:blue\"> |-hidden_activation: relu</span>"
            ],
            "text/plain": [
              "<IPython.core.display.HTML object>"
            ]
          },
          "metadata": {
            "tags": []
          }
        },
        {
          "output_type": "display_data",
          "data": {
            "text/html": [
              "<span style=\"color:cyan\"> |-hidden_layers: 1</span>"
            ],
            "text/plain": [
              "<IPython.core.display.HTML object>"
            ]
          },
          "metadata": {
            "tags": []
          }
        },
        {
          "output_type": "display_data",
          "data": {
            "text/html": [
              "<span style=\"color:blue\"> |-hidden_units: 256</span>"
            ],
            "text/plain": [
              "<IPython.core.display.HTML object>"
            ]
          },
          "metadata": {
            "tags": []
          }
        },
        {
          "output_type": "display_data",
          "data": {
            "text/html": [
              "<span style=\"color:cyan\"> |-learning_rate: 0.0008264439766792489</span>"
            ],
            "text/plain": [
              "<IPython.core.display.HTML object>"
            ]
          },
          "metadata": {
            "tags": []
          }
        },
        {
          "output_type": "stream",
          "text": [
            "Epoch 1/100\n",
            "1688/1688 [==============================] - 5s 3ms/step - loss: 0.6528 - accuracy: 0.7742 - val_loss: 0.4519 - val_accuracy: 0.8402\n",
            "Epoch 2/100\n",
            "1688/1688 [==============================] - 4s 3ms/step - loss: 0.4564 - accuracy: 0.8381 - val_loss: 0.4045 - val_accuracy: 0.8507\n",
            "Epoch 3/100\n",
            "1688/1688 [==============================] - 4s 3ms/step - loss: 0.4140 - accuracy: 0.8526 - val_loss: 0.3709 - val_accuracy: 0.8607\n",
            "Epoch 4/100\n",
            "1688/1688 [==============================] - 5s 3ms/step - loss: 0.3893 - accuracy: 0.8612 - val_loss: 0.3629 - val_accuracy: 0.8657\n",
            "Epoch 5/100\n",
            "1688/1688 [==============================] - 5s 3ms/step - loss: 0.3706 - accuracy: 0.8661 - val_loss: 0.3535 - val_accuracy: 0.8710\n",
            "Epoch 6/100\n",
            "1688/1688 [==============================] - 5s 3ms/step - loss: 0.3591 - accuracy: 0.8706 - val_loss: 0.3407 - val_accuracy: 0.8768\n",
            "Epoch 7/100\n",
            "1688/1688 [==============================] - 5s 3ms/step - loss: 0.3456 - accuracy: 0.8743 - val_loss: 0.3456 - val_accuracy: 0.8780\n",
            "Epoch 8/100\n",
            "1688/1688 [==============================] - 5s 3ms/step - loss: 0.3351 - accuracy: 0.8773 - val_loss: 0.3245 - val_accuracy: 0.8825\n",
            "Epoch 9/100\n",
            "1688/1688 [==============================] - 5s 3ms/step - loss: 0.3297 - accuracy: 0.8796 - val_loss: 0.3298 - val_accuracy: 0.8785\n",
            "Epoch 10/100\n",
            "1688/1688 [==============================] - 4s 3ms/step - loss: 0.3233 - accuracy: 0.8825 - val_loss: 0.3184 - val_accuracy: 0.8842\n",
            "Epoch 11/100\n",
            "1688/1688 [==============================] - 4s 3ms/step - loss: 0.3157 - accuracy: 0.8834 - val_loss: 0.3152 - val_accuracy: 0.8835\n",
            "Epoch 12/100\n",
            "1688/1688 [==============================] - 4s 3ms/step - loss: 0.3095 - accuracy: 0.8864 - val_loss: 0.3131 - val_accuracy: 0.8837\n",
            "Epoch 13/100\n",
            "1688/1688 [==============================] - 4s 3ms/step - loss: 0.3046 - accuracy: 0.8878 - val_loss: 0.3149 - val_accuracy: 0.8893\n",
            "Epoch 14/100\n",
            "1688/1688 [==============================] - 5s 3ms/step - loss: 0.2971 - accuracy: 0.8904 - val_loss: 0.3052 - val_accuracy: 0.8872\n",
            "Epoch 15/100\n",
            "1688/1688 [==============================] - 4s 3ms/step - loss: 0.2947 - accuracy: 0.8921 - val_loss: 0.3064 - val_accuracy: 0.8890\n",
            "Epoch 16/100\n",
            "1688/1688 [==============================] - 5s 3ms/step - loss: 0.2923 - accuracy: 0.8922 - val_loss: 0.3073 - val_accuracy: 0.8878\n",
            "Epoch 17/100\n",
            "1688/1688 [==============================] - 4s 3ms/step - loss: 0.2859 - accuracy: 0.8953 - val_loss: 0.3065 - val_accuracy: 0.8893\n",
            "Epoch 18/100\n",
            "1688/1688 [==============================] - 4s 3ms/step - loss: 0.2826 - accuracy: 0.8954 - val_loss: 0.3053 - val_accuracy: 0.8907\n",
            "Epoch 19/100\n",
            "1685/1688 [============================>.] - ETA: 0s - loss: 0.2773 - accuracy: 0.8982Restoring model weights from the end of the best epoch.\n",
            "1688/1688 [==============================] - 5s 3ms/step - loss: 0.2772 - accuracy: 0.8983 - val_loss: 0.3098 - val_accuracy: 0.8863\n",
            "Epoch 00019: early stopping\n"
          ],
          "name": "stdout"
        },
        {
          "output_type": "display_data",
          "data": {
            "text/html": [
              "<span style=\"color:#4527A0\"><h1 style=\"font-size:18px\">Trial complete</h1></span>"
            ],
            "text/plain": [
              "<IPython.core.display.HTML object>"
            ]
          },
          "metadata": {
            "tags": []
          }
        },
        {
          "output_type": "display_data",
          "data": {
            "text/html": [
              "<span style=\"color:#4527A0\"><h1 style=\"font-size:18px\">Trial summary</h1></span>"
            ],
            "text/plain": [
              "<IPython.core.display.HTML object>"
            ]
          },
          "metadata": {
            "tags": []
          }
        },
        {
          "output_type": "display_data",
          "data": {
            "text/html": [
              "<span style=\"color:cyan\"> |-Trial ID: 43603b473f9f7381375626728496c68b</span>"
            ],
            "text/plain": [
              "<IPython.core.display.HTML object>"
            ]
          },
          "metadata": {
            "tags": []
          }
        },
        {
          "output_type": "display_data",
          "data": {
            "text/html": [
              "<span style=\"color:cyan\"> |-Score: 0.890666663646698</span>"
            ],
            "text/plain": [
              "<IPython.core.display.HTML object>"
            ]
          },
          "metadata": {
            "tags": []
          }
        },
        {
          "output_type": "display_data",
          "data": {
            "text/html": [
              "<span style=\"color:cyan\"> |-Best step: 0</span>"
            ],
            "text/plain": [
              "<IPython.core.display.HTML object>"
            ]
          },
          "metadata": {
            "tags": []
          }
        },
        {
          "output_type": "display_data",
          "data": {
            "text/html": [
              "<span style=\"color:#7E57C2\"><h2 style=\"font-size:16px\">Hyperparameters:</h2></span>"
            ],
            "text/plain": [
              "<IPython.core.display.HTML object>"
            ]
          },
          "metadata": {
            "tags": []
          }
        },
        {
          "output_type": "display_data",
          "data": {
            "text/html": [
              "<span style=\"color:cyan\"> |-dropout: 0.5</span>"
            ],
            "text/plain": [
              "<IPython.core.display.HTML object>"
            ]
          },
          "metadata": {
            "tags": []
          }
        },
        {
          "output_type": "display_data",
          "data": {
            "text/html": [
              "<span style=\"color:blue\"> |-hidden_activation: relu</span>"
            ],
            "text/plain": [
              "<IPython.core.display.HTML object>"
            ]
          },
          "metadata": {
            "tags": []
          }
        },
        {
          "output_type": "display_data",
          "data": {
            "text/html": [
              "<span style=\"color:cyan\"> |-hidden_layers: 1</span>"
            ],
            "text/plain": [
              "<IPython.core.display.HTML object>"
            ]
          },
          "metadata": {
            "tags": []
          }
        },
        {
          "output_type": "display_data",
          "data": {
            "text/html": [
              "<span style=\"color:blue\"> |-hidden_units: 256</span>"
            ],
            "text/plain": [
              "<IPython.core.display.HTML object>"
            ]
          },
          "metadata": {
            "tags": []
          }
        },
        {
          "output_type": "display_data",
          "data": {
            "text/html": [
              "<span style=\"color:cyan\"> |-learning_rate: 0.0003497444477863496</span>"
            ],
            "text/plain": [
              "<IPython.core.display.HTML object>"
            ]
          },
          "metadata": {
            "tags": []
          }
        },
        {
          "output_type": "stream",
          "text": [
            "Epoch 1/100\n",
            "1688/1688 [==============================] - 5s 3ms/step - loss: 0.5312 - accuracy: 0.8072 - val_loss: 0.3909 - val_accuracy: 0.8593\n",
            "Epoch 2/100\n",
            "1688/1688 [==============================] - 5s 3ms/step - loss: 0.4011 - accuracy: 0.8539 - val_loss: 0.3813 - val_accuracy: 0.8637\n",
            "Epoch 3/100\n",
            "1688/1688 [==============================] - 5s 3ms/step - loss: 0.3697 - accuracy: 0.8642 - val_loss: 0.3550 - val_accuracy: 0.8718\n",
            "Epoch 4/100\n",
            "1688/1688 [==============================] - 5s 3ms/step - loss: 0.3440 - accuracy: 0.8727 - val_loss: 0.3412 - val_accuracy: 0.8692\n",
            "Epoch 5/100\n",
            "1688/1688 [==============================] - 5s 3ms/step - loss: 0.3306 - accuracy: 0.8767 - val_loss: 0.3483 - val_accuracy: 0.8730\n",
            "Epoch 6/100\n",
            "1688/1688 [==============================] - 5s 3ms/step - loss: 0.3173 - accuracy: 0.8820 - val_loss: 0.3227 - val_accuracy: 0.8788\n",
            "Epoch 7/100\n",
            "1688/1688 [==============================] - 5s 3ms/step - loss: 0.3067 - accuracy: 0.8852 - val_loss: 0.3498 - val_accuracy: 0.8765\n",
            "Epoch 8/100\n",
            "1688/1688 [==============================] - 5s 3ms/step - loss: 0.3004 - accuracy: 0.8880 - val_loss: 0.3230 - val_accuracy: 0.8827\n",
            "Epoch 9/100\n",
            "1688/1688 [==============================] - 5s 3ms/step - loss: 0.2904 - accuracy: 0.8916 - val_loss: 0.3222 - val_accuracy: 0.8818\n",
            "Epoch 10/100\n",
            "1688/1688 [==============================] - 5s 3ms/step - loss: 0.2838 - accuracy: 0.8939 - val_loss: 0.3176 - val_accuracy: 0.8875\n",
            "Epoch 11/100\n",
            "1688/1688 [==============================] - 5s 3ms/step - loss: 0.2762 - accuracy: 0.8970 - val_loss: 0.3373 - val_accuracy: 0.8793\n",
            "Epoch 12/100\n",
            "1688/1688 [==============================] - 5s 3ms/step - loss: 0.2747 - accuracy: 0.8976 - val_loss: 0.3071 - val_accuracy: 0.8898\n",
            "Epoch 13/100\n",
            "1688/1688 [==============================] - 5s 3ms/step - loss: 0.2666 - accuracy: 0.9001 - val_loss: 0.3114 - val_accuracy: 0.8897\n",
            "Epoch 14/100\n",
            "1688/1688 [==============================] - 5s 3ms/step - loss: 0.2605 - accuracy: 0.9024 - val_loss: 0.3120 - val_accuracy: 0.8880\n",
            "Epoch 15/100\n",
            "1688/1688 [==============================] - 5s 3ms/step - loss: 0.2570 - accuracy: 0.9032 - val_loss: 0.3351 - val_accuracy: 0.8872\n",
            "Epoch 16/100\n",
            "1688/1688 [==============================] - 5s 3ms/step - loss: 0.2532 - accuracy: 0.9042 - val_loss: 0.3335 - val_accuracy: 0.8848\n",
            "Epoch 17/100\n",
            "1676/1688 [============================>.] - ETA: 0s - loss: 0.2505 - accuracy: 0.9048Restoring model weights from the end of the best epoch.\n",
            "1688/1688 [==============================] - 5s 3ms/step - loss: 0.2508 - accuracy: 0.9046 - val_loss: 0.3255 - val_accuracy: 0.8888\n",
            "Epoch 00017: early stopping\n"
          ],
          "name": "stdout"
        },
        {
          "output_type": "display_data",
          "data": {
            "text/html": [
              "<span style=\"color:#4527A0\"><h1 style=\"font-size:18px\">Trial complete</h1></span>"
            ],
            "text/plain": [
              "<IPython.core.display.HTML object>"
            ]
          },
          "metadata": {
            "tags": []
          }
        },
        {
          "output_type": "display_data",
          "data": {
            "text/html": [
              "<span style=\"color:#4527A0\"><h1 style=\"font-size:18px\">Trial summary</h1></span>"
            ],
            "text/plain": [
              "<IPython.core.display.HTML object>"
            ]
          },
          "metadata": {
            "tags": []
          }
        },
        {
          "output_type": "display_data",
          "data": {
            "text/html": [
              "<span style=\"color:cyan\"> |-Trial ID: 85c0ba331a68fc138e88bb38863c2ea4</span>"
            ],
            "text/plain": [
              "<IPython.core.display.HTML object>"
            ]
          },
          "metadata": {
            "tags": []
          }
        },
        {
          "output_type": "display_data",
          "data": {
            "text/html": [
              "<span style=\"color:cyan\"> |-Score: 0.8898333311080933</span>"
            ],
            "text/plain": [
              "<IPython.core.display.HTML object>"
            ]
          },
          "metadata": {
            "tags": []
          }
        },
        {
          "output_type": "display_data",
          "data": {
            "text/html": [
              "<span style=\"color:cyan\"> |-Best step: 0</span>"
            ],
            "text/plain": [
              "<IPython.core.display.HTML object>"
            ]
          },
          "metadata": {
            "tags": []
          }
        },
        {
          "output_type": "display_data",
          "data": {
            "text/html": [
              "<span style=\"color:#7E57C2\"><h2 style=\"font-size:16px\">Hyperparameters:</h2></span>"
            ],
            "text/plain": [
              "<IPython.core.display.HTML object>"
            ]
          },
          "metadata": {
            "tags": []
          }
        },
        {
          "output_type": "display_data",
          "data": {
            "text/html": [
              "<span style=\"color:cyan\"> |-dropout: 0.2</span>"
            ],
            "text/plain": [
              "<IPython.core.display.HTML object>"
            ]
          },
          "metadata": {
            "tags": []
          }
        },
        {
          "output_type": "display_data",
          "data": {
            "text/html": [
              "<span style=\"color:blue\"> |-hidden_activation: relu</span>"
            ],
            "text/plain": [
              "<IPython.core.display.HTML object>"
            ]
          },
          "metadata": {
            "tags": []
          }
        },
        {
          "output_type": "display_data",
          "data": {
            "text/html": [
              "<span style=\"color:cyan\"> |-hidden_layers: 2</span>"
            ],
            "text/plain": [
              "<IPython.core.display.HTML object>"
            ]
          },
          "metadata": {
            "tags": []
          }
        },
        {
          "output_type": "display_data",
          "data": {
            "text/html": [
              "<span style=\"color:blue\"> |-hidden_units: 256</span>"
            ],
            "text/plain": [
              "<IPython.core.display.HTML object>"
            ]
          },
          "metadata": {
            "tags": []
          }
        },
        {
          "output_type": "display_data",
          "data": {
            "text/html": [
              "<span style=\"color:cyan\"> |-learning_rate: 0.0009887195863122636</span>"
            ],
            "text/plain": [
              "<IPython.core.display.HTML object>"
            ]
          },
          "metadata": {
            "tags": []
          }
        },
        {
          "output_type": "stream",
          "text": [
            "Epoch 1/100\n",
            "1688/1688 [==============================] - 5s 3ms/step - loss: 0.6897 - accuracy: 0.7613 - val_loss: 0.4632 - val_accuracy: 0.8390\n",
            "Epoch 2/100\n",
            "1688/1688 [==============================] - 5s 3ms/step - loss: 0.4479 - accuracy: 0.8429 - val_loss: 0.4037 - val_accuracy: 0.8512\n",
            "Epoch 3/100\n",
            "1688/1688 [==============================] - 5s 3ms/step - loss: 0.3970 - accuracy: 0.8570 - val_loss: 0.3689 - val_accuracy: 0.8642\n",
            "Epoch 4/100\n",
            "1688/1688 [==============================] - 5s 3ms/step - loss: 0.3673 - accuracy: 0.8673 - val_loss: 0.3520 - val_accuracy: 0.8688\n",
            "Epoch 5/100\n",
            "1688/1688 [==============================] - 5s 3ms/step - loss: 0.3459 - accuracy: 0.8739 - val_loss: 0.3502 - val_accuracy: 0.8742\n",
            "Epoch 6/100\n",
            "1688/1688 [==============================] - 5s 3ms/step - loss: 0.3313 - accuracy: 0.8794 - val_loss: 0.3320 - val_accuracy: 0.8808\n",
            "Epoch 7/100\n",
            "1688/1688 [==============================] - 5s 3ms/step - loss: 0.3174 - accuracy: 0.8851 - val_loss: 0.3349 - val_accuracy: 0.8808\n",
            "Epoch 8/100\n",
            "1688/1688 [==============================] - 5s 3ms/step - loss: 0.3057 - accuracy: 0.8891 - val_loss: 0.3193 - val_accuracy: 0.8818\n",
            "Epoch 9/100\n",
            "1688/1688 [==============================] - 5s 3ms/step - loss: 0.2972 - accuracy: 0.8911 - val_loss: 0.3320 - val_accuracy: 0.8762\n",
            "Epoch 10/100\n",
            "1688/1688 [==============================] - 5s 3ms/step - loss: 0.2860 - accuracy: 0.8949 - val_loss: 0.3099 - val_accuracy: 0.8877\n",
            "Epoch 11/100\n",
            "1688/1688 [==============================] - 5s 3ms/step - loss: 0.2795 - accuracy: 0.8970 - val_loss: 0.3147 - val_accuracy: 0.8867\n",
            "Epoch 12/100\n",
            "1688/1688 [==============================] - 5s 3ms/step - loss: 0.2730 - accuracy: 0.9002 - val_loss: 0.3120 - val_accuracy: 0.8872\n",
            "Epoch 13/100\n",
            "1688/1688 [==============================] - 5s 3ms/step - loss: 0.2657 - accuracy: 0.9019 - val_loss: 0.3023 - val_accuracy: 0.8873\n",
            "Epoch 14/100\n",
            "1688/1688 [==============================] - 5s 3ms/step - loss: 0.2579 - accuracy: 0.9056 - val_loss: 0.2972 - val_accuracy: 0.8877\n",
            "Epoch 15/100\n",
            "1688/1688 [==============================] - 5s 3ms/step - loss: 0.2527 - accuracy: 0.9061 - val_loss: 0.3010 - val_accuracy: 0.8907\n",
            "Epoch 16/100\n",
            "1688/1688 [==============================] - 5s 3ms/step - loss: 0.2452 - accuracy: 0.9096 - val_loss: 0.3012 - val_accuracy: 0.8913\n",
            "Epoch 17/100\n",
            "1688/1688 [==============================] - 5s 3ms/step - loss: 0.2411 - accuracy: 0.9108 - val_loss: 0.3051 - val_accuracy: 0.8912\n",
            "Epoch 18/100\n",
            "1688/1688 [==============================] - 5s 3ms/step - loss: 0.2348 - accuracy: 0.9131 - val_loss: 0.2973 - val_accuracy: 0.8922\n",
            "Epoch 19/100\n",
            "1683/1688 [============================>.] - ETA: 0s - loss: 0.2301 - accuracy: 0.9137Restoring model weights from the end of the best epoch.\n",
            "1688/1688 [==============================] - 5s 3ms/step - loss: 0.2300 - accuracy: 0.9137 - val_loss: 0.3055 - val_accuracy: 0.8912\n",
            "Epoch 00019: early stopping\n"
          ],
          "name": "stdout"
        },
        {
          "output_type": "display_data",
          "data": {
            "text/html": [
              "<span style=\"color:#4527A0\"><h1 style=\"font-size:18px\">Trial complete</h1></span>"
            ],
            "text/plain": [
              "<IPython.core.display.HTML object>"
            ]
          },
          "metadata": {
            "tags": []
          }
        },
        {
          "output_type": "display_data",
          "data": {
            "text/html": [
              "<span style=\"color:#4527A0\"><h1 style=\"font-size:18px\">Trial summary</h1></span>"
            ],
            "text/plain": [
              "<IPython.core.display.HTML object>"
            ]
          },
          "metadata": {
            "tags": []
          }
        },
        {
          "output_type": "display_data",
          "data": {
            "text/html": [
              "<span style=\"color:cyan\"> |-Trial ID: 0882f5fe772a4c61cc9cc62a60fb3134</span>"
            ],
            "text/plain": [
              "<IPython.core.display.HTML object>"
            ]
          },
          "metadata": {
            "tags": []
          }
        },
        {
          "output_type": "display_data",
          "data": {
            "text/html": [
              "<span style=\"color:cyan\"> |-Score: 0.8921666741371155</span>"
            ],
            "text/plain": [
              "<IPython.core.display.HTML object>"
            ]
          },
          "metadata": {
            "tags": []
          }
        },
        {
          "output_type": "display_data",
          "data": {
            "text/html": [
              "<span style=\"color:cyan\"> |-Best step: 0</span>"
            ],
            "text/plain": [
              "<IPython.core.display.HTML object>"
            ]
          },
          "metadata": {
            "tags": []
          }
        },
        {
          "output_type": "display_data",
          "data": {
            "text/html": [
              "<span style=\"color:#7E57C2\"><h2 style=\"font-size:16px\">Hyperparameters:</h2></span>"
            ],
            "text/plain": [
              "<IPython.core.display.HTML object>"
            ]
          },
          "metadata": {
            "tags": []
          }
        },
        {
          "output_type": "display_data",
          "data": {
            "text/html": [
              "<span style=\"color:cyan\"> |-dropout: 0.2</span>"
            ],
            "text/plain": [
              "<IPython.core.display.HTML object>"
            ]
          },
          "metadata": {
            "tags": []
          }
        },
        {
          "output_type": "display_data",
          "data": {
            "text/html": [
              "<span style=\"color:blue\"> |-hidden_activation: relu</span>"
            ],
            "text/plain": [
              "<IPython.core.display.HTML object>"
            ]
          },
          "metadata": {
            "tags": []
          }
        },
        {
          "output_type": "display_data",
          "data": {
            "text/html": [
              "<span style=\"color:cyan\"> |-hidden_layers: 2</span>"
            ],
            "text/plain": [
              "<IPython.core.display.HTML object>"
            ]
          },
          "metadata": {
            "tags": []
          }
        },
        {
          "output_type": "display_data",
          "data": {
            "text/html": [
              "<span style=\"color:blue\"> |-hidden_units: 256</span>"
            ],
            "text/plain": [
              "<IPython.core.display.HTML object>"
            ]
          },
          "metadata": {
            "tags": []
          }
        },
        {
          "output_type": "display_data",
          "data": {
            "text/html": [
              "<span style=\"color:cyan\"> |-learning_rate: 0.00015159319577885927</span>"
            ],
            "text/plain": [
              "<IPython.core.display.HTML object>"
            ]
          },
          "metadata": {
            "tags": []
          }
        },
        {
          "output_type": "stream",
          "text": [
            "Epoch 1/100\n",
            "1688/1688 [==============================] - 5s 3ms/step - loss: 0.5816 - accuracy: 0.8010 - val_loss: 0.4292 - val_accuracy: 0.8510\n",
            "Epoch 2/100\n",
            "1688/1688 [==============================] - 5s 3ms/step - loss: 0.4132 - accuracy: 0.8535 - val_loss: 0.3952 - val_accuracy: 0.8603\n",
            "Epoch 3/100\n",
            "1688/1688 [==============================] - 5s 3ms/step - loss: 0.3718 - accuracy: 0.8669 - val_loss: 0.3519 - val_accuracy: 0.8730\n",
            "Epoch 4/100\n",
            "1688/1688 [==============================] - 5s 3ms/step - loss: 0.3450 - accuracy: 0.8750 - val_loss: 0.3461 - val_accuracy: 0.8688\n",
            "Epoch 5/100\n",
            "1688/1688 [==============================] - 5s 3ms/step - loss: 0.3284 - accuracy: 0.8803 - val_loss: 0.3532 - val_accuracy: 0.8728\n",
            "Epoch 6/100\n",
            "1688/1688 [==============================] - 4s 3ms/step - loss: 0.3113 - accuracy: 0.8867 - val_loss: 0.3298 - val_accuracy: 0.8802\n",
            "Epoch 7/100\n",
            "1688/1688 [==============================] - 4s 3ms/step - loss: 0.2998 - accuracy: 0.8904 - val_loss: 0.3401 - val_accuracy: 0.8793\n",
            "Epoch 8/100\n",
            "1688/1688 [==============================] - 4s 3ms/step - loss: 0.2878 - accuracy: 0.8947 - val_loss: 0.3252 - val_accuracy: 0.8807\n",
            "Epoch 9/100\n",
            "1688/1688 [==============================] - 4s 3ms/step - loss: 0.2802 - accuracy: 0.8966 - val_loss: 0.3264 - val_accuracy: 0.8787\n",
            "Epoch 10/100\n",
            "1688/1688 [==============================] - 5s 3ms/step - loss: 0.2716 - accuracy: 0.8999 - val_loss: 0.3092 - val_accuracy: 0.8870\n",
            "Epoch 11/100\n",
            "1688/1688 [==============================] - 5s 3ms/step - loss: 0.2626 - accuracy: 0.9034 - val_loss: 0.3160 - val_accuracy: 0.8848\n",
            "Epoch 12/100\n",
            "1688/1688 [==============================] - 5s 3ms/step - loss: 0.2566 - accuracy: 0.9048 - val_loss: 0.3194 - val_accuracy: 0.8823\n",
            "Epoch 13/100\n",
            "1688/1688 [==============================] - 5s 3ms/step - loss: 0.2506 - accuracy: 0.9074 - val_loss: 0.3044 - val_accuracy: 0.8895\n",
            "Epoch 14/100\n",
            "1688/1688 [==============================] - 5s 3ms/step - loss: 0.2433 - accuracy: 0.9103 - val_loss: 0.2946 - val_accuracy: 0.8923\n",
            "Epoch 15/100\n",
            "1688/1688 [==============================] - 5s 3ms/step - loss: 0.2363 - accuracy: 0.9126 - val_loss: 0.3063 - val_accuracy: 0.8913\n",
            "Epoch 16/100\n",
            "1688/1688 [==============================] - 5s 3ms/step - loss: 0.2318 - accuracy: 0.9129 - val_loss: 0.3065 - val_accuracy: 0.8898\n",
            "Epoch 17/100\n",
            "1688/1688 [==============================] - 5s 3ms/step - loss: 0.2278 - accuracy: 0.9154 - val_loss: 0.3092 - val_accuracy: 0.8897\n",
            "Epoch 18/100\n",
            "1688/1688 [==============================] - 4s 3ms/step - loss: 0.2215 - accuracy: 0.9169 - val_loss: 0.2981 - val_accuracy: 0.8947\n",
            "Epoch 19/100\n",
            "1679/1688 [============================>.] - ETA: 0s - loss: 0.2166 - accuracy: 0.9187Restoring model weights from the end of the best epoch.\n",
            "1688/1688 [==============================] - 4s 3ms/step - loss: 0.2164 - accuracy: 0.9188 - val_loss: 0.3111 - val_accuracy: 0.8908\n",
            "Epoch 00019: early stopping\n"
          ],
          "name": "stdout"
        },
        {
          "output_type": "display_data",
          "data": {
            "text/html": [
              "<span style=\"color:#4527A0\"><h1 style=\"font-size:18px\">Trial complete</h1></span>"
            ],
            "text/plain": [
              "<IPython.core.display.HTML object>"
            ]
          },
          "metadata": {
            "tags": []
          }
        },
        {
          "output_type": "display_data",
          "data": {
            "text/html": [
              "<span style=\"color:#4527A0\"><h1 style=\"font-size:18px\">Trial summary</h1></span>"
            ],
            "text/plain": [
              "<IPython.core.display.HTML object>"
            ]
          },
          "metadata": {
            "tags": []
          }
        },
        {
          "output_type": "display_data",
          "data": {
            "text/html": [
              "<span style=\"color:cyan\"> |-Trial ID: 882ea613ac4bf5c279b3cf5d2d7712d1</span>"
            ],
            "text/plain": [
              "<IPython.core.display.HTML object>"
            ]
          },
          "metadata": {
            "tags": []
          }
        },
        {
          "output_type": "display_data",
          "data": {
            "text/html": [
              "<span style=\"color:cyan\"> |-Score: 0.8946666717529297</span>"
            ],
            "text/plain": [
              "<IPython.core.display.HTML object>"
            ]
          },
          "metadata": {
            "tags": []
          }
        },
        {
          "output_type": "display_data",
          "data": {
            "text/html": [
              "<span style=\"color:cyan\"> |-Best step: 0</span>"
            ],
            "text/plain": [
              "<IPython.core.display.HTML object>"
            ]
          },
          "metadata": {
            "tags": []
          }
        },
        {
          "output_type": "display_data",
          "data": {
            "text/html": [
              "<span style=\"color:#7E57C2\"><h2 style=\"font-size:16px\">Hyperparameters:</h2></span>"
            ],
            "text/plain": [
              "<IPython.core.display.HTML object>"
            ]
          },
          "metadata": {
            "tags": []
          }
        },
        {
          "output_type": "display_data",
          "data": {
            "text/html": [
              "<span style=\"color:cyan\"> |-dropout: 0.2</span>"
            ],
            "text/plain": [
              "<IPython.core.display.HTML object>"
            ]
          },
          "metadata": {
            "tags": []
          }
        },
        {
          "output_type": "display_data",
          "data": {
            "text/html": [
              "<span style=\"color:blue\"> |-hidden_activation: relu</span>"
            ],
            "text/plain": [
              "<IPython.core.display.HTML object>"
            ]
          },
          "metadata": {
            "tags": []
          }
        },
        {
          "output_type": "display_data",
          "data": {
            "text/html": [
              "<span style=\"color:cyan\"> |-hidden_layers: 1</span>"
            ],
            "text/plain": [
              "<IPython.core.display.HTML object>"
            ]
          },
          "metadata": {
            "tags": []
          }
        },
        {
          "output_type": "display_data",
          "data": {
            "text/html": [
              "<span style=\"color:blue\"> |-hidden_units: 256</span>"
            ],
            "text/plain": [
              "<IPython.core.display.HTML object>"
            ]
          },
          "metadata": {
            "tags": []
          }
        },
        {
          "output_type": "display_data",
          "data": {
            "text/html": [
              "<span style=\"color:cyan\"> |-learning_rate: 0.00041268008323824807</span>"
            ],
            "text/plain": [
              "<IPython.core.display.HTML object>"
            ]
          },
          "metadata": {
            "tags": []
          }
        },
        {
          "output_type": "stream",
          "text": [
            "Epoch 1/100\n",
            "1688/1688 [==============================] - 5s 3ms/step - loss: 0.6003 - accuracy: 0.7896 - val_loss: 0.4352 - val_accuracy: 0.8483\n",
            "Epoch 2/100\n",
            "1688/1688 [==============================] - 5s 3ms/step - loss: 0.4406 - accuracy: 0.8421 - val_loss: 0.4036 - val_accuracy: 0.8535\n",
            "Epoch 3/100\n",
            "1688/1688 [==============================] - 5s 3ms/step - loss: 0.4055 - accuracy: 0.8519 - val_loss: 0.3617 - val_accuracy: 0.8658\n",
            "Epoch 4/100\n",
            "1688/1688 [==============================] - 4s 3ms/step - loss: 0.3845 - accuracy: 0.8604 - val_loss: 0.3542 - val_accuracy: 0.8688\n",
            "Epoch 5/100\n",
            "1688/1688 [==============================] - 5s 3ms/step - loss: 0.3693 - accuracy: 0.8649 - val_loss: 0.3662 - val_accuracy: 0.8642\n",
            "Epoch 6/100\n",
            "1688/1688 [==============================] - 5s 3ms/step - loss: 0.3579 - accuracy: 0.8697 - val_loss: 0.3413 - val_accuracy: 0.8773\n",
            "Epoch 7/100\n",
            "1688/1688 [==============================] - 5s 3ms/step - loss: 0.3458 - accuracy: 0.8736 - val_loss: 0.3498 - val_accuracy: 0.8728\n",
            "Epoch 8/100\n",
            "1688/1688 [==============================] - 5s 3ms/step - loss: 0.3385 - accuracy: 0.8762 - val_loss: 0.3300 - val_accuracy: 0.8810\n",
            "Epoch 9/100\n",
            "1688/1688 [==============================] - 5s 3ms/step - loss: 0.3321 - accuracy: 0.8777 - val_loss: 0.3335 - val_accuracy: 0.8767\n",
            "Epoch 10/100\n",
            "1688/1688 [==============================] - 5s 3ms/step - loss: 0.3231 - accuracy: 0.8803 - val_loss: 0.3254 - val_accuracy: 0.8835\n",
            "Epoch 11/100\n",
            "1688/1688 [==============================] - 5s 3ms/step - loss: 0.3198 - accuracy: 0.8816 - val_loss: 0.3259 - val_accuracy: 0.8797\n",
            "Epoch 12/100\n",
            "1688/1688 [==============================] - 4s 3ms/step - loss: 0.3135 - accuracy: 0.8828 - val_loss: 0.3222 - val_accuracy: 0.8828\n",
            "Epoch 13/100\n",
            "1688/1688 [==============================] - 5s 3ms/step - loss: 0.3072 - accuracy: 0.8853 - val_loss: 0.3133 - val_accuracy: 0.8855\n",
            "Epoch 14/100\n",
            "1688/1688 [==============================] - 5s 3ms/step - loss: 0.3037 - accuracy: 0.8866 - val_loss: 0.3061 - val_accuracy: 0.8887\n",
            "Epoch 15/100\n",
            "1688/1688 [==============================] - 5s 3ms/step - loss: 0.3010 - accuracy: 0.8876 - val_loss: 0.3193 - val_accuracy: 0.8923\n",
            "Epoch 16/100\n",
            "1688/1688 [==============================] - 4s 3ms/step - loss: 0.2949 - accuracy: 0.8897 - val_loss: 0.3276 - val_accuracy: 0.8837\n",
            "Epoch 17/100\n",
            "1688/1688 [==============================] - 5s 3ms/step - loss: 0.2915 - accuracy: 0.8919 - val_loss: 0.3143 - val_accuracy: 0.8867\n",
            "Epoch 18/100\n",
            "1688/1688 [==============================] - 4s 3ms/step - loss: 0.2874 - accuracy: 0.8927 - val_loss: 0.3067 - val_accuracy: 0.8925\n",
            "Epoch 19/100\n",
            "1676/1688 [============================>.] - ETA: 0s - loss: 0.2833 - accuracy: 0.8932Restoring model weights from the end of the best epoch.\n",
            "1688/1688 [==============================] - 5s 3ms/step - loss: 0.2831 - accuracy: 0.8933 - val_loss: 0.3080 - val_accuracy: 0.8853\n",
            "Epoch 00019: early stopping\n"
          ],
          "name": "stdout"
        },
        {
          "output_type": "display_data",
          "data": {
            "text/html": [
              "<span style=\"color:#4527A0\"><h1 style=\"font-size:18px\">Trial complete</h1></span>"
            ],
            "text/plain": [
              "<IPython.core.display.HTML object>"
            ]
          },
          "metadata": {
            "tags": []
          }
        },
        {
          "output_type": "display_data",
          "data": {
            "text/html": [
              "<span style=\"color:#4527A0\"><h1 style=\"font-size:18px\">Trial summary</h1></span>"
            ],
            "text/plain": [
              "<IPython.core.display.HTML object>"
            ]
          },
          "metadata": {
            "tags": []
          }
        },
        {
          "output_type": "display_data",
          "data": {
            "text/html": [
              "<span style=\"color:cyan\"> |-Trial ID: e473e350e148207574e5cd8d78a105b4</span>"
            ],
            "text/plain": [
              "<IPython.core.display.HTML object>"
            ]
          },
          "metadata": {
            "tags": []
          }
        },
        {
          "output_type": "display_data",
          "data": {
            "text/html": [
              "<span style=\"color:cyan\"> |-Score: 0.8924999833106995</span>"
            ],
            "text/plain": [
              "<IPython.core.display.HTML object>"
            ]
          },
          "metadata": {
            "tags": []
          }
        },
        {
          "output_type": "display_data",
          "data": {
            "text/html": [
              "<span style=\"color:cyan\"> |-Best step: 0</span>"
            ],
            "text/plain": [
              "<IPython.core.display.HTML object>"
            ]
          },
          "metadata": {
            "tags": []
          }
        },
        {
          "output_type": "display_data",
          "data": {
            "text/html": [
              "<span style=\"color:#7E57C2\"><h2 style=\"font-size:16px\">Hyperparameters:</h2></span>"
            ],
            "text/plain": [
              "<IPython.core.display.HTML object>"
            ]
          },
          "metadata": {
            "tags": []
          }
        },
        {
          "output_type": "display_data",
          "data": {
            "text/html": [
              "<span style=\"color:cyan\"> |-dropout: 0.5</span>"
            ],
            "text/plain": [
              "<IPython.core.display.HTML object>"
            ]
          },
          "metadata": {
            "tags": []
          }
        },
        {
          "output_type": "display_data",
          "data": {
            "text/html": [
              "<span style=\"color:blue\"> |-hidden_activation: relu</span>"
            ],
            "text/plain": [
              "<IPython.core.display.HTML object>"
            ]
          },
          "metadata": {
            "tags": []
          }
        },
        {
          "output_type": "display_data",
          "data": {
            "text/html": [
              "<span style=\"color:cyan\"> |-hidden_layers: 1</span>"
            ],
            "text/plain": [
              "<IPython.core.display.HTML object>"
            ]
          },
          "metadata": {
            "tags": []
          }
        },
        {
          "output_type": "display_data",
          "data": {
            "text/html": [
              "<span style=\"color:blue\"> |-hidden_units: 256</span>"
            ],
            "text/plain": [
              "<IPython.core.display.HTML object>"
            ]
          },
          "metadata": {
            "tags": []
          }
        },
        {
          "output_type": "display_data",
          "data": {
            "text/html": [
              "<span style=\"color:cyan\"> |-learning_rate: 0.0006752863927347823</span>"
            ],
            "text/plain": [
              "<IPython.core.display.HTML object>"
            ]
          },
          "metadata": {
            "tags": []
          }
        },
        {
          "output_type": "stream",
          "text": [
            "Epoch 1/100\n",
            "1688/1688 [==============================] - 5s 3ms/step - loss: 0.5793 - accuracy: 0.7919 - val_loss: 0.4433 - val_accuracy: 0.8440\n",
            "Epoch 2/100\n",
            "1688/1688 [==============================] - 5s 3ms/step - loss: 0.4922 - accuracy: 0.8226 - val_loss: 0.4458 - val_accuracy: 0.8378\n",
            "Epoch 3/100\n",
            "1688/1688 [==============================] - 4s 3ms/step - loss: 0.4736 - accuracy: 0.8308 - val_loss: 0.4308 - val_accuracy: 0.8438\n",
            "Epoch 4/100\n",
            "1688/1688 [==============================] - 5s 3ms/step - loss: 0.4507 - accuracy: 0.8381 - val_loss: 0.4039 - val_accuracy: 0.8578\n",
            "Epoch 5/100\n",
            "1688/1688 [==============================] - 4s 3ms/step - loss: 0.4421 - accuracy: 0.8394 - val_loss: 0.4480 - val_accuracy: 0.8492\n",
            "Epoch 6/100\n",
            "1688/1688 [==============================] - 5s 3ms/step - loss: 0.4404 - accuracy: 0.8404 - val_loss: 0.3990 - val_accuracy: 0.8598\n",
            "Epoch 7/100\n",
            "1688/1688 [==============================] - 4s 3ms/step - loss: 0.4323 - accuracy: 0.8430 - val_loss: 0.4407 - val_accuracy: 0.8447\n",
            "Epoch 8/100\n",
            "1688/1688 [==============================] - 4s 3ms/step - loss: 0.4266 - accuracy: 0.8470 - val_loss: 0.3949 - val_accuracy: 0.8538\n",
            "Epoch 9/100\n",
            "1688/1688 [==============================] - 5s 3ms/step - loss: 0.4197 - accuracy: 0.8487 - val_loss: 0.4149 - val_accuracy: 0.8547\n",
            "Epoch 10/100\n",
            "1688/1688 [==============================] - 4s 3ms/step - loss: 0.4079 - accuracy: 0.8511 - val_loss: 0.4111 - val_accuracy: 0.8602\n",
            "Epoch 11/100\n",
            "1688/1688 [==============================] - 4s 3ms/step - loss: 0.4040 - accuracy: 0.8517 - val_loss: 0.4177 - val_accuracy: 0.8567\n",
            "Epoch 12/100\n",
            "1688/1688 [==============================] - 5s 3ms/step - loss: 0.4034 - accuracy: 0.8546 - val_loss: 0.4128 - val_accuracy: 0.8600\n",
            "Epoch 13/100\n",
            "1678/1688 [============================>.] - ETA: 0s - loss: 0.4064 - accuracy: 0.8532Restoring model weights from the end of the best epoch.\n",
            "1688/1688 [==============================] - 4s 3ms/step - loss: 0.4063 - accuracy: 0.8531 - val_loss: 0.4111 - val_accuracy: 0.8545\n",
            "Epoch 00013: early stopping\n"
          ],
          "name": "stdout"
        },
        {
          "output_type": "display_data",
          "data": {
            "text/html": [
              "<span style=\"color:#4527A0\"><h1 style=\"font-size:18px\">Trial complete</h1></span>"
            ],
            "text/plain": [
              "<IPython.core.display.HTML object>"
            ]
          },
          "metadata": {
            "tags": []
          }
        },
        {
          "output_type": "display_data",
          "data": {
            "text/html": [
              "<span style=\"color:#4527A0\"><h1 style=\"font-size:18px\">Trial summary</h1></span>"
            ],
            "text/plain": [
              "<IPython.core.display.HTML object>"
            ]
          },
          "metadata": {
            "tags": []
          }
        },
        {
          "output_type": "display_data",
          "data": {
            "text/html": [
              "<span style=\"color:cyan\"> |-Trial ID: 2c60d223e76c4cc16a2c71c8f762f30c</span>"
            ],
            "text/plain": [
              "<IPython.core.display.HTML object>"
            ]
          },
          "metadata": {
            "tags": []
          }
        },
        {
          "output_type": "display_data",
          "data": {
            "text/html": [
              "<span style=\"color:cyan\"> |-Score: 0.8601666688919067</span>"
            ],
            "text/plain": [
              "<IPython.core.display.HTML object>"
            ]
          },
          "metadata": {
            "tags": []
          }
        },
        {
          "output_type": "display_data",
          "data": {
            "text/html": [
              "<span style=\"color:cyan\"> |-Best step: 0</span>"
            ],
            "text/plain": [
              "<IPython.core.display.HTML object>"
            ]
          },
          "metadata": {
            "tags": []
          }
        },
        {
          "output_type": "display_data",
          "data": {
            "text/html": [
              "<span style=\"color:#7E57C2\"><h2 style=\"font-size:16px\">Hyperparameters:</h2></span>"
            ],
            "text/plain": [
              "<IPython.core.display.HTML object>"
            ]
          },
          "metadata": {
            "tags": []
          }
        },
        {
          "output_type": "display_data",
          "data": {
            "text/html": [
              "<span style=\"color:cyan\"> |-dropout: 0.2</span>"
            ],
            "text/plain": [
              "<IPython.core.display.HTML object>"
            ]
          },
          "metadata": {
            "tags": []
          }
        },
        {
          "output_type": "display_data",
          "data": {
            "text/html": [
              "<span style=\"color:blue\"> |-hidden_activation: relu</span>"
            ],
            "text/plain": [
              "<IPython.core.display.HTML object>"
            ]
          },
          "metadata": {
            "tags": []
          }
        },
        {
          "output_type": "display_data",
          "data": {
            "text/html": [
              "<span style=\"color:cyan\"> |-hidden_layers: 1</span>"
            ],
            "text/plain": [
              "<IPython.core.display.HTML object>"
            ]
          },
          "metadata": {
            "tags": []
          }
        },
        {
          "output_type": "display_data",
          "data": {
            "text/html": [
              "<span style=\"color:blue\"> |-hidden_units: 256</span>"
            ],
            "text/plain": [
              "<IPython.core.display.HTML object>"
            ]
          },
          "metadata": {
            "tags": []
          }
        },
        {
          "output_type": "display_data",
          "data": {
            "text/html": [
              "<span style=\"color:cyan\"> |-learning_rate: 0.006599917029213527</span>"
            ],
            "text/plain": [
              "<IPython.core.display.HTML object>"
            ]
          },
          "metadata": {
            "tags": []
          }
        },
        {
          "output_type": "stream",
          "text": [
            "Epoch 1/100\n",
            "1688/1688 [==============================] - 5s 3ms/step - loss: 0.5320 - accuracy: 0.8132 - val_loss: 0.4198 - val_accuracy: 0.8513\n",
            "Epoch 2/100\n",
            "1688/1688 [==============================] - 4s 3ms/step - loss: 0.3943 - accuracy: 0.8581 - val_loss: 0.3814 - val_accuracy: 0.8633\n",
            "Epoch 3/100\n",
            "1688/1688 [==============================] - 5s 3ms/step - loss: 0.3557 - accuracy: 0.8709 - val_loss: 0.3529 - val_accuracy: 0.8743\n",
            "Epoch 4/100\n",
            "1688/1688 [==============================] - 4s 3ms/step - loss: 0.3319 - accuracy: 0.8792 - val_loss: 0.3350 - val_accuracy: 0.8760\n",
            "Epoch 5/100\n",
            "1688/1688 [==============================] - 5s 3ms/step - loss: 0.3165 - accuracy: 0.8828 - val_loss: 0.3267 - val_accuracy: 0.8808\n",
            "Epoch 6/100\n",
            "1688/1688 [==============================] - 4s 3ms/step - loss: 0.3031 - accuracy: 0.8883 - val_loss: 0.3491 - val_accuracy: 0.8707\n",
            "Epoch 7/100\n",
            "1688/1688 [==============================] - 4s 3ms/step - loss: 0.2893 - accuracy: 0.8916 - val_loss: 0.3386 - val_accuracy: 0.8805\n",
            "Epoch 8/100\n",
            "1688/1688 [==============================] - 4s 3ms/step - loss: 0.2808 - accuracy: 0.8955 - val_loss: 0.3138 - val_accuracy: 0.8867\n",
            "Epoch 9/100\n",
            "1688/1688 [==============================] - 4s 3ms/step - loss: 0.2742 - accuracy: 0.8995 - val_loss: 0.3149 - val_accuracy: 0.8828\n",
            "Epoch 10/100\n",
            "1688/1688 [==============================] - 4s 3ms/step - loss: 0.2665 - accuracy: 0.9005 - val_loss: 0.3230 - val_accuracy: 0.8887\n",
            "Epoch 11/100\n",
            "1688/1688 [==============================] - 4s 3ms/step - loss: 0.2549 - accuracy: 0.9044 - val_loss: 0.3235 - val_accuracy: 0.8882\n",
            "Epoch 12/100\n",
            "1688/1688 [==============================] - 4s 3ms/step - loss: 0.2501 - accuracy: 0.9065 - val_loss: 0.3176 - val_accuracy: 0.8890\n",
            "Epoch 13/100\n",
            "1688/1688 [==============================] - 4s 3ms/step - loss: 0.2455 - accuracy: 0.9078 - val_loss: 0.3028 - val_accuracy: 0.8953\n",
            "Epoch 14/100\n",
            "1688/1688 [==============================] - 4s 3ms/step - loss: 0.2367 - accuracy: 0.9105 - val_loss: 0.3104 - val_accuracy: 0.8900\n",
            "Epoch 15/100\n",
            "1688/1688 [==============================] - 4s 3ms/step - loss: 0.2310 - accuracy: 0.9145 - val_loss: 0.3136 - val_accuracy: 0.8922\n",
            "Epoch 16/100\n",
            "1688/1688 [==============================] - 5s 3ms/step - loss: 0.2264 - accuracy: 0.9148 - val_loss: 0.3084 - val_accuracy: 0.8957\n",
            "Epoch 17/100\n",
            "1688/1688 [==============================] - 5s 3ms/step - loss: 0.2234 - accuracy: 0.9142 - val_loss: 0.3178 - val_accuracy: 0.8888\n",
            "Epoch 18/100\n",
            "1677/1688 [============================>.] - ETA: 0s - loss: 0.2187 - accuracy: 0.9179Restoring model weights from the end of the best epoch.\n",
            "1688/1688 [==============================] - 5s 3ms/step - loss: 0.2186 - accuracy: 0.9178 - val_loss: 0.3179 - val_accuracy: 0.8960\n",
            "Epoch 00018: early stopping\n"
          ],
          "name": "stdout"
        },
        {
          "output_type": "display_data",
          "data": {
            "text/html": [
              "<span style=\"color:#4527A0\"><h1 style=\"font-size:18px\">Trial complete</h1></span>"
            ],
            "text/plain": [
              "<IPython.core.display.HTML object>"
            ]
          },
          "metadata": {
            "tags": []
          }
        },
        {
          "output_type": "display_data",
          "data": {
            "text/html": [
              "<span style=\"color:#4527A0\"><h1 style=\"font-size:18px\">Trial summary</h1></span>"
            ],
            "text/plain": [
              "<IPython.core.display.HTML object>"
            ]
          },
          "metadata": {
            "tags": []
          }
        },
        {
          "output_type": "display_data",
          "data": {
            "text/html": [
              "<span style=\"color:cyan\"> |-Trial ID: 346b320ac6a3187547feaffe6483376e</span>"
            ],
            "text/plain": [
              "<IPython.core.display.HTML object>"
            ]
          },
          "metadata": {
            "tags": []
          }
        },
        {
          "output_type": "display_data",
          "data": {
            "text/html": [
              "<span style=\"color:cyan\"> |-Score: 0.8960000276565552</span>"
            ],
            "text/plain": [
              "<IPython.core.display.HTML object>"
            ]
          },
          "metadata": {
            "tags": []
          }
        },
        {
          "output_type": "display_data",
          "data": {
            "text/html": [
              "<span style=\"color:cyan\"> |-Best step: 0</span>"
            ],
            "text/plain": [
              "<IPython.core.display.HTML object>"
            ]
          },
          "metadata": {
            "tags": []
          }
        },
        {
          "output_type": "display_data",
          "data": {
            "text/html": [
              "<span style=\"color:#7E57C2\"><h2 style=\"font-size:16px\">Hyperparameters:</h2></span>"
            ],
            "text/plain": [
              "<IPython.core.display.HTML object>"
            ]
          },
          "metadata": {
            "tags": []
          }
        },
        {
          "output_type": "display_data",
          "data": {
            "text/html": [
              "<span style=\"color:cyan\"> |-dropout: 0.2</span>"
            ],
            "text/plain": [
              "<IPython.core.display.HTML object>"
            ]
          },
          "metadata": {
            "tags": []
          }
        },
        {
          "output_type": "display_data",
          "data": {
            "text/html": [
              "<span style=\"color:blue\"> |-hidden_activation: relu</span>"
            ],
            "text/plain": [
              "<IPython.core.display.HTML object>"
            ]
          },
          "metadata": {
            "tags": []
          }
        },
        {
          "output_type": "display_data",
          "data": {
            "text/html": [
              "<span style=\"color:cyan\"> |-hidden_layers: 1</span>"
            ],
            "text/plain": [
              "<IPython.core.display.HTML object>"
            ]
          },
          "metadata": {
            "tags": []
          }
        },
        {
          "output_type": "display_data",
          "data": {
            "text/html": [
              "<span style=\"color:blue\"> |-hidden_units: 256</span>"
            ],
            "text/plain": [
              "<IPython.core.display.HTML object>"
            ]
          },
          "metadata": {
            "tags": []
          }
        },
        {
          "output_type": "display_data",
          "data": {
            "text/html": [
              "<span style=\"color:cyan\"> |-learning_rate: 0.000797425773423712</span>"
            ],
            "text/plain": [
              "<IPython.core.display.HTML object>"
            ]
          },
          "metadata": {
            "tags": []
          }
        },
        {
          "output_type": "stream",
          "text": [
            "Epoch 1/100\n",
            "1688/1688 [==============================] - 5s 3ms/step - loss: 0.5841 - accuracy: 0.7931 - val_loss: 0.4205 - val_accuracy: 0.8522\n",
            "Epoch 2/100\n",
            "1688/1688 [==============================] - 5s 3ms/step - loss: 0.4047 - accuracy: 0.8536 - val_loss: 0.3763 - val_accuracy: 0.8650\n",
            "Epoch 3/100\n",
            "1688/1688 [==============================] - 5s 3ms/step - loss: 0.3638 - accuracy: 0.8667 - val_loss: 0.3516 - val_accuracy: 0.8725\n",
            "Epoch 4/100\n",
            "1688/1688 [==============================] - 5s 3ms/step - loss: 0.3361 - accuracy: 0.8763 - val_loss: 0.3338 - val_accuracy: 0.8763\n",
            "Epoch 5/100\n",
            "1688/1688 [==============================] - 5s 3ms/step - loss: 0.3196 - accuracy: 0.8833 - val_loss: 0.3382 - val_accuracy: 0.8757\n",
            "Epoch 6/100\n",
            "1688/1688 [==============================] - 5s 3ms/step - loss: 0.3053 - accuracy: 0.8877 - val_loss: 0.3171 - val_accuracy: 0.8857\n",
            "Epoch 7/100\n",
            "1688/1688 [==============================] - 5s 3ms/step - loss: 0.2943 - accuracy: 0.8900 - val_loss: 0.3323 - val_accuracy: 0.8795\n",
            "Epoch 8/100\n",
            "1688/1688 [==============================] - 5s 3ms/step - loss: 0.2836 - accuracy: 0.8951 - val_loss: 0.3139 - val_accuracy: 0.8860\n",
            "Epoch 9/100\n",
            "1688/1688 [==============================] - 5s 3ms/step - loss: 0.2747 - accuracy: 0.8970 - val_loss: 0.3133 - val_accuracy: 0.8858\n",
            "Epoch 10/100\n",
            "1688/1688 [==============================] - 5s 3ms/step - loss: 0.2633 - accuracy: 0.9015 - val_loss: 0.3065 - val_accuracy: 0.8908\n",
            "Epoch 11/100\n",
            "1688/1688 [==============================] - 5s 3ms/step - loss: 0.2578 - accuracy: 0.9041 - val_loss: 0.3102 - val_accuracy: 0.8893\n",
            "Epoch 12/100\n",
            "1688/1688 [==============================] - 5s 3ms/step - loss: 0.2512 - accuracy: 0.9054 - val_loss: 0.3166 - val_accuracy: 0.8858\n",
            "Epoch 13/100\n",
            "1688/1688 [==============================] - 5s 3ms/step - loss: 0.2442 - accuracy: 0.9088 - val_loss: 0.2980 - val_accuracy: 0.8945\n",
            "Epoch 14/100\n",
            "1688/1688 [==============================] - 5s 3ms/step - loss: 0.2379 - accuracy: 0.9100 - val_loss: 0.2901 - val_accuracy: 0.8948\n",
            "Epoch 15/100\n",
            "1688/1688 [==============================] - 5s 3ms/step - loss: 0.2317 - accuracy: 0.9130 - val_loss: 0.3020 - val_accuracy: 0.8945\n",
            "Epoch 16/100\n",
            "1688/1688 [==============================] - 5s 3ms/step - loss: 0.2262 - accuracy: 0.9146 - val_loss: 0.3053 - val_accuracy: 0.8937\n",
            "Epoch 17/100\n",
            "1688/1688 [==============================] - 5s 3ms/step - loss: 0.2214 - accuracy: 0.9152 - val_loss: 0.3006 - val_accuracy: 0.8928\n",
            "Epoch 18/100\n",
            "1688/1688 [==============================] - 5s 3ms/step - loss: 0.2169 - accuracy: 0.9190 - val_loss: 0.3032 - val_accuracy: 0.8940\n",
            "Epoch 19/100\n",
            "1679/1688 [============================>.] - ETA: 0s - loss: 0.2115 - accuracy: 0.9204Restoring model weights from the end of the best epoch.\n",
            "1688/1688 [==============================] - 5s 3ms/step - loss: 0.2115 - accuracy: 0.9204 - val_loss: 0.3171 - val_accuracy: 0.8905\n",
            "Epoch 00019: early stopping\n"
          ],
          "name": "stdout"
        },
        {
          "output_type": "display_data",
          "data": {
            "text/html": [
              "<span style=\"color:#4527A0\"><h1 style=\"font-size:18px\">Trial complete</h1></span>"
            ],
            "text/plain": [
              "<IPython.core.display.HTML object>"
            ]
          },
          "metadata": {
            "tags": []
          }
        },
        {
          "output_type": "display_data",
          "data": {
            "text/html": [
              "<span style=\"color:#4527A0\"><h1 style=\"font-size:18px\">Trial summary</h1></span>"
            ],
            "text/plain": [
              "<IPython.core.display.HTML object>"
            ]
          },
          "metadata": {
            "tags": []
          }
        },
        {
          "output_type": "display_data",
          "data": {
            "text/html": [
              "<span style=\"color:cyan\"> |-Trial ID: 5f38a569c4591392f20c8f58c04447a6</span>"
            ],
            "text/plain": [
              "<IPython.core.display.HTML object>"
            ]
          },
          "metadata": {
            "tags": []
          }
        },
        {
          "output_type": "display_data",
          "data": {
            "text/html": [
              "<span style=\"color:cyan\"> |-Score: 0.8948333263397217</span>"
            ],
            "text/plain": [
              "<IPython.core.display.HTML object>"
            ]
          },
          "metadata": {
            "tags": []
          }
        },
        {
          "output_type": "display_data",
          "data": {
            "text/html": [
              "<span style=\"color:cyan\"> |-Best step: 0</span>"
            ],
            "text/plain": [
              "<IPython.core.display.HTML object>"
            ]
          },
          "metadata": {
            "tags": []
          }
        },
        {
          "output_type": "display_data",
          "data": {
            "text/html": [
              "<span style=\"color:#7E57C2\"><h2 style=\"font-size:16px\">Hyperparameters:</h2></span>"
            ],
            "text/plain": [
              "<IPython.core.display.HTML object>"
            ]
          },
          "metadata": {
            "tags": []
          }
        },
        {
          "output_type": "display_data",
          "data": {
            "text/html": [
              "<span style=\"color:cyan\"> |-dropout: 0.2</span>"
            ],
            "text/plain": [
              "<IPython.core.display.HTML object>"
            ]
          },
          "metadata": {
            "tags": []
          }
        },
        {
          "output_type": "display_data",
          "data": {
            "text/html": [
              "<span style=\"color:blue\"> |-hidden_activation: relu</span>"
            ],
            "text/plain": [
              "<IPython.core.display.HTML object>"
            ]
          },
          "metadata": {
            "tags": []
          }
        },
        {
          "output_type": "display_data",
          "data": {
            "text/html": [
              "<span style=\"color:cyan\"> |-hidden_layers: 2</span>"
            ],
            "text/plain": [
              "<IPython.core.display.HTML object>"
            ]
          },
          "metadata": {
            "tags": []
          }
        },
        {
          "output_type": "display_data",
          "data": {
            "text/html": [
              "<span style=\"color:blue\"> |-hidden_units: 256</span>"
            ],
            "text/plain": [
              "<IPython.core.display.HTML object>"
            ]
          },
          "metadata": {
            "tags": []
          }
        },
        {
          "output_type": "display_data",
          "data": {
            "text/html": [
              "<span style=\"color:cyan\"> |-learning_rate: 0.0003491260272208854</span>"
            ],
            "text/plain": [
              "<IPython.core.display.HTML object>"
            ]
          },
          "metadata": {
            "tags": []
          }
        },
        {
          "output_type": "stream",
          "text": [
            "Epoch 1/100\n",
            "1688/1688 [==============================] - 5s 3ms/step - loss: 0.6996 - accuracy: 0.7616 - val_loss: 0.4770 - val_accuracy: 0.8340\n",
            "Epoch 2/100\n",
            "1688/1688 [==============================] - 5s 3ms/step - loss: 0.4770 - accuracy: 0.8351 - val_loss: 0.4225 - val_accuracy: 0.8465\n",
            "Epoch 3/100\n",
            "1688/1688 [==============================] - 5s 3ms/step - loss: 0.4294 - accuracy: 0.8480 - val_loss: 0.3844 - val_accuracy: 0.8547\n",
            "Epoch 4/100\n",
            "1688/1688 [==============================] - 4s 3ms/step - loss: 0.4012 - accuracy: 0.8570 - val_loss: 0.3684 - val_accuracy: 0.8642\n",
            "Epoch 5/100\n",
            "1688/1688 [==============================] - 4s 3ms/step - loss: 0.3824 - accuracy: 0.8644 - val_loss: 0.3690 - val_accuracy: 0.8670\n",
            "Epoch 6/100\n",
            "1688/1688 [==============================] - 5s 3ms/step - loss: 0.3678 - accuracy: 0.8680 - val_loss: 0.3476 - val_accuracy: 0.8752\n",
            "Epoch 7/100\n",
            "1688/1688 [==============================] - 4s 3ms/step - loss: 0.3538 - accuracy: 0.8726 - val_loss: 0.3445 - val_accuracy: 0.8750\n",
            "Epoch 8/100\n",
            "1688/1688 [==============================] - 4s 3ms/step - loss: 0.3434 - accuracy: 0.8753 - val_loss: 0.3356 - val_accuracy: 0.8785\n",
            "Epoch 9/100\n",
            "1688/1688 [==============================] - 4s 3ms/step - loss: 0.3371 - accuracy: 0.8774 - val_loss: 0.3350 - val_accuracy: 0.8738\n",
            "Epoch 10/100\n",
            "1688/1688 [==============================] - 4s 3ms/step - loss: 0.3308 - accuracy: 0.8806 - val_loss: 0.3241 - val_accuracy: 0.8848\n",
            "Epoch 11/100\n",
            "1688/1688 [==============================] - 4s 3ms/step - loss: 0.3221 - accuracy: 0.8834 - val_loss: 0.3218 - val_accuracy: 0.8818\n",
            "Epoch 12/100\n",
            "1688/1688 [==============================] - 4s 3ms/step - loss: 0.3166 - accuracy: 0.8847 - val_loss: 0.3193 - val_accuracy: 0.8812\n",
            "Epoch 13/100\n",
            "1688/1688 [==============================] - 4s 3ms/step - loss: 0.3119 - accuracy: 0.8872 - val_loss: 0.3204 - val_accuracy: 0.8830\n",
            "Epoch 14/100\n",
            "1688/1688 [==============================] - 4s 3ms/step - loss: 0.3051 - accuracy: 0.8897 - val_loss: 0.3126 - val_accuracy: 0.8840\n",
            "Epoch 15/100\n",
            "1688/1688 [==============================] - 4s 3ms/step - loss: 0.3010 - accuracy: 0.8909 - val_loss: 0.3111 - val_accuracy: 0.8862\n",
            "Epoch 16/100\n",
            "1688/1688 [==============================] - 4s 3ms/step - loss: 0.2952 - accuracy: 0.8909 - val_loss: 0.3147 - val_accuracy: 0.8832\n",
            "Epoch 17/100\n",
            "1688/1688 [==============================] - 4s 3ms/step - loss: 0.2923 - accuracy: 0.8942 - val_loss: 0.3068 - val_accuracy: 0.8867\n",
            "Epoch 18/100\n",
            "1688/1688 [==============================] - 4s 3ms/step - loss: 0.2871 - accuracy: 0.8950 - val_loss: 0.3076 - val_accuracy: 0.8878\n",
            "Epoch 19/100\n",
            "1688/1688 [==============================] - 5s 3ms/step - loss: 0.2854 - accuracy: 0.8950 - val_loss: 0.3045 - val_accuracy: 0.8872\n",
            "Epoch 20/100\n",
            "1688/1688 [==============================] - 5s 3ms/step - loss: 0.2811 - accuracy: 0.8971 - val_loss: 0.3022 - val_accuracy: 0.8898\n",
            "Epoch 21/100\n",
            "1688/1688 [==============================] - 5s 3ms/step - loss: 0.2763 - accuracy: 0.8976 - val_loss: 0.3031 - val_accuracy: 0.8875\n",
            "Epoch 22/100\n",
            "1688/1688 [==============================] - 4s 3ms/step - loss: 0.2730 - accuracy: 0.8994 - val_loss: 0.2962 - val_accuracy: 0.8882\n",
            "Epoch 23/100\n",
            "1688/1688 [==============================] - 4s 3ms/step - loss: 0.2714 - accuracy: 0.9001 - val_loss: 0.3006 - val_accuracy: 0.8892\n",
            "Epoch 24/100\n",
            "1688/1688 [==============================] - 4s 3ms/step - loss: 0.2684 - accuracy: 0.9012 - val_loss: 0.3119 - val_accuracy: 0.8893\n",
            "Epoch 25/100\n",
            "1688/1688 [==============================] - 4s 3ms/step - loss: 0.2670 - accuracy: 0.9012 - val_loss: 0.3059 - val_accuracy: 0.8908\n",
            "Epoch 26/100\n",
            "1688/1688 [==============================] - 4s 3ms/step - loss: 0.2615 - accuracy: 0.9028 - val_loss: 0.3002 - val_accuracy: 0.8880\n",
            "Epoch 27/100\n",
            "1688/1688 [==============================] - 4s 3ms/step - loss: 0.2576 - accuracy: 0.9049 - val_loss: 0.2939 - val_accuracy: 0.8925\n",
            "Epoch 28/100\n",
            "1688/1688 [==============================] - 4s 3ms/step - loss: 0.2548 - accuracy: 0.9061 - val_loss: 0.3004 - val_accuracy: 0.8888\n",
            "Epoch 29/100\n",
            "1688/1688 [==============================] - 4s 3ms/step - loss: 0.2536 - accuracy: 0.9068 - val_loss: 0.2958 - val_accuracy: 0.8918\n",
            "Epoch 30/100\n",
            "1688/1688 [==============================] - 4s 3ms/step - loss: 0.2502 - accuracy: 0.9085 - val_loss: 0.2973 - val_accuracy: 0.8930\n",
            "Epoch 31/100\n",
            "1688/1688 [==============================] - 4s 3ms/step - loss: 0.2477 - accuracy: 0.9091 - val_loss: 0.2943 - val_accuracy: 0.8925\n",
            "Epoch 32/100\n",
            "1671/1688 [============================>.] - ETA: 0s - loss: 0.2464 - accuracy: 0.9079Restoring model weights from the end of the best epoch.\n",
            "1688/1688 [==============================] - 4s 3ms/step - loss: 0.2464 - accuracy: 0.9079 - val_loss: 0.2969 - val_accuracy: 0.8935\n",
            "Epoch 00032: early stopping\n"
          ],
          "name": "stdout"
        },
        {
          "output_type": "display_data",
          "data": {
            "text/html": [
              "<span style=\"color:#4527A0\"><h1 style=\"font-size:18px\">Trial complete</h1></span>"
            ],
            "text/plain": [
              "<IPython.core.display.HTML object>"
            ]
          },
          "metadata": {
            "tags": []
          }
        },
        {
          "output_type": "display_data",
          "data": {
            "text/html": [
              "<span style=\"color:#4527A0\"><h1 style=\"font-size:18px\">Trial summary</h1></span>"
            ],
            "text/plain": [
              "<IPython.core.display.HTML object>"
            ]
          },
          "metadata": {
            "tags": []
          }
        },
        {
          "output_type": "display_data",
          "data": {
            "text/html": [
              "<span style=\"color:cyan\"> |-Trial ID: 446f9ad283dd96a3867f8adac6164088</span>"
            ],
            "text/plain": [
              "<IPython.core.display.HTML object>"
            ]
          },
          "metadata": {
            "tags": []
          }
        },
        {
          "output_type": "display_data",
          "data": {
            "text/html": [
              "<span style=\"color:cyan\"> |-Score: 0.8934999704360962</span>"
            ],
            "text/plain": [
              "<IPython.core.display.HTML object>"
            ]
          },
          "metadata": {
            "tags": []
          }
        },
        {
          "output_type": "display_data",
          "data": {
            "text/html": [
              "<span style=\"color:cyan\"> |-Best step: 0</span>"
            ],
            "text/plain": [
              "<IPython.core.display.HTML object>"
            ]
          },
          "metadata": {
            "tags": []
          }
        },
        {
          "output_type": "display_data",
          "data": {
            "text/html": [
              "<span style=\"color:#7E57C2\"><h2 style=\"font-size:16px\">Hyperparameters:</h2></span>"
            ],
            "text/plain": [
              "<IPython.core.display.HTML object>"
            ]
          },
          "metadata": {
            "tags": []
          }
        },
        {
          "output_type": "display_data",
          "data": {
            "text/html": [
              "<span style=\"color:cyan\"> |-dropout: 0.5</span>"
            ],
            "text/plain": [
              "<IPython.core.display.HTML object>"
            ]
          },
          "metadata": {
            "tags": []
          }
        },
        {
          "output_type": "display_data",
          "data": {
            "text/html": [
              "<span style=\"color:blue\"> |-hidden_activation: relu</span>"
            ],
            "text/plain": [
              "<IPython.core.display.HTML object>"
            ]
          },
          "metadata": {
            "tags": []
          }
        },
        {
          "output_type": "display_data",
          "data": {
            "text/html": [
              "<span style=\"color:cyan\"> |-hidden_layers: 1</span>"
            ],
            "text/plain": [
              "<IPython.core.display.HTML object>"
            ]
          },
          "metadata": {
            "tags": []
          }
        },
        {
          "output_type": "display_data",
          "data": {
            "text/html": [
              "<span style=\"color:blue\"> |-hidden_units: 256</span>"
            ],
            "text/plain": [
              "<IPython.core.display.HTML object>"
            ]
          },
          "metadata": {
            "tags": []
          }
        },
        {
          "output_type": "display_data",
          "data": {
            "text/html": [
              "<span style=\"color:cyan\"> |-learning_rate: 0.00025071332274895686</span>"
            ],
            "text/plain": [
              "<IPython.core.display.HTML object>"
            ]
          },
          "metadata": {
            "tags": []
          }
        },
        {
          "output_type": "stream",
          "text": [
            "Epoch 1/100\n",
            "1688/1688 [==============================] - 4s 3ms/step - loss: 0.6305 - accuracy: 0.7881 - val_loss: 0.4623 - val_accuracy: 0.8438\n",
            "Epoch 2/100\n",
            "1688/1688 [==============================] - 4s 3ms/step - loss: 0.4399 - accuracy: 0.8470 - val_loss: 0.4113 - val_accuracy: 0.8530\n",
            "Epoch 3/100\n",
            "1688/1688 [==============================] - 4s 3ms/step - loss: 0.3940 - accuracy: 0.8606 - val_loss: 0.3715 - val_accuracy: 0.8617\n",
            "Epoch 4/100\n",
            "1688/1688 [==============================] - 4s 3ms/step - loss: 0.3648 - accuracy: 0.8688 - val_loss: 0.3633 - val_accuracy: 0.8660\n",
            "Epoch 5/100\n",
            "1688/1688 [==============================] - 4s 3ms/step - loss: 0.3444 - accuracy: 0.8762 - val_loss: 0.3587 - val_accuracy: 0.8740\n",
            "Epoch 6/100\n",
            "1688/1688 [==============================] - 4s 3ms/step - loss: 0.3298 - accuracy: 0.8808 - val_loss: 0.3345 - val_accuracy: 0.8795\n",
            "Epoch 7/100\n",
            "1688/1688 [==============================] - 4s 3ms/step - loss: 0.3151 - accuracy: 0.8858 - val_loss: 0.3426 - val_accuracy: 0.8793\n",
            "Epoch 8/100\n",
            "1688/1688 [==============================] - 4s 3ms/step - loss: 0.3038 - accuracy: 0.8892 - val_loss: 0.3238 - val_accuracy: 0.8808\n",
            "Epoch 9/100\n",
            "1688/1688 [==============================] - 5s 3ms/step - loss: 0.2953 - accuracy: 0.8931 - val_loss: 0.3290 - val_accuracy: 0.8755\n",
            "Epoch 10/100\n",
            "1688/1688 [==============================] - 4s 3ms/step - loss: 0.2867 - accuracy: 0.8954 - val_loss: 0.3127 - val_accuracy: 0.8877\n",
            "Epoch 11/100\n",
            "1688/1688 [==============================] - 4s 3ms/step - loss: 0.2785 - accuracy: 0.8982 - val_loss: 0.3204 - val_accuracy: 0.8830\n",
            "Epoch 12/100\n",
            "1688/1688 [==============================] - 4s 3ms/step - loss: 0.2704 - accuracy: 0.9017 - val_loss: 0.3119 - val_accuracy: 0.8847\n",
            "Epoch 13/100\n",
            "1688/1688 [==============================] - 4s 3ms/step - loss: 0.2635 - accuracy: 0.9035 - val_loss: 0.3035 - val_accuracy: 0.8897\n",
            "Epoch 14/100\n",
            "1688/1688 [==============================] - 4s 3ms/step - loss: 0.2580 - accuracy: 0.9065 - val_loss: 0.2997 - val_accuracy: 0.8903\n",
            "Epoch 15/100\n",
            "1688/1688 [==============================] - 5s 3ms/step - loss: 0.2516 - accuracy: 0.9096 - val_loss: 0.3020 - val_accuracy: 0.8887\n",
            "Epoch 16/100\n",
            "1688/1688 [==============================] - 5s 3ms/step - loss: 0.2448 - accuracy: 0.9104 - val_loss: 0.3029 - val_accuracy: 0.8872\n",
            "Epoch 17/100\n",
            "1688/1688 [==============================] - 4s 3ms/step - loss: 0.2417 - accuracy: 0.9106 - val_loss: 0.3020 - val_accuracy: 0.8902\n",
            "Epoch 18/100\n",
            "1688/1688 [==============================] - 4s 3ms/step - loss: 0.2366 - accuracy: 0.9131 - val_loss: 0.2975 - val_accuracy: 0.8898\n",
            "Epoch 19/100\n",
            "1688/1688 [==============================] - 4s 3ms/step - loss: 0.2310 - accuracy: 0.9148 - val_loss: 0.3010 - val_accuracy: 0.8907\n",
            "Epoch 20/100\n",
            "1688/1688 [==============================] - 4s 3ms/step - loss: 0.2258 - accuracy: 0.9186 - val_loss: 0.3015 - val_accuracy: 0.8892\n",
            "Epoch 21/100\n",
            "1688/1688 [==============================] - 4s 3ms/step - loss: 0.2217 - accuracy: 0.9194 - val_loss: 0.2923 - val_accuracy: 0.8957\n",
            "Epoch 22/100\n",
            "1688/1688 [==============================] - 4s 3ms/step - loss: 0.2163 - accuracy: 0.9204 - val_loss: 0.2982 - val_accuracy: 0.8917\n",
            "Epoch 23/100\n",
            "1688/1688 [==============================] - 4s 3ms/step - loss: 0.2122 - accuracy: 0.9215 - val_loss: 0.2998 - val_accuracy: 0.8940\n",
            "Epoch 24/100\n",
            "1688/1688 [==============================] - 4s 3ms/step - loss: 0.2098 - accuracy: 0.9230 - val_loss: 0.3199 - val_accuracy: 0.8872\n",
            "Epoch 25/100\n",
            "1688/1688 [==============================] - 4s 3ms/step - loss: 0.2065 - accuracy: 0.9238 - val_loss: 0.2989 - val_accuracy: 0.8935\n",
            "Epoch 26/100\n",
            "1682/1688 [============================>.] - ETA: 0s - loss: 0.2014 - accuracy: 0.9276Restoring model weights from the end of the best epoch.\n",
            "1688/1688 [==============================] - 4s 3ms/step - loss: 0.2012 - accuracy: 0.9276 - val_loss: 0.2958 - val_accuracy: 0.8982\n",
            "Epoch 00026: early stopping\n"
          ],
          "name": "stdout"
        },
        {
          "output_type": "display_data",
          "data": {
            "text/html": [
              "<span style=\"color:#4527A0\"><h1 style=\"font-size:18px\">Trial complete</h1></span>"
            ],
            "text/plain": [
              "<IPython.core.display.HTML object>"
            ]
          },
          "metadata": {
            "tags": []
          }
        },
        {
          "output_type": "display_data",
          "data": {
            "text/html": [
              "<span style=\"color:#4527A0\"><h1 style=\"font-size:18px\">Trial summary</h1></span>"
            ],
            "text/plain": [
              "<IPython.core.display.HTML object>"
            ]
          },
          "metadata": {
            "tags": []
          }
        },
        {
          "output_type": "display_data",
          "data": {
            "text/html": [
              "<span style=\"color:cyan\"> |-Trial ID: 55b4994ac955f4f12dede9b64950f76b</span>"
            ],
            "text/plain": [
              "<IPython.core.display.HTML object>"
            ]
          },
          "metadata": {
            "tags": []
          }
        },
        {
          "output_type": "display_data",
          "data": {
            "text/html": [
              "<span style=\"color:cyan\"> |-Score: 0.8981666564941406</span>"
            ],
            "text/plain": [
              "<IPython.core.display.HTML object>"
            ]
          },
          "metadata": {
            "tags": []
          }
        },
        {
          "output_type": "display_data",
          "data": {
            "text/html": [
              "<span style=\"color:cyan\"> |-Best step: 0</span>"
            ],
            "text/plain": [
              "<IPython.core.display.HTML object>"
            ]
          },
          "metadata": {
            "tags": []
          }
        },
        {
          "output_type": "display_data",
          "data": {
            "text/html": [
              "<span style=\"color:#7E57C2\"><h2 style=\"font-size:16px\">Hyperparameters:</h2></span>"
            ],
            "text/plain": [
              "<IPython.core.display.HTML object>"
            ]
          },
          "metadata": {
            "tags": []
          }
        },
        {
          "output_type": "display_data",
          "data": {
            "text/html": [
              "<span style=\"color:cyan\"> |-dropout: 0.2</span>"
            ],
            "text/plain": [
              "<IPython.core.display.HTML object>"
            ]
          },
          "metadata": {
            "tags": []
          }
        },
        {
          "output_type": "display_data",
          "data": {
            "text/html": [
              "<span style=\"color:blue\"> |-hidden_activation: relu</span>"
            ],
            "text/plain": [
              "<IPython.core.display.HTML object>"
            ]
          },
          "metadata": {
            "tags": []
          }
        },
        {
          "output_type": "display_data",
          "data": {
            "text/html": [
              "<span style=\"color:cyan\"> |-hidden_layers: 1</span>"
            ],
            "text/plain": [
              "<IPython.core.display.HTML object>"
            ]
          },
          "metadata": {
            "tags": []
          }
        },
        {
          "output_type": "display_data",
          "data": {
            "text/html": [
              "<span style=\"color:blue\"> |-hidden_units: 256</span>"
            ],
            "text/plain": [
              "<IPython.core.display.HTML object>"
            ]
          },
          "metadata": {
            "tags": []
          }
        },
        {
          "output_type": "display_data",
          "data": {
            "text/html": [
              "<span style=\"color:cyan\"> |-learning_rate: 0.0002554705805046948</span>"
            ],
            "text/plain": [
              "<IPython.core.display.HTML object>"
            ]
          },
          "metadata": {
            "tags": []
          }
        },
        {
          "output_type": "stream",
          "text": [
            "Epoch 1/100\n",
            "1688/1688 [==============================] - 5s 3ms/step - loss: 0.5688 - accuracy: 0.7943 - val_loss: 0.4421 - val_accuracy: 0.8403\n",
            "Epoch 2/100\n",
            "1688/1688 [==============================] - 5s 3ms/step - loss: 0.4708 - accuracy: 0.8304 - val_loss: 0.4428 - val_accuracy: 0.8387\n",
            "Epoch 3/100\n",
            "1688/1688 [==============================] - 5s 3ms/step - loss: 0.4454 - accuracy: 0.8398 - val_loss: 0.3872 - val_accuracy: 0.8608\n",
            "Epoch 4/100\n",
            "1688/1688 [==============================] - 5s 3ms/step - loss: 0.4258 - accuracy: 0.8470 - val_loss: 0.4094 - val_accuracy: 0.8490\n",
            "Epoch 5/100\n",
            "1688/1688 [==============================] - 5s 3ms/step - loss: 0.4248 - accuracy: 0.8473 - val_loss: 0.4204 - val_accuracy: 0.8563\n",
            "Epoch 6/100\n",
            "1688/1688 [==============================] - 5s 3ms/step - loss: 0.4139 - accuracy: 0.8506 - val_loss: 0.3769 - val_accuracy: 0.8605\n",
            "Epoch 7/100\n",
            "1688/1688 [==============================] - 5s 3ms/step - loss: 0.4030 - accuracy: 0.8550 - val_loss: 0.3844 - val_accuracy: 0.8635\n",
            "Epoch 8/100\n",
            "1688/1688 [==============================] - 5s 3ms/step - loss: 0.4009 - accuracy: 0.8565 - val_loss: 0.3825 - val_accuracy: 0.8610\n",
            "Epoch 9/100\n",
            "1688/1688 [==============================] - 5s 3ms/step - loss: 0.4009 - accuracy: 0.8583 - val_loss: 0.3789 - val_accuracy: 0.8635\n",
            "Epoch 10/100\n",
            "1688/1688 [==============================] - 5s 3ms/step - loss: 0.3889 - accuracy: 0.8601 - val_loss: 0.3850 - val_accuracy: 0.8685\n",
            "Epoch 11/100\n",
            "1688/1688 [==============================] - ETA: 0s - loss: 0.3875 - accuracy: 0.8638Restoring model weights from the end of the best epoch.\n",
            "1688/1688 [==============================] - 5s 3ms/step - loss: 0.3875 - accuracy: 0.8638 - val_loss: 0.3872 - val_accuracy: 0.8615\n",
            "Epoch 00011: early stopping\n"
          ],
          "name": "stdout"
        },
        {
          "output_type": "display_data",
          "data": {
            "text/html": [
              "<span style=\"color:#4527A0\"><h1 style=\"font-size:18px\">Trial complete</h1></span>"
            ],
            "text/plain": [
              "<IPython.core.display.HTML object>"
            ]
          },
          "metadata": {
            "tags": []
          }
        },
        {
          "output_type": "display_data",
          "data": {
            "text/html": [
              "<span style=\"color:#4527A0\"><h1 style=\"font-size:18px\">Trial summary</h1></span>"
            ],
            "text/plain": [
              "<IPython.core.display.HTML object>"
            ]
          },
          "metadata": {
            "tags": []
          }
        },
        {
          "output_type": "display_data",
          "data": {
            "text/html": [
              "<span style=\"color:cyan\"> |-Trial ID: 18ac9b05b531abc70f9c3daf4e4a6632</span>"
            ],
            "text/plain": [
              "<IPython.core.display.HTML object>"
            ]
          },
          "metadata": {
            "tags": []
          }
        },
        {
          "output_type": "display_data",
          "data": {
            "text/html": [
              "<span style=\"color:cyan\"> |-Score: 0.8684999942779541</span>"
            ],
            "text/plain": [
              "<IPython.core.display.HTML object>"
            ]
          },
          "metadata": {
            "tags": []
          }
        },
        {
          "output_type": "display_data",
          "data": {
            "text/html": [
              "<span style=\"color:cyan\"> |-Best step: 0</span>"
            ],
            "text/plain": [
              "<IPython.core.display.HTML object>"
            ]
          },
          "metadata": {
            "tags": []
          }
        },
        {
          "output_type": "display_data",
          "data": {
            "text/html": [
              "<span style=\"color:#7E57C2\"><h2 style=\"font-size:16px\">Hyperparameters:</h2></span>"
            ],
            "text/plain": [
              "<IPython.core.display.HTML object>"
            ]
          },
          "metadata": {
            "tags": []
          }
        },
        {
          "output_type": "display_data",
          "data": {
            "text/html": [
              "<span style=\"color:cyan\"> |-dropout: 0.2</span>"
            ],
            "text/plain": [
              "<IPython.core.display.HTML object>"
            ]
          },
          "metadata": {
            "tags": []
          }
        },
        {
          "output_type": "display_data",
          "data": {
            "text/html": [
              "<span style=\"color:blue\"> |-hidden_activation: relu</span>"
            ],
            "text/plain": [
              "<IPython.core.display.HTML object>"
            ]
          },
          "metadata": {
            "tags": []
          }
        },
        {
          "output_type": "display_data",
          "data": {
            "text/html": [
              "<span style=\"color:cyan\"> |-hidden_layers: 2</span>"
            ],
            "text/plain": [
              "<IPython.core.display.HTML object>"
            ]
          },
          "metadata": {
            "tags": []
          }
        },
        {
          "output_type": "display_data",
          "data": {
            "text/html": [
              "<span style=\"color:blue\"> |-hidden_units: 256</span>"
            ],
            "text/plain": [
              "<IPython.core.display.HTML object>"
            ]
          },
          "metadata": {
            "tags": []
          }
        },
        {
          "output_type": "display_data",
          "data": {
            "text/html": [
              "<span style=\"color:cyan\"> |-learning_rate: 0.0033137745378583987</span>"
            ],
            "text/plain": [
              "<IPython.core.display.HTML object>"
            ]
          },
          "metadata": {
            "tags": []
          }
        },
        {
          "output_type": "stream",
          "text": [
            "Epoch 1/100\n",
            "1688/1688 [==============================] - 5s 3ms/step - loss: 0.7504 - accuracy: 0.7449 - val_loss: 0.5029 - val_accuracy: 0.8313\n",
            "Epoch 2/100\n",
            "1688/1688 [==============================] - 4s 3ms/step - loss: 0.5017 - accuracy: 0.8271 - val_loss: 0.4390 - val_accuracy: 0.8433\n",
            "Epoch 3/100\n",
            "1688/1688 [==============================] - 4s 3ms/step - loss: 0.4458 - accuracy: 0.8430 - val_loss: 0.4010 - val_accuracy: 0.8508\n",
            "Epoch 4/100\n",
            "1688/1688 [==============================] - 5s 3ms/step - loss: 0.4141 - accuracy: 0.8546 - val_loss: 0.3844 - val_accuracy: 0.8593\n",
            "Epoch 5/100\n",
            "1688/1688 [==============================] - 4s 3ms/step - loss: 0.3938 - accuracy: 0.8605 - val_loss: 0.3749 - val_accuracy: 0.8635\n",
            "Epoch 6/100\n",
            "1688/1688 [==============================] - 4s 3ms/step - loss: 0.3791 - accuracy: 0.8663 - val_loss: 0.3581 - val_accuracy: 0.8698\n",
            "Epoch 7/100\n",
            "1688/1688 [==============================] - 4s 3ms/step - loss: 0.3667 - accuracy: 0.8691 - val_loss: 0.3568 - val_accuracy: 0.8693\n",
            "Epoch 8/100\n",
            "1688/1688 [==============================] - 4s 3ms/step - loss: 0.3545 - accuracy: 0.8726 - val_loss: 0.3417 - val_accuracy: 0.8772\n",
            "Epoch 9/100\n",
            "1688/1688 [==============================] - 4s 3ms/step - loss: 0.3476 - accuracy: 0.8745 - val_loss: 0.3407 - val_accuracy: 0.8723\n",
            "Epoch 10/100\n",
            "1688/1688 [==============================] - 4s 3ms/step - loss: 0.3401 - accuracy: 0.8781 - val_loss: 0.3294 - val_accuracy: 0.8808\n",
            "Epoch 11/100\n",
            "1688/1688 [==============================] - 4s 3ms/step - loss: 0.3306 - accuracy: 0.8804 - val_loss: 0.3235 - val_accuracy: 0.8790\n",
            "Epoch 12/100\n",
            "1688/1688 [==============================] - 4s 3ms/step - loss: 0.3268 - accuracy: 0.8827 - val_loss: 0.3254 - val_accuracy: 0.8777\n",
            "Epoch 13/100\n",
            "1688/1688 [==============================] - 4s 3ms/step - loss: 0.3183 - accuracy: 0.8838 - val_loss: 0.3207 - val_accuracy: 0.8810\n",
            "Epoch 14/100\n",
            "1688/1688 [==============================] - 4s 3ms/step - loss: 0.3130 - accuracy: 0.8863 - val_loss: 0.3190 - val_accuracy: 0.8803\n",
            "Epoch 15/100\n",
            "1688/1688 [==============================] - 4s 3ms/step - loss: 0.3073 - accuracy: 0.8876 - val_loss: 0.3166 - val_accuracy: 0.8847\n",
            "Epoch 16/100\n",
            "1688/1688 [==============================] - 4s 3ms/step - loss: 0.3029 - accuracy: 0.8901 - val_loss: 0.3106 - val_accuracy: 0.8858\n",
            "Epoch 17/100\n",
            "1688/1688 [==============================] - 4s 3ms/step - loss: 0.3027 - accuracy: 0.8899 - val_loss: 0.3094 - val_accuracy: 0.8840\n",
            "Epoch 18/100\n",
            "1688/1688 [==============================] - 4s 3ms/step - loss: 0.2971 - accuracy: 0.8918 - val_loss: 0.3115 - val_accuracy: 0.8858\n",
            "Epoch 19/100\n",
            "1688/1688 [==============================] - 4s 3ms/step - loss: 0.2923 - accuracy: 0.8928 - val_loss: 0.3043 - val_accuracy: 0.8873\n",
            "Epoch 20/100\n",
            "1688/1688 [==============================] - 4s 3ms/step - loss: 0.2863 - accuracy: 0.8951 - val_loss: 0.3037 - val_accuracy: 0.8878\n",
            "Epoch 21/100\n",
            "1688/1688 [==============================] - 4s 3ms/step - loss: 0.2840 - accuracy: 0.8963 - val_loss: 0.3013 - val_accuracy: 0.8873\n",
            "Epoch 22/100\n",
            "1688/1688 [==============================] - 5s 3ms/step - loss: 0.2808 - accuracy: 0.8966 - val_loss: 0.2991 - val_accuracy: 0.8898\n",
            "Epoch 23/100\n",
            "1688/1688 [==============================] - 5s 3ms/step - loss: 0.2766 - accuracy: 0.8988 - val_loss: 0.3032 - val_accuracy: 0.8882\n",
            "Epoch 24/100\n",
            "1688/1688 [==============================] - 4s 3ms/step - loss: 0.2746 - accuracy: 0.8998 - val_loss: 0.3123 - val_accuracy: 0.8910\n",
            "Epoch 25/100\n",
            "1688/1688 [==============================] - 4s 3ms/step - loss: 0.2708 - accuracy: 0.9004 - val_loss: 0.3016 - val_accuracy: 0.8867\n",
            "Epoch 26/100\n",
            "1688/1688 [==============================] - 4s 3ms/step - loss: 0.2661 - accuracy: 0.9007 - val_loss: 0.2974 - val_accuracy: 0.8903\n",
            "Epoch 27/100\n",
            "1688/1688 [==============================] - 4s 3ms/step - loss: 0.2658 - accuracy: 0.9026 - val_loss: 0.2950 - val_accuracy: 0.8888\n",
            "Epoch 28/100\n",
            "1688/1688 [==============================] - 4s 3ms/step - loss: 0.2629 - accuracy: 0.9039 - val_loss: 0.2966 - val_accuracy: 0.8905\n",
            "Epoch 29/100\n",
            "1688/1688 [==============================] - 4s 3ms/step - loss: 0.2579 - accuracy: 0.9062 - val_loss: 0.3050 - val_accuracy: 0.8893\n",
            "Epoch 30/100\n",
            "1688/1688 [==============================] - 4s 3ms/step - loss: 0.2569 - accuracy: 0.9050 - val_loss: 0.3010 - val_accuracy: 0.8908\n",
            "Epoch 31/100\n",
            "1688/1688 [==============================] - 4s 3ms/step - loss: 0.2563 - accuracy: 0.9053 - val_loss: 0.2931 - val_accuracy: 0.8920\n",
            "Epoch 32/100\n",
            "1688/1688 [==============================] - 4s 3ms/step - loss: 0.2523 - accuracy: 0.9070 - val_loss: 0.2995 - val_accuracy: 0.8923\n",
            "Epoch 33/100\n",
            "1688/1688 [==============================] - 4s 3ms/step - loss: 0.2507 - accuracy: 0.9081 - val_loss: 0.2967 - val_accuracy: 0.8930\n",
            "Epoch 34/100\n",
            "1688/1688 [==============================] - 4s 3ms/step - loss: 0.2478 - accuracy: 0.9097 - val_loss: 0.2895 - val_accuracy: 0.8950\n",
            "Epoch 35/100\n",
            "1688/1688 [==============================] - 4s 3ms/step - loss: 0.2471 - accuracy: 0.9098 - val_loss: 0.2997 - val_accuracy: 0.8937\n",
            "Epoch 36/100\n",
            "1688/1688 [==============================] - 4s 3ms/step - loss: 0.2437 - accuracy: 0.9104 - val_loss: 0.2969 - val_accuracy: 0.8940\n",
            "Epoch 37/100\n",
            "1688/1688 [==============================] - 4s 3ms/step - loss: 0.2402 - accuracy: 0.9111 - val_loss: 0.2964 - val_accuracy: 0.8955\n",
            "Epoch 38/100\n",
            "1688/1688 [==============================] - 4s 3ms/step - loss: 0.2385 - accuracy: 0.9123 - val_loss: 0.3024 - val_accuracy: 0.8930\n",
            "Epoch 39/100\n",
            "1672/1688 [============================>.] - ETA: 0s - loss: 0.2352 - accuracy: 0.9130Restoring model weights from the end of the best epoch.\n",
            "1688/1688 [==============================] - 4s 3ms/step - loss: 0.2355 - accuracy: 0.9129 - val_loss: 0.2936 - val_accuracy: 0.8945\n",
            "Epoch 00039: early stopping\n"
          ],
          "name": "stdout"
        },
        {
          "output_type": "display_data",
          "data": {
            "text/html": [
              "<span style=\"color:#4527A0\"><h1 style=\"font-size:18px\">Trial complete</h1></span>"
            ],
            "text/plain": [
              "<IPython.core.display.HTML object>"
            ]
          },
          "metadata": {
            "tags": []
          }
        },
        {
          "output_type": "display_data",
          "data": {
            "text/html": [
              "<span style=\"color:#4527A0\"><h1 style=\"font-size:18px\">Trial summary</h1></span>"
            ],
            "text/plain": [
              "<IPython.core.display.HTML object>"
            ]
          },
          "metadata": {
            "tags": []
          }
        },
        {
          "output_type": "display_data",
          "data": {
            "text/html": [
              "<span style=\"color:cyan\"> |-Trial ID: a0e07a5a8efe0a293143d06d7e635cc6</span>"
            ],
            "text/plain": [
              "<IPython.core.display.HTML object>"
            ]
          },
          "metadata": {
            "tags": []
          }
        },
        {
          "output_type": "display_data",
          "data": {
            "text/html": [
              "<span style=\"color:cyan\"> |-Score: 0.8955000042915344</span>"
            ],
            "text/plain": [
              "<IPython.core.display.HTML object>"
            ]
          },
          "metadata": {
            "tags": []
          }
        },
        {
          "output_type": "display_data",
          "data": {
            "text/html": [
              "<span style=\"color:cyan\"> |-Best step: 0</span>"
            ],
            "text/plain": [
              "<IPython.core.display.HTML object>"
            ]
          },
          "metadata": {
            "tags": []
          }
        },
        {
          "output_type": "display_data",
          "data": {
            "text/html": [
              "<span style=\"color:#7E57C2\"><h2 style=\"font-size:16px\">Hyperparameters:</h2></span>"
            ],
            "text/plain": [
              "<IPython.core.display.HTML object>"
            ]
          },
          "metadata": {
            "tags": []
          }
        },
        {
          "output_type": "display_data",
          "data": {
            "text/html": [
              "<span style=\"color:cyan\"> |-dropout: 0.5</span>"
            ],
            "text/plain": [
              "<IPython.core.display.HTML object>"
            ]
          },
          "metadata": {
            "tags": []
          }
        },
        {
          "output_type": "display_data",
          "data": {
            "text/html": [
              "<span style=\"color:blue\"> |-hidden_activation: relu</span>"
            ],
            "text/plain": [
              "<IPython.core.display.HTML object>"
            ]
          },
          "metadata": {
            "tags": []
          }
        },
        {
          "output_type": "display_data",
          "data": {
            "text/html": [
              "<span style=\"color:cyan\"> |-hidden_layers: 1</span>"
            ],
            "text/plain": [
              "<IPython.core.display.HTML object>"
            ]
          },
          "metadata": {
            "tags": []
          }
        },
        {
          "output_type": "display_data",
          "data": {
            "text/html": [
              "<span style=\"color:blue\"> |-hidden_units: 256</span>"
            ],
            "text/plain": [
              "<IPython.core.display.HTML object>"
            ]
          },
          "metadata": {
            "tags": []
          }
        },
        {
          "output_type": "display_data",
          "data": {
            "text/html": [
              "<span style=\"color:cyan\"> |-learning_rate: 0.000195586335667274</span>"
            ],
            "text/plain": [
              "<IPython.core.display.HTML object>"
            ]
          },
          "metadata": {
            "tags": []
          }
        },
        {
          "output_type": "stream",
          "text": [
            "INFO:tensorflow:Oracle triggered exit\n"
          ],
          "name": "stdout"
        }
      ]
    },
    {
      "cell_type": "code",
      "metadata": {
        "id": "wXJUJoS-C9GM",
        "colab_type": "code",
        "colab": {
          "base_uri": "https://localhost:8080/",
          "height": 104
        },
        "outputId": "2b64590d-67ab-40bd-829c-ee1020162f16"
      },
      "source": [
        "best_params_mlp_adam=tuner_adam.get_best_hyperparameters()[0].values\n",
        "best_params_mlp_adam"
      ],
      "execution_count": null,
      "outputs": [
        {
          "output_type": "execute_result",
          "data": {
            "text/plain": [
              "{'dropout': 0.2,\n",
              " 'hidden_activation': 'relu',\n",
              " 'hidden_layers': 1,\n",
              " 'hidden_units': 256,\n",
              " 'learning_rate': 0.0002554705805046948}"
            ]
          },
          "metadata": {
            "tags": []
          },
          "execution_count": 195
        }
      ]
    },
    {
      "cell_type": "markdown",
      "metadata": {
        "id": "RQ_osy80H1I-",
        "colab_type": "text"
      },
      "source": [
        "### Fine tune Model with SGD optimizer"
      ]
    },
    {
      "cell_type": "code",
      "metadata": {
        "id": "lViP9JVHGFQX",
        "colab_type": "code",
        "colab": {}
      },
      "source": [
        "!rm -R /content/tune_mlp_sgd\n",
        "\n",
        "tuner_sgd=kt.RandomSearch(\n",
        "    tune_mlp_sgd,\n",
        "    objective='val_accuracy',\n",
        "    max_trials=MAX_TRIALS,\n",
        "    executions_per_trial=EXECUTIONS_PER_TRIAL,\n",
        "    project_name='tune_mlp_sgd',\n",
        "    seed=1\n",
        "\n",
        ")"
      ],
      "execution_count": null,
      "outputs": []
    },
    {
      "cell_type": "code",
      "metadata": {
        "id": "ZPPqWd5JH_Tw",
        "colab_type": "code",
        "colab": {
          "base_uri": "https://localhost:8080/",
          "height": 554
        },
        "outputId": "129a37a1-4e67-4dbe-b0e1-28f49700a5a5"
      },
      "source": [
        "tuner_sgd.search_space_summary()"
      ],
      "execution_count": null,
      "outputs": [
        {
          "output_type": "display_data",
          "data": {
            "text/html": [
              "<span style=\"color:#4527A0\"><h1 style=\"font-size:18px\">Search space summary</h1></span>"
            ],
            "text/plain": [
              "<IPython.core.display.HTML object>"
            ]
          },
          "metadata": {
            "tags": []
          }
        },
        {
          "output_type": "display_data",
          "data": {
            "text/html": [
              "<span style=\"color:cyan\"> |-Default search space size: 5</span>"
            ],
            "text/plain": [
              "<IPython.core.display.HTML object>"
            ]
          },
          "metadata": {
            "tags": []
          }
        },
        {
          "output_type": "display_data",
          "data": {
            "text/html": [
              "<span style=\"color:#7E57C2\"><h2 style=\"font-size:16px\">hidden_units (Choice)</h2></span>"
            ],
            "text/plain": [
              "<IPython.core.display.HTML object>"
            ]
          },
          "metadata": {
            "tags": []
          }
        },
        {
          "output_type": "display_data",
          "data": {
            "text/html": [
              "<span style=\"color:cyan\"> |-default: 256</span>"
            ],
            "text/plain": [
              "<IPython.core.display.HTML object>"
            ]
          },
          "metadata": {
            "tags": []
          }
        },
        {
          "output_type": "display_data",
          "data": {
            "text/html": [
              "<span style=\"color:blue\"> |-ordered: True</span>"
            ],
            "text/plain": [
              "<IPython.core.display.HTML object>"
            ]
          },
          "metadata": {
            "tags": []
          }
        },
        {
          "output_type": "display_data",
          "data": {
            "text/html": [
              "<span style=\"color:cyan\"> |-values: [256]</span>"
            ],
            "text/plain": [
              "<IPython.core.display.HTML object>"
            ]
          },
          "metadata": {
            "tags": []
          }
        },
        {
          "output_type": "display_data",
          "data": {
            "text/html": [
              "<span style=\"color:#7E57C2\"><h2 style=\"font-size:16px\">hidden_layers (Choice)</h2></span>"
            ],
            "text/plain": [
              "<IPython.core.display.HTML object>"
            ]
          },
          "metadata": {
            "tags": []
          }
        },
        {
          "output_type": "display_data",
          "data": {
            "text/html": [
              "<span style=\"color:cyan\"> |-default: 1</span>"
            ],
            "text/plain": [
              "<IPython.core.display.HTML object>"
            ]
          },
          "metadata": {
            "tags": []
          }
        },
        {
          "output_type": "display_data",
          "data": {
            "text/html": [
              "<span style=\"color:blue\"> |-ordered: True</span>"
            ],
            "text/plain": [
              "<IPython.core.display.HTML object>"
            ]
          },
          "metadata": {
            "tags": []
          }
        },
        {
          "output_type": "display_data",
          "data": {
            "text/html": [
              "<span style=\"color:cyan\"> |-values: [1, 2]</span>"
            ],
            "text/plain": [
              "<IPython.core.display.HTML object>"
            ]
          },
          "metadata": {
            "tags": []
          }
        },
        {
          "output_type": "display_data",
          "data": {
            "text/html": [
              "<span style=\"color:#7E57C2\"><h2 style=\"font-size:16px\">hidden_activation (Choice)</h2></span>"
            ],
            "text/plain": [
              "<IPython.core.display.HTML object>"
            ]
          },
          "metadata": {
            "tags": []
          }
        },
        {
          "output_type": "display_data",
          "data": {
            "text/html": [
              "<span style=\"color:cyan\"> |-default: relu</span>"
            ],
            "text/plain": [
              "<IPython.core.display.HTML object>"
            ]
          },
          "metadata": {
            "tags": []
          }
        },
        {
          "output_type": "display_data",
          "data": {
            "text/html": [
              "<span style=\"color:blue\"> |-ordered: False</span>"
            ],
            "text/plain": [
              "<IPython.core.display.HTML object>"
            ]
          },
          "metadata": {
            "tags": []
          }
        },
        {
          "output_type": "display_data",
          "data": {
            "text/html": [
              "<span style=\"color:cyan\"> |-values: ['relu']</span>"
            ],
            "text/plain": [
              "<IPython.core.display.HTML object>"
            ]
          },
          "metadata": {
            "tags": []
          }
        },
        {
          "output_type": "display_data",
          "data": {
            "text/html": [
              "<span style=\"color:#7E57C2\"><h2 style=\"font-size:16px\">dropout (Choice)</h2></span>"
            ],
            "text/plain": [
              "<IPython.core.display.HTML object>"
            ]
          },
          "metadata": {
            "tags": []
          }
        },
        {
          "output_type": "display_data",
          "data": {
            "text/html": [
              "<span style=\"color:cyan\"> |-default: 0.2</span>"
            ],
            "text/plain": [
              "<IPython.core.display.HTML object>"
            ]
          },
          "metadata": {
            "tags": []
          }
        },
        {
          "output_type": "display_data",
          "data": {
            "text/html": [
              "<span style=\"color:blue\"> |-ordered: True</span>"
            ],
            "text/plain": [
              "<IPython.core.display.HTML object>"
            ]
          },
          "metadata": {
            "tags": []
          }
        },
        {
          "output_type": "display_data",
          "data": {
            "text/html": [
              "<span style=\"color:cyan\"> |-values: [0.2]</span>"
            ],
            "text/plain": [
              "<IPython.core.display.HTML object>"
            ]
          },
          "metadata": {
            "tags": []
          }
        },
        {
          "output_type": "display_data",
          "data": {
            "text/html": [
              "<span style=\"color:#7E57C2\"><h2 style=\"font-size:16px\">lr (Float)</h2></span>"
            ],
            "text/plain": [
              "<IPython.core.display.HTML object>"
            ]
          },
          "metadata": {
            "tags": []
          }
        },
        {
          "output_type": "display_data",
          "data": {
            "text/html": [
              "<span style=\"color:cyan\"> |-default: 0.001</span>"
            ],
            "text/plain": [
              "<IPython.core.display.HTML object>"
            ]
          },
          "metadata": {
            "tags": []
          }
        },
        {
          "output_type": "display_data",
          "data": {
            "text/html": [
              "<span style=\"color:blue\"> |-max_value: 0.01</span>"
            ],
            "text/plain": [
              "<IPython.core.display.HTML object>"
            ]
          },
          "metadata": {
            "tags": []
          }
        },
        {
          "output_type": "display_data",
          "data": {
            "text/html": [
              "<span style=\"color:cyan\"> |-min_value: 0.0001</span>"
            ],
            "text/plain": [
              "<IPython.core.display.HTML object>"
            ]
          },
          "metadata": {
            "tags": []
          }
        },
        {
          "output_type": "display_data",
          "data": {
            "text/html": [
              "<span style=\"color:blue\"> |-sampling: log</span>"
            ],
            "text/plain": [
              "<IPython.core.display.HTML object>"
            ]
          },
          "metadata": {
            "tags": []
          }
        },
        {
          "output_type": "display_data",
          "data": {
            "text/html": [
              "<span style=\"color:cyan\"> |-step: None</span>"
            ],
            "text/plain": [
              "<IPython.core.display.HTML object>"
            ]
          },
          "metadata": {
            "tags": []
          }
        }
      ]
    },
    {
      "cell_type": "code",
      "metadata": {
        "id": "tkvbRkVYIGT-",
        "colab_type": "code",
        "colab": {
          "base_uri": "https://localhost:8080/",
          "height": 1000
        },
        "outputId": "b79deadc-8027-46be-d074-0cf732e43754"
      },
      "source": [
        "tuner_sgd.search(X_train,\n",
        "             y_train,\n",
        "             validation_split=0.1,\n",
        "             epochs=100,\n",
        "             callbacks=[tf.keras.callbacks.EarlyStopping(monitor='val_accuracy',\n",
        "                                   patience=5,\n",
        "                                   verbose=1,\n",
        "                                   restore_best_weights=True)])"
      ],
      "execution_count": null,
      "outputs": [
        {
          "output_type": "stream",
          "text": [
            "Epoch 1/100\n",
            "1688/1688 [==============================] - 5s 3ms/step - loss: 0.7977 - accuracy: 0.7349 - val_loss: 0.5414 - val_accuracy: 0.8177\n",
            "Epoch 2/100\n",
            "1688/1688 [==============================] - 5s 3ms/step - loss: 0.5259 - accuracy: 0.8204 - val_loss: 0.4732 - val_accuracy: 0.8333\n",
            "Epoch 3/100\n",
            "1688/1688 [==============================] - 5s 3ms/step - loss: 0.4717 - accuracy: 0.8377 - val_loss: 0.4340 - val_accuracy: 0.8417\n",
            "Epoch 4/100\n",
            "1688/1688 [==============================] - 5s 3ms/step - loss: 0.4399 - accuracy: 0.8473 - val_loss: 0.4230 - val_accuracy: 0.8460\n",
            "Epoch 5/100\n",
            "1688/1688 [==============================] - 5s 3ms/step - loss: 0.4182 - accuracy: 0.8541 - val_loss: 0.4040 - val_accuracy: 0.8535\n",
            "Epoch 6/100\n",
            "1688/1688 [==============================] - 5s 3ms/step - loss: 0.3993 - accuracy: 0.8606 - val_loss: 0.3829 - val_accuracy: 0.8592\n",
            "Epoch 7/100\n",
            "1688/1688 [==============================] - 5s 3ms/step - loss: 0.3858 - accuracy: 0.8641 - val_loss: 0.3930 - val_accuracy: 0.8608\n",
            "Epoch 8/100\n",
            "1688/1688 [==============================] - 5s 3ms/step - loss: 0.3739 - accuracy: 0.8664 - val_loss: 0.3743 - val_accuracy: 0.8638\n",
            "Epoch 9/100\n",
            "1688/1688 [==============================] - 5s 3ms/step - loss: 0.3654 - accuracy: 0.8715 - val_loss: 0.3708 - val_accuracy: 0.8627\n",
            "Epoch 10/100\n",
            "1688/1688 [==============================] - 5s 3ms/step - loss: 0.3561 - accuracy: 0.8746 - val_loss: 0.3586 - val_accuracy: 0.8723\n",
            "Epoch 11/100\n",
            "1688/1688 [==============================] - 5s 3ms/step - loss: 0.3483 - accuracy: 0.8772 - val_loss: 0.3608 - val_accuracy: 0.8687\n",
            "Epoch 12/100\n",
            "1688/1688 [==============================] - 5s 3ms/step - loss: 0.3410 - accuracy: 0.8784 - val_loss: 0.3512 - val_accuracy: 0.8707\n",
            "Epoch 13/100\n",
            "1688/1688 [==============================] - 5s 3ms/step - loss: 0.3341 - accuracy: 0.8820 - val_loss: 0.3457 - val_accuracy: 0.8742\n",
            "Epoch 14/100\n",
            "1688/1688 [==============================] - 5s 3ms/step - loss: 0.3288 - accuracy: 0.8834 - val_loss: 0.3369 - val_accuracy: 0.8765\n",
            "Epoch 15/100\n",
            "1688/1688 [==============================] - 5s 3ms/step - loss: 0.3229 - accuracy: 0.8854 - val_loss: 0.3351 - val_accuracy: 0.8765\n",
            "Epoch 16/100\n",
            "1688/1688 [==============================] - 5s 3ms/step - loss: 0.3178 - accuracy: 0.8865 - val_loss: 0.3306 - val_accuracy: 0.8798\n",
            "Epoch 17/100\n",
            "1688/1688 [==============================] - 5s 3ms/step - loss: 0.3127 - accuracy: 0.8880 - val_loss: 0.3315 - val_accuracy: 0.8775\n",
            "Epoch 18/100\n",
            "1688/1688 [==============================] - 5s 3ms/step - loss: 0.3077 - accuracy: 0.8898 - val_loss: 0.3255 - val_accuracy: 0.8837\n",
            "Epoch 19/100\n",
            "1688/1688 [==============================] - 5s 3ms/step - loss: 0.3019 - accuracy: 0.8930 - val_loss: 0.3253 - val_accuracy: 0.8780\n",
            "Epoch 20/100\n",
            "1688/1688 [==============================] - 5s 3ms/step - loss: 0.2987 - accuracy: 0.8932 - val_loss: 0.3212 - val_accuracy: 0.8815\n",
            "Epoch 21/100\n",
            "1688/1688 [==============================] - 5s 3ms/step - loss: 0.2947 - accuracy: 0.8941 - val_loss: 0.3191 - val_accuracy: 0.8827\n",
            "Epoch 22/100\n",
            "1688/1688 [==============================] - 5s 3ms/step - loss: 0.2905 - accuracy: 0.8957 - val_loss: 0.3172 - val_accuracy: 0.8848\n",
            "Epoch 23/100\n",
            "1688/1688 [==============================] - 5s 3ms/step - loss: 0.2869 - accuracy: 0.8972 - val_loss: 0.3187 - val_accuracy: 0.8828\n",
            "Epoch 24/100\n",
            "1688/1688 [==============================] - 5s 3ms/step - loss: 0.2808 - accuracy: 0.8997 - val_loss: 0.3267 - val_accuracy: 0.8800\n",
            "Epoch 25/100\n",
            "1688/1688 [==============================] - 5s 3ms/step - loss: 0.2799 - accuracy: 0.8998 - val_loss: 0.3152 - val_accuracy: 0.8848\n",
            "Epoch 26/100\n",
            "1688/1688 [==============================] - 5s 3ms/step - loss: 0.2761 - accuracy: 0.9011 - val_loss: 0.3107 - val_accuracy: 0.8860\n",
            "Epoch 27/100\n",
            "1688/1688 [==============================] - 5s 3ms/step - loss: 0.2713 - accuracy: 0.9022 - val_loss: 0.3093 - val_accuracy: 0.8850\n",
            "Epoch 28/100\n",
            "1688/1688 [==============================] - 5s 3ms/step - loss: 0.2691 - accuracy: 0.9040 - val_loss: 0.3069 - val_accuracy: 0.8865\n",
            "Epoch 29/100\n",
            "1688/1688 [==============================] - 5s 3ms/step - loss: 0.2659 - accuracy: 0.9034 - val_loss: 0.3093 - val_accuracy: 0.8882\n",
            "Epoch 30/100\n",
            "1688/1688 [==============================] - 5s 3ms/step - loss: 0.2628 - accuracy: 0.9050 - val_loss: 0.3062 - val_accuracy: 0.8873\n",
            "Epoch 31/100\n",
            "1688/1688 [==============================] - 5s 3ms/step - loss: 0.2600 - accuracy: 0.9066 - val_loss: 0.3070 - val_accuracy: 0.8867\n",
            "Epoch 32/100\n",
            "1688/1688 [==============================] - 5s 3ms/step - loss: 0.2580 - accuracy: 0.9058 - val_loss: 0.3025 - val_accuracy: 0.8887\n",
            "Epoch 33/100\n",
            "1688/1688 [==============================] - 5s 3ms/step - loss: 0.2539 - accuracy: 0.9086 - val_loss: 0.2998 - val_accuracy: 0.8898\n",
            "Epoch 34/100\n",
            "1688/1688 [==============================] - 5s 3ms/step - loss: 0.2521 - accuracy: 0.9093 - val_loss: 0.2997 - val_accuracy: 0.8887\n",
            "Epoch 35/100\n",
            "1688/1688 [==============================] - 5s 3ms/step - loss: 0.2492 - accuracy: 0.9102 - val_loss: 0.3052 - val_accuracy: 0.8885\n",
            "Epoch 36/100\n",
            "1688/1688 [==============================] - 5s 3ms/step - loss: 0.2453 - accuracy: 0.9125 - val_loss: 0.3020 - val_accuracy: 0.8903\n",
            "Epoch 37/100\n",
            "1688/1688 [==============================] - 5s 3ms/step - loss: 0.2443 - accuracy: 0.9103 - val_loss: 0.2971 - val_accuracy: 0.8910\n",
            "Epoch 38/100\n",
            "1688/1688 [==============================] - 5s 3ms/step - loss: 0.2407 - accuracy: 0.9136 - val_loss: 0.3032 - val_accuracy: 0.8902\n",
            "Epoch 39/100\n",
            "1688/1688 [==============================] - 5s 3ms/step - loss: 0.2393 - accuracy: 0.9139 - val_loss: 0.2913 - val_accuracy: 0.8945\n",
            "Epoch 40/100\n",
            "1688/1688 [==============================] - 5s 3ms/step - loss: 0.2372 - accuracy: 0.9139 - val_loss: 0.2990 - val_accuracy: 0.8903\n",
            "Epoch 41/100\n",
            "1688/1688 [==============================] - 5s 3ms/step - loss: 0.2345 - accuracy: 0.9147 - val_loss: 0.3053 - val_accuracy: 0.8907\n",
            "Epoch 42/100\n",
            "1688/1688 [==============================] - 5s 3ms/step - loss: 0.2312 - accuracy: 0.9164 - val_loss: 0.2947 - val_accuracy: 0.8922\n",
            "Epoch 43/100\n",
            "1688/1688 [==============================] - 5s 3ms/step - loss: 0.2283 - accuracy: 0.9182 - val_loss: 0.3018 - val_accuracy: 0.8895\n",
            "Epoch 44/100\n",
            "1684/1688 [============================>.] - ETA: 0s - loss: 0.2269 - accuracy: 0.9183Restoring model weights from the end of the best epoch.\n",
            "1688/1688 [==============================] - 5s 3ms/step - loss: 0.2270 - accuracy: 0.9183 - val_loss: 0.3025 - val_accuracy: 0.8883\n",
            "Epoch 00044: early stopping\n"
          ],
          "name": "stdout"
        },
        {
          "output_type": "display_data",
          "data": {
            "text/html": [
              "<span style=\"color:#4527A0\"><h1 style=\"font-size:18px\">Trial complete</h1></span>"
            ],
            "text/plain": [
              "<IPython.core.display.HTML object>"
            ]
          },
          "metadata": {
            "tags": []
          }
        },
        {
          "output_type": "display_data",
          "data": {
            "text/html": [
              "<span style=\"color:#4527A0\"><h1 style=\"font-size:18px\">Trial summary</h1></span>"
            ],
            "text/plain": [
              "<IPython.core.display.HTML object>"
            ]
          },
          "metadata": {
            "tags": []
          }
        },
        {
          "output_type": "display_data",
          "data": {
            "text/html": [
              "<span style=\"color:cyan\"> |-Trial ID: 207e4054a32659063f38fdcb798fecea</span>"
            ],
            "text/plain": [
              "<IPython.core.display.HTML object>"
            ]
          },
          "metadata": {
            "tags": []
          }
        },
        {
          "output_type": "display_data",
          "data": {
            "text/html": [
              "<span style=\"color:cyan\"> |-Score: 0.8945000171661377</span>"
            ],
            "text/plain": [
              "<IPython.core.display.HTML object>"
            ]
          },
          "metadata": {
            "tags": []
          }
        },
        {
          "output_type": "display_data",
          "data": {
            "text/html": [
              "<span style=\"color:cyan\"> |-Best step: 0</span>"
            ],
            "text/plain": [
              "<IPython.core.display.HTML object>"
            ]
          },
          "metadata": {
            "tags": []
          }
        },
        {
          "output_type": "display_data",
          "data": {
            "text/html": [
              "<span style=\"color:#7E57C2\"><h2 style=\"font-size:16px\">Hyperparameters:</h2></span>"
            ],
            "text/plain": [
              "<IPython.core.display.HTML object>"
            ]
          },
          "metadata": {
            "tags": []
          }
        },
        {
          "output_type": "display_data",
          "data": {
            "text/html": [
              "<span style=\"color:cyan\"> |-dropout: 0.2</span>"
            ],
            "text/plain": [
              "<IPython.core.display.HTML object>"
            ]
          },
          "metadata": {
            "tags": []
          }
        },
        {
          "output_type": "display_data",
          "data": {
            "text/html": [
              "<span style=\"color:blue\"> |-hidden_activation: relu</span>"
            ],
            "text/plain": [
              "<IPython.core.display.HTML object>"
            ]
          },
          "metadata": {
            "tags": []
          }
        },
        {
          "output_type": "display_data",
          "data": {
            "text/html": [
              "<span style=\"color:cyan\"> |-hidden_layers: 1</span>"
            ],
            "text/plain": [
              "<IPython.core.display.HTML object>"
            ]
          },
          "metadata": {
            "tags": []
          }
        },
        {
          "output_type": "display_data",
          "data": {
            "text/html": [
              "<span style=\"color:blue\"> |-hidden_units: 256</span>"
            ],
            "text/plain": [
              "<IPython.core.display.HTML object>"
            ]
          },
          "metadata": {
            "tags": []
          }
        },
        {
          "output_type": "display_data",
          "data": {
            "text/html": [
              "<span style=\"color:cyan\"> |-lr: 0.0017611785596585996</span>"
            ],
            "text/plain": [
              "<IPython.core.display.HTML object>"
            ]
          },
          "metadata": {
            "tags": []
          }
        },
        {
          "output_type": "stream",
          "text": [
            "INFO:tensorflow:Oracle triggered exit\n"
          ],
          "name": "stdout"
        }
      ]
    },
    {
      "cell_type": "code",
      "metadata": {
        "id": "c3juukNcKMEK",
        "colab_type": "code",
        "colab": {
          "base_uri": "https://localhost:8080/",
          "height": 104
        },
        "outputId": "be76d9b6-c4da-4c1f-c4aa-0f136fb64be8"
      },
      "source": [
        "best_params_mlp_sgd=tuner_sgd.get_best_hyperparameters()[0].values\n",
        "best_params_mlp_sgd"
      ],
      "execution_count": null,
      "outputs": [
        {
          "output_type": "execute_result",
          "data": {
            "text/plain": [
              "{'dropout': 0.2,\n",
              " 'hidden_activation': 'relu',\n",
              " 'hidden_layers': 1,\n",
              " 'hidden_units': 256,\n",
              " 'lr': 0.0017611785596585996}"
            ]
          },
          "metadata": {
            "tags": []
          },
          "execution_count": 186
        }
      ]
    },
    {
      "cell_type": "markdown",
      "metadata": {
        "id": "8m_i-PwUHcB7",
        "colab_type": "text"
      },
      "source": [
        "### Train Model for the best Hyperparameters using Adam optimizer\n",
        "\n",
        "\n"
      ]
    },
    {
      "cell_type": "code",
      "metadata": {
        "id": "utwY8ZWkRP9A",
        "colab_type": "code",
        "colab": {
          "base_uri": "https://localhost:8080/",
          "height": 1000
        },
        "outputId": "570b2964-880c-4ce7-bfc9-67ed6fff76f1"
      },
      "source": [
        "tuned_mlp_model,tuned_hs=train_model(\n",
        "    train_data=X_train,\n",
        "    train_labels=y_train,\n",
        "    optimizer=Adam,\n",
        "    model_params=best_params_mlp_adam    \n",
        ")"
      ],
      "execution_count": null,
      "outputs": [
        {
          "output_type": "stream",
          "text": [
            "------------------\n",
            "Model: \"model_1\"\n",
            "_________________________________________________________________\n",
            "Layer (type)                 Output Shape              Param #   \n",
            "=================================================================\n",
            "Input (InputLayer)           (None, 784)               0         \n",
            "_________________________________________________________________\n",
            "Hidden-1 (Dense)             (None, 256)               200960    \n",
            "_________________________________________________________________\n",
            "Dropout-1 (Dropout)          (None, 256)               0         \n",
            "_________________________________________________________________\n",
            "Output (Dense)               (None, 10)                2570      \n",
            "=================================================================\n",
            "Total params: 203,530\n",
            "Trainable params: 203,530\n",
            "Non-trainable params: 0\n",
            "_________________________________________________________________\n",
            "Train on 54000 samples, validate on 6000 samples\n",
            "Epoch 1/100\n",
            "54000/54000 [==============================] - 2s 31us/step - loss: 0.8154 - accuracy: 0.7354 - val_loss: 0.5343 - val_accuracy: 0.8165\n",
            "Epoch 2/100\n",
            "54000/54000 [==============================] - 2s 30us/step - loss: 0.5139 - accuracy: 0.8236 - val_loss: 0.4604 - val_accuracy: 0.8338\n",
            "Epoch 3/100\n",
            "54000/54000 [==============================] - 2s 30us/step - loss: 0.4543 - accuracy: 0.8429 - val_loss: 0.4238 - val_accuracy: 0.8497\n",
            "Epoch 4/100\n",
            "54000/54000 [==============================] - 2s 28us/step - loss: 0.4210 - accuracy: 0.8536 - val_loss: 0.3998 - val_accuracy: 0.8585\n",
            "Epoch 5/100\n",
            "54000/54000 [==============================] - 1s 27us/step - loss: 0.3978 - accuracy: 0.8602 - val_loss: 0.3895 - val_accuracy: 0.8575\n",
            "Epoch 6/100\n",
            "54000/54000 [==============================] - 1s 26us/step - loss: 0.3801 - accuracy: 0.8679 - val_loss: 0.3704 - val_accuracy: 0.8660\n",
            "Epoch 7/100\n",
            "54000/54000 [==============================] - 1s 27us/step - loss: 0.3644 - accuracy: 0.8711 - val_loss: 0.3627 - val_accuracy: 0.8690\n",
            "Epoch 8/100\n",
            "54000/54000 [==============================] - 1s 27us/step - loss: 0.3520 - accuracy: 0.8748 - val_loss: 0.3571 - val_accuracy: 0.8695\n",
            "Epoch 9/100\n",
            "54000/54000 [==============================] - 1s 27us/step - loss: 0.3409 - accuracy: 0.8778 - val_loss: 0.3514 - val_accuracy: 0.8700\n",
            "Epoch 10/100\n",
            "54000/54000 [==============================] - 1s 28us/step - loss: 0.3314 - accuracy: 0.8814 - val_loss: 0.3395 - val_accuracy: 0.8762\n",
            "Epoch 11/100\n",
            "54000/54000 [==============================] - 1s 26us/step - loss: 0.3238 - accuracy: 0.8843 - val_loss: 0.3374 - val_accuracy: 0.8798\n",
            "Epoch 12/100\n",
            "54000/54000 [==============================] - 1s 27us/step - loss: 0.3166 - accuracy: 0.8870 - val_loss: 0.3335 - val_accuracy: 0.8777\n",
            "Epoch 13/100\n",
            "54000/54000 [==============================] - 1s 27us/step - loss: 0.3071 - accuracy: 0.8889 - val_loss: 0.3266 - val_accuracy: 0.8828\n",
            "Epoch 14/100\n",
            "54000/54000 [==============================] - 1s 27us/step - loss: 0.3025 - accuracy: 0.8911 - val_loss: 0.3259 - val_accuracy: 0.8815\n",
            "Epoch 15/100\n",
            "54000/54000 [==============================] - 1s 27us/step - loss: 0.2951 - accuracy: 0.8944 - val_loss: 0.3203 - val_accuracy: 0.8818\n",
            "Epoch 16/100\n",
            "54000/54000 [==============================] - 1s 27us/step - loss: 0.2905 - accuracy: 0.8952 - val_loss: 0.3186 - val_accuracy: 0.8852\n",
            "Epoch 17/100\n",
            "54000/54000 [==============================] - 1s 27us/step - loss: 0.2839 - accuracy: 0.8969 - val_loss: 0.3119 - val_accuracy: 0.8860\n",
            "Epoch 18/100\n",
            "54000/54000 [==============================] - 1s 27us/step - loss: 0.2786 - accuracy: 0.8994 - val_loss: 0.3153 - val_accuracy: 0.8835\n",
            "Epoch 19/100\n",
            "54000/54000 [==============================] - 1s 27us/step - loss: 0.2732 - accuracy: 0.9028 - val_loss: 0.3155 - val_accuracy: 0.8838\n",
            "Epoch 20/100\n",
            "54000/54000 [==============================] - 1s 27us/step - loss: 0.2684 - accuracy: 0.9024 - val_loss: 0.3088 - val_accuracy: 0.8875\n",
            "Epoch 21/100\n",
            "54000/54000 [==============================] - 1s 27us/step - loss: 0.2660 - accuracy: 0.9050 - val_loss: 0.3018 - val_accuracy: 0.8878\n",
            "Epoch 22/100\n",
            "54000/54000 [==============================] - 1s 27us/step - loss: 0.2607 - accuracy: 0.9061 - val_loss: 0.3021 - val_accuracy: 0.8875\n",
            "Epoch 23/100\n",
            "54000/54000 [==============================] - 1s 27us/step - loss: 0.2560 - accuracy: 0.9081 - val_loss: 0.3003 - val_accuracy: 0.8882\n",
            "Epoch 24/100\n",
            "54000/54000 [==============================] - 1s 27us/step - loss: 0.2515 - accuracy: 0.9089 - val_loss: 0.3054 - val_accuracy: 0.8880\n",
            "Epoch 25/100\n",
            "54000/54000 [==============================] - 1s 27us/step - loss: 0.2478 - accuracy: 0.9104 - val_loss: 0.2989 - val_accuracy: 0.8907\n",
            "Epoch 26/100\n",
            "54000/54000 [==============================] - 1s 27us/step - loss: 0.2437 - accuracy: 0.9117 - val_loss: 0.2974 - val_accuracy: 0.8897\n",
            "Epoch 27/100\n",
            "54000/54000 [==============================] - 1s 27us/step - loss: 0.2416 - accuracy: 0.9123 - val_loss: 0.3054 - val_accuracy: 0.8877\n",
            "Epoch 28/100\n",
            "54000/54000 [==============================] - 1s 28us/step - loss: 0.2385 - accuracy: 0.9134 - val_loss: 0.3101 - val_accuracy: 0.8852\n",
            "Epoch 29/100\n",
            "54000/54000 [==============================] - 1s 27us/step - loss: 0.2341 - accuracy: 0.9156 - val_loss: 0.2962 - val_accuracy: 0.8915\n",
            "Epoch 30/100\n",
            "54000/54000 [==============================] - 1s 27us/step - loss: 0.2324 - accuracy: 0.9152 - val_loss: 0.2938 - val_accuracy: 0.8898\n",
            "Epoch 31/100\n",
            "54000/54000 [==============================] - 2s 28us/step - loss: 0.2275 - accuracy: 0.9171 - val_loss: 0.2977 - val_accuracy: 0.8923\n",
            "Epoch 32/100\n",
            "54000/54000 [==============================] - 1s 27us/step - loss: 0.2229 - accuracy: 0.9197 - val_loss: 0.2940 - val_accuracy: 0.8907\n",
            "Epoch 33/100\n",
            "54000/54000 [==============================] - 1s 27us/step - loss: 0.2196 - accuracy: 0.9211 - val_loss: 0.2950 - val_accuracy: 0.8953\n",
            "Epoch 34/100\n",
            "54000/54000 [==============================] - 1s 27us/step - loss: 0.2177 - accuracy: 0.9213 - val_loss: 0.2908 - val_accuracy: 0.8925\n",
            "Epoch 35/100\n",
            "54000/54000 [==============================] - 1s 27us/step - loss: 0.2148 - accuracy: 0.9223 - val_loss: 0.2906 - val_accuracy: 0.8943\n",
            "Epoch 36/100\n",
            "54000/54000 [==============================] - 1s 27us/step - loss: 0.2133 - accuracy: 0.9226 - val_loss: 0.2911 - val_accuracy: 0.8930\n",
            "Epoch 37/100\n",
            "54000/54000 [==============================] - 1s 27us/step - loss: 0.2100 - accuracy: 0.9246 - val_loss: 0.2920 - val_accuracy: 0.8938\n",
            "Epoch 38/100\n",
            "54000/54000 [==============================] - 1s 28us/step - loss: 0.2072 - accuracy: 0.9255 - val_loss: 0.2938 - val_accuracy: 0.8953\n",
            "Epoch 39/100\n",
            "54000/54000 [==============================] - 1s 27us/step - loss: 0.2030 - accuracy: 0.9271 - val_loss: 0.2942 - val_accuracy: 0.8938\n",
            "Epoch 40/100\n",
            "54000/54000 [==============================] - 1s 27us/step - loss: 0.2011 - accuracy: 0.9277 - val_loss: 0.2923 - val_accuracy: 0.8958\n",
            "Epoch 41/100\n",
            "54000/54000 [==============================] - 1s 27us/step - loss: 0.1979 - accuracy: 0.9282 - val_loss: 0.2956 - val_accuracy: 0.8928\n",
            "Epoch 42/100\n",
            "54000/54000 [==============================] - 1s 27us/step - loss: 0.1961 - accuracy: 0.9295 - val_loss: 0.2911 - val_accuracy: 0.8957\n",
            "Epoch 43/100\n",
            "54000/54000 [==============================] - 1s 27us/step - loss: 0.1940 - accuracy: 0.9307 - val_loss: 0.2937 - val_accuracy: 0.8920\n",
            "Epoch 44/100\n",
            "54000/54000 [==============================] - 2s 28us/step - loss: 0.1920 - accuracy: 0.9301 - val_loss: 0.2935 - val_accuracy: 0.8970\n",
            "Epoch 45/100\n",
            "54000/54000 [==============================] - 1s 28us/step - loss: 0.1886 - accuracy: 0.9311 - val_loss: 0.2943 - val_accuracy: 0.8933\n",
            "Epoch 46/100\n",
            "54000/54000 [==============================] - 2s 28us/step - loss: 0.1871 - accuracy: 0.9328 - val_loss: 0.2872 - val_accuracy: 0.8980\n",
            "Epoch 47/100\n",
            "54000/54000 [==============================] - 1s 27us/step - loss: 0.1825 - accuracy: 0.9347 - val_loss: 0.2860 - val_accuracy: 0.8987\n",
            "Epoch 48/100\n",
            "54000/54000 [==============================] - 2s 28us/step - loss: 0.1822 - accuracy: 0.9342 - val_loss: 0.2924 - val_accuracy: 0.8967\n",
            "Epoch 49/100\n",
            "54000/54000 [==============================] - 1s 27us/step - loss: 0.1789 - accuracy: 0.9359 - val_loss: 0.2885 - val_accuracy: 0.8998\n",
            "Epoch 50/100\n",
            "54000/54000 [==============================] - 1s 27us/step - loss: 0.1772 - accuracy: 0.9369 - val_loss: 0.2915 - val_accuracy: 0.8988\n",
            "Epoch 51/100\n",
            "54000/54000 [==============================] - 1s 28us/step - loss: 0.1755 - accuracy: 0.9368 - val_loss: 0.2862 - val_accuracy: 0.8978\n",
            "Epoch 52/100\n",
            "54000/54000 [==============================] - 1s 28us/step - loss: 0.1726 - accuracy: 0.9377 - val_loss: 0.2933 - val_accuracy: 0.9002\n",
            "Epoch 53/100\n",
            "54000/54000 [==============================] - 1s 27us/step - loss: 0.1711 - accuracy: 0.9395 - val_loss: 0.2958 - val_accuracy: 0.8972\n",
            "Epoch 54/100\n",
            "54000/54000 [==============================] - 1s 27us/step - loss: 0.1697 - accuracy: 0.9383 - val_loss: 0.2888 - val_accuracy: 0.8972\n",
            "Epoch 55/100\n",
            "54000/54000 [==============================] - 1s 27us/step - loss: 0.1687 - accuracy: 0.9403 - val_loss: 0.2929 - val_accuracy: 0.8962\n",
            "Epoch 56/100\n",
            "54000/54000 [==============================] - 1s 27us/step - loss: 0.1654 - accuracy: 0.9404 - val_loss: 0.2912 - val_accuracy: 0.8987\n",
            "Epoch 57/100\n",
            "54000/54000 [==============================] - 1s 27us/step - loss: 0.1622 - accuracy: 0.9413 - val_loss: 0.2992 - val_accuracy: 0.8942\n",
            "Epoch 58/100\n",
            "54000/54000 [==============================] - 1s 27us/step - loss: 0.1608 - accuracy: 0.9418 - val_loss: 0.2961 - val_accuracy: 0.8965\n",
            "Epoch 59/100\n",
            "54000/54000 [==============================] - 1s 27us/step - loss: 0.1607 - accuracy: 0.9424 - val_loss: 0.2931 - val_accuracy: 0.8977\n",
            "Epoch 60/100\n",
            "54000/54000 [==============================] - 1s 27us/step - loss: 0.1585 - accuracy: 0.9428 - val_loss: 0.2948 - val_accuracy: 0.8988\n",
            "Epoch 61/100\n",
            "54000/54000 [==============================] - 1s 27us/step - loss: 0.1564 - accuracy: 0.9438 - val_loss: 0.2995 - val_accuracy: 0.8962\n",
            "Epoch 62/100\n",
            "54000/54000 [==============================] - 1s 28us/step - loss: 0.1559 - accuracy: 0.9436 - val_loss: 0.2958 - val_accuracy: 0.8993\n",
            "Restoring model weights from the end of the best epoch\n",
            "Epoch 00062: early stopping\n",
            "Finished training.\n",
            "------------------\n"
          ],
          "name": "stdout"
        }
      ]
    },
    {
      "cell_type": "code",
      "metadata": {
        "id": "9x6LLk8JBqi1",
        "colab_type": "code",
        "colab": {
          "base_uri": "https://localhost:8080/",
          "height": 52
        },
        "outputId": "fe29329a-c418-4456-dfab-a39170b8f477"
      },
      "source": [
        "# Find the scores from the epochs according to Early stopping\n",
        "best_epoch = np.argmax(tuned_hs.history['val_accuracy'])\n",
        "print('Best epoch=',best_epoch)\n",
        "print('Best val_accuracy=',np.max(tuned_hs.history['val_accuracy']))"
      ],
      "execution_count": null,
      "outputs": [
        {
          "output_type": "stream",
          "text": [
            "Best epoch= 52\n",
            "Best val_accuracy= 0.9001666903495789\n"
          ],
          "name": "stdout"
        }
      ]
    },
    {
      "cell_type": "code",
      "metadata": {
        "colab_type": "code",
        "id": "7BWEVG8BWIjs",
        "colab": {
          "base_uri": "https://localhost:8080/",
          "height": 173
        },
        "outputId": "518c9ac7-e4a3-4dce-fa68-9ebc2b0d3ac1"
      },
      "source": [
        "print('Fine Tuned MLP with Adam \\n -----------')\n",
        "print_results(tuned_hs,tuned_mlp_model,best_epoch=best_epoch-1)"
      ],
      "execution_count": null,
      "outputs": [
        {
          "output_type": "stream",
          "text": [
            "Fine Tuned MLP with Adam \n",
            " -----------\n",
            "Train Loss     : 0.17255\n",
            "Validation Loss: 0.29326\n",
            "Test Loss: 0.31750\n",
            "-------\n",
            "Train Accuracy     : 0.93769\n",
            "Validation Accuracy: 0.90017\n",
            "Test Accuracy: 0.89180\n"
          ],
          "name": "stdout"
        }
      ]
    },
    {
      "cell_type": "markdown",
      "metadata": {
        "id": "A6inMyhG6ih7",
        "colab_type": "text"
      },
      "source": [
        "### Train Model for the best Hyperparameters using SGD optimizer\n"
      ]
    },
    {
      "cell_type": "code",
      "metadata": {
        "id": "atsURTNu6eAA",
        "colab_type": "code",
        "colab": {
          "base_uri": "https://localhost:8080/",
          "height": 1000
        },
        "outputId": "4ef53498-4df9-4181-d42d-bbe885b1bb13"
      },
      "source": [
        "tuned_mlp_model_sgd,tuned_mlp_sgd_hs=train_model(\n",
        "    train_data=X_train,\n",
        "    train_labels=y_train,\n",
        "    optimizer=SGD,\n",
        "    epochs=100,\n",
        "    batch_size=128,\n",
        "    model_params=best_params_mlp_sgd\n",
        ")"
      ],
      "execution_count": null,
      "outputs": [
        {
          "output_type": "stream",
          "text": [
            "------------------\n",
            "Model: \"model_2\"\n",
            "_________________________________________________________________\n",
            "Layer (type)                 Output Shape              Param #   \n",
            "=================================================================\n",
            "Input (InputLayer)           (None, 784)               0         \n",
            "_________________________________________________________________\n",
            "Hidden-1 (Dense)             (None, 256)               200960    \n",
            "_________________________________________________________________\n",
            "Dropout-1 (Dropout)          (None, 256)               0         \n",
            "_________________________________________________________________\n",
            "Output (Dense)               (None, 10)                2570      \n",
            "=================================================================\n",
            "Total params: 203,530\n",
            "Trainable params: 203,530\n",
            "Non-trainable params: 0\n",
            "_________________________________________________________________\n",
            "Train on 54000 samples, validate on 6000 samples\n",
            "Epoch 1/100\n",
            "54000/54000 [==============================] - 1s 26us/step - loss: 1.2076 - accuracy: 0.6245 - val_loss: 0.7667 - val_accuracy: 0.7432\n",
            "Epoch 2/100\n",
            "54000/54000 [==============================] - 1s 24us/step - loss: 0.7308 - accuracy: 0.7507 - val_loss: 0.6327 - val_accuracy: 0.7823\n",
            "Epoch 3/100\n",
            "54000/54000 [==============================] - 1s 24us/step - loss: 0.6360 - accuracy: 0.7849 - val_loss: 0.5746 - val_accuracy: 0.8020\n",
            "Epoch 4/100\n",
            "54000/54000 [==============================] - 1s 26us/step - loss: 0.5854 - accuracy: 0.8011 - val_loss: 0.5377 - val_accuracy: 0.8193\n",
            "Epoch 5/100\n",
            "54000/54000 [==============================] - 1s 26us/step - loss: 0.5501 - accuracy: 0.8124 - val_loss: 0.5140 - val_accuracy: 0.8250\n",
            "Epoch 6/100\n",
            "54000/54000 [==============================] - 1s 25us/step - loss: 0.5275 - accuracy: 0.8202 - val_loss: 0.4951 - val_accuracy: 0.8278\n",
            "Epoch 7/100\n",
            "54000/54000 [==============================] - 1s 26us/step - loss: 0.5088 - accuracy: 0.8261 - val_loss: 0.4818 - val_accuracy: 0.8338\n",
            "Epoch 8/100\n",
            "54000/54000 [==============================] - 1s 26us/step - loss: 0.4945 - accuracy: 0.8299 - val_loss: 0.4670 - val_accuracy: 0.8373\n",
            "Epoch 9/100\n",
            "54000/54000 [==============================] - 1s 26us/step - loss: 0.4804 - accuracy: 0.8354 - val_loss: 0.4606 - val_accuracy: 0.8378\n",
            "Epoch 10/100\n",
            "54000/54000 [==============================] - 1s 26us/step - loss: 0.4694 - accuracy: 0.8376 - val_loss: 0.4498 - val_accuracy: 0.8412\n",
            "Epoch 11/100\n",
            "54000/54000 [==============================] - 1s 26us/step - loss: 0.4607 - accuracy: 0.8403 - val_loss: 0.4422 - val_accuracy: 0.8447\n",
            "Epoch 12/100\n",
            "54000/54000 [==============================] - 1s 25us/step - loss: 0.4522 - accuracy: 0.8428 - val_loss: 0.4352 - val_accuracy: 0.8425\n",
            "Epoch 13/100\n",
            "54000/54000 [==============================] - 1s 24us/step - loss: 0.4420 - accuracy: 0.8463 - val_loss: 0.4251 - val_accuracy: 0.8495\n",
            "Epoch 14/100\n",
            "54000/54000 [==============================] - 1s 24us/step - loss: 0.4352 - accuracy: 0.8488 - val_loss: 0.4223 - val_accuracy: 0.8500\n",
            "Epoch 15/100\n",
            "54000/54000 [==============================] - 1s 24us/step - loss: 0.4295 - accuracy: 0.8518 - val_loss: 0.4160 - val_accuracy: 0.8538\n",
            "Epoch 16/100\n",
            "54000/54000 [==============================] - 1s 24us/step - loss: 0.4225 - accuracy: 0.8533 - val_loss: 0.4130 - val_accuracy: 0.8502\n",
            "Epoch 17/100\n",
            "54000/54000 [==============================] - 1s 24us/step - loss: 0.4162 - accuracy: 0.8545 - val_loss: 0.4059 - val_accuracy: 0.8543\n",
            "Epoch 18/100\n",
            "54000/54000 [==============================] - 1s 24us/step - loss: 0.4111 - accuracy: 0.8568 - val_loss: 0.4044 - val_accuracy: 0.8548\n",
            "Epoch 19/100\n",
            "54000/54000 [==============================] - 1s 24us/step - loss: 0.4056 - accuracy: 0.8585 - val_loss: 0.4003 - val_accuracy: 0.8577\n",
            "Epoch 20/100\n",
            "54000/54000 [==============================] - 1s 24us/step - loss: 0.4014 - accuracy: 0.8597 - val_loss: 0.3947 - val_accuracy: 0.8580\n",
            "Epoch 21/100\n",
            "54000/54000 [==============================] - 1s 24us/step - loss: 0.3982 - accuracy: 0.8606 - val_loss: 0.3898 - val_accuracy: 0.8593\n",
            "Epoch 22/100\n",
            "54000/54000 [==============================] - 1s 24us/step - loss: 0.3932 - accuracy: 0.8628 - val_loss: 0.3878 - val_accuracy: 0.8617\n",
            "Epoch 23/100\n",
            "54000/54000 [==============================] - 1s 24us/step - loss: 0.3893 - accuracy: 0.8631 - val_loss: 0.3828 - val_accuracy: 0.8625\n",
            "Epoch 24/100\n",
            "54000/54000 [==============================] - 1s 25us/step - loss: 0.3850 - accuracy: 0.8658 - val_loss: 0.3853 - val_accuracy: 0.8608\n",
            "Epoch 25/100\n",
            "54000/54000 [==============================] - 1s 25us/step - loss: 0.3810 - accuracy: 0.8659 - val_loss: 0.3783 - val_accuracy: 0.8663\n",
            "Epoch 26/100\n",
            "54000/54000 [==============================] - 1s 24us/step - loss: 0.3768 - accuracy: 0.8677 - val_loss: 0.3773 - val_accuracy: 0.8643\n",
            "Epoch 27/100\n",
            "54000/54000 [==============================] - 1s 24us/step - loss: 0.3737 - accuracy: 0.8682 - val_loss: 0.3752 - val_accuracy: 0.8680\n",
            "Epoch 28/100\n",
            "54000/54000 [==============================] - 1s 25us/step - loss: 0.3720 - accuracy: 0.8691 - val_loss: 0.3738 - val_accuracy: 0.8652\n",
            "Epoch 29/100\n",
            "54000/54000 [==============================] - 1s 25us/step - loss: 0.3677 - accuracy: 0.8716 - val_loss: 0.3682 - val_accuracy: 0.8685\n",
            "Epoch 30/100\n",
            "54000/54000 [==============================] - 1s 24us/step - loss: 0.3661 - accuracy: 0.8722 - val_loss: 0.3665 - val_accuracy: 0.8702\n",
            "Epoch 31/100\n",
            "54000/54000 [==============================] - 1s 24us/step - loss: 0.3614 - accuracy: 0.8734 - val_loss: 0.3661 - val_accuracy: 0.8695\n",
            "Epoch 32/100\n",
            "54000/54000 [==============================] - 1s 24us/step - loss: 0.3596 - accuracy: 0.8733 - val_loss: 0.3621 - val_accuracy: 0.8682\n",
            "Epoch 33/100\n",
            "54000/54000 [==============================] - 1s 24us/step - loss: 0.3563 - accuracy: 0.8744 - val_loss: 0.3628 - val_accuracy: 0.8688\n",
            "Epoch 34/100\n",
            "54000/54000 [==============================] - 1s 24us/step - loss: 0.3534 - accuracy: 0.8761 - val_loss: 0.3587 - val_accuracy: 0.8738\n",
            "Epoch 35/100\n",
            "54000/54000 [==============================] - 1s 24us/step - loss: 0.3523 - accuracy: 0.8763 - val_loss: 0.3550 - val_accuracy: 0.8740\n",
            "Epoch 36/100\n",
            "54000/54000 [==============================] - 1s 25us/step - loss: 0.3507 - accuracy: 0.8751 - val_loss: 0.3558 - val_accuracy: 0.8715\n",
            "Epoch 37/100\n",
            "54000/54000 [==============================] - 1s 25us/step - loss: 0.3486 - accuracy: 0.8789 - val_loss: 0.3547 - val_accuracy: 0.8732\n",
            "Epoch 38/100\n",
            "54000/54000 [==============================] - 1s 24us/step - loss: 0.3446 - accuracy: 0.8782 - val_loss: 0.3537 - val_accuracy: 0.8757\n",
            "Epoch 39/100\n",
            "54000/54000 [==============================] - 1s 24us/step - loss: 0.3428 - accuracy: 0.8798 - val_loss: 0.3491 - val_accuracy: 0.8750\n",
            "Epoch 40/100\n",
            "54000/54000 [==============================] - 1s 24us/step - loss: 0.3418 - accuracy: 0.8805 - val_loss: 0.3520 - val_accuracy: 0.8748\n",
            "Epoch 41/100\n",
            "54000/54000 [==============================] - 1s 24us/step - loss: 0.3386 - accuracy: 0.8804 - val_loss: 0.3532 - val_accuracy: 0.8695\n",
            "Epoch 42/100\n",
            "54000/54000 [==============================] - 1s 24us/step - loss: 0.3373 - accuracy: 0.8808 - val_loss: 0.3450 - val_accuracy: 0.8778\n",
            "Epoch 43/100\n",
            "54000/54000 [==============================] - 1s 24us/step - loss: 0.3343 - accuracy: 0.8826 - val_loss: 0.3461 - val_accuracy: 0.8748\n",
            "Epoch 44/100\n",
            "54000/54000 [==============================] - 1s 24us/step - loss: 0.3327 - accuracy: 0.8825 - val_loss: 0.3459 - val_accuracy: 0.8775\n",
            "Epoch 45/100\n",
            "54000/54000 [==============================] - 1s 24us/step - loss: 0.3310 - accuracy: 0.8832 - val_loss: 0.3437 - val_accuracy: 0.8783\n",
            "Epoch 46/100\n",
            "54000/54000 [==============================] - 1s 24us/step - loss: 0.3308 - accuracy: 0.8837 - val_loss: 0.3407 - val_accuracy: 0.8785\n",
            "Epoch 47/100\n",
            "54000/54000 [==============================] - 1s 25us/step - loss: 0.3264 - accuracy: 0.8857 - val_loss: 0.3397 - val_accuracy: 0.8793\n",
            "Epoch 48/100\n",
            "54000/54000 [==============================] - 1s 25us/step - loss: 0.3249 - accuracy: 0.8855 - val_loss: 0.3388 - val_accuracy: 0.8800\n",
            "Epoch 49/100\n",
            "54000/54000 [==============================] - 1s 25us/step - loss: 0.3225 - accuracy: 0.8866 - val_loss: 0.3388 - val_accuracy: 0.8792\n",
            "Epoch 50/100\n",
            "54000/54000 [==============================] - 1s 25us/step - loss: 0.3220 - accuracy: 0.8870 - val_loss: 0.3372 - val_accuracy: 0.8808\n",
            "Epoch 51/100\n",
            "54000/54000 [==============================] - 1s 24us/step - loss: 0.3190 - accuracy: 0.8869 - val_loss: 0.3358 - val_accuracy: 0.8795\n",
            "Epoch 52/100\n",
            "54000/54000 [==============================] - 1s 24us/step - loss: 0.3186 - accuracy: 0.8872 - val_loss: 0.3401 - val_accuracy: 0.8780\n",
            "Epoch 53/100\n",
            "54000/54000 [==============================] - 1s 25us/step - loss: 0.3187 - accuracy: 0.8868 - val_loss: 0.3326 - val_accuracy: 0.8802\n",
            "Epoch 54/100\n",
            "54000/54000 [==============================] - 1s 24us/step - loss: 0.3150 - accuracy: 0.8892 - val_loss: 0.3330 - val_accuracy: 0.8813\n",
            "Epoch 55/100\n",
            "54000/54000 [==============================] - 1s 25us/step - loss: 0.3138 - accuracy: 0.8889 - val_loss: 0.3336 - val_accuracy: 0.8807\n",
            "Epoch 56/100\n",
            "54000/54000 [==============================] - 1s 26us/step - loss: 0.3130 - accuracy: 0.8891 - val_loss: 0.3319 - val_accuracy: 0.8823\n",
            "Epoch 57/100\n",
            "54000/54000 [==============================] - 1s 26us/step - loss: 0.3119 - accuracy: 0.8897 - val_loss: 0.3350 - val_accuracy: 0.8780\n",
            "Epoch 58/100\n",
            "54000/54000 [==============================] - 1s 26us/step - loss: 0.3087 - accuracy: 0.8912 - val_loss: 0.3331 - val_accuracy: 0.8782\n",
            "Epoch 59/100\n",
            "54000/54000 [==============================] - 1s 25us/step - loss: 0.3090 - accuracy: 0.8912 - val_loss: 0.3291 - val_accuracy: 0.8823\n",
            "Epoch 60/100\n",
            "54000/54000 [==============================] - 1s 24us/step - loss: 0.3067 - accuracy: 0.8906 - val_loss: 0.3282 - val_accuracy: 0.8818\n",
            "Epoch 61/100\n",
            "54000/54000 [==============================] - 1s 24us/step - loss: 0.3043 - accuracy: 0.8933 - val_loss: 0.3280 - val_accuracy: 0.8822\n",
            "Epoch 62/100\n",
            "54000/54000 [==============================] - 1s 24us/step - loss: 0.3037 - accuracy: 0.8932 - val_loss: 0.3288 - val_accuracy: 0.8813\n",
            "Epoch 63/100\n",
            "54000/54000 [==============================] - 1s 24us/step - loss: 0.3036 - accuracy: 0.8922 - val_loss: 0.3250 - val_accuracy: 0.8827\n",
            "Epoch 64/100\n",
            "54000/54000 [==============================] - 1s 24us/step - loss: 0.3011 - accuracy: 0.8938 - val_loss: 0.3265 - val_accuracy: 0.8815\n",
            "Epoch 65/100\n",
            "54000/54000 [==============================] - 1s 24us/step - loss: 0.3003 - accuracy: 0.8940 - val_loss: 0.3251 - val_accuracy: 0.8818\n",
            "Epoch 66/100\n",
            "54000/54000 [==============================] - 1s 25us/step - loss: 0.2992 - accuracy: 0.8942 - val_loss: 0.3225 - val_accuracy: 0.8818\n",
            "Epoch 67/100\n",
            "54000/54000 [==============================] - 1s 24us/step - loss: 0.2990 - accuracy: 0.8953 - val_loss: 0.3230 - val_accuracy: 0.8823\n",
            "Epoch 68/100\n",
            "54000/54000 [==============================] - 1s 24us/step - loss: 0.2976 - accuracy: 0.8946 - val_loss: 0.3231 - val_accuracy: 0.8823\n",
            "Epoch 69/100\n",
            "54000/54000 [==============================] - 1s 25us/step - loss: 0.2944 - accuracy: 0.8959 - val_loss: 0.3248 - val_accuracy: 0.8815\n",
            "Epoch 70/100\n",
            "54000/54000 [==============================] - 1s 25us/step - loss: 0.2923 - accuracy: 0.8963 - val_loss: 0.3222 - val_accuracy: 0.8840\n",
            "Epoch 71/100\n",
            "54000/54000 [==============================] - 1s 24us/step - loss: 0.2922 - accuracy: 0.8978 - val_loss: 0.3200 - val_accuracy: 0.8845\n",
            "Epoch 72/100\n",
            "54000/54000 [==============================] - 1s 25us/step - loss: 0.2905 - accuracy: 0.8980 - val_loss: 0.3186 - val_accuracy: 0.8843\n",
            "Epoch 73/100\n",
            "54000/54000 [==============================] - 1s 25us/step - loss: 0.2891 - accuracy: 0.8982 - val_loss: 0.3191 - val_accuracy: 0.8853\n",
            "Epoch 74/100\n",
            "54000/54000 [==============================] - 1s 24us/step - loss: 0.2884 - accuracy: 0.8987 - val_loss: 0.3246 - val_accuracy: 0.8842\n",
            "Epoch 75/100\n",
            "54000/54000 [==============================] - 1s 24us/step - loss: 0.2880 - accuracy: 0.8989 - val_loss: 0.3181 - val_accuracy: 0.8862\n",
            "Epoch 76/100\n",
            "54000/54000 [==============================] - 1s 24us/step - loss: 0.2858 - accuracy: 0.9001 - val_loss: 0.3173 - val_accuracy: 0.8858\n",
            "Epoch 77/100\n",
            "54000/54000 [==============================] - 1s 25us/step - loss: 0.2854 - accuracy: 0.8989 - val_loss: 0.3199 - val_accuracy: 0.8845\n",
            "Epoch 78/100\n",
            "54000/54000 [==============================] - 1s 24us/step - loss: 0.2842 - accuracy: 0.9005 - val_loss: 0.3167 - val_accuracy: 0.8845\n",
            "Epoch 79/100\n",
            "54000/54000 [==============================] - 1s 25us/step - loss: 0.2823 - accuracy: 0.9004 - val_loss: 0.3172 - val_accuracy: 0.8863\n",
            "Epoch 80/100\n",
            "54000/54000 [==============================] - 1s 24us/step - loss: 0.2817 - accuracy: 0.9007 - val_loss: 0.3150 - val_accuracy: 0.8857\n",
            "Epoch 81/100\n",
            "54000/54000 [==============================] - 1s 24us/step - loss: 0.2807 - accuracy: 0.9016 - val_loss: 0.3140 - val_accuracy: 0.8848\n",
            "Epoch 82/100\n",
            "54000/54000 [==============================] - 1s 24us/step - loss: 0.2796 - accuracy: 0.9024 - val_loss: 0.3151 - val_accuracy: 0.8867\n",
            "Epoch 83/100\n",
            "54000/54000 [==============================] - 1s 25us/step - loss: 0.2789 - accuracy: 0.9019 - val_loss: 0.3139 - val_accuracy: 0.8872\n",
            "Epoch 84/100\n",
            "54000/54000 [==============================] - 1s 25us/step - loss: 0.2774 - accuracy: 0.9020 - val_loss: 0.3167 - val_accuracy: 0.8838\n",
            "Epoch 85/100\n",
            "54000/54000 [==============================] - 1s 24us/step - loss: 0.2768 - accuracy: 0.9018 - val_loss: 0.3131 - val_accuracy: 0.8857\n",
            "Epoch 86/100\n",
            "54000/54000 [==============================] - 1s 24us/step - loss: 0.2743 - accuracy: 0.9034 - val_loss: 0.3138 - val_accuracy: 0.8883\n",
            "Epoch 87/100\n",
            "54000/54000 [==============================] - 1s 24us/step - loss: 0.2748 - accuracy: 0.9044 - val_loss: 0.3116 - val_accuracy: 0.8870\n",
            "Epoch 88/100\n",
            "54000/54000 [==============================] - 1s 24us/step - loss: 0.2722 - accuracy: 0.9046 - val_loss: 0.3113 - val_accuracy: 0.8862\n",
            "Epoch 89/100\n",
            "54000/54000 [==============================] - 1s 25us/step - loss: 0.2716 - accuracy: 0.9052 - val_loss: 0.3131 - val_accuracy: 0.8873\n",
            "Epoch 90/100\n",
            "54000/54000 [==============================] - 1s 24us/step - loss: 0.2716 - accuracy: 0.9038 - val_loss: 0.3099 - val_accuracy: 0.8880\n",
            "Epoch 91/100\n",
            "54000/54000 [==============================] - 1s 24us/step - loss: 0.2704 - accuracy: 0.9045 - val_loss: 0.3099 - val_accuracy: 0.8883\n",
            "Epoch 92/100\n",
            "54000/54000 [==============================] - 1s 24us/step - loss: 0.2690 - accuracy: 0.9054 - val_loss: 0.3102 - val_accuracy: 0.8852\n",
            "Epoch 93/100\n",
            "54000/54000 [==============================] - 1s 25us/step - loss: 0.2670 - accuracy: 0.9062 - val_loss: 0.3105 - val_accuracy: 0.8858\n",
            "Epoch 94/100\n",
            "54000/54000 [==============================] - 1s 24us/step - loss: 0.2681 - accuracy: 0.9055 - val_loss: 0.3128 - val_accuracy: 0.8880\n",
            "Epoch 95/100\n",
            "54000/54000 [==============================] - 1s 24us/step - loss: 0.2654 - accuracy: 0.9068 - val_loss: 0.3085 - val_accuracy: 0.8878\n",
            "Epoch 96/100\n",
            "54000/54000 [==============================] - 1s 24us/step - loss: 0.2659 - accuracy: 0.9071 - val_loss: 0.3100 - val_accuracy: 0.8890\n",
            "Epoch 97/100\n",
            "54000/54000 [==============================] - 1s 24us/step - loss: 0.2655 - accuracy: 0.9068 - val_loss: 0.3082 - val_accuracy: 0.8885\n",
            "Epoch 98/100\n",
            "54000/54000 [==============================] - 1s 24us/step - loss: 0.2627 - accuracy: 0.9091 - val_loss: 0.3061 - val_accuracy: 0.8895\n",
            "Epoch 99/100\n",
            "54000/54000 [==============================] - 1s 24us/step - loss: 0.2620 - accuracy: 0.9076 - val_loss: 0.3082 - val_accuracy: 0.8897\n",
            "Epoch 100/100\n",
            "54000/54000 [==============================] - 1s 24us/step - loss: 0.2617 - accuracy: 0.9079 - val_loss: 0.3061 - val_accuracy: 0.8910\n",
            "Finished training.\n",
            "------------------\n"
          ],
          "name": "stdout"
        }
      ]
    },
    {
      "cell_type": "code",
      "metadata": {
        "id": "IkphZmd0B8Jt",
        "colab_type": "code",
        "colab": {
          "base_uri": "https://localhost:8080/",
          "height": 52
        },
        "outputId": "d8597a85-37fc-411f-97ff-d07309b57305"
      },
      "source": [
        "# Find the scores from the epochs according to Early stopping\n",
        "best_epoch = np.argmax(tuned_mlp_sgd_hs.history['val_accuracy']) + 1\n",
        "print('Best epoch=',best_epoch)\n",
        "print('Best val_accuracy=',np.max(tuned_mlp_sgd_hs.history['val_accuracy']))"
      ],
      "execution_count": null,
      "outputs": [
        {
          "output_type": "stream",
          "text": [
            "Best epoch= 100\n",
            "Best val_accuracy= 0.890999972820282\n"
          ],
          "name": "stdout"
        }
      ]
    },
    {
      "cell_type": "code",
      "metadata": {
        "id": "ccwmZKuSZxEH",
        "colab_type": "code",
        "colab": {
          "base_uri": "https://localhost:8080/",
          "height": 173
        },
        "outputId": "f823fc44-c8dd-4a6b-936f-45fad91117a0"
      },
      "source": [
        "print('Fine Tuned MLP with SGD \\n --------')\n",
        "print_results(tuned_mlp_sgd_hs,tuned_mlp_model_sgd)"
      ],
      "execution_count": null,
      "outputs": [
        {
          "output_type": "stream",
          "text": [
            "Fine Tuned MLP with SGD \n",
            " --------\n",
            "Train Loss     : 0.26169\n",
            "Validation Loss: 0.30606\n",
            "Test Loss: 0.32579\n",
            "-------\n",
            "Train Accuracy     : 0.90794\n",
            "Validation Accuracy: 0.89100\n",
            "Test Accuracy: 0.88280\n"
          ],
          "name": "stdout"
        }
      ]
    },
    {
      "cell_type": "code",
      "metadata": {
        "id": "bDQEp1iv-Og7",
        "colab_type": "code",
        "colab": {
          "base_uri": "https://localhost:8080/",
          "height": 507
        },
        "outputId": "b3012037-1219-447c-b17a-60a96defb150"
      },
      "source": [
        "viz_history(hs_dict={'MLP_sgd':tuned_mlp_sgd_hs,'MLP_adam':tuned_hs},metric='accuracy')"
      ],
      "execution_count": null,
      "outputs": [
        {
          "output_type": "display_data",
          "data": {
            "image/png": "[encoded data removed]",
            "text/plain": [
              "<Figure size 1080x576 with 1 Axes>"
            ]
          },
          "metadata": {
            "tags": []
          }
        }
      ]
    },
    {
      "cell_type": "markdown",
      "metadata": {
        "id": "JIJ6OR8Xppom",
        "colab_type": "text"
      },
      "source": [
        "### Model Assesment"
      ]
    },
    {
      "cell_type": "code",
      "metadata": {
        "id": "M9nRzzon7Uaa",
        "colab_type": "code",
        "colab": {}
      },
      "source": [
        "import pandas as pd"
      ],
      "execution_count": null,
      "outputs": []
    },
    {
      "cell_type": "code",
      "metadata": {
        "id": "PPDLwQc-5fD4",
        "colab_type": "code",
        "colab": {}
      },
      "source": [
        "predictions=tuned_mlp_model.predict(X_test)\n",
        "predicted_classes=np.argmax(predictions,axis=1)"
      ],
      "execution_count": null,
      "outputs": []
    },
    {
      "cell_type": "code",
      "metadata": {
        "id": "4wY14YMG5kwa",
        "colab_type": "code",
        "colab": {}
      },
      "source": [
        "\n",
        "\n",
        "p = predicted_classes[:10000]\n",
        "y = test_labels[:10000]\n",
        "correct = np.nonzero(p==y)[0]\n",
        "incorrect = np.nonzero(p!=y)[0]\n",
        "\n"
      ],
      "execution_count": null,
      "outputs": []
    },
    {
      "cell_type": "code",
      "metadata": {
        "id": "5o4t15Eb8hvi",
        "colab_type": "code",
        "colab": {
          "base_uri": "https://localhost:8080/",
          "height": 52
        },
        "outputId": "dd2d0087-a19b-4ad9-b94c-b5a117c691bf"
      },
      "source": [
        "print(\"Correct predicted classes:\",correct.shape[0])\n",
        "print(\"Incorrect predicted classes:\",incorrect.shape[0])"
      ],
      "execution_count": null,
      "outputs": [
        {
          "output_type": "stream",
          "text": [
            "Correct predicted classes: 8959\n",
            "Incorrect predicted classes: 1041\n"
          ],
          "name": "stdout"
        }
      ]
    },
    {
      "cell_type": "code",
      "metadata": {
        "id": "lWthBNTFlu3P",
        "colab_type": "code",
        "colab": {}
      },
      "source": [
        "from sklearn.metrics import confusion_matrix,classification_report"
      ],
      "execution_count": null,
      "outputs": []
    },
    {
      "cell_type": "code",
      "metadata": {
        "id": "dEwdbxP381ZV",
        "colab_type": "code",
        "colab": {}
      },
      "source": [
        "labels = {0 : \"T-shirt/top\", 1: \"Trouser\", 2: \"Pullover\", 3: \"Dress\", 4: \"Coat\",\n",
        "          5: \"Sandal\", 6: \"Shirt\", 7: \"Sneaker\", 8: \"Bag\", 9: \"Ankle Boot\"}"
      ],
      "execution_count": null,
      "outputs": []
    },
    {
      "cell_type": "code",
      "metadata": {
        "id": "KMHvu3IKl94X",
        "colab_type": "code",
        "colab": {}
      },
      "source": [
        "def cm2df(cm, labels):\n",
        "    df = pd.DataFrame()\n",
        "    # rows\n",
        "    for i, row_label in enumerate(labels):\n",
        "        rowdata={}\n",
        "        # columns\n",
        "        for j, col_label in enumerate(labels): \n",
        "            rowdata[col_label]=cm[i,j]\n",
        "        df = df.append(pd.DataFrame.from_dict({row_label:rowdata}, orient='index'))\n",
        "    return df[labels]"
      ],
      "execution_count": null,
      "outputs": []
    },
    {
      "cell_type": "code",
      "metadata": {
        "id": "ykoe174G8ju6",
        "colab_type": "code",
        "colab": {
          "base_uri": "https://localhost:8080/",
          "height": 312
        },
        "outputId": "3de1f6df-690d-471a-e447-c49d042ba8a8"
      },
      "source": [
        "target_names = [\"Class {} ({}) :\".format(i,labels[i]) for i in range(10)]\n",
        "print(classification_report(test_labels, predicted_classes, target_names=target_names))"
      ],
      "execution_count": null,
      "outputs": [
        {
          "output_type": "stream",
          "text": [
            "                         precision    recall  f1-score   support\n",
            "\n",
            "Class 0 (T-shirt/top) :       0.85      0.85      0.85      1000\n",
            "    Class 1 (Trouser) :       0.99      0.97      0.98      1000\n",
            "   Class 2 (Pullover) :       0.83      0.80      0.81      1000\n",
            "      Class 3 (Dress) :       0.87      0.92      0.89      1000\n",
            "       Class 4 (Coat) :       0.82      0.83      0.82      1000\n",
            "     Class 5 (Sandal) :       0.98      0.96      0.97      1000\n",
            "      Class 6 (Shirt) :       0.73      0.73      0.73      1000\n",
            "    Class 7 (Sneaker) :       0.94      0.96      0.95      1000\n",
            "        Class 8 (Bag) :       0.98      0.97      0.97      1000\n",
            " Class 9 (Ankle Boot) :       0.96      0.96      0.96      1000\n",
            "\n",
            "               accuracy                           0.90     10000\n",
            "              macro avg       0.90      0.90      0.90     10000\n",
            "           weighted avg       0.90      0.90      0.90     10000\n",
            "\n"
          ],
          "name": "stdout"
        }
      ]
    },
    {
      "cell_type": "markdown",
      "metadata": {
        "id": "EcajOQOKj1Xr",
        "colab_type": "text"
      },
      "source": [
        "\n",
        "\n",
        "The best accuracy is obtained for Class 1, Class 5, Class 8, Class 9 and Class 7. Worst accuracy is for Class 6.\n",
        "\n",
        "The recall is highest for Class 1, Class 5 and smallest for Class 6 and Class 2.\n",
        "\n",
        "f1-score is highest for Class 1, Class 5 and Class 8 and smallest for Class 6 followed by Class 4 and Class 2.\n",
        "\n",
        "\n",
        "\n"
      ]
    },
    {
      "cell_type": "code",
      "metadata": {
        "id": "0Ir8ht8tmuKF",
        "colab_type": "code",
        "colab": {
          "base_uri": "https://localhost:8080/",
          "height": 363
        },
        "outputId": "8142f8ad-d998-4dce-84cc-6158e711881f"
      },
      "source": [
        "cm=confusion_matrix(test_labels,predicted_classes)\n",
        "cm2df(cm, labels.values())"
      ],
      "execution_count": null,
      "outputs": [
        {
          "output_type": "execute_result",
          "data": {
            "text/html": [
              "<div>\n",
              "<style scoped>\n",
              "    .dataframe tbody tr th:only-of-type {\n",
              "        vertical-align: middle;\n",
              "    }\n",
              "\n",
              "    .dataframe tbody tr th {\n",
              "        vertical-align: top;\n",
              "    }\n",
              "\n",
              "    .dataframe thead th {\n",
              "        text-align: right;\n",
              "    }\n",
              "</style>\n",
              "<table border=\"1\" class=\"dataframe\">\n",
              "  <thead>\n",
              "    <tr style=\"text-align: right;\">\n",
              "      <th></th>\n",
              "      <th>T-shirt/top</th>\n",
              "      <th>Trouser</th>\n",
              "      <th>Pullover</th>\n",
              "      <th>Dress</th>\n",
              "      <th>Coat</th>\n",
              "      <th>Sandal</th>\n",
              "      <th>Shirt</th>\n",
              "      <th>Sneaker</th>\n",
              "      <th>Bag</th>\n",
              "      <th>Ankle Boot</th>\n",
              "    </tr>\n",
              "  </thead>\n",
              "  <tbody>\n",
              "    <tr>\n",
              "      <th>T-shirt/top</th>\n",
              "      <td>851</td>\n",
              "      <td>1</td>\n",
              "      <td>16</td>\n",
              "      <td>25</td>\n",
              "      <td>3</td>\n",
              "      <td>1</td>\n",
              "      <td>92</td>\n",
              "      <td>0</td>\n",
              "      <td>11</td>\n",
              "      <td>0</td>\n",
              "    </tr>\n",
              "    <tr>\n",
              "      <th>Trouser</th>\n",
              "      <td>1</td>\n",
              "      <td>970</td>\n",
              "      <td>1</td>\n",
              "      <td>22</td>\n",
              "      <td>3</td>\n",
              "      <td>0</td>\n",
              "      <td>3</td>\n",
              "      <td>0</td>\n",
              "      <td>0</td>\n",
              "      <td>0</td>\n",
              "    </tr>\n",
              "    <tr>\n",
              "      <th>Pullover</th>\n",
              "      <td>18</td>\n",
              "      <td>0</td>\n",
              "      <td>798</td>\n",
              "      <td>10</td>\n",
              "      <td>100</td>\n",
              "      <td>0</td>\n",
              "      <td>74</td>\n",
              "      <td>0</td>\n",
              "      <td>0</td>\n",
              "      <td>0</td>\n",
              "    </tr>\n",
              "    <tr>\n",
              "      <th>Dress</th>\n",
              "      <td>16</td>\n",
              "      <td>3</td>\n",
              "      <td>11</td>\n",
              "      <td>918</td>\n",
              "      <td>17</td>\n",
              "      <td>0</td>\n",
              "      <td>29</td>\n",
              "      <td>0</td>\n",
              "      <td>6</td>\n",
              "      <td>0</td>\n",
              "    </tr>\n",
              "    <tr>\n",
              "      <th>Coat</th>\n",
              "      <td>0</td>\n",
              "      <td>1</td>\n",
              "      <td>67</td>\n",
              "      <td>40</td>\n",
              "      <td>829</td>\n",
              "      <td>0</td>\n",
              "      <td>63</td>\n",
              "      <td>0</td>\n",
              "      <td>0</td>\n",
              "      <td>0</td>\n",
              "    </tr>\n",
              "    <tr>\n",
              "      <th>Sandal</th>\n",
              "      <td>0</td>\n",
              "      <td>0</td>\n",
              "      <td>0</td>\n",
              "      <td>1</td>\n",
              "      <td>0</td>\n",
              "      <td>964</td>\n",
              "      <td>0</td>\n",
              "      <td>22</td>\n",
              "      <td>1</td>\n",
              "      <td>12</td>\n",
              "    </tr>\n",
              "    <tr>\n",
              "      <th>Shirt</th>\n",
              "      <td>105</td>\n",
              "      <td>0</td>\n",
              "      <td>70</td>\n",
              "      <td>33</td>\n",
              "      <td>54</td>\n",
              "      <td>0</td>\n",
              "      <td>734</td>\n",
              "      <td>0</td>\n",
              "      <td>4</td>\n",
              "      <td>0</td>\n",
              "    </tr>\n",
              "    <tr>\n",
              "      <th>Sneaker</th>\n",
              "      <td>0</td>\n",
              "      <td>0</td>\n",
              "      <td>0</td>\n",
              "      <td>0</td>\n",
              "      <td>0</td>\n",
              "      <td>12</td>\n",
              "      <td>0</td>\n",
              "      <td>964</td>\n",
              "      <td>0</td>\n",
              "      <td>24</td>\n",
              "    </tr>\n",
              "    <tr>\n",
              "      <th>Bag</th>\n",
              "      <td>5</td>\n",
              "      <td>0</td>\n",
              "      <td>4</td>\n",
              "      <td>5</td>\n",
              "      <td>4</td>\n",
              "      <td>3</td>\n",
              "      <td>4</td>\n",
              "      <td>6</td>\n",
              "      <td>969</td>\n",
              "      <td>0</td>\n",
              "    </tr>\n",
              "    <tr>\n",
              "      <th>Ankle Boot</th>\n",
              "      <td>0</td>\n",
              "      <td>0</td>\n",
              "      <td>0</td>\n",
              "      <td>0</td>\n",
              "      <td>0</td>\n",
              "      <td>7</td>\n",
              "      <td>1</td>\n",
              "      <td>30</td>\n",
              "      <td>0</td>\n",
              "      <td>962</td>\n",
              "    </tr>\n",
              "  </tbody>\n",
              "</table>\n",
              "</div>"
            ],
            "text/plain": [
              "             T-shirt/top  Trouser  Pullover  ...  Sneaker  Bag  Ankle Boot\n",
              "T-shirt/top          851        1        16  ...        0   11           0\n",
              "Trouser                1      970         1  ...        0    0           0\n",
              "Pullover              18        0       798  ...        0    0           0\n",
              "Dress                 16        3        11  ...        0    6           0\n",
              "Coat                   0        1        67  ...        0    0           0\n",
              "Sandal                 0        0         0  ...       22    1          12\n",
              "Shirt                105        0        70  ...        0    4           0\n",
              "Sneaker                0        0         0  ...      964    0          24\n",
              "Bag                    5        0         4  ...        6  969           0\n",
              "Ankle Boot             0        0         0  ...       30    0         962\n",
              "\n",
              "[10 rows x 10 columns]"
            ]
          },
          "metadata": {
            "tags": []
          },
          "execution_count": 27
        }
      ]
    },
    {
      "cell_type": "markdown",
      "metadata": {
        "id": "XUWD0ZbQodQZ",
        "colab_type": "text"
      },
      "source": [
        "We can see that the Shirt which has the lowest accuracy is mostly confused with the T-shirt/top,the Pullover and the Dress. Also the pullover is mostly confused with the Coat "
      ]
    }
  ]
}