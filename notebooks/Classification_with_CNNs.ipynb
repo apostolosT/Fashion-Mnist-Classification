{
  "nbformat": 4,
  "nbformat_minor": 0,
  "metadata": {
    "colab": {
      "name": "Classification with CNNs",
      "provenance": [],
      "collapsed_sections": [
        "v7H77CsfC8rh",
        "zzDpoNkdH2pL",
        "IfVMJlpCL4qD",
        "MVVtS0QqPV0b"
      ]
    },
    "kernelspec": {
      "name": "python3",
      "display_name": "Python 3"
    },
    "accelerator": "GPU"
  },
  "cells": [
    {
      "cell_type": "code",
      "metadata": {
        "id": "9lHS6g4Jhk77",
        "colab_type": "code",
        "colab": {}
      },
      "source": [
        "import tensorflow as tf\n",
        "import tensorflow.keras as keras\n",
        "import numpy as np\n",
        "import matplotlib.pyplot as plt"
      ],
      "execution_count": null,
      "outputs": []
    },
    {
      "cell_type": "code",
      "metadata": {
        "id": "-YUFvPibTxNT",
        "colab_type": "code",
        "colab": {
          "base_uri": "https://localhost:8080/",
          "height": 34
        },
        "outputId": "8bd07300-ab7f-4dad-8645-840cf78f30c6"
      },
      "source": [
        "tf.__version__"
      ],
      "execution_count": null,
      "outputs": [
        {
          "output_type": "execute_result",
          "data": {
            "text/plain": [
              "'2.2.0'"
            ]
          },
          "metadata": {
            "tags": []
          },
          "execution_count": 4
        }
      ]
    },
    {
      "cell_type": "code",
      "metadata": {
        "id": "8BvkY4BHhs7b",
        "colab_type": "code",
        "colab": {
          "base_uri": "https://localhost:8080/",
          "height": 156
        },
        "outputId": "edfbc5e5-7920-45c0-f330-a8dd7d703f36"
      },
      "source": [
        "fashion_mnist = tf.keras.datasets.fashion_mnist\n",
        "\n",
        "(train_images, train_labels), (test_images, test_labels) = fashion_mnist.load_data()\n"
      ],
      "execution_count": null,
      "outputs": [
        {
          "output_type": "stream",
          "text": [
            "Downloading data from https://storage.googleapis.com/tensorflow/tf-keras-datasets/train-labels-idx1-ubyte.gz\n",
            "32768/29515 [=================================] - 0s 0us/step\n",
            "Downloading data from https://storage.googleapis.com/tensorflow/tf-keras-datasets/train-images-idx3-ubyte.gz\n",
            "26427392/26421880 [==============================] - 0s 0us/step\n",
            "Downloading data from https://storage.googleapis.com/tensorflow/tf-keras-datasets/t10k-labels-idx1-ubyte.gz\n",
            "8192/5148 [===============================================] - 0s 0us/step\n",
            "Downloading data from https://storage.googleapis.com/tensorflow/tf-keras-datasets/t10k-images-idx3-ubyte.gz\n",
            "4423680/4422102 [==============================] - 0s 0us/step\n"
          ],
          "name": "stdout"
        }
      ]
    },
    {
      "cell_type": "code",
      "metadata": {
        "id": "Rez1JH_qif1Z",
        "colab_type": "code",
        "colab": {}
      },
      "source": [
        "class_names = ['T-shirt/top', 'Trouser', 'Pullover', 'Dress', 'Coat',\n",
        "               'Sandal',      'Shirt',   'Sneaker',  'Bag',   'Ankle boot']"
      ],
      "execution_count": null,
      "outputs": []
    },
    {
      "cell_type": "code",
      "metadata": {
        "id": "gX6Liqvbi0N2",
        "colab_type": "code",
        "colab": {
          "base_uri": "https://localhost:8080/",
          "height": 34
        },
        "outputId": "9c0e1e86-21f3-49b7-ab02-20f1c2f3387d"
      },
      "source": [
        "print(train_images.shape,test_images.shape)"
      ],
      "execution_count": null,
      "outputs": [
        {
          "output_type": "stream",
          "text": [
            "(60000, 28, 28) (10000, 28, 28)\n"
          ],
          "name": "stdout"
        }
      ]
    },
    {
      "cell_type": "code",
      "metadata": {
        "id": "OXaBsvfAl2Av",
        "colab_type": "code",
        "colab": {}
      },
      "source": [
        "classes=len(np.unique(train_labels))\n",
        "\n",
        "X_train = train_images.reshape(train_images.shape[0], 28, 28, 1)\n",
        "X_test = test_images.reshape(test_images.shape[0], 28, 28, 1)\n",
        "input_shape = (28, 28, 1)\n",
        "X_train = X_train.astype('float32')\n",
        "X_test = X_test.astype('float32')\n",
        "X_train /= 255\n",
        "X_test /= 255\n",
        "y_train = keras.utils.to_categorical(train_labels, classes)\n",
        "y_test = keras.utils.to_categorical(test_labels, classes)"
      ],
      "execution_count": null,
      "outputs": []
    },
    {
      "cell_type": "markdown",
      "metadata": {
        "id": "jmM7JQnYN8QY",
        "colab_type": "text"
      },
      "source": [
        "\n",
        "### Define Evaluation metrics & Helper Functions"
      ]
    },
    {
      "cell_type": "code",
      "metadata": {
        "id": "Do6FkPHjtmD7",
        "colab_type": "code",
        "colab": {
          "base_uri": "https://localhost:8080/",
          "height": 34
        },
        "outputId": "e9acd6ad-fd5e-46a8-b889-ff55e0b2a4d5"
      },
      "source": [
        "import keras.backend as K"
      ],
      "execution_count": null,
      "outputs": [
        {
          "output_type": "stream",
          "text": [
            "Using TensorFlow backend.\n"
          ],
          "name": "stderr"
        }
      ]
    },
    {
      "cell_type": "code",
      "metadata": {
        "id": "xbt7y-G7w6aG",
        "colab_type": "code",
        "colab": {}
      },
      "source": [
        "from sklearn.metrics import *"
      ],
      "execution_count": null,
      "outputs": []
    },
    {
      "cell_type": "code",
      "metadata": {
        "id": "Be8deO7X-MyI",
        "colab_type": "code",
        "colab": {}
      },
      "source": [
        "# for visualizing the training progress of our models\n",
        "%matplotlib inline\n",
        "import matplotlib.pyplot as plt\n",
        "def viz_history(hs_dict,metric):\n",
        "  plt.style.use('dark_background')\n",
        "  plt.rcParams['figure.figsize'] = [15, 8]\n",
        "  plt.rcParams['font.size'] = 16\n",
        "  plt.clf()\n",
        "  for model in hs_dict.keys():\n",
        "    plt.plot(hs_dict[model].history[metric],label='{0:s} train {1:s}'.format(model, metric))\n",
        "    plt.plot(hs_dict[model].history['val_{0:s}'.format(metric)],label='{0:s} validation {1:s}'.format(model, metric))\n",
        "    plt.ylabel(metric) \n",
        "    plt.xlabel('epoch')\n",
        "    plt.legend()\n",
        "  plt.show()\n"
      ],
      "execution_count": null,
      "outputs": []
    },
    {
      "cell_type": "code",
      "metadata": {
        "id": "LtT1qAD8GQiN",
        "colab_type": "code",
        "colab": {}
      },
      "source": [
        "def print_results(hs,model,best_epoch=-1):\n",
        "  print(\"Train Loss     : {0:.5f}\".format(hs.history['loss'][best_epoch]))\n",
        "  print(\"Validation Loss: {0:.5f}\".format(hs.history['val_loss'][best_epoch]))\n",
        "  eval_model=model.evaluate(X_test, y_test, verbose=0)\n",
        "  print(\"Test Loss: {0:.5f}\".format(eval_model[0]))\n",
        "\n",
        " \n",
        "  print('-------')\n",
        "  print(\"Train Accuracy     : {0:.5f}\".format(hs.history['accuracy'][best_epoch]))\n",
        "  print(\"Validation Accuracy: {0:.5f}\".format(hs.history['val_accuracy'][best_epoch]))\n",
        "  print(\"Test Accuracy: {0:.5f}\".format(eval_model[1]))\n",
        "  # print('-------')\n",
        "  # print(\"Train f1 score     : {0:.5f}\".format(hs.history['f1'][-1]))\n",
        "  # print(\"Validation f1 score: {0:.5f}\".format(hs.history['val_f1'][-1]))\n",
        "\n"
      ],
      "execution_count": null,
      "outputs": []
    },
    {
      "cell_type": "code",
      "metadata": {
        "id": "j_1J1D0Fh9XH",
        "colab_type": "code",
        "colab": {}
      },
      "source": [
        "from keras.models import Sequential\n",
        "from keras.layers import *\n",
        "from keras.optimizers import *\n",
        "from keras.models import Model,Input\n",
        "from keras.callbacks import ModelCheckpoint,EarlyStopping"
      ],
      "execution_count": null,
      "outputs": []
    },
    {
      "cell_type": "markdown",
      "metadata": {
        "id": "KFDLnZQ0wOjc",
        "colab_type": "text"
      },
      "source": [
        "### General Function for creating CNN models"
      ]
    },
    {
      "cell_type": "code",
      "metadata": {
        "id": "hw4VJMybDLCf",
        "colab_type": "code",
        "colab": {}
      },
      "source": [
        "model_params={'conv_dropout':0.2,\n",
        "              'conv_layers':3,\n",
        "              'conv_activation':'relu',\n",
        "              'kernel_size':(3, 3),\n",
        "              'strides':(1, 1),\n",
        "              'batch_normalization':True,\n",
        "              'dropout':True,\n",
        "              'hidden_units':256,\n",
        "              'hidden_layers':1,\n",
        "              'hidden_activation':'relu',\n",
        "              'lr':0.001,\n",
        "              'learning_rate':0.001,\n",
        "              }"
      ],
      "execution_count": null,
      "outputs": []
    },
    {
      "cell_type": "code",
      "metadata": {
        "id": "4xLsQXNMF1v_",
        "colab_type": "code",
        "colab": {}
      },
      "source": [
        "def train_model(train_data,\n",
        "                train_labels,\n",
        "                model_params,\n",
        "                optimizer=Adam,\n",
        "                epochs=100,\n",
        "                batch_size=128,\n",
        "                ):\n",
        "    \n",
        "    np.random.seed(1402) # Define the seed for numpy to have reproducible experiments.\n",
        "    tf.random.set_seed(1981) # Define the seed for Tensorflow to have reproducible experiments.\n",
        "    \n",
        "    # Define the input layer.\n",
        "    input = Input(\n",
        "        shape=input_shape,\n",
        "        name='Input'\n",
        "    )\n",
        "\n",
        "    x = input\n",
        "    # Define the convolutional layers.\n",
        "    for i in range(model_params['conv_layers']):\n",
        "        x = Conv2D(\n",
        "            filters=16*(2**i),\n",
        "            kernel_size=model_params['kernel_size'],\n",
        "            strides=model_params['strides'],\n",
        "            padding='same',\n",
        "            dilation_rate=(1, 1),\n",
        "            activation=model_params['conv_activation'],\n",
        "            name='Conv2D-{0:d}'.format(i + 1)\n",
        "        )(x)\n",
        "\n",
        "\n",
        "        if model_params['batch_normalization']:\n",
        "            x = BatchNormalization(axis=2,name='Batch_Normalization-{0:d}'.format(i + 1)\n",
        "                                )(x)\n",
        "\n",
        "\n",
        "        x = MaxPool2D(\n",
        "            pool_size=(2, 2),\n",
        "            strides=(2, 2),\n",
        "            padding='same',\n",
        "            name='MaxPool2D-{0:d}'.format(i + 1)\n",
        "        )(x)\n",
        "        if model_params['conv_dropout']:\n",
        "            x = Dropout(\n",
        "                rate=model_params['conv_dropout'],\n",
        "                name='Conv_Dropout-{0:d}'.format(i + 1)\n",
        "            )(x)\n",
        "    # Flatten the convolved images so as to input them to a Dense Layer\n",
        "    x = Flatten(name='Flatten')(x)\n",
        "\n",
        "\n",
        "\n",
        "    for i in range(model_params['hidden_layers']):\n",
        "        x = Dense(\n",
        "            units=model_params['hidden_units'],\n",
        "            kernel_initializer='glorot_uniform',\n",
        "            activation=model_params['hidden_activation'],\n",
        "            name='Hidden-{0:d}'.format(i + 1)\n",
        "        )(x)\n",
        "        if model_params['dropout']:\n",
        "          x = Dropout(\n",
        "                rate=model_params['dropout'],\n",
        "                name='Dropout-{0:d}'.format(i + 1)\n",
        "            )(x)\n",
        "\n",
        "        \n",
        "    # Define the output layer.\n",
        "    output = Dense(\n",
        "        units=10,\n",
        "        kernel_initializer='uniform',\n",
        "        activation='softmax',\n",
        "        name='Output'\n",
        "    )(x)\n",
        "\n",
        "    # Define the model and train it.\n",
        "    model = Model(inputs=input, outputs=output)\n",
        "    if(optimizer==Adam):\n",
        "      model.compile(optimizer=optimizer(model_params['learning_rate']), loss='categorical_crossentropy', metrics=['accuracy'])\n",
        "\n",
        "    else:\n",
        "      model.compile(optimizer=optimizer(model_params['lr'],momentum=0.9,nesterov=True), loss='categorical_crossentropy', metrics=['accuracy'])\n",
        "\n",
        "    print('------------------')\n",
        "    model.summary() # Print a description of the model.\n",
        "    display(keras.utils.plot_model(model, to_file='model.png', show_shapes=True, dpi=50))\n",
        "    \n",
        "    early_stopping = EarlyStopping(monitor='val_accuracy',\n",
        "                                    patience=10,\n",
        "                                    verbose=1,\n",
        "                                    restore_best_weights=True\n",
        "  )\n",
        "    hs = model.fit(\n",
        "        x=train_data,\n",
        "        y=train_labels,\n",
        "        validation_split=0.1, # use 10% of the training data as validation data\n",
        "        epochs=epochs,\n",
        "        verbose=1,\n",
        "        callbacks=[early_stopping],\n",
        "        batch_size=batch_size\n",
        "    )\n",
        "    print('Finished training.')\n",
        "    print('------------------')\n",
        "    # model.summary() # Print a description of the model.\n",
        "    return model, hs\n"
      ],
      "execution_count": null,
      "outputs": []
    },
    {
      "cell_type": "markdown",
      "metadata": {
        "id": "v7H77CsfC8rh",
        "colab_type": "text"
      },
      "source": [
        "### RUN CNN"
      ]
    },
    {
      "cell_type": "code",
      "metadata": {
        "id": "H1E35lDbC2my",
        "colab_type": "code",
        "colab": {}
      },
      "source": [
        "#call the CNN Model through the train function\n",
        "cnn_model_adam,cnn_hs_adam=train_model(\n",
        "    train_data=X_train,\n",
        "    train_labels=y_train,\n",
        "    optimizer=Adam,\n",
        "    epochs=100,\n",
        "    batch_size=128,\n",
        "    model_params=model_params\n",
        ")"
      ],
      "execution_count": null,
      "outputs": []
    },
    {
      "cell_type": "code",
      "metadata": {
        "id": "5JDeF-6eDXk3",
        "colab_type": "code",
        "colab": {
          "base_uri": "https://localhost:8080/",
          "height": 52
        },
        "outputId": "ab5916c1-f77e-4d2e-f47f-b0201f6a2e32"
      },
      "source": [
        "# Find the scores from the epochs according to Early stopping\n",
        "best_epoch = np.argmax(cnn_hs_adam.history['val_accuracy']) \n",
        "print('Best epoch=',best_epoch)\n",
        "print('Best val_accuracy=',np.max(cnn_hs_adam.history['val_accuracy']))"
      ],
      "execution_count": null,
      "outputs": [
        {
          "output_type": "stream",
          "text": [
            "Best epoch= 28\n",
            "Best val_accuracy= 0.9243333339691162\n"
          ],
          "name": "stdout"
        }
      ]
    },
    {
      "cell_type": "code",
      "metadata": {
        "id": "JjW0plLmHBrF",
        "colab_type": "code",
        "colab": {
          "base_uri": "https://localhost:8080/",
          "height": 139
        },
        "outputId": "f77e3e83-864d-40f0-c7e1-c2d92ddf4c4b"
      },
      "source": [
        "#print results at last epoch\n",
        "print_results(cnn_hs_adam,cnn_model_adam,best_epoch=best_epoch)"
      ],
      "execution_count": null,
      "outputs": [
        {
          "output_type": "stream",
          "text": [
            "Train Loss     : 0.21858\n",
            "Validation Loss: 0.20840\n",
            "Test Loss: 0.22403\n",
            "-------\n",
            "Train Accuracy     : 0.91972\n",
            "Validation Accuracy: 0.92433\n",
            "Test Accuracy: 0.91880\n"
          ],
          "name": "stdout"
        }
      ]
    },
    {
      "cell_type": "markdown",
      "metadata": {
        "id": "zzDpoNkdH2pL",
        "colab_type": "text"
      },
      "source": [
        "#### Let's see what happens if we add an extra dense layer after the convolution.\n"
      ]
    },
    {
      "cell_type": "code",
      "metadata": {
        "id": "yf2IMuzlH140",
        "colab_type": "code",
        "colab": {
          "base_uri": "https://localhost:8080/",
          "height": 1000
        },
        "outputId": "3867a6ee-cbd8-49f9-f833-f3aa4c8fbd50"
      },
      "source": [
        "#call the baseline Model through the train function\n",
        "cnn_model_adam,cnn_hs_adam=train_model(\n",
        "    train_data=X_train,\n",
        "    train_labels=y_train,\n",
        "    optimizer=Adam,\n",
        "    epochs=100,\n",
        "    batch_size=128,\n",
        "    model_params=model_params\n",
        ")"
      ],
      "execution_count": null,
      "outputs": [
        {
          "output_type": "stream",
          "text": [
            "------------------\n",
            "Model: \"model_6\"\n",
            "_________________________________________________________________\n",
            "Layer (type)                 Output Shape              Param #   \n",
            "=================================================================\n",
            "Input (InputLayer)           (None, 28, 28, 1)         0         \n",
            "_________________________________________________________________\n",
            "Conv2D-1 (Conv2D)            (None, 28, 28, 16)        160       \n",
            "_________________________________________________________________\n",
            "MaxPool2D-1 (MaxPooling2D)   (None, 14, 14, 16)        0         \n",
            "_________________________________________________________________\n",
            "Conv_Dropout-1 (Dropout)     (None, 14, 14, 16)        0         \n",
            "_________________________________________________________________\n",
            "Conv2D-2 (Conv2D)            (None, 14, 14, 32)        4640      \n",
            "_________________________________________________________________\n",
            "MaxPool2D-2 (MaxPooling2D)   (None, 7, 7, 32)          0         \n",
            "_________________________________________________________________\n",
            "Conv_Dropout-2 (Dropout)     (None, 7, 7, 32)          0         \n",
            "_________________________________________________________________\n",
            "Conv2D-3 (Conv2D)            (None, 7, 7, 64)          18496     \n",
            "_________________________________________________________________\n",
            "MaxPool2D-3 (MaxPooling2D)   (None, 4, 4, 64)          0         \n",
            "_________________________________________________________________\n",
            "Conv_Dropout-3 (Dropout)     (None, 4, 4, 64)          0         \n",
            "_________________________________________________________________\n",
            "Flatten (Flatten)            (None, 1024)              0         \n",
            "_________________________________________________________________\n",
            "Hidden-1 (Dense)             (None, 256)               262400    \n",
            "_________________________________________________________________\n",
            "Dropout-1 (Dropout)          (None, 256)               0         \n",
            "_________________________________________________________________\n",
            "Output (Dense)               (None, 10)                2570      \n",
            "=================================================================\n",
            "Total params: 288,266\n",
            "Trainable params: 288,266\n",
            "Non-trainable params: 0\n",
            "_________________________________________________________________\n"
          ],
          "name": "stdout"
        },
        {
          "output_type": "display_data",
          "data": {
            "image/png": "[encoded data removed]",
            "text/plain": [
              "<IPython.core.display.Image object>"
            ]
          },
          "metadata": {
            "tags": []
          }
        },
        {
          "output_type": "stream",
          "text": [
            "Train on 54000 samples, validate on 6000 samples\n",
            "Epoch 1/100\n",
            "54000/54000 [==============================] - 3s 59us/step - loss: 0.7257 - accuracy: 0.7270 - val_loss: 0.4783 - val_accuracy: 0.8068\n",
            "Epoch 2/100\n",
            "54000/54000 [==============================] - 3s 53us/step - loss: 0.4471 - accuracy: 0.8348 - val_loss: 0.3596 - val_accuracy: 0.8633\n",
            "Epoch 3/100\n",
            "54000/54000 [==============================] - 3s 53us/step - loss: 0.3833 - accuracy: 0.8574 - val_loss: 0.3233 - val_accuracy: 0.8765\n",
            "Epoch 4/100\n",
            "54000/54000 [==============================] - 3s 52us/step - loss: 0.3466 - accuracy: 0.8713 - val_loss: 0.3018 - val_accuracy: 0.8875\n",
            "Epoch 5/100\n",
            "54000/54000 [==============================] - 3s 52us/step - loss: 0.3218 - accuracy: 0.8811 - val_loss: 0.2745 - val_accuracy: 0.9000\n",
            "Epoch 6/100\n",
            "54000/54000 [==============================] - 3s 53us/step - loss: 0.3068 - accuracy: 0.8862 - val_loss: 0.2681 - val_accuracy: 0.8962\n",
            "Epoch 7/100\n",
            "54000/54000 [==============================] - 3s 53us/step - loss: 0.2915 - accuracy: 0.8917 - val_loss: 0.2560 - val_accuracy: 0.9032\n",
            "Epoch 8/100\n",
            "54000/54000 [==============================] - 3s 52us/step - loss: 0.2766 - accuracy: 0.8974 - val_loss: 0.2476 - val_accuracy: 0.9053\n",
            "Epoch 9/100\n",
            "54000/54000 [==============================] - 3s 52us/step - loss: 0.2686 - accuracy: 0.9001 - val_loss: 0.2451 - val_accuracy: 0.9063\n",
            "Epoch 10/100\n",
            "54000/54000 [==============================] - 3s 52us/step - loss: 0.2593 - accuracy: 0.9036 - val_loss: 0.2372 - val_accuracy: 0.9077\n",
            "Epoch 11/100\n",
            "54000/54000 [==============================] - 3s 53us/step - loss: 0.2518 - accuracy: 0.9064 - val_loss: 0.2340 - val_accuracy: 0.9132\n",
            "Epoch 12/100\n",
            "54000/54000 [==============================] - 3s 52us/step - loss: 0.2419 - accuracy: 0.9108 - val_loss: 0.2226 - val_accuracy: 0.9145\n",
            "Epoch 13/100\n",
            "54000/54000 [==============================] - 3s 53us/step - loss: 0.2328 - accuracy: 0.9123 - val_loss: 0.2195 - val_accuracy: 0.9160\n",
            "Epoch 14/100\n",
            "54000/54000 [==============================] - 3s 51us/step - loss: 0.2330 - accuracy: 0.9127 - val_loss: 0.2293 - val_accuracy: 0.9132\n",
            "Epoch 15/100\n",
            "54000/54000 [==============================] - 3s 53us/step - loss: 0.2264 - accuracy: 0.9148 - val_loss: 0.2245 - val_accuracy: 0.9162\n",
            "Epoch 16/100\n",
            "54000/54000 [==============================] - 3s 52us/step - loss: 0.2213 - accuracy: 0.9164 - val_loss: 0.2168 - val_accuracy: 0.9188\n",
            "Epoch 17/100\n",
            "54000/54000 [==============================] - 3s 56us/step - loss: 0.2132 - accuracy: 0.9209 - val_loss: 0.2087 - val_accuracy: 0.9200\n",
            "Epoch 18/100\n",
            "54000/54000 [==============================] - 3s 56us/step - loss: 0.2092 - accuracy: 0.9224 - val_loss: 0.2042 - val_accuracy: 0.9220\n",
            "Epoch 19/100\n",
            "54000/54000 [==============================] - 3s 56us/step - loss: 0.2090 - accuracy: 0.9219 - val_loss: 0.2094 - val_accuracy: 0.9210\n",
            "Epoch 20/100\n",
            "54000/54000 [==============================] - 3s 54us/step - loss: 0.2009 - accuracy: 0.9245 - val_loss: 0.2125 - val_accuracy: 0.9190\n",
            "Epoch 21/100\n",
            "54000/54000 [==============================] - 3s 53us/step - loss: 0.2006 - accuracy: 0.9248 - val_loss: 0.2022 - val_accuracy: 0.9242\n",
            "Epoch 22/100\n",
            "54000/54000 [==============================] - 3s 52us/step - loss: 0.1949 - accuracy: 0.9267 - val_loss: 0.2000 - val_accuracy: 0.9268\n",
            "Epoch 23/100\n",
            "54000/54000 [==============================] - 3s 52us/step - loss: 0.1945 - accuracy: 0.9266 - val_loss: 0.2089 - val_accuracy: 0.9232\n",
            "Epoch 24/100\n",
            "54000/54000 [==============================] - 3s 53us/step - loss: 0.1896 - accuracy: 0.9274 - val_loss: 0.2106 - val_accuracy: 0.9207\n",
            "Epoch 25/100\n",
            "54000/54000 [==============================] - 3s 52us/step - loss: 0.1868 - accuracy: 0.9296 - val_loss: 0.2058 - val_accuracy: 0.9242\n",
            "Epoch 26/100\n",
            "54000/54000 [==============================] - 3s 52us/step - loss: 0.1839 - accuracy: 0.9316 - val_loss: 0.2011 - val_accuracy: 0.9273\n",
            "Epoch 27/100\n",
            "54000/54000 [==============================] - 3s 52us/step - loss: 0.1791 - accuracy: 0.9324 - val_loss: 0.1992 - val_accuracy: 0.9262\n",
            "Epoch 28/100\n",
            "54000/54000 [==============================] - 3s 53us/step - loss: 0.1774 - accuracy: 0.9335 - val_loss: 0.2011 - val_accuracy: 0.9238\n",
            "Epoch 29/100\n",
            "54000/54000 [==============================] - 3s 52us/step - loss: 0.1775 - accuracy: 0.9334 - val_loss: 0.1971 - val_accuracy: 0.9245\n",
            "Epoch 30/100\n",
            "54000/54000 [==============================] - 3s 51us/step - loss: 0.1731 - accuracy: 0.9342 - val_loss: 0.2014 - val_accuracy: 0.9248\n",
            "Epoch 31/100\n",
            "54000/54000 [==============================] - 3s 52us/step - loss: 0.1714 - accuracy: 0.9344 - val_loss: 0.2038 - val_accuracy: 0.9248\n",
            "Epoch 32/100\n",
            "54000/54000 [==============================] - 3s 52us/step - loss: 0.1702 - accuracy: 0.9360 - val_loss: 0.1986 - val_accuracy: 0.9302\n",
            "Epoch 33/100\n",
            "54000/54000 [==============================] - 3s 52us/step - loss: 0.1720 - accuracy: 0.9335 - val_loss: 0.1943 - val_accuracy: 0.9275\n",
            "Epoch 34/100\n",
            "54000/54000 [==============================] - 3s 52us/step - loss: 0.1644 - accuracy: 0.9370 - val_loss: 0.1979 - val_accuracy: 0.9308\n",
            "Epoch 35/100\n",
            "54000/54000 [==============================] - 3s 52us/step - loss: 0.1632 - accuracy: 0.9386 - val_loss: 0.2045 - val_accuracy: 0.9258\n",
            "Epoch 36/100\n",
            "54000/54000 [==============================] - 3s 52us/step - loss: 0.1644 - accuracy: 0.9378 - val_loss: 0.2041 - val_accuracy: 0.9253\n",
            "Epoch 37/100\n",
            "54000/54000 [==============================] - 3s 52us/step - loss: 0.1604 - accuracy: 0.9393 - val_loss: 0.2028 - val_accuracy: 0.9247\n",
            "Epoch 38/100\n",
            "54000/54000 [==============================] - 3s 52us/step - loss: 0.1575 - accuracy: 0.9400 - val_loss: 0.1989 - val_accuracy: 0.9255\n",
            "Epoch 39/100\n",
            "54000/54000 [==============================] - 3s 52us/step - loss: 0.1589 - accuracy: 0.9389 - val_loss: 0.2005 - val_accuracy: 0.9287\n",
            "Epoch 40/100\n",
            "54000/54000 [==============================] - 3s 51us/step - loss: 0.1528 - accuracy: 0.9424 - val_loss: 0.2076 - val_accuracy: 0.9288\n",
            "Epoch 41/100\n",
            "54000/54000 [==============================] - 3s 51us/step - loss: 0.1509 - accuracy: 0.9424 - val_loss: 0.2033 - val_accuracy: 0.9238\n",
            "Epoch 42/100\n",
            "54000/54000 [==============================] - 3s 52us/step - loss: 0.1503 - accuracy: 0.9416 - val_loss: 0.2022 - val_accuracy: 0.9280\n",
            "Epoch 43/100\n",
            "54000/54000 [==============================] - 3s 52us/step - loss: 0.1512 - accuracy: 0.9418 - val_loss: 0.2079 - val_accuracy: 0.9272\n",
            "Epoch 44/100\n",
            "54000/54000 [==============================] - 3s 51us/step - loss: 0.1500 - accuracy: 0.9417 - val_loss: 0.2044 - val_accuracy: 0.9270\n",
            "Restoring model weights from the end of the best epoch\n",
            "Epoch 00044: early stopping\n",
            "Finished training.\n",
            "------------------\n"
          ],
          "name": "stdout"
        }
      ]
    },
    {
      "cell_type": "code",
      "metadata": {
        "colab_type": "code",
        "id": "3xE8jUe_JXj9",
        "colab": {
          "base_uri": "https://localhost:8080/",
          "height": 52
        },
        "outputId": "50e850eb-9c6e-4c7a-c849-e218ac956aa1"
      },
      "source": [
        "# Find the scores from the epochs according to Early stopping\n",
        "best_epoch = np.argmax(cnn_hs_adam.history['val_accuracy']) \n",
        "print('Best epoch=',best_epoch)\n",
        "print('Best val_accuracy=',np.max(cnn_hs_adam.history['val_accuracy']))"
      ],
      "execution_count": null,
      "outputs": [
        {
          "output_type": "stream",
          "text": [
            "Best epoch= 33\n",
            "Best val_accuracy= 0.9308333396911621\n"
          ],
          "name": "stdout"
        }
      ]
    },
    {
      "cell_type": "code",
      "metadata": {
        "colab_type": "code",
        "id": "E2rbmTM7JXkO",
        "colab": {
          "base_uri": "https://localhost:8080/",
          "height": 139
        },
        "outputId": "4519cd7c-f560-4e58-cadd-a7128ee2e2ab"
      },
      "source": [
        "#print results at last epoch\n",
        "print_results(cnn_hs_adam,cnn_model_adam,best_epoch=best_epoch)"
      ],
      "execution_count": null,
      "outputs": [
        {
          "output_type": "stream",
          "text": [
            "Train Loss     : 0.16441\n",
            "Validation Loss: 0.19790\n",
            "Test Loss: 0.21503\n",
            "-------\n",
            "Train Accuracy     : 0.93700\n",
            "Validation Accuracy: 0.93083\n",
            "Test Accuracy: 0.92330\n"
          ],
          "name": "stdout"
        }
      ]
    },
    {
      "cell_type": "markdown",
      "metadata": {
        "id": "cMl5EIl9JfYw",
        "colab_type": "text"
      },
      "source": [
        "TRUE! we see an improvement"
      ]
    },
    {
      "cell_type": "markdown",
      "metadata": {
        "id": "IfVMJlpCL4qD",
        "colab_type": "text"
      },
      "source": [
        "### Using Batch Normalization"
      ]
    },
    {
      "cell_type": "code",
      "metadata": {
        "colab_type": "code",
        "id": "12TbMoZEMA_6",
        "colab": {
          "base_uri": "https://localhost:8080/",
          "height": 1000
        },
        "outputId": "6aa232fd-5e9a-41fd-85fe-f8e46bc93fe3"
      },
      "source": [
        "#call the baseline Model through the train function\n",
        "cnn_model_adam,cnn_hs_adam=train_model(\n",
        "    train_data=X_train,\n",
        "    train_labels=y_train,\n",
        "    optimizer=Adam,\n",
        "    epochs=100,\n",
        "    batch_size=128,\n",
        "    model_params=model_params\n",
        ")"
      ],
      "execution_count": null,
      "outputs": [
        {
          "output_type": "stream",
          "text": [
            "------------------\n",
            "Model: \"model_7\"\n",
            "_________________________________________________________________\n",
            "Layer (type)                 Output Shape              Param #   \n",
            "=================================================================\n",
            "Input (InputLayer)           (None, 28, 28, 1)         0         \n",
            "_________________________________________________________________\n",
            "Conv2D-1 (Conv2D)            (None, 28, 28, 16)        160       \n",
            "_________________________________________________________________\n",
            "Batch_Normalization-1 (Batch (None, 28, 28, 16)        112       \n",
            "_________________________________________________________________\n",
            "MaxPool2D-1 (MaxPooling2D)   (None, 14, 14, 16)        0         \n",
            "_________________________________________________________________\n",
            "Conv_Dropout-1 (Dropout)     (None, 14, 14, 16)        0         \n",
            "_________________________________________________________________\n",
            "Conv2D-2 (Conv2D)            (None, 14, 14, 32)        4640      \n",
            "_________________________________________________________________\n",
            "Batch_Normalization-2 (Batch (None, 14, 14, 32)        56        \n",
            "_________________________________________________________________\n",
            "MaxPool2D-2 (MaxPooling2D)   (None, 7, 7, 32)          0         \n",
            "_________________________________________________________________\n",
            "Conv_Dropout-2 (Dropout)     (None, 7, 7, 32)          0         \n",
            "_________________________________________________________________\n",
            "Conv2D-3 (Conv2D)            (None, 7, 7, 64)          18496     \n",
            "_________________________________________________________________\n",
            "Batch_Normalization-3 (Batch (None, 7, 7, 64)          28        \n",
            "_________________________________________________________________\n",
            "MaxPool2D-3 (MaxPooling2D)   (None, 4, 4, 64)          0         \n",
            "_________________________________________________________________\n",
            "Conv_Dropout-3 (Dropout)     (None, 4, 4, 64)          0         \n",
            "_________________________________________________________________\n",
            "Flatten (Flatten)            (None, 1024)              0         \n",
            "_________________________________________________________________\n",
            "Hidden-1 (Dense)             (None, 256)               262400    \n",
            "_________________________________________________________________\n",
            "Dropout-1 (Dropout)          (None, 256)               0         \n",
            "_________________________________________________________________\n",
            "Output (Dense)               (None, 10)                2570      \n",
            "=================================================================\n",
            "Total params: 288,462\n",
            "Trainable params: 288,364\n",
            "Non-trainable params: 98\n",
            "_________________________________________________________________\n"
          ],
          "name": "stdout"
        },
        {
          "output_type": "display_data",
          "data": {
            "image/png": "[encoded data removed]",
            "text/plain": [
              "<IPython.core.display.Image object>"
            ]
          },
          "metadata": {
            "tags": []
          }
        },
        {
          "output_type": "stream",
          "text": [
            "Train on 54000 samples, validate on 6000 samples\n",
            "Epoch 1/100\n",
            "54000/54000 [==============================] - 6s 108us/step - loss: 0.5480 - accuracy: 0.7935 - val_loss: 0.9263 - val_accuracy: 0.6797\n",
            "Epoch 2/100\n",
            "54000/54000 [==============================] - 5s 91us/step - loss: 0.3444 - accuracy: 0.8708 - val_loss: 0.2876 - val_accuracy: 0.8917\n",
            "Epoch 3/100\n",
            "54000/54000 [==============================] - 5s 91us/step - loss: 0.3016 - accuracy: 0.8873 - val_loss: 0.2713 - val_accuracy: 0.9012\n",
            "Epoch 4/100\n",
            "54000/54000 [==============================] - 5s 91us/step - loss: 0.2771 - accuracy: 0.8961 - val_loss: 0.2866 - val_accuracy: 0.8942\n",
            "Epoch 5/100\n",
            "54000/54000 [==============================] - 5s 91us/step - loss: 0.2604 - accuracy: 0.9025 - val_loss: 0.2537 - val_accuracy: 0.9060\n",
            "Epoch 6/100\n",
            "54000/54000 [==============================] - 5s 93us/step - loss: 0.2477 - accuracy: 0.9084 - val_loss: 0.2373 - val_accuracy: 0.9133\n",
            "Epoch 7/100\n",
            "54000/54000 [==============================] - 5s 95us/step - loss: 0.2343 - accuracy: 0.9117 - val_loss: 0.2345 - val_accuracy: 0.9138\n",
            "Epoch 8/100\n",
            "54000/54000 [==============================] - 5s 93us/step - loss: 0.2272 - accuracy: 0.9143 - val_loss: 0.2227 - val_accuracy: 0.9175\n",
            "Epoch 9/100\n",
            "54000/54000 [==============================] - 5s 91us/step - loss: 0.2174 - accuracy: 0.9182 - val_loss: 0.2303 - val_accuracy: 0.9148\n",
            "Epoch 10/100\n",
            "54000/54000 [==============================] - 5s 91us/step - loss: 0.2124 - accuracy: 0.9210 - val_loss: 0.2266 - val_accuracy: 0.9178\n",
            "Epoch 11/100\n",
            "54000/54000 [==============================] - 5s 91us/step - loss: 0.2053 - accuracy: 0.9218 - val_loss: 0.2217 - val_accuracy: 0.9197\n",
            "Epoch 12/100\n",
            "54000/54000 [==============================] - 5s 91us/step - loss: 0.1971 - accuracy: 0.9258 - val_loss: 0.2336 - val_accuracy: 0.9183\n",
            "Epoch 13/100\n",
            "54000/54000 [==============================] - 5s 90us/step - loss: 0.1912 - accuracy: 0.9279 - val_loss: 0.2338 - val_accuracy: 0.9158\n",
            "Epoch 14/100\n",
            "54000/54000 [==============================] - 5s 90us/step - loss: 0.1896 - accuracy: 0.9293 - val_loss: 0.2437 - val_accuracy: 0.9125\n",
            "Epoch 15/100\n",
            "54000/54000 [==============================] - 5s 91us/step - loss: 0.1865 - accuracy: 0.9292 - val_loss: 0.2391 - val_accuracy: 0.9168\n",
            "Epoch 16/100\n",
            "54000/54000 [==============================] - 5s 92us/step - loss: 0.1778 - accuracy: 0.9319 - val_loss: 0.2290 - val_accuracy: 0.9203\n",
            "Epoch 17/100\n",
            "54000/54000 [==============================] - 5s 91us/step - loss: 0.1742 - accuracy: 0.9332 - val_loss: 0.2248 - val_accuracy: 0.9257\n",
            "Epoch 18/100\n",
            "54000/54000 [==============================] - 5s 90us/step - loss: 0.1714 - accuracy: 0.9347 - val_loss: 0.2311 - val_accuracy: 0.9168\n",
            "Epoch 19/100\n",
            "54000/54000 [==============================] - 5s 91us/step - loss: 0.1687 - accuracy: 0.9358 - val_loss: 0.2249 - val_accuracy: 0.9237\n",
            "Epoch 20/100\n",
            "54000/54000 [==============================] - 5s 91us/step - loss: 0.1651 - accuracy: 0.9378 - val_loss: 0.2239 - val_accuracy: 0.9227\n",
            "Epoch 21/100\n",
            "54000/54000 [==============================] - 5s 91us/step - loss: 0.1612 - accuracy: 0.9389 - val_loss: 0.2130 - val_accuracy: 0.9245\n",
            "Epoch 22/100\n",
            "54000/54000 [==============================] - 5s 90us/step - loss: 0.1579 - accuracy: 0.9413 - val_loss: 0.2162 - val_accuracy: 0.9252\n",
            "Epoch 23/100\n",
            "54000/54000 [==============================] - 5s 90us/step - loss: 0.1574 - accuracy: 0.9402 - val_loss: 0.2120 - val_accuracy: 0.9253\n",
            "Epoch 24/100\n",
            "54000/54000 [==============================] - 5s 90us/step - loss: 0.1508 - accuracy: 0.9428 - val_loss: 0.2227 - val_accuracy: 0.9218\n",
            "Epoch 25/100\n",
            "54000/54000 [==============================] - 5s 91us/step - loss: 0.1520 - accuracy: 0.9432 - val_loss: 0.2070 - val_accuracy: 0.9275\n",
            "Epoch 26/100\n",
            "54000/54000 [==============================] - 5s 91us/step - loss: 0.1510 - accuracy: 0.9420 - val_loss: 0.2190 - val_accuracy: 0.9238\n",
            "Epoch 27/100\n",
            "54000/54000 [==============================] - 5s 90us/step - loss: 0.1469 - accuracy: 0.9431 - val_loss: 0.2072 - val_accuracy: 0.9290\n",
            "Epoch 28/100\n",
            "54000/54000 [==============================] - 5s 89us/step - loss: 0.1423 - accuracy: 0.9455 - val_loss: 0.2132 - val_accuracy: 0.9287\n",
            "Epoch 29/100\n",
            "54000/54000 [==============================] - 5s 91us/step - loss: 0.1433 - accuracy: 0.9455 - val_loss: 0.2163 - val_accuracy: 0.9263\n",
            "Epoch 30/100\n",
            "54000/54000 [==============================] - 5s 91us/step - loss: 0.1391 - accuracy: 0.9468 - val_loss: 0.2240 - val_accuracy: 0.9257\n",
            "Epoch 31/100\n",
            "54000/54000 [==============================] - 5s 89us/step - loss: 0.1363 - accuracy: 0.9481 - val_loss: 0.2293 - val_accuracy: 0.9265\n",
            "Epoch 32/100\n",
            "54000/54000 [==============================] - 5s 90us/step - loss: 0.1370 - accuracy: 0.9478 - val_loss: 0.2297 - val_accuracy: 0.9263\n",
            "Epoch 33/100\n",
            "54000/54000 [==============================] - 5s 90us/step - loss: 0.1348 - accuracy: 0.9485 - val_loss: 0.2203 - val_accuracy: 0.9243\n",
            "Epoch 34/100\n",
            "54000/54000 [==============================] - 5s 90us/step - loss: 0.1300 - accuracy: 0.9507 - val_loss: 0.2293 - val_accuracy: 0.9265\n",
            "Epoch 35/100\n",
            "54000/54000 [==============================] - 5s 90us/step - loss: 0.1311 - accuracy: 0.9499 - val_loss: 0.2210 - val_accuracy: 0.9298\n",
            "Epoch 36/100\n",
            "54000/54000 [==============================] - 5s 93us/step - loss: 0.1275 - accuracy: 0.9511 - val_loss: 0.2154 - val_accuracy: 0.9288\n",
            "Epoch 37/100\n",
            "54000/54000 [==============================] - 5s 90us/step - loss: 0.1262 - accuracy: 0.9524 - val_loss: 0.2279 - val_accuracy: 0.9273\n",
            "Epoch 38/100\n",
            "54000/54000 [==============================] - 5s 90us/step - loss: 0.1268 - accuracy: 0.9525 - val_loss: 0.2308 - val_accuracy: 0.9283\n",
            "Epoch 39/100\n",
            "54000/54000 [==============================] - 5s 90us/step - loss: 0.1254 - accuracy: 0.9531 - val_loss: 0.2311 - val_accuracy: 0.9272\n",
            "Epoch 40/100\n",
            "54000/54000 [==============================] - 5s 89us/step - loss: 0.1245 - accuracy: 0.9530 - val_loss: 0.2248 - val_accuracy: 0.9297\n",
            "Epoch 41/100\n",
            "54000/54000 [==============================] - 5s 90us/step - loss: 0.1214 - accuracy: 0.9546 - val_loss: 0.2342 - val_accuracy: 0.9278\n",
            "Epoch 42/100\n",
            "54000/54000 [==============================] - 5s 90us/step - loss: 0.1188 - accuracy: 0.9548 - val_loss: 0.2189 - val_accuracy: 0.9313\n",
            "Epoch 43/100\n",
            "54000/54000 [==============================] - 5s 89us/step - loss: 0.1173 - accuracy: 0.9549 - val_loss: 0.2424 - val_accuracy: 0.9232\n",
            "Epoch 44/100\n",
            "54000/54000 [==============================] - 5s 90us/step - loss: 0.1180 - accuracy: 0.9551 - val_loss: 0.2350 - val_accuracy: 0.9292\n",
            "Epoch 45/100\n",
            "54000/54000 [==============================] - 5s 90us/step - loss: 0.1164 - accuracy: 0.9563 - val_loss: 0.2284 - val_accuracy: 0.9277\n",
            "Epoch 46/100\n",
            "54000/54000 [==============================] - 5s 89us/step - loss: 0.1147 - accuracy: 0.9561 - val_loss: 0.2341 - val_accuracy: 0.9295\n",
            "Epoch 47/100\n",
            "54000/54000 [==============================] - 5s 90us/step - loss: 0.1127 - accuracy: 0.9574 - val_loss: 0.2296 - val_accuracy: 0.9300\n",
            "Epoch 48/100\n",
            "54000/54000 [==============================] - 5s 90us/step - loss: 0.1112 - accuracy: 0.9572 - val_loss: 0.2258 - val_accuracy: 0.9300\n",
            "Epoch 49/100\n",
            "54000/54000 [==============================] - 5s 90us/step - loss: 0.1111 - accuracy: 0.9574 - val_loss: 0.2382 - val_accuracy: 0.9282\n",
            "Epoch 50/100\n",
            "54000/54000 [==============================] - 5s 89us/step - loss: 0.1123 - accuracy: 0.9570 - val_loss: 0.2312 - val_accuracy: 0.9297\n",
            "Epoch 51/100\n",
            "54000/54000 [==============================] - 5s 89us/step - loss: 0.1122 - accuracy: 0.9577 - val_loss: 0.2360 - val_accuracy: 0.9285\n",
            "Epoch 52/100\n",
            "54000/54000 [==============================] - 5s 89us/step - loss: 0.1095 - accuracy: 0.9589 - val_loss: 0.2452 - val_accuracy: 0.9285\n",
            "Restoring model weights from the end of the best epoch\n",
            "Epoch 00052: early stopping\n",
            "Finished training.\n",
            "------------------\n"
          ],
          "name": "stdout"
        }
      ]
    },
    {
      "cell_type": "code",
      "metadata": {
        "colab_type": "code",
        "id": "LsYUR8JTMBAV",
        "colab": {
          "base_uri": "https://localhost:8080/",
          "height": 52
        },
        "outputId": "16ec5769-2ff6-4a1b-d8fd-1f445453cde3"
      },
      "source": [
        "# Find the scores from the epochs according to Early stopping\n",
        "best_epoch = np.argmax(cnn_hs_adam.history['val_accuracy']) \n",
        "print('Best epoch=',best_epoch)\n",
        "print('Best val_accuracy=',np.max(cnn_hs_adam.history['val_accuracy']))"
      ],
      "execution_count": null,
      "outputs": [
        {
          "output_type": "stream",
          "text": [
            "Best epoch= 41\n",
            "Best val_accuracy= 0.9313333630561829\n"
          ],
          "name": "stdout"
        }
      ]
    },
    {
      "cell_type": "code",
      "metadata": {
        "colab_type": "code",
        "id": "z0CSqZpCMBAm",
        "colab": {
          "base_uri": "https://localhost:8080/",
          "height": 139
        },
        "outputId": "42a0fcf9-da07-4d08-eb78-b1919257db43"
      },
      "source": [
        "#print results at last epoch\n",
        "print_results(cnn_hs_adam,cnn_model_adam,best_epoch=best_epoch)"
      ],
      "execution_count": null,
      "outputs": [
        {
          "output_type": "stream",
          "text": [
            "Train Loss     : 0.11879\n",
            "Validation Loss: 0.21890\n",
            "Test Loss: 0.24483\n",
            "-------\n",
            "Train Accuracy     : 0.95476\n",
            "Validation Accuracy: 0.93133\n",
            "Test Accuracy: 0.92740\n"
          ],
          "name": "stdout"
        }
      ]
    },
    {
      "cell_type": "markdown",
      "metadata": {
        "id": "MVVtS0QqPV0b",
        "colab_type": "text"
      },
      "source": [
        "### Remove Conv_Dropout"
      ]
    },
    {
      "cell_type": "code",
      "metadata": {
        "colab_type": "code",
        "id": "HM0vWlvIPbMd",
        "colab": {
          "base_uri": "https://localhost:8080/",
          "height": 1000
        },
        "outputId": "267ae65b-3422-4758-b153-66896a47cdf5"
      },
      "source": [
        "#call the baseline Model through the train function\n",
        "cnn_model_adam,cnn_hs_adam=train_model(\n",
        "    train_data=X_train,\n",
        "    train_labels=y_train,\n",
        "    optimizer=Adam,\n",
        "    epochs=100,\n",
        "    batch_size=128,\n",
        "    model_params=model_params\n",
        ")"
      ],
      "execution_count": null,
      "outputs": [
        {
          "output_type": "stream",
          "text": [
            "------------------\n",
            "Model: \"model_8\"\n",
            "_________________________________________________________________\n",
            "Layer (type)                 Output Shape              Param #   \n",
            "=================================================================\n",
            "Input (InputLayer)           (None, 28, 28, 1)         0         \n",
            "_________________________________________________________________\n",
            "Conv2D-1 (Conv2D)            (None, 28, 28, 16)        160       \n",
            "_________________________________________________________________\n",
            "Batch_Normalization-1 (Batch (None, 28, 28, 16)        112       \n",
            "_________________________________________________________________\n",
            "MaxPool2D-1 (MaxPooling2D)   (None, 14, 14, 16)        0         \n",
            "_________________________________________________________________\n",
            "Conv_Dropout-1 (Dropout)     (None, 14, 14, 16)        0         \n",
            "_________________________________________________________________\n",
            "Conv2D-2 (Conv2D)            (None, 14, 14, 32)        4640      \n",
            "_________________________________________________________________\n",
            "Batch_Normalization-2 (Batch (None, 14, 14, 32)        56        \n",
            "_________________________________________________________________\n",
            "MaxPool2D-2 (MaxPooling2D)   (None, 7, 7, 32)          0         \n",
            "_________________________________________________________________\n",
            "Conv_Dropout-2 (Dropout)     (None, 7, 7, 32)          0         \n",
            "_________________________________________________________________\n",
            "Conv2D-3 (Conv2D)            (None, 7, 7, 64)          18496     \n",
            "_________________________________________________________________\n",
            "Batch_Normalization-3 (Batch (None, 7, 7, 64)          28        \n",
            "_________________________________________________________________\n",
            "MaxPool2D-3 (MaxPooling2D)   (None, 4, 4, 64)          0         \n",
            "_________________________________________________________________\n",
            "Conv_Dropout-3 (Dropout)     (None, 4, 4, 64)          0         \n",
            "_________________________________________________________________\n",
            "Flatten (Flatten)            (None, 1024)              0         \n",
            "_________________________________________________________________\n",
            "Hidden-1 (Dense)             (None, 256)               262400    \n",
            "_________________________________________________________________\n",
            "Dropout-1 (Dropout)          (None, 256)               0         \n",
            "_________________________________________________________________\n",
            "Output (Dense)               (None, 10)                2570      \n",
            "=================================================================\n",
            "Total params: 288,462\n",
            "Trainable params: 288,364\n",
            "Non-trainable params: 98\n",
            "_________________________________________________________________\n"
          ],
          "name": "stdout"
        },
        {
          "output_type": "display_data",
          "data": {
            "image/png": "[encoded data removed]",
            "text/plain": [
              "<IPython.core.display.Image object>"
            ]
          },
          "metadata": {
            "tags": []
          }
        },
        {
          "output_type": "stream",
          "text": [
            "Train on 54000 samples, validate on 6000 samples\n",
            "Epoch 1/100\n",
            "54000/54000 [==============================] - 6s 108us/step - loss: 0.5480 - accuracy: 0.7944 - val_loss: 0.8812 - val_accuracy: 0.6907\n",
            "Epoch 2/100\n",
            "54000/54000 [==============================] - 5s 91us/step - loss: 0.3413 - accuracy: 0.8727 - val_loss: 0.2992 - val_accuracy: 0.8827\n",
            "Epoch 3/100\n",
            "54000/54000 [==============================] - 5s 91us/step - loss: 0.3015 - accuracy: 0.8886 - val_loss: 0.2679 - val_accuracy: 0.8990\n",
            "Epoch 4/100\n",
            "54000/54000 [==============================] - 5s 91us/step - loss: 0.2754 - accuracy: 0.8974 - val_loss: 0.2743 - val_accuracy: 0.9007\n",
            "Epoch 5/100\n",
            "54000/54000 [==============================] - 5s 91us/step - loss: 0.2600 - accuracy: 0.9036 - val_loss: 0.2574 - val_accuracy: 0.9057\n",
            "Epoch 6/100\n",
            "54000/54000 [==============================] - 5s 91us/step - loss: 0.2468 - accuracy: 0.9074 - val_loss: 0.2328 - val_accuracy: 0.9150\n",
            "Epoch 7/100\n",
            "54000/54000 [==============================] - 5s 90us/step - loss: 0.2350 - accuracy: 0.9118 - val_loss: 0.2297 - val_accuracy: 0.9168\n",
            "Epoch 8/100\n",
            "54000/54000 [==============================] - 5s 91us/step - loss: 0.2245 - accuracy: 0.9158 - val_loss: 0.2250 - val_accuracy: 0.9167\n",
            "Epoch 9/100\n",
            "54000/54000 [==============================] - 5s 90us/step - loss: 0.2180 - accuracy: 0.9183 - val_loss: 0.2282 - val_accuracy: 0.9175\n",
            "Epoch 10/100\n",
            "54000/54000 [==============================] - 5s 90us/step - loss: 0.2141 - accuracy: 0.9215 - val_loss: 0.2224 - val_accuracy: 0.9187\n",
            "Epoch 11/100\n",
            "54000/54000 [==============================] - 5s 92us/step - loss: 0.2054 - accuracy: 0.9237 - val_loss: 0.2185 - val_accuracy: 0.9212\n",
            "Epoch 12/100\n",
            "54000/54000 [==============================] - 5s 91us/step - loss: 0.1992 - accuracy: 0.9243 - val_loss: 0.2255 - val_accuracy: 0.9232\n",
            "Epoch 13/100\n",
            "54000/54000 [==============================] - 5s 91us/step - loss: 0.1935 - accuracy: 0.9270 - val_loss: 0.2228 - val_accuracy: 0.9227\n",
            "Epoch 14/100\n",
            "54000/54000 [==============================] - 5s 91us/step - loss: 0.1908 - accuracy: 0.9286 - val_loss: 0.2166 - val_accuracy: 0.9232\n",
            "Epoch 15/100\n",
            "54000/54000 [==============================] - 5s 90us/step - loss: 0.1859 - accuracy: 0.9300 - val_loss: 0.2260 - val_accuracy: 0.9210\n",
            "Epoch 16/100\n",
            "54000/54000 [==============================] - 5s 90us/step - loss: 0.1807 - accuracy: 0.9317 - val_loss: 0.2188 - val_accuracy: 0.9220\n",
            "Epoch 17/100\n",
            "54000/54000 [==============================] - 5s 90us/step - loss: 0.1727 - accuracy: 0.9348 - val_loss: 0.2156 - val_accuracy: 0.9275\n",
            "Epoch 18/100\n",
            "54000/54000 [==============================] - 5s 91us/step - loss: 0.1720 - accuracy: 0.9352 - val_loss: 0.2156 - val_accuracy: 0.9228\n",
            "Epoch 19/100\n",
            "54000/54000 [==============================] - 5s 90us/step - loss: 0.1705 - accuracy: 0.9360 - val_loss: 0.2099 - val_accuracy: 0.9252\n",
            "Epoch 20/100\n",
            "54000/54000 [==============================] - 5s 90us/step - loss: 0.1620 - accuracy: 0.9389 - val_loss: 0.2103 - val_accuracy: 0.9260\n",
            "Epoch 21/100\n",
            "54000/54000 [==============================] - 5s 90us/step - loss: 0.1621 - accuracy: 0.9373 - val_loss: 0.2209 - val_accuracy: 0.9272\n",
            "Epoch 22/100\n",
            "54000/54000 [==============================] - 5s 90us/step - loss: 0.1571 - accuracy: 0.9406 - val_loss: 0.2127 - val_accuracy: 0.9265\n",
            "Epoch 23/100\n",
            "54000/54000 [==============================] - 5s 91us/step - loss: 0.1545 - accuracy: 0.9418 - val_loss: 0.2088 - val_accuracy: 0.9293\n",
            "Epoch 24/100\n",
            "54000/54000 [==============================] - 5s 91us/step - loss: 0.1519 - accuracy: 0.9410 - val_loss: 0.2220 - val_accuracy: 0.9240\n",
            "Epoch 25/100\n",
            "54000/54000 [==============================] - 5s 91us/step - loss: 0.1521 - accuracy: 0.9421 - val_loss: 0.2099 - val_accuracy: 0.9278\n",
            "Epoch 26/100\n",
            "54000/54000 [==============================] - 5s 91us/step - loss: 0.1489 - accuracy: 0.9437 - val_loss: 0.2079 - val_accuracy: 0.9272\n",
            "Epoch 27/100\n",
            "54000/54000 [==============================] - 5s 90us/step - loss: 0.1470 - accuracy: 0.9439 - val_loss: 0.2170 - val_accuracy: 0.9273\n",
            "Epoch 28/100\n",
            "54000/54000 [==============================] - 5s 89us/step - loss: 0.1461 - accuracy: 0.9451 - val_loss: 0.2160 - val_accuracy: 0.9282\n",
            "Epoch 29/100\n",
            "54000/54000 [==============================] - 5s 91us/step - loss: 0.1426 - accuracy: 0.9463 - val_loss: 0.2168 - val_accuracy: 0.9302\n",
            "Epoch 30/100\n",
            "54000/54000 [==============================] - 5s 90us/step - loss: 0.1390 - accuracy: 0.9480 - val_loss: 0.2421 - val_accuracy: 0.9243\n",
            "Epoch 31/100\n",
            "54000/54000 [==============================] - 5s 91us/step - loss: 0.1379 - accuracy: 0.9471 - val_loss: 0.2222 - val_accuracy: 0.9247\n",
            "Epoch 32/100\n",
            "54000/54000 [==============================] - 5s 93us/step - loss: 0.1375 - accuracy: 0.9475 - val_loss: 0.2175 - val_accuracy: 0.9260\n",
            "Epoch 33/100\n",
            "54000/54000 [==============================] - 5s 93us/step - loss: 0.1359 - accuracy: 0.9490 - val_loss: 0.2173 - val_accuracy: 0.9268\n",
            "Epoch 34/100\n",
            "54000/54000 [==============================] - 5s 90us/step - loss: 0.1305 - accuracy: 0.9497 - val_loss: 0.2292 - val_accuracy: 0.9290\n",
            "Epoch 35/100\n",
            "54000/54000 [==============================] - 5s 90us/step - loss: 0.1305 - accuracy: 0.9499 - val_loss: 0.2235 - val_accuracy: 0.9287\n",
            "Epoch 36/100\n",
            "54000/54000 [==============================] - 5s 90us/step - loss: 0.1287 - accuracy: 0.9514 - val_loss: 0.2176 - val_accuracy: 0.9265\n",
            "Epoch 37/100\n",
            "54000/54000 [==============================] - 5s 91us/step - loss: 0.1264 - accuracy: 0.9509 - val_loss: 0.2302 - val_accuracy: 0.9272\n",
            "Epoch 38/100\n",
            "54000/54000 [==============================] - 5s 90us/step - loss: 0.1273 - accuracy: 0.9514 - val_loss: 0.2263 - val_accuracy: 0.9302\n",
            "Epoch 39/100\n",
            "54000/54000 [==============================] - 5s 89us/step - loss: 0.1243 - accuracy: 0.9521 - val_loss: 0.2311 - val_accuracy: 0.9263\n",
            "Restoring model weights from the end of the best epoch\n",
            "Epoch 00039: early stopping\n",
            "Finished training.\n",
            "------------------\n"
          ],
          "name": "stdout"
        }
      ]
    },
    {
      "cell_type": "code",
      "metadata": {
        "colab_type": "code",
        "id": "RIdFri1kPbM_",
        "colab": {
          "base_uri": "https://localhost:8080/",
          "height": 52
        },
        "outputId": "330f947f-a0bf-4455-97de-f19f20c5cb23"
      },
      "source": [
        "# Find the scores from the epochs according to Early stopping\n",
        "best_epoch = np.argmax(cnn_hs_adam.history['val_accuracy']) \n",
        "print('Best epoch=',best_epoch)\n",
        "print('Best val_accuracy=',np.max(cnn_hs_adam.history['val_accuracy']))"
      ],
      "execution_count": null,
      "outputs": [
        {
          "output_type": "stream",
          "text": [
            "Best epoch= 28\n",
            "Best val_accuracy= 0.9301666617393494\n"
          ],
          "name": "stdout"
        }
      ]
    },
    {
      "cell_type": "code",
      "metadata": {
        "colab_type": "code",
        "id": "1jSk5AMBPbNO",
        "colab": {
          "base_uri": "https://localhost:8080/",
          "height": 139
        },
        "outputId": "b5641cf8-0a3d-4b7e-89ea-74e67558ca13"
      },
      "source": [
        "#print results at last epoch\n",
        "print_results(cnn_hs_adam,cnn_model_adam,best_epoch=best_epoch)"
      ],
      "execution_count": null,
      "outputs": [
        {
          "output_type": "stream",
          "text": [
            "Train Loss     : 0.14260\n",
            "Validation Loss: 0.21682\n",
            "Test Loss: 0.23236\n",
            "-------\n",
            "Train Accuracy     : 0.94633\n",
            "Validation Accuracy: 0.93017\n",
            "Test Accuracy: 0.92400\n"
          ],
          "name": "stdout"
        }
      ]
    },
    {
      "cell_type": "code",
      "metadata": {
        "id": "wpXSZMBaPcwV",
        "colab_type": "code",
        "colab": {}
      },
      "source": [
        "# The accuracy dropped ."
      ],
      "execution_count": null,
      "outputs": []
    },
    {
      "cell_type": "code",
      "metadata": {
        "id": "O-9zrkNRRyZN",
        "colab_type": "code",
        "colab": {
          "base_uri": "https://localhost:8080/",
          "height": 507
        },
        "outputId": "93828522-f7d5-4065-f315-844c1f54d28c"
      },
      "source": [
        "viz_history(hs_dict={'CNN_adam_batchNorm_noDropout':cnn_hs_adam},metric='accuracy')"
      ],
      "execution_count": null,
      "outputs": [
        {
          "output_type": "display_data",
          "data": {
            "image/png": "[encoded data removed]",
            "text/plain": [
              "<Figure size 1080x576 with 1 Axes>"
            ]
          },
          "metadata": {
            "tags": []
          }
        }
      ]
    },
    {
      "cell_type": "markdown",
      "metadata": {
        "id": "iPl9VUr7Rrgr",
        "colab_type": "text"
      },
      "source": [
        "### Fine tuning with Keras-Tuner"
      ]
    },
    {
      "cell_type": "code",
      "metadata": {
        "id": "bYRGBXMRXS_I",
        "colab_type": "code",
        "colab": {}
      },
      "source": [
        "!pip install keras-tuner"
      ],
      "execution_count": null,
      "outputs": []
    },
    {
      "cell_type": "code",
      "metadata": {
        "id": "mhXzz9Y0YLuK",
        "colab_type": "code",
        "colab": {}
      },
      "source": [
        "import kerastuner as kt"
      ],
      "execution_count": null,
      "outputs": []
    },
    {
      "cell_type": "code",
      "metadata": {
        "id": "3A_Sab9Nj4by",
        "colab_type": "code",
        "colab": {}
      },
      "source": [
        "def tune_model(hp):\n",
        "    input = tf.keras.Input(\n",
        "          shape=input_shape,\n",
        "          name='Input'\n",
        "      )\n",
        "\n",
        "    x = input\n",
        "    # Define the convolutional layers.\n",
        "    for i in range(model_params['conv_layers']):\n",
        "        x = tf.keras.layers.Conv2D(\n",
        "            filters=16*(2**i),\n",
        "            kernel_size=model_params['kernel_size'],\n",
        "            strides=model_params['strides'],\n",
        "            padding='same',\n",
        "            dilation_rate=(1, 1),\n",
        "            activation=model_params['conv_activation'],\n",
        "            name='Conv2D-{0:d}'.format(i + 1)\n",
        "        )(x)\n",
        "\n",
        "\n",
        "        if model_params['batch_normalization']:\n",
        "            x = tf.keras.layers.BatchNormalization(axis=2,name='Batch_Normalization-{0:d}'.format(i + 1)\n",
        "                                )(x)\n",
        "\n",
        "\n",
        "        x = tf.keras.layers.MaxPool2D(\n",
        "            pool_size=(2, 2),\n",
        "            strides=(2, 2),\n",
        "            padding='same',\n",
        "            name='MaxPool2D-{0:d}'.format(i + 1)\n",
        "        )(x)\n",
        "        if model_params['conv_dropout']:\n",
        "            x = tf.keras.layers.Dropout(\n",
        "                rate=model_params['conv_dropout'],\n",
        "                name='Conv_Dropout-{0:d}'.format(i + 1)\n",
        "            )(x)\n",
        "    # Flatten the convolved images so as to input them to a Dense Layer\n",
        "    x = tf.keras.layers.Flatten(name='Flatten')(x)\n",
        "\n",
        "    hp_units = hp.Choice('hidden_units',values=[128])\n",
        "    hp_hidden_layers=hp.Choice('hidden_layers',values=[1])\n",
        "    hp_hidden_activation=hp.Choice('hidden_activation',values=['relu'])\n",
        "    hp_dropout=hp.Choice('dropout',values=[0.2])\n",
        "    # Define the remaining hidden layers.\n",
        "    for i in range( hp_hidden_layers):\n",
        "        x = tf.keras.layers.Dense(\n",
        "            units=hp_units,\n",
        "            kernel_initializer='glorot_uniform',\n",
        "            activation=hp_hidden_activation,\n",
        "            name='Hidden-{0:d}'.format(i + 1)\n",
        "        )(x)\n",
        "        x = tf.keras.layers.Dropout(\n",
        "              rate=hp_dropout,\n",
        "              name='Dropout-{0:d}'.format(i + 1)\n",
        "          )(x)\n",
        "        \n",
        "    # Define the output layer.\n",
        "    output = tf.keras.layers.Dense(\n",
        "        units=10,\n",
        "        kernel_initializer='uniform',\n",
        "        activation='softmax',\n",
        "        name='Output'\n",
        "    )(x)\n",
        "\n",
        "    # Define the model and train it.\n",
        "    model = tf.keras.Model(inputs=input, outputs=output)\n",
        "    model.compile(optimizer=tf.keras.optimizers.SGD(\n",
        "                hp.Float(\n",
        "                    'lr',\n",
        "                    min_value=1e-4,\n",
        "                    max_value=1e-2,\n",
        "                    sampling='LOG',\n",
        "                    default=1e-3),\n",
        "                    momentum=0.9,\n",
        "                    nesterov=True),\n",
        "                    loss='categorical_crossentropy', \n",
        "                    metrics=['accuracy'])\n",
        "    return model\n",
        "\n",
        "    \n"
      ],
      "execution_count": null,
      "outputs": []
    },
    {
      "cell_type": "code",
      "metadata": {
        "id": "TEkOvGyoXXPh",
        "colab_type": "code",
        "colab": {}
      },
      "source": [
        "MAX_TRIALS = 20\n",
        "EXECUTIONS_PER_TRIAL = 1\n",
        "\n",
        "!rm -R /content/tune_model\n"
      ],
      "execution_count": null,
      "outputs": []
    },
    {
      "cell_type": "code",
      "metadata": {
        "id": "h3voIlwtYOHH",
        "colab_type": "code",
        "colab": {}
      },
      "source": [
        "tuner_adam = kt.RandomSearch(tune_model,\n",
        "    objective='val_accuracy',\n",
        "    max_trials=MAX_TRIALS,\n",
        "    executions_per_trial=EXECUTIONS_PER_TRIAL,\n",
        "    project_name='tune_model',\n",
        "    seed=1\n",
        "\n",
        ")"
      ],
      "execution_count": null,
      "outputs": []
    },
    {
      "cell_type": "code",
      "metadata": {
        "id": "whwcRmyHkjwy",
        "colab_type": "code",
        "colab": {
          "base_uri": "https://localhost:8080/",
          "height": 554
        },
        "outputId": "b1a41478-465d-422c-e320-7fa0f1b4be92"
      },
      "source": [
        "tuner_adam.search_space_summary()"
      ],
      "execution_count": null,
      "outputs": [
        {
          "output_type": "display_data",
          "data": {
            "text/html": [
              "<span style=\"color:#4527A0\"><h1 style=\"font-size:18px\">Search space summary</h1></span>"
            ],
            "text/plain": [
              "<IPython.core.display.HTML object>"
            ]
          },
          "metadata": {
            "tags": []
          }
        },
        {
          "output_type": "display_data",
          "data": {
            "text/html": [
              "<span style=\"color:cyan\"> |-Default search space size: 5</span>"
            ],
            "text/plain": [
              "<IPython.core.display.HTML object>"
            ]
          },
          "metadata": {
            "tags": []
          }
        },
        {
          "output_type": "display_data",
          "data": {
            "text/html": [
              "<span style=\"color:#7E57C2\"><h2 style=\"font-size:16px\">hidden_units (Choice)</h2></span>"
            ],
            "text/plain": [
              "<IPython.core.display.HTML object>"
            ]
          },
          "metadata": {
            "tags": []
          }
        },
        {
          "output_type": "display_data",
          "data": {
            "text/html": [
              "<span style=\"color:cyan\"> |-default: 256</span>"
            ],
            "text/plain": [
              "<IPython.core.display.HTML object>"
            ]
          },
          "metadata": {
            "tags": []
          }
        },
        {
          "output_type": "display_data",
          "data": {
            "text/html": [
              "<span style=\"color:blue\"> |-ordered: True</span>"
            ],
            "text/plain": [
              "<IPython.core.display.HTML object>"
            ]
          },
          "metadata": {
            "tags": []
          }
        },
        {
          "output_type": "display_data",
          "data": {
            "text/html": [
              "<span style=\"color:cyan\"> |-values: [256]</span>"
            ],
            "text/plain": [
              "<IPython.core.display.HTML object>"
            ]
          },
          "metadata": {
            "tags": []
          }
        },
        {
          "output_type": "display_data",
          "data": {
            "text/html": [
              "<span style=\"color:#7E57C2\"><h2 style=\"font-size:16px\">hidden_layers (Choice)</h2></span>"
            ],
            "text/plain": [
              "<IPython.core.display.HTML object>"
            ]
          },
          "metadata": {
            "tags": []
          }
        },
        {
          "output_type": "display_data",
          "data": {
            "text/html": [
              "<span style=\"color:cyan\"> |-default: 2</span>"
            ],
            "text/plain": [
              "<IPython.core.display.HTML object>"
            ]
          },
          "metadata": {
            "tags": []
          }
        },
        {
          "output_type": "display_data",
          "data": {
            "text/html": [
              "<span style=\"color:blue\"> |-ordered: True</span>"
            ],
            "text/plain": [
              "<IPython.core.display.HTML object>"
            ]
          },
          "metadata": {
            "tags": []
          }
        },
        {
          "output_type": "display_data",
          "data": {
            "text/html": [
              "<span style=\"color:cyan\"> |-values: [2]</span>"
            ],
            "text/plain": [
              "<IPython.core.display.HTML object>"
            ]
          },
          "metadata": {
            "tags": []
          }
        },
        {
          "output_type": "display_data",
          "data": {
            "text/html": [
              "<span style=\"color:#7E57C2\"><h2 style=\"font-size:16px\">hidden_activation (Choice)</h2></span>"
            ],
            "text/plain": [
              "<IPython.core.display.HTML object>"
            ]
          },
          "metadata": {
            "tags": []
          }
        },
        {
          "output_type": "display_data",
          "data": {
            "text/html": [
              "<span style=\"color:cyan\"> |-default: relu</span>"
            ],
            "text/plain": [
              "<IPython.core.display.HTML object>"
            ]
          },
          "metadata": {
            "tags": []
          }
        },
        {
          "output_type": "display_data",
          "data": {
            "text/html": [
              "<span style=\"color:blue\"> |-ordered: False</span>"
            ],
            "text/plain": [
              "<IPython.core.display.HTML object>"
            ]
          },
          "metadata": {
            "tags": []
          }
        },
        {
          "output_type": "display_data",
          "data": {
            "text/html": [
              "<span style=\"color:cyan\"> |-values: ['relu']</span>"
            ],
            "text/plain": [
              "<IPython.core.display.HTML object>"
            ]
          },
          "metadata": {
            "tags": []
          }
        },
        {
          "output_type": "display_data",
          "data": {
            "text/html": [
              "<span style=\"color:#7E57C2\"><h2 style=\"font-size:16px\">dropout (Choice)</h2></span>"
            ],
            "text/plain": [
              "<IPython.core.display.HTML object>"
            ]
          },
          "metadata": {
            "tags": []
          }
        },
        {
          "output_type": "display_data",
          "data": {
            "text/html": [
              "<span style=\"color:cyan\"> |-default: 0.2</span>"
            ],
            "text/plain": [
              "<IPython.core.display.HTML object>"
            ]
          },
          "metadata": {
            "tags": []
          }
        },
        {
          "output_type": "display_data",
          "data": {
            "text/html": [
              "<span style=\"color:blue\"> |-ordered: True</span>"
            ],
            "text/plain": [
              "<IPython.core.display.HTML object>"
            ]
          },
          "metadata": {
            "tags": []
          }
        },
        {
          "output_type": "display_data",
          "data": {
            "text/html": [
              "<span style=\"color:cyan\"> |-values: [0.2]</span>"
            ],
            "text/plain": [
              "<IPython.core.display.HTML object>"
            ]
          },
          "metadata": {
            "tags": []
          }
        },
        {
          "output_type": "display_data",
          "data": {
            "text/html": [
              "<span style=\"color:#7E57C2\"><h2 style=\"font-size:16px\">lr (Float)</h2></span>"
            ],
            "text/plain": [
              "<IPython.core.display.HTML object>"
            ]
          },
          "metadata": {
            "tags": []
          }
        },
        {
          "output_type": "display_data",
          "data": {
            "text/html": [
              "<span style=\"color:cyan\"> |-default: 0.001</span>"
            ],
            "text/plain": [
              "<IPython.core.display.HTML object>"
            ]
          },
          "metadata": {
            "tags": []
          }
        },
        {
          "output_type": "display_data",
          "data": {
            "text/html": [
              "<span style=\"color:blue\"> |-max_value: 0.01</span>"
            ],
            "text/plain": [
              "<IPython.core.display.HTML object>"
            ]
          },
          "metadata": {
            "tags": []
          }
        },
        {
          "output_type": "display_data",
          "data": {
            "text/html": [
              "<span style=\"color:cyan\"> |-min_value: 0.0001</span>"
            ],
            "text/plain": [
              "<IPython.core.display.HTML object>"
            ]
          },
          "metadata": {
            "tags": []
          }
        },
        {
          "output_type": "display_data",
          "data": {
            "text/html": [
              "<span style=\"color:blue\"> |-sampling: log</span>"
            ],
            "text/plain": [
              "<IPython.core.display.HTML object>"
            ]
          },
          "metadata": {
            "tags": []
          }
        },
        {
          "output_type": "display_data",
          "data": {
            "text/html": [
              "<span style=\"color:cyan\"> |-step: None</span>"
            ],
            "text/plain": [
              "<IPython.core.display.HTML object>"
            ]
          },
          "metadata": {
            "tags": []
          }
        }
      ]
    },
    {
      "cell_type": "code",
      "metadata": {
        "id": "JqlXLj_6nY23",
        "colab_type": "code",
        "colab": {
          "base_uri": "https://localhost:8080/",
          "height": 1000
        },
        "outputId": "d9d86a45-69f7-4afb-915c-7bd617307588"
      },
      "source": [
        "tuner_adam.search(X_train,\n",
        "             y_train,\n",
        "             validation_split=0.1,\n",
        "             epochs=50,\n",
        "             batch_size=256,\n",
        "             callbacks=[tf.keras.callbacks.EarlyStopping(monitor='val_loss',\n",
        "                                   patience=5,\n",
        "                                   verbose=1,\n",
        "                                   restore_best_weights=True)])"
      ],
      "execution_count": null,
      "outputs": [
        {
          "output_type": "stream",
          "text": [
            "Epoch 1/50\n",
            "211/211 [==============================] - 3s 14ms/step - loss: 1.4201 - accuracy: 0.4700 - val_loss: 2.1649 - val_accuracy: 0.2437\n",
            "Epoch 2/50\n",
            "211/211 [==============================] - 3s 13ms/step - loss: 0.8699 - accuracy: 0.6706 - val_loss: 1.3070 - val_accuracy: 0.5832\n",
            "Epoch 3/50\n",
            "211/211 [==============================] - 3s 13ms/step - loss: 0.7221 - accuracy: 0.7239 - val_loss: 0.6694 - val_accuracy: 0.7558\n",
            "Epoch 4/50\n",
            "211/211 [==============================] - 3s 13ms/step - loss: 0.6616 - accuracy: 0.7472 - val_loss: 0.5679 - val_accuracy: 0.7817\n",
            "Epoch 5/50\n",
            "211/211 [==============================] - 3s 13ms/step - loss: 0.6213 - accuracy: 0.7629 - val_loss: 0.5167 - val_accuracy: 0.8022\n",
            "Epoch 6/50\n",
            "211/211 [==============================] - 3s 13ms/step - loss: 0.5862 - accuracy: 0.7768 - val_loss: 0.4975 - val_accuracy: 0.8132\n",
            "Epoch 7/50\n",
            "211/211 [==============================] - 3s 13ms/step - loss: 0.5619 - accuracy: 0.7873 - val_loss: 0.4611 - val_accuracy: 0.8270\n",
            "Epoch 8/50\n",
            "211/211 [==============================] - 3s 13ms/step - loss: 0.5393 - accuracy: 0.7980 - val_loss: 0.4510 - val_accuracy: 0.8352\n",
            "Epoch 9/50\n",
            "211/211 [==============================] - 3s 13ms/step - loss: 0.5167 - accuracy: 0.8051 - val_loss: 0.4277 - val_accuracy: 0.8423\n",
            "Epoch 10/50\n",
            "211/211 [==============================] - 3s 13ms/step - loss: 0.5011 - accuracy: 0.8144 - val_loss: 0.4148 - val_accuracy: 0.8485\n",
            "Epoch 11/50\n",
            "211/211 [==============================] - 3s 13ms/step - loss: 0.4833 - accuracy: 0.8202 - val_loss: 0.3965 - val_accuracy: 0.8543\n",
            "Epoch 12/50\n",
            "211/211 [==============================] - 3s 13ms/step - loss: 0.4720 - accuracy: 0.8258 - val_loss: 0.3852 - val_accuracy: 0.8560\n",
            "Epoch 13/50\n",
            "211/211 [==============================] - 3s 13ms/step - loss: 0.4568 - accuracy: 0.8319 - val_loss: 0.3720 - val_accuracy: 0.8617\n",
            "Epoch 14/50\n",
            "211/211 [==============================] - 3s 13ms/step - loss: 0.4505 - accuracy: 0.8354 - val_loss: 0.3615 - val_accuracy: 0.8637\n",
            "Epoch 15/50\n",
            "211/211 [==============================] - 3s 13ms/step - loss: 0.4380 - accuracy: 0.8391 - val_loss: 0.3619 - val_accuracy: 0.8645\n",
            "Epoch 16/50\n",
            "211/211 [==============================] - 3s 13ms/step - loss: 0.4282 - accuracy: 0.8433 - val_loss: 0.3522 - val_accuracy: 0.8692\n",
            "Epoch 17/50\n",
            "211/211 [==============================] - 3s 13ms/step - loss: 0.4178 - accuracy: 0.8466 - val_loss: 0.3393 - val_accuracy: 0.8723\n",
            "Epoch 18/50\n",
            "211/211 [==============================] - 3s 13ms/step - loss: 0.4109 - accuracy: 0.8485 - val_loss: 0.3343 - val_accuracy: 0.8720\n",
            "Epoch 19/50\n",
            "211/211 [==============================] - 3s 13ms/step - loss: 0.4013 - accuracy: 0.8538 - val_loss: 0.3311 - val_accuracy: 0.8760\n",
            "Epoch 20/50\n",
            "211/211 [==============================] - 3s 13ms/step - loss: 0.4007 - accuracy: 0.8536 - val_loss: 0.3290 - val_accuracy: 0.8740\n",
            "Epoch 21/50\n",
            "211/211 [==============================] - 3s 13ms/step - loss: 0.3896 - accuracy: 0.8570 - val_loss: 0.3272 - val_accuracy: 0.8765\n",
            "Epoch 22/50\n",
            "211/211 [==============================] - 3s 13ms/step - loss: 0.3905 - accuracy: 0.8568 - val_loss: 0.3130 - val_accuracy: 0.8837\n",
            "Epoch 23/50\n",
            "211/211 [==============================] - 3s 13ms/step - loss: 0.3813 - accuracy: 0.8602 - val_loss: 0.3114 - val_accuracy: 0.8828\n",
            "Epoch 24/50\n",
            "211/211 [==============================] - 3s 13ms/step - loss: 0.3729 - accuracy: 0.8629 - val_loss: 0.3119 - val_accuracy: 0.8825\n",
            "Epoch 25/50\n",
            "211/211 [==============================] - 3s 13ms/step - loss: 0.3708 - accuracy: 0.8624 - val_loss: 0.3006 - val_accuracy: 0.8875\n",
            "Epoch 26/50\n",
            "211/211 [==============================] - 3s 13ms/step - loss: 0.3678 - accuracy: 0.8655 - val_loss: 0.3060 - val_accuracy: 0.8873\n",
            "Epoch 27/50\n",
            "211/211 [==============================] - 3s 13ms/step - loss: 0.3627 - accuracy: 0.8675 - val_loss: 0.2958 - val_accuracy: 0.8902\n",
            "Epoch 28/50\n",
            "211/211 [==============================] - 3s 13ms/step - loss: 0.3586 - accuracy: 0.8679 - val_loss: 0.2956 - val_accuracy: 0.8880\n",
            "Epoch 29/50\n",
            "211/211 [==============================] - 3s 13ms/step - loss: 0.3532 - accuracy: 0.8708 - val_loss: 0.2888 - val_accuracy: 0.8908\n",
            "Epoch 30/50\n",
            "211/211 [==============================] - 3s 13ms/step - loss: 0.3488 - accuracy: 0.8722 - val_loss: 0.2885 - val_accuracy: 0.8927\n",
            "Epoch 31/50\n",
            "211/211 [==============================] - 3s 13ms/step - loss: 0.3470 - accuracy: 0.8729 - val_loss: 0.2877 - val_accuracy: 0.8918\n",
            "Epoch 32/50\n",
            "211/211 [==============================] - 3s 13ms/step - loss: 0.3475 - accuracy: 0.8723 - val_loss: 0.2823 - val_accuracy: 0.8940\n",
            "Epoch 33/50\n",
            "211/211 [==============================] - 3s 14ms/step - loss: 0.3379 - accuracy: 0.8766 - val_loss: 0.2815 - val_accuracy: 0.8975\n",
            "Epoch 34/50\n",
            "211/211 [==============================] - 3s 14ms/step - loss: 0.3391 - accuracy: 0.8747 - val_loss: 0.2755 - val_accuracy: 0.8987\n",
            "Epoch 35/50\n",
            "211/211 [==============================] - 3s 14ms/step - loss: 0.3350 - accuracy: 0.8777 - val_loss: 0.2730 - val_accuracy: 0.8958\n",
            "Epoch 36/50\n",
            "211/211 [==============================] - 3s 13ms/step - loss: 0.3327 - accuracy: 0.8777 - val_loss: 0.2793 - val_accuracy: 0.8972\n",
            "Epoch 37/50\n",
            "211/211 [==============================] - 3s 13ms/step - loss: 0.3300 - accuracy: 0.8788 - val_loss: 0.2755 - val_accuracy: 0.8972\n",
            "Epoch 38/50\n",
            "211/211 [==============================] - 3s 13ms/step - loss: 0.3249 - accuracy: 0.8813 - val_loss: 0.2710 - val_accuracy: 0.8998\n",
            "Epoch 39/50\n",
            "211/211 [==============================] - 3s 13ms/step - loss: 0.3237 - accuracy: 0.8820 - val_loss: 0.2732 - val_accuracy: 0.8975\n",
            "Epoch 40/50\n",
            "211/211 [==============================] - 3s 13ms/step - loss: 0.3213 - accuracy: 0.8816 - val_loss: 0.2677 - val_accuracy: 0.9007\n",
            "Epoch 41/50\n",
            "211/211 [==============================] - 3s 13ms/step - loss: 0.3192 - accuracy: 0.8818 - val_loss: 0.2725 - val_accuracy: 0.8980\n",
            "Epoch 42/50\n",
            "211/211 [==============================] - 3s 13ms/step - loss: 0.3205 - accuracy: 0.8819 - val_loss: 0.2657 - val_accuracy: 0.9017\n",
            "Epoch 43/50\n",
            "211/211 [==============================] - 3s 13ms/step - loss: 0.3148 - accuracy: 0.8849 - val_loss: 0.2808 - val_accuracy: 0.8958\n",
            "Epoch 44/50\n",
            "211/211 [==============================] - 3s 13ms/step - loss: 0.3142 - accuracy: 0.8859 - val_loss: 0.2629 - val_accuracy: 0.9032\n",
            "Epoch 45/50\n",
            "211/211 [==============================] - 3s 13ms/step - loss: 0.3111 - accuracy: 0.8865 - val_loss: 0.2583 - val_accuracy: 0.9028\n",
            "Epoch 46/50\n",
            "211/211 [==============================] - 3s 13ms/step - loss: 0.3091 - accuracy: 0.8871 - val_loss: 0.2610 - val_accuracy: 0.9018\n",
            "Epoch 47/50\n",
            "211/211 [==============================] - 3s 13ms/step - loss: 0.3060 - accuracy: 0.8871 - val_loss: 0.2569 - val_accuracy: 0.9043\n",
            "Epoch 48/50\n",
            "211/211 [==============================] - 3s 13ms/step - loss: 0.3056 - accuracy: 0.8882 - val_loss: 0.2670 - val_accuracy: 0.9023\n",
            "Epoch 49/50\n",
            "211/211 [==============================] - 3s 13ms/step - loss: 0.3058 - accuracy: 0.8864 - val_loss: 0.2611 - val_accuracy: 0.9030\n",
            "Epoch 50/50\n",
            "211/211 [==============================] - 3s 13ms/step - loss: 0.3037 - accuracy: 0.8878 - val_loss: 0.2577 - val_accuracy: 0.9042\n"
          ],
          "name": "stdout"
        },
        {
          "output_type": "display_data",
          "data": {
            "text/html": [
              "<span style=\"color:#4527A0\"><h1 style=\"font-size:18px\">Trial complete</h1></span>"
            ],
            "text/plain": [
              "<IPython.core.display.HTML object>"
            ]
          },
          "metadata": {
            "tags": []
          }
        },
        {
          "output_type": "display_data",
          "data": {
            "text/html": [
              "<span style=\"color:#4527A0\"><h1 style=\"font-size:18px\">Trial summary</h1></span>"
            ],
            "text/plain": [
              "<IPython.core.display.HTML object>"
            ]
          },
          "metadata": {
            "tags": []
          }
        },
        {
          "output_type": "display_data",
          "data": {
            "text/html": [
              "<span style=\"color:cyan\"> |-Trial ID: 1e154dfbfd4302dd28b5f59e8550970d</span>"
            ],
            "text/plain": [
              "<IPython.core.display.HTML object>"
            ]
          },
          "metadata": {
            "tags": []
          }
        },
        {
          "output_type": "display_data",
          "data": {
            "text/html": [
              "<span style=\"color:cyan\"> |-Score: 0.9043333530426025</span>"
            ],
            "text/plain": [
              "<IPython.core.display.HTML object>"
            ]
          },
          "metadata": {
            "tags": []
          }
        },
        {
          "output_type": "display_data",
          "data": {
            "text/html": [
              "<span style=\"color:cyan\"> |-Best step: 0</span>"
            ],
            "text/plain": [
              "<IPython.core.display.HTML object>"
            ]
          },
          "metadata": {
            "tags": []
          }
        },
        {
          "output_type": "display_data",
          "data": {
            "text/html": [
              "<span style=\"color:#7E57C2\"><h2 style=\"font-size:16px\">Hyperparameters:</h2></span>"
            ],
            "text/plain": [
              "<IPython.core.display.HTML object>"
            ]
          },
          "metadata": {
            "tags": []
          }
        },
        {
          "output_type": "display_data",
          "data": {
            "text/html": [
              "<span style=\"color:cyan\"> |-dropout: 0.2</span>"
            ],
            "text/plain": [
              "<IPython.core.display.HTML object>"
            ]
          },
          "metadata": {
            "tags": []
          }
        },
        {
          "output_type": "display_data",
          "data": {
            "text/html": [
              "<span style=\"color:blue\"> |-hidden_activation: relu</span>"
            ],
            "text/plain": [
              "<IPython.core.display.HTML object>"
            ]
          },
          "metadata": {
            "tags": []
          }
        },
        {
          "output_type": "display_data",
          "data": {
            "text/html": [
              "<span style=\"color:cyan\"> |-hidden_layers: 2</span>"
            ],
            "text/plain": [
              "<IPython.core.display.HTML object>"
            ]
          },
          "metadata": {
            "tags": []
          }
        },
        {
          "output_type": "display_data",
          "data": {
            "text/html": [
              "<span style=\"color:blue\"> |-hidden_units: 256</span>"
            ],
            "text/plain": [
              "<IPython.core.display.HTML object>"
            ]
          },
          "metadata": {
            "tags": []
          }
        },
        {
          "output_type": "display_data",
          "data": {
            "text/html": [
              "<span style=\"color:cyan\"> |-lr: 0.0009887195863122636</span>"
            ],
            "text/plain": [
              "<IPython.core.display.HTML object>"
            ]
          },
          "metadata": {
            "tags": []
          }
        },
        {
          "output_type": "stream",
          "text": [
            "Epoch 1/50\n",
            "211/211 [==============================] - 3s 14ms/step - loss: 2.0580 - accuracy: 0.2533 - val_loss: 2.2578 - val_accuracy: 0.1008\n",
            "Epoch 2/50\n",
            "211/211 [==============================] - 3s 13ms/step - loss: 1.6080 - accuracy: 0.4232 - val_loss: 1.7906 - val_accuracy: 0.4297\n",
            "Epoch 3/50\n",
            "211/211 [==============================] - 3s 13ms/step - loss: 1.3611 - accuracy: 0.4834 - val_loss: 1.3039 - val_accuracy: 0.5630\n",
            "Epoch 4/50\n",
            "211/211 [==============================] - 3s 13ms/step - loss: 1.2302 - accuracy: 0.5250 - val_loss: 1.1346 - val_accuracy: 0.5970\n",
            "Epoch 5/50\n",
            "211/211 [==============================] - 3s 13ms/step - loss: 1.1436 - accuracy: 0.5528 - val_loss: 1.0471 - val_accuracy: 0.6218\n",
            "Epoch 6/50\n",
            "211/211 [==============================] - 3s 13ms/step - loss: 1.0828 - accuracy: 0.5797 - val_loss: 0.9871 - val_accuracy: 0.6345\n",
            "Epoch 7/50\n",
            "211/211 [==============================] - 3s 13ms/step - loss: 1.0360 - accuracy: 0.5974 - val_loss: 0.9340 - val_accuracy: 0.6502\n",
            "Epoch 8/50\n",
            "211/211 [==============================] - 3s 13ms/step - loss: 0.9991 - accuracy: 0.6179 - val_loss: 0.8975 - val_accuracy: 0.6485\n",
            "Epoch 9/50\n",
            "211/211 [==============================] - 3s 13ms/step - loss: 0.9643 - accuracy: 0.6307 - val_loss: 0.8602 - val_accuracy: 0.6618\n",
            "Epoch 10/50\n",
            "211/211 [==============================] - 3s 13ms/step - loss: 0.9326 - accuracy: 0.6450 - val_loss: 0.8254 - val_accuracy: 0.6783\n",
            "Epoch 11/50\n",
            "211/211 [==============================] - 3s 13ms/step - loss: 0.9062 - accuracy: 0.6557 - val_loss: 0.7991 - val_accuracy: 0.6848\n",
            "Epoch 12/50\n",
            "211/211 [==============================] - 3s 13ms/step - loss: 0.8785 - accuracy: 0.6677 - val_loss: 0.7706 - val_accuracy: 0.6983\n",
            "Epoch 13/50\n",
            "211/211 [==============================] - 3s 13ms/step - loss: 0.8528 - accuracy: 0.6772 - val_loss: 0.7449 - val_accuracy: 0.7073\n",
            "Epoch 14/50\n",
            "211/211 [==============================] - 3s 13ms/step - loss: 0.8272 - accuracy: 0.6889 - val_loss: 0.7223 - val_accuracy: 0.7150\n",
            "Epoch 15/50\n",
            "211/211 [==============================] - 3s 13ms/step - loss: 0.8029 - accuracy: 0.6964 - val_loss: 0.6941 - val_accuracy: 0.7300\n",
            "Epoch 16/50\n",
            "211/211 [==============================] - 3s 13ms/step - loss: 0.7819 - accuracy: 0.7044 - val_loss: 0.6703 - val_accuracy: 0.7415\n",
            "Epoch 17/50\n",
            "211/211 [==============================] - 3s 13ms/step - loss: 0.7606 - accuracy: 0.7120 - val_loss: 0.6528 - val_accuracy: 0.7428\n",
            "Epoch 18/50\n",
            "211/211 [==============================] - 3s 13ms/step - loss: 0.7389 - accuracy: 0.7234 - val_loss: 0.6324 - val_accuracy: 0.7535\n",
            "Epoch 19/50\n",
            "211/211 [==============================] - 3s 13ms/step - loss: 0.7280 - accuracy: 0.7268 - val_loss: 0.6159 - val_accuracy: 0.7613\n",
            "Epoch 20/50\n",
            "211/211 [==============================] - 3s 13ms/step - loss: 0.7099 - accuracy: 0.7328 - val_loss: 0.5982 - val_accuracy: 0.7682\n",
            "Epoch 21/50\n",
            "211/211 [==============================] - 3s 13ms/step - loss: 0.6929 - accuracy: 0.7375 - val_loss: 0.5844 - val_accuracy: 0.7732\n",
            "Epoch 22/50\n",
            "211/211 [==============================] - 3s 13ms/step - loss: 0.6825 - accuracy: 0.7421 - val_loss: 0.5772 - val_accuracy: 0.7745\n",
            "Epoch 23/50\n",
            "211/211 [==============================] - 3s 13ms/step - loss: 0.6673 - accuracy: 0.7481 - val_loss: 0.5672 - val_accuracy: 0.7788\n",
            "Epoch 24/50\n",
            "211/211 [==============================] - 3s 13ms/step - loss: 0.6605 - accuracy: 0.7486 - val_loss: 0.5573 - val_accuracy: 0.7817\n",
            "Epoch 25/50\n",
            "211/211 [==============================] - 3s 13ms/step - loss: 0.6524 - accuracy: 0.7544 - val_loss: 0.5504 - val_accuracy: 0.7848\n",
            "Epoch 26/50\n",
            "211/211 [==============================] - 3s 13ms/step - loss: 0.6431 - accuracy: 0.7576 - val_loss: 0.5419 - val_accuracy: 0.7922\n",
            "Epoch 27/50\n",
            "211/211 [==============================] - 3s 13ms/step - loss: 0.6348 - accuracy: 0.7587 - val_loss: 0.5345 - val_accuracy: 0.7957\n",
            "Epoch 28/50\n",
            "211/211 [==============================] - 3s 13ms/step - loss: 0.6272 - accuracy: 0.7612 - val_loss: 0.5304 - val_accuracy: 0.7968\n",
            "Epoch 29/50\n",
            "211/211 [==============================] - 3s 13ms/step - loss: 0.6234 - accuracy: 0.7639 - val_loss: 0.5224 - val_accuracy: 0.7985\n",
            "Epoch 30/50\n",
            "211/211 [==============================] - 3s 13ms/step - loss: 0.6132 - accuracy: 0.7669 - val_loss: 0.5158 - val_accuracy: 0.8007\n",
            "Epoch 31/50\n",
            "211/211 [==============================] - 3s 13ms/step - loss: 0.6103 - accuracy: 0.7693 - val_loss: 0.5102 - val_accuracy: 0.8027\n",
            "Epoch 32/50\n",
            "211/211 [==============================] - 3s 13ms/step - loss: 0.6028 - accuracy: 0.7719 - val_loss: 0.5066 - val_accuracy: 0.8037\n",
            "Epoch 33/50\n",
            "211/211 [==============================] - 3s 13ms/step - loss: 0.5928 - accuracy: 0.7757 - val_loss: 0.4999 - val_accuracy: 0.8070\n",
            "Epoch 34/50\n",
            "211/211 [==============================] - 3s 13ms/step - loss: 0.5913 - accuracy: 0.7751 - val_loss: 0.4948 - val_accuracy: 0.8092\n",
            "Epoch 35/50\n",
            "211/211 [==============================] - 3s 13ms/step - loss: 0.5852 - accuracy: 0.7794 - val_loss: 0.4924 - val_accuracy: 0.8092\n",
            "Epoch 36/50\n",
            "211/211 [==============================] - 3s 13ms/step - loss: 0.5840 - accuracy: 0.7785 - val_loss: 0.4873 - val_accuracy: 0.8123\n",
            "Epoch 37/50\n",
            "211/211 [==============================] - 3s 13ms/step - loss: 0.5746 - accuracy: 0.7837 - val_loss: 0.4821 - val_accuracy: 0.8118\n",
            "Epoch 38/50\n",
            "211/211 [==============================] - 3s 13ms/step - loss: 0.5723 - accuracy: 0.7833 - val_loss: 0.4815 - val_accuracy: 0.8155\n",
            "Epoch 39/50\n",
            "211/211 [==============================] - 3s 13ms/step - loss: 0.5665 - accuracy: 0.7848 - val_loss: 0.4740 - val_accuracy: 0.8198\n",
            "Epoch 40/50\n",
            "211/211 [==============================] - 3s 13ms/step - loss: 0.5626 - accuracy: 0.7872 - val_loss: 0.4691 - val_accuracy: 0.8220\n",
            "Epoch 41/50\n",
            "211/211 [==============================] - 3s 13ms/step - loss: 0.5581 - accuracy: 0.7888 - val_loss: 0.4645 - val_accuracy: 0.8242\n",
            "Epoch 42/50\n",
            "211/211 [==============================] - 3s 13ms/step - loss: 0.5559 - accuracy: 0.7934 - val_loss: 0.4611 - val_accuracy: 0.8265\n",
            "Epoch 43/50\n",
            "211/211 [==============================] - 3s 13ms/step - loss: 0.5493 - accuracy: 0.7948 - val_loss: 0.4568 - val_accuracy: 0.8292\n",
            "Epoch 44/50\n",
            "211/211 [==============================] - 3s 13ms/step - loss: 0.5428 - accuracy: 0.7965 - val_loss: 0.4545 - val_accuracy: 0.8318\n",
            "Epoch 45/50\n",
            "211/211 [==============================] - 3s 13ms/step - loss: 0.5413 - accuracy: 0.7986 - val_loss: 0.4513 - val_accuracy: 0.8325\n",
            "Epoch 46/50\n",
            "211/211 [==============================] - 3s 13ms/step - loss: 0.5387 - accuracy: 0.7985 - val_loss: 0.4472 - val_accuracy: 0.8335\n",
            "Epoch 47/50\n",
            "211/211 [==============================] - 3s 13ms/step - loss: 0.5354 - accuracy: 0.8000 - val_loss: 0.4425 - val_accuracy: 0.8340\n",
            "Epoch 48/50\n",
            "211/211 [==============================] - 3s 13ms/step - loss: 0.5298 - accuracy: 0.8020 - val_loss: 0.4420 - val_accuracy: 0.8358\n",
            "Epoch 49/50\n",
            "211/211 [==============================] - 3s 13ms/step - loss: 0.5312 - accuracy: 0.8030 - val_loss: 0.4385 - val_accuracy: 0.8370\n",
            "Epoch 50/50\n",
            "211/211 [==============================] - 3s 13ms/step - loss: 0.5257 - accuracy: 0.8044 - val_loss: 0.4348 - val_accuracy: 0.8392\n"
          ],
          "name": "stdout"
        },
        {
          "output_type": "display_data",
          "data": {
            "text/html": [
              "<span style=\"color:#4527A0\"><h1 style=\"font-size:18px\">Trial complete</h1></span>"
            ],
            "text/plain": [
              "<IPython.core.display.HTML object>"
            ]
          },
          "metadata": {
            "tags": []
          }
        },
        {
          "output_type": "display_data",
          "data": {
            "text/html": [
              "<span style=\"color:#4527A0\"><h1 style=\"font-size:18px\">Trial summary</h1></span>"
            ],
            "text/plain": [
              "<IPython.core.display.HTML object>"
            ]
          },
          "metadata": {
            "tags": []
          }
        },
        {
          "output_type": "display_data",
          "data": {
            "text/html": [
              "<span style=\"color:cyan\"> |-Trial ID: cd690e46c65d0c7445e9306a0bfb967b</span>"
            ],
            "text/plain": [
              "<IPython.core.display.HTML object>"
            ]
          },
          "metadata": {
            "tags": []
          }
        },
        {
          "output_type": "display_data",
          "data": {
            "text/html": [
              "<span style=\"color:cyan\"> |-Score: 0.8391666412353516</span>"
            ],
            "text/plain": [
              "<IPython.core.display.HTML object>"
            ]
          },
          "metadata": {
            "tags": []
          }
        },
        {
          "output_type": "display_data",
          "data": {
            "text/html": [
              "<span style=\"color:cyan\"> |-Best step: 0</span>"
            ],
            "text/plain": [
              "<IPython.core.display.HTML object>"
            ]
          },
          "metadata": {
            "tags": []
          }
        },
        {
          "output_type": "display_data",
          "data": {
            "text/html": [
              "<span style=\"color:#7E57C2\"><h2 style=\"font-size:16px\">Hyperparameters:</h2></span>"
            ],
            "text/plain": [
              "<IPython.core.display.HTML object>"
            ]
          },
          "metadata": {
            "tags": []
          }
        },
        {
          "output_type": "display_data",
          "data": {
            "text/html": [
              "<span style=\"color:cyan\"> |-dropout: 0.2</span>"
            ],
            "text/plain": [
              "<IPython.core.display.HTML object>"
            ]
          },
          "metadata": {
            "tags": []
          }
        },
        {
          "output_type": "display_data",
          "data": {
            "text/html": [
              "<span style=\"color:blue\"> |-hidden_activation: relu</span>"
            ],
            "text/plain": [
              "<IPython.core.display.HTML object>"
            ]
          },
          "metadata": {
            "tags": []
          }
        },
        {
          "output_type": "display_data",
          "data": {
            "text/html": [
              "<span style=\"color:cyan\"> |-hidden_layers: 2</span>"
            ],
            "text/plain": [
              "<IPython.core.display.HTML object>"
            ]
          },
          "metadata": {
            "tags": []
          }
        },
        {
          "output_type": "display_data",
          "data": {
            "text/html": [
              "<span style=\"color:blue\"> |-hidden_units: 256</span>"
            ],
            "text/plain": [
              "<IPython.core.display.HTML object>"
            ]
          },
          "metadata": {
            "tags": []
          }
        },
        {
          "output_type": "display_data",
          "data": {
            "text/html": [
              "<span style=\"color:cyan\"> |-lr: 0.00015159319577885927</span>"
            ],
            "text/plain": [
              "<IPython.core.display.HTML object>"
            ]
          },
          "metadata": {
            "tags": []
          }
        },
        {
          "output_type": "stream",
          "text": [
            "Epoch 1/50\n",
            "211/211 [==============================] - 3s 14ms/step - loss: 1.7037 - accuracy: 0.3807 - val_loss: 2.2248 - val_accuracy: 0.2065\n",
            "Epoch 2/50\n",
            "211/211 [==============================] - 3s 13ms/step - loss: 1.1181 - accuracy: 0.5653 - val_loss: 1.6423 - val_accuracy: 0.5045\n",
            "Epoch 3/50\n",
            "211/211 [==============================] - 3s 13ms/step - loss: 0.9347 - accuracy: 0.6446 - val_loss: 0.8969 - val_accuracy: 0.7262\n",
            "Epoch 4/50\n",
            "211/211 [==============================] - 3s 13ms/step - loss: 0.8200 - accuracy: 0.6906 - val_loss: 0.6850 - val_accuracy: 0.7525\n",
            "Epoch 5/50\n",
            "211/211 [==============================] - 3s 13ms/step - loss: 0.7575 - accuracy: 0.7126 - val_loss: 0.6215 - val_accuracy: 0.7788\n",
            "Epoch 6/50\n",
            "211/211 [==============================] - 3s 13ms/step - loss: 0.7076 - accuracy: 0.7309 - val_loss: 0.5853 - val_accuracy: 0.7868\n",
            "Epoch 7/50\n",
            "211/211 [==============================] - 3s 13ms/step - loss: 0.6746 - accuracy: 0.7455 - val_loss: 0.5540 - val_accuracy: 0.7942\n",
            "Epoch 8/50\n",
            "211/211 [==============================] - 3s 13ms/step - loss: 0.6439 - accuracy: 0.7564 - val_loss: 0.5264 - val_accuracy: 0.8047\n",
            "Epoch 9/50\n",
            "211/211 [==============================] - 3s 13ms/step - loss: 0.6225 - accuracy: 0.7648 - val_loss: 0.5096 - val_accuracy: 0.8048\n",
            "Epoch 10/50\n",
            "211/211 [==============================] - 3s 13ms/step - loss: 0.6026 - accuracy: 0.7717 - val_loss: 0.4883 - val_accuracy: 0.8135\n",
            "Epoch 11/50\n",
            "211/211 [==============================] - 3s 13ms/step - loss: 0.5864 - accuracy: 0.7773 - val_loss: 0.4774 - val_accuracy: 0.8213\n",
            "Epoch 12/50\n",
            "211/211 [==============================] - 3s 13ms/step - loss: 0.5719 - accuracy: 0.7861 - val_loss: 0.4612 - val_accuracy: 0.8252\n",
            "Epoch 13/50\n",
            "211/211 [==============================] - 3s 13ms/step - loss: 0.5581 - accuracy: 0.7895 - val_loss: 0.4493 - val_accuracy: 0.8330\n",
            "Epoch 14/50\n",
            "211/211 [==============================] - 3s 13ms/step - loss: 0.5471 - accuracy: 0.7971 - val_loss: 0.4386 - val_accuracy: 0.8370\n",
            "Epoch 15/50\n",
            "211/211 [==============================] - 3s 13ms/step - loss: 0.5332 - accuracy: 0.8013 - val_loss: 0.4281 - val_accuracy: 0.8427\n",
            "Epoch 16/50\n",
            "211/211 [==============================] - 3s 13ms/step - loss: 0.5234 - accuracy: 0.8056 - val_loss: 0.4213 - val_accuracy: 0.8443\n",
            "Epoch 17/50\n",
            "211/211 [==============================] - 3s 13ms/step - loss: 0.5123 - accuracy: 0.8079 - val_loss: 0.4104 - val_accuracy: 0.8485\n",
            "Epoch 18/50\n",
            "211/211 [==============================] - 3s 13ms/step - loss: 0.5055 - accuracy: 0.8114 - val_loss: 0.4008 - val_accuracy: 0.8513\n",
            "Epoch 19/50\n",
            "211/211 [==============================] - 3s 13ms/step - loss: 0.4928 - accuracy: 0.8183 - val_loss: 0.3963 - val_accuracy: 0.8525\n",
            "Epoch 20/50\n",
            "211/211 [==============================] - 3s 13ms/step - loss: 0.4884 - accuracy: 0.8181 - val_loss: 0.3872 - val_accuracy: 0.8552\n",
            "Epoch 21/50\n",
            "211/211 [==============================] - 3s 13ms/step - loss: 0.4828 - accuracy: 0.8219 - val_loss: 0.3811 - val_accuracy: 0.8565\n",
            "Epoch 22/50\n",
            "211/211 [==============================] - 3s 13ms/step - loss: 0.4705 - accuracy: 0.8263 - val_loss: 0.3719 - val_accuracy: 0.8585\n",
            "Epoch 23/50\n",
            "211/211 [==============================] - 3s 13ms/step - loss: 0.4670 - accuracy: 0.8278 - val_loss: 0.3693 - val_accuracy: 0.8587\n",
            "Epoch 24/50\n",
            "211/211 [==============================] - 3s 13ms/step - loss: 0.4608 - accuracy: 0.8300 - val_loss: 0.3625 - val_accuracy: 0.8608\n",
            "Epoch 25/50\n",
            "211/211 [==============================] - 3s 13ms/step - loss: 0.4517 - accuracy: 0.8348 - val_loss: 0.3572 - val_accuracy: 0.8650\n",
            "Epoch 26/50\n",
            "211/211 [==============================] - 3s 13ms/step - loss: 0.4478 - accuracy: 0.8357 - val_loss: 0.3597 - val_accuracy: 0.8638\n",
            "Epoch 27/50\n",
            "211/211 [==============================] - 3s 13ms/step - loss: 0.4453 - accuracy: 0.8352 - val_loss: 0.3508 - val_accuracy: 0.8668\n",
            "Epoch 28/50\n",
            "211/211 [==============================] - 3s 13ms/step - loss: 0.4399 - accuracy: 0.8378 - val_loss: 0.3469 - val_accuracy: 0.8692\n",
            "Epoch 29/50\n",
            "211/211 [==============================] - 3s 13ms/step - loss: 0.4328 - accuracy: 0.8414 - val_loss: 0.3431 - val_accuracy: 0.8708\n",
            "Epoch 30/50\n",
            "211/211 [==============================] - 3s 13ms/step - loss: 0.4303 - accuracy: 0.8414 - val_loss: 0.3454 - val_accuracy: 0.8695\n",
            "Epoch 31/50\n",
            "211/211 [==============================] - 3s 13ms/step - loss: 0.4261 - accuracy: 0.8435 - val_loss: 0.3382 - val_accuracy: 0.8722\n",
            "Epoch 32/50\n",
            "211/211 [==============================] - 3s 13ms/step - loss: 0.4226 - accuracy: 0.8446 - val_loss: 0.3328 - val_accuracy: 0.8723\n",
            "Epoch 33/50\n",
            "211/211 [==============================] - 3s 13ms/step - loss: 0.4205 - accuracy: 0.8467 - val_loss: 0.3295 - val_accuracy: 0.8755\n",
            "Epoch 34/50\n",
            "211/211 [==============================] - 3s 13ms/step - loss: 0.4146 - accuracy: 0.8492 - val_loss: 0.3297 - val_accuracy: 0.8738\n",
            "Epoch 35/50\n",
            "211/211 [==============================] - 3s 13ms/step - loss: 0.4081 - accuracy: 0.8511 - val_loss: 0.3228 - val_accuracy: 0.8765\n",
            "Epoch 36/50\n",
            "211/211 [==============================] - 3s 13ms/step - loss: 0.4065 - accuracy: 0.8507 - val_loss: 0.3236 - val_accuracy: 0.8767\n",
            "Epoch 37/50\n",
            "211/211 [==============================] - 3s 13ms/step - loss: 0.4042 - accuracy: 0.8507 - val_loss: 0.3190 - val_accuracy: 0.8805\n",
            "Epoch 38/50\n",
            "211/211 [==============================] - 3s 13ms/step - loss: 0.4020 - accuracy: 0.8541 - val_loss: 0.3181 - val_accuracy: 0.8780\n",
            "Epoch 39/50\n",
            "211/211 [==============================] - 3s 13ms/step - loss: 0.3968 - accuracy: 0.8551 - val_loss: 0.3154 - val_accuracy: 0.8792\n",
            "Epoch 40/50\n",
            "211/211 [==============================] - 3s 13ms/step - loss: 0.3950 - accuracy: 0.8541 - val_loss: 0.3185 - val_accuracy: 0.8777\n",
            "Epoch 41/50\n",
            "211/211 [==============================] - 3s 13ms/step - loss: 0.3889 - accuracy: 0.8566 - val_loss: 0.3114 - val_accuracy: 0.8802\n",
            "Epoch 42/50\n",
            "211/211 [==============================] - 3s 14ms/step - loss: 0.3868 - accuracy: 0.8560 - val_loss: 0.3094 - val_accuracy: 0.8815\n",
            "Epoch 43/50\n",
            "211/211 [==============================] - 3s 14ms/step - loss: 0.3856 - accuracy: 0.8581 - val_loss: 0.3079 - val_accuracy: 0.8815\n",
            "Epoch 44/50\n",
            "211/211 [==============================] - 3s 14ms/step - loss: 0.3817 - accuracy: 0.8606 - val_loss: 0.3049 - val_accuracy: 0.8837\n",
            "Epoch 45/50\n",
            "211/211 [==============================] - 3s 13ms/step - loss: 0.3778 - accuracy: 0.8621 - val_loss: 0.3051 - val_accuracy: 0.8833\n",
            "Epoch 46/50\n",
            "211/211 [==============================] - 3s 13ms/step - loss: 0.3786 - accuracy: 0.8611 - val_loss: 0.3109 - val_accuracy: 0.8833\n",
            "Epoch 47/50\n",
            "211/211 [==============================] - 3s 13ms/step - loss: 0.3740 - accuracy: 0.8630 - val_loss: 0.3029 - val_accuracy: 0.8827\n",
            "Epoch 48/50\n",
            "211/211 [==============================] - 3s 13ms/step - loss: 0.3726 - accuracy: 0.8617 - val_loss: 0.3041 - val_accuracy: 0.8842\n",
            "Epoch 49/50\n",
            "211/211 [==============================] - 3s 13ms/step - loss: 0.3717 - accuracy: 0.8645 - val_loss: 0.3001 - val_accuracy: 0.8860\n",
            "Epoch 50/50\n",
            "211/211 [==============================] - 3s 13ms/step - loss: 0.3689 - accuracy: 0.8654 - val_loss: 0.2953 - val_accuracy: 0.8878\n"
          ],
          "name": "stdout"
        },
        {
          "output_type": "display_data",
          "data": {
            "text/html": [
              "<span style=\"color:#4527A0\"><h1 style=\"font-size:18px\">Trial complete</h1></span>"
            ],
            "text/plain": [
              "<IPython.core.display.HTML object>"
            ]
          },
          "metadata": {
            "tags": []
          }
        },
        {
          "output_type": "display_data",
          "data": {
            "text/html": [
              "<span style=\"color:#4527A0\"><h1 style=\"font-size:18px\">Trial summary</h1></span>"
            ],
            "text/plain": [
              "<IPython.core.display.HTML object>"
            ]
          },
          "metadata": {
            "tags": []
          }
        },
        {
          "output_type": "display_data",
          "data": {
            "text/html": [
              "<span style=\"color:cyan\"> |-Trial ID: dcb686a1fa2c5605aba71a840689af35</span>"
            ],
            "text/plain": [
              "<IPython.core.display.HTML object>"
            ]
          },
          "metadata": {
            "tags": []
          }
        },
        {
          "output_type": "display_data",
          "data": {
            "text/html": [
              "<span style=\"color:cyan\"> |-Score: 0.8878333568572998</span>"
            ],
            "text/plain": [
              "<IPython.core.display.HTML object>"
            ]
          },
          "metadata": {
            "tags": []
          }
        },
        {
          "output_type": "display_data",
          "data": {
            "text/html": [
              "<span style=\"color:cyan\"> |-Best step: 0</span>"
            ],
            "text/plain": [
              "<IPython.core.display.HTML object>"
            ]
          },
          "metadata": {
            "tags": []
          }
        },
        {
          "output_type": "display_data",
          "data": {
            "text/html": [
              "<span style=\"color:#7E57C2\"><h2 style=\"font-size:16px\">Hyperparameters:</h2></span>"
            ],
            "text/plain": [
              "<IPython.core.display.HTML object>"
            ]
          },
          "metadata": {
            "tags": []
          }
        },
        {
          "output_type": "display_data",
          "data": {
            "text/html": [
              "<span style=\"color:cyan\"> |-dropout: 0.2</span>"
            ],
            "text/plain": [
              "<IPython.core.display.HTML object>"
            ]
          },
          "metadata": {
            "tags": []
          }
        },
        {
          "output_type": "display_data",
          "data": {
            "text/html": [
              "<span style=\"color:blue\"> |-hidden_activation: relu</span>"
            ],
            "text/plain": [
              "<IPython.core.display.HTML object>"
            ]
          },
          "metadata": {
            "tags": []
          }
        },
        {
          "output_type": "display_data",
          "data": {
            "text/html": [
              "<span style=\"color:cyan\"> |-hidden_layers: 2</span>"
            ],
            "text/plain": [
              "<IPython.core.display.HTML object>"
            ]
          },
          "metadata": {
            "tags": []
          }
        },
        {
          "output_type": "display_data",
          "data": {
            "text/html": [
              "<span style=\"color:blue\"> |-hidden_units: 256</span>"
            ],
            "text/plain": [
              "<IPython.core.display.HTML object>"
            ]
          },
          "metadata": {
            "tags": []
          }
        },
        {
          "output_type": "display_data",
          "data": {
            "text/html": [
              "<span style=\"color:cyan\"> |-lr: 0.00041268008323824807</span>"
            ],
            "text/plain": [
              "<IPython.core.display.HTML object>"
            ]
          },
          "metadata": {
            "tags": []
          }
        },
        {
          "output_type": "stream",
          "text": [
            "Epoch 1/50\n",
            "211/211 [==============================] - 3s 14ms/step - loss: 1.4970 - accuracy: 0.4524 - val_loss: 2.0226 - val_accuracy: 0.3080\n",
            "Epoch 2/50\n",
            "211/211 [==============================] - 3s 13ms/step - loss: 0.9537 - accuracy: 0.6401 - val_loss: 1.1874 - val_accuracy: 0.6798\n",
            "Epoch 3/50\n",
            "211/211 [==============================] - 3s 13ms/step - loss: 0.7766 - accuracy: 0.7102 - val_loss: 0.6895 - val_accuracy: 0.7522\n",
            "Epoch 4/50\n",
            "211/211 [==============================] - 3s 13ms/step - loss: 0.6978 - accuracy: 0.7344 - val_loss: 0.5854 - val_accuracy: 0.7733\n",
            "Epoch 5/50\n",
            "211/211 [==============================] - 3s 13ms/step - loss: 0.6533 - accuracy: 0.7497 - val_loss: 0.5526 - val_accuracy: 0.7875\n",
            "Epoch 6/50\n",
            "211/211 [==============================] - 3s 13ms/step - loss: 0.6170 - accuracy: 0.7649 - val_loss: 0.5205 - val_accuracy: 0.8028\n",
            "Epoch 7/50\n",
            "211/211 [==============================] - 3s 13ms/step - loss: 0.5918 - accuracy: 0.7735 - val_loss: 0.5016 - val_accuracy: 0.8113\n",
            "Epoch 8/50\n",
            "211/211 [==============================] - 3s 13ms/step - loss: 0.5698 - accuracy: 0.7843 - val_loss: 0.4779 - val_accuracy: 0.8273\n",
            "Epoch 9/50\n",
            "211/211 [==============================] - 3s 13ms/step - loss: 0.5509 - accuracy: 0.7941 - val_loss: 0.4617 - val_accuracy: 0.8257\n",
            "Epoch 10/50\n",
            "211/211 [==============================] - 3s 13ms/step - loss: 0.5352 - accuracy: 0.7991 - val_loss: 0.4513 - val_accuracy: 0.8332\n",
            "Epoch 11/50\n",
            "211/211 [==============================] - 3s 13ms/step - loss: 0.5168 - accuracy: 0.8061 - val_loss: 0.4329 - val_accuracy: 0.8393\n",
            "Epoch 12/50\n",
            "211/211 [==============================] - 3s 13ms/step - loss: 0.5073 - accuracy: 0.8103 - val_loss: 0.4165 - val_accuracy: 0.8487\n",
            "Epoch 13/50\n",
            "211/211 [==============================] - 3s 13ms/step - loss: 0.4918 - accuracy: 0.8186 - val_loss: 0.4049 - val_accuracy: 0.8487\n",
            "Epoch 14/50\n",
            "211/211 [==============================] - 3s 13ms/step - loss: 0.4819 - accuracy: 0.8218 - val_loss: 0.4024 - val_accuracy: 0.8503\n",
            "Epoch 15/50\n",
            "211/211 [==============================] - 3s 13ms/step - loss: 0.4697 - accuracy: 0.8264 - val_loss: 0.3921 - val_accuracy: 0.8540\n",
            "Epoch 16/50\n",
            "211/211 [==============================] - 3s 13ms/step - loss: 0.4587 - accuracy: 0.8302 - val_loss: 0.3800 - val_accuracy: 0.8580\n",
            "Epoch 17/50\n",
            "211/211 [==============================] - 3s 13ms/step - loss: 0.4480 - accuracy: 0.8349 - val_loss: 0.3779 - val_accuracy: 0.8582\n",
            "Epoch 18/50\n",
            "211/211 [==============================] - 3s 13ms/step - loss: 0.4438 - accuracy: 0.8362 - val_loss: 0.3749 - val_accuracy: 0.8572\n",
            "Epoch 19/50\n",
            "211/211 [==============================] - 3s 13ms/step - loss: 0.4362 - accuracy: 0.8408 - val_loss: 0.3676 - val_accuracy: 0.8593\n",
            "Epoch 20/50\n",
            "211/211 [==============================] - 3s 13ms/step - loss: 0.4282 - accuracy: 0.8426 - val_loss: 0.3515 - val_accuracy: 0.8658\n",
            "Epoch 21/50\n",
            "211/211 [==============================] - 3s 13ms/step - loss: 0.4237 - accuracy: 0.8455 - val_loss: 0.3483 - val_accuracy: 0.8693\n",
            "Epoch 22/50\n",
            "211/211 [==============================] - 3s 13ms/step - loss: 0.4160 - accuracy: 0.8477 - val_loss: 0.3393 - val_accuracy: 0.8717\n",
            "Epoch 23/50\n",
            "211/211 [==============================] - 3s 13ms/step - loss: 0.4084 - accuracy: 0.8519 - val_loss: 0.3378 - val_accuracy: 0.8718\n",
            "Epoch 24/50\n",
            "211/211 [==============================] - 3s 13ms/step - loss: 0.4079 - accuracy: 0.8516 - val_loss: 0.3337 - val_accuracy: 0.8723\n",
            "Epoch 25/50\n",
            "211/211 [==============================] - 3s 13ms/step - loss: 0.4002 - accuracy: 0.8531 - val_loss: 0.3286 - val_accuracy: 0.8768\n",
            "Epoch 26/50\n",
            "211/211 [==============================] - 3s 13ms/step - loss: 0.3953 - accuracy: 0.8562 - val_loss: 0.3349 - val_accuracy: 0.8735\n",
            "Epoch 27/50\n",
            "211/211 [==============================] - 3s 13ms/step - loss: 0.3886 - accuracy: 0.8584 - val_loss: 0.3249 - val_accuracy: 0.8768\n",
            "Epoch 28/50\n",
            "211/211 [==============================] - 3s 13ms/step - loss: 0.3841 - accuracy: 0.8594 - val_loss: 0.3276 - val_accuracy: 0.8770\n",
            "Epoch 29/50\n",
            "211/211 [==============================] - 3s 13ms/step - loss: 0.3863 - accuracy: 0.8589 - val_loss: 0.3251 - val_accuracy: 0.8775\n",
            "Epoch 30/50\n",
            "211/211 [==============================] - 3s 13ms/step - loss: 0.3808 - accuracy: 0.8613 - val_loss: 0.3177 - val_accuracy: 0.8802\n",
            "Epoch 31/50\n",
            "211/211 [==============================] - 3s 13ms/step - loss: 0.3744 - accuracy: 0.8625 - val_loss: 0.3290 - val_accuracy: 0.8760\n",
            "Epoch 32/50\n",
            "211/211 [==============================] - 3s 13ms/step - loss: 0.3703 - accuracy: 0.8632 - val_loss: 0.3072 - val_accuracy: 0.8843\n",
            "Epoch 33/50\n",
            "211/211 [==============================] - 3s 13ms/step - loss: 0.3704 - accuracy: 0.8645 - val_loss: 0.3105 - val_accuracy: 0.8833\n",
            "Epoch 34/50\n",
            "211/211 [==============================] - 3s 13ms/step - loss: 0.3666 - accuracy: 0.8659 - val_loss: 0.3063 - val_accuracy: 0.8862\n",
            "Epoch 35/50\n",
            "211/211 [==============================] - 3s 13ms/step - loss: 0.3634 - accuracy: 0.8673 - val_loss: 0.3019 - val_accuracy: 0.8858\n",
            "Epoch 36/50\n",
            "211/211 [==============================] - 3s 13ms/step - loss: 0.3572 - accuracy: 0.8686 - val_loss: 0.3039 - val_accuracy: 0.8855\n",
            "Epoch 37/50\n",
            "211/211 [==============================] - 3s 13ms/step - loss: 0.3576 - accuracy: 0.8694 - val_loss: 0.3023 - val_accuracy: 0.8862\n",
            "Epoch 38/50\n",
            "211/211 [==============================] - 3s 13ms/step - loss: 0.3540 - accuracy: 0.8711 - val_loss: 0.2983 - val_accuracy: 0.8883\n",
            "Epoch 39/50\n",
            "211/211 [==============================] - 3s 13ms/step - loss: 0.3523 - accuracy: 0.8709 - val_loss: 0.2980 - val_accuracy: 0.8897\n",
            "Epoch 40/50\n",
            "211/211 [==============================] - 3s 13ms/step - loss: 0.3488 - accuracy: 0.8711 - val_loss: 0.2895 - val_accuracy: 0.8935\n",
            "Epoch 41/50\n",
            "211/211 [==============================] - 3s 13ms/step - loss: 0.3483 - accuracy: 0.8729 - val_loss: 0.2898 - val_accuracy: 0.8928\n",
            "Epoch 42/50\n",
            "211/211 [==============================] - 3s 13ms/step - loss: 0.3463 - accuracy: 0.8745 - val_loss: 0.3045 - val_accuracy: 0.8845\n",
            "Epoch 43/50\n",
            "211/211 [==============================] - 3s 13ms/step - loss: 0.3453 - accuracy: 0.8738 - val_loss: 0.2916 - val_accuracy: 0.8897\n",
            "Epoch 44/50\n",
            "211/211 [==============================] - 3s 13ms/step - loss: 0.3409 - accuracy: 0.8762 - val_loss: 0.2896 - val_accuracy: 0.8917\n",
            "Epoch 45/50\n",
            "211/211 [==============================] - 3s 13ms/step - loss: 0.3384 - accuracy: 0.8764 - val_loss: 0.2852 - val_accuracy: 0.8928\n",
            "Epoch 46/50\n",
            "211/211 [==============================] - 3s 13ms/step - loss: 0.3353 - accuracy: 0.8769 - val_loss: 0.2881 - val_accuracy: 0.8917\n",
            "Epoch 47/50\n",
            "211/211 [==============================] - 3s 13ms/step - loss: 0.3378 - accuracy: 0.8751 - val_loss: 0.2804 - val_accuracy: 0.8938\n",
            "Epoch 48/50\n",
            "211/211 [==============================] - 3s 13ms/step - loss: 0.3338 - accuracy: 0.8778 - val_loss: 0.2906 - val_accuracy: 0.8930\n",
            "Epoch 49/50\n",
            "211/211 [==============================] - 3s 13ms/step - loss: 0.3329 - accuracy: 0.8787 - val_loss: 0.2803 - val_accuracy: 0.8943\n",
            "Epoch 50/50\n",
            "211/211 [==============================] - 3s 13ms/step - loss: 0.3254 - accuracy: 0.8794 - val_loss: 0.2779 - val_accuracy: 0.8945\n"
          ],
          "name": "stdout"
        },
        {
          "output_type": "display_data",
          "data": {
            "text/html": [
              "<span style=\"color:#4527A0\"><h1 style=\"font-size:18px\">Trial complete</h1></span>"
            ],
            "text/plain": [
              "<IPython.core.display.HTML object>"
            ]
          },
          "metadata": {
            "tags": []
          }
        },
        {
          "output_type": "display_data",
          "data": {
            "text/html": [
              "<span style=\"color:#4527A0\"><h1 style=\"font-size:18px\">Trial summary</h1></span>"
            ],
            "text/plain": [
              "<IPython.core.display.HTML object>"
            ]
          },
          "metadata": {
            "tags": []
          }
        },
        {
          "output_type": "display_data",
          "data": {
            "text/html": [
              "<span style=\"color:cyan\"> |-Trial ID: 6cbd3413e3cb48873f47777d04d8d2ae</span>"
            ],
            "text/plain": [
              "<IPython.core.display.HTML object>"
            ]
          },
          "metadata": {
            "tags": []
          }
        },
        {
          "output_type": "display_data",
          "data": {
            "text/html": [
              "<span style=\"color:cyan\"> |-Score: 0.8945000171661377</span>"
            ],
            "text/plain": [
              "<IPython.core.display.HTML object>"
            ]
          },
          "metadata": {
            "tags": []
          }
        },
        {
          "output_type": "display_data",
          "data": {
            "text/html": [
              "<span style=\"color:cyan\"> |-Best step: 0</span>"
            ],
            "text/plain": [
              "<IPython.core.display.HTML object>"
            ]
          },
          "metadata": {
            "tags": []
          }
        },
        {
          "output_type": "display_data",
          "data": {
            "text/html": [
              "<span style=\"color:#7E57C2\"><h2 style=\"font-size:16px\">Hyperparameters:</h2></span>"
            ],
            "text/plain": [
              "<IPython.core.display.HTML object>"
            ]
          },
          "metadata": {
            "tags": []
          }
        },
        {
          "output_type": "display_data",
          "data": {
            "text/html": [
              "<span style=\"color:cyan\"> |-dropout: 0.2</span>"
            ],
            "text/plain": [
              "<IPython.core.display.HTML object>"
            ]
          },
          "metadata": {
            "tags": []
          }
        },
        {
          "output_type": "display_data",
          "data": {
            "text/html": [
              "<span style=\"color:blue\"> |-hidden_activation: relu</span>"
            ],
            "text/plain": [
              "<IPython.core.display.HTML object>"
            ]
          },
          "metadata": {
            "tags": []
          }
        },
        {
          "output_type": "display_data",
          "data": {
            "text/html": [
              "<span style=\"color:cyan\"> |-hidden_layers: 2</span>"
            ],
            "text/plain": [
              "<IPython.core.display.HTML object>"
            ]
          },
          "metadata": {
            "tags": []
          }
        },
        {
          "output_type": "display_data",
          "data": {
            "text/html": [
              "<span style=\"color:blue\"> |-hidden_units: 256</span>"
            ],
            "text/plain": [
              "<IPython.core.display.HTML object>"
            ]
          },
          "metadata": {
            "tags": []
          }
        },
        {
          "output_type": "display_data",
          "data": {
            "text/html": [
              "<span style=\"color:cyan\"> |-lr: 0.0006752863927347823</span>"
            ],
            "text/plain": [
              "<IPython.core.display.HTML object>"
            ]
          },
          "metadata": {
            "tags": []
          }
        },
        {
          "output_type": "stream",
          "text": [
            "Epoch 1/50\n",
            "211/211 [==============================] - 3s 14ms/step - loss: 0.8867 - accuracy: 0.6611 - val_loss: 2.0961 - val_accuracy: 0.1632\n",
            "Epoch 2/50\n",
            "211/211 [==============================] - 3s 13ms/step - loss: 0.5408 - accuracy: 0.7957 - val_loss: 0.7169 - val_accuracy: 0.7392\n",
            "Epoch 3/50\n",
            "211/211 [==============================] - 3s 13ms/step - loss: 0.4587 - accuracy: 0.8306 - val_loss: 0.3878 - val_accuracy: 0.8530\n",
            "Epoch 4/50\n",
            "211/211 [==============================] - 3s 13ms/step - loss: 0.4155 - accuracy: 0.8469 - val_loss: 0.3339 - val_accuracy: 0.8725\n",
            "Epoch 5/50\n",
            "211/211 [==============================] - 3s 13ms/step - loss: 0.3874 - accuracy: 0.8588 - val_loss: 0.3208 - val_accuracy: 0.8777\n",
            "Epoch 6/50\n",
            "211/211 [==============================] - 3s 13ms/step - loss: 0.3646 - accuracy: 0.8664 - val_loss: 0.2977 - val_accuracy: 0.8873\n",
            "Epoch 7/50\n",
            "211/211 [==============================] - 3s 13ms/step - loss: 0.3466 - accuracy: 0.8728 - val_loss: 0.2959 - val_accuracy: 0.8905\n",
            "Epoch 8/50\n",
            "211/211 [==============================] - 3s 13ms/step - loss: 0.3373 - accuracy: 0.8762 - val_loss: 0.2825 - val_accuracy: 0.8937\n",
            "Epoch 9/50\n",
            "211/211 [==============================] - 3s 13ms/step - loss: 0.3207 - accuracy: 0.8812 - val_loss: 0.2908 - val_accuracy: 0.8897\n",
            "Epoch 10/50\n",
            "211/211 [==============================] - 3s 13ms/step - loss: 0.3125 - accuracy: 0.8841 - val_loss: 0.2744 - val_accuracy: 0.8990\n",
            "Epoch 11/50\n",
            "211/211 [==============================] - 3s 13ms/step - loss: 0.3033 - accuracy: 0.8884 - val_loss: 0.2654 - val_accuracy: 0.9012\n",
            "Epoch 12/50\n",
            "211/211 [==============================] - 3s 13ms/step - loss: 0.2973 - accuracy: 0.8905 - val_loss: 0.2554 - val_accuracy: 0.9047\n",
            "Epoch 13/50\n",
            "211/211 [==============================] - 3s 13ms/step - loss: 0.2896 - accuracy: 0.8934 - val_loss: 0.2540 - val_accuracy: 0.9075\n",
            "Epoch 14/50\n",
            "211/211 [==============================] - 3s 13ms/step - loss: 0.2831 - accuracy: 0.8947 - val_loss: 0.2483 - val_accuracy: 0.9057\n",
            "Epoch 15/50\n",
            "211/211 [==============================] - 3s 13ms/step - loss: 0.2779 - accuracy: 0.8964 - val_loss: 0.2634 - val_accuracy: 0.8962\n",
            "Epoch 16/50\n",
            "211/211 [==============================] - 3s 13ms/step - loss: 0.2709 - accuracy: 0.8997 - val_loss: 0.2516 - val_accuracy: 0.9062\n",
            "Epoch 17/50\n",
            "211/211 [==============================] - 3s 13ms/step - loss: 0.2663 - accuracy: 0.9002 - val_loss: 0.2518 - val_accuracy: 0.9062\n",
            "Epoch 18/50\n",
            "211/211 [==============================] - 3s 13ms/step - loss: 0.2651 - accuracy: 0.9021 - val_loss: 0.2329 - val_accuracy: 0.9120\n",
            "Epoch 19/50\n",
            "211/211 [==============================] - 3s 13ms/step - loss: 0.2595 - accuracy: 0.9038 - val_loss: 0.2302 - val_accuracy: 0.9140\n",
            "Epoch 20/50\n",
            "211/211 [==============================] - 3s 13ms/step - loss: 0.2524 - accuracy: 0.9060 - val_loss: 0.2314 - val_accuracy: 0.9110\n",
            "Epoch 21/50\n",
            "211/211 [==============================] - 3s 13ms/step - loss: 0.2511 - accuracy: 0.9072 - val_loss: 0.2280 - val_accuracy: 0.9165\n",
            "Epoch 22/50\n",
            "211/211 [==============================] - 3s 13ms/step - loss: 0.2470 - accuracy: 0.9077 - val_loss: 0.2216 - val_accuracy: 0.9190\n",
            "Epoch 23/50\n",
            "211/211 [==============================] - 3s 13ms/step - loss: 0.2446 - accuracy: 0.9086 - val_loss: 0.2231 - val_accuracy: 0.9177\n",
            "Epoch 24/50\n",
            "211/211 [==============================] - 3s 13ms/step - loss: 0.2411 - accuracy: 0.9098 - val_loss: 0.2280 - val_accuracy: 0.9150\n",
            "Epoch 25/50\n",
            "211/211 [==============================] - 3s 13ms/step - loss: 0.2385 - accuracy: 0.9114 - val_loss: 0.2343 - val_accuracy: 0.9132\n",
            "Epoch 26/50\n",
            "211/211 [==============================] - 3s 13ms/step - loss: 0.2375 - accuracy: 0.9103 - val_loss: 0.2151 - val_accuracy: 0.9197\n",
            "Epoch 27/50\n",
            "211/211 [==============================] - 3s 13ms/step - loss: 0.2354 - accuracy: 0.9117 - val_loss: 0.2151 - val_accuracy: 0.9197\n",
            "Epoch 28/50\n",
            "211/211 [==============================] - 3s 13ms/step - loss: 0.2320 - accuracy: 0.9141 - val_loss: 0.2216 - val_accuracy: 0.9167\n",
            "Epoch 29/50\n",
            "211/211 [==============================] - 3s 13ms/step - loss: 0.2301 - accuracy: 0.9137 - val_loss: 0.2129 - val_accuracy: 0.9197\n",
            "Epoch 30/50\n",
            "211/211 [==============================] - 3s 13ms/step - loss: 0.2257 - accuracy: 0.9160 - val_loss: 0.2089 - val_accuracy: 0.9247\n",
            "Epoch 31/50\n",
            "211/211 [==============================] - 3s 13ms/step - loss: 0.2264 - accuracy: 0.9150 - val_loss: 0.2122 - val_accuracy: 0.9218\n",
            "Epoch 32/50\n",
            "211/211 [==============================] - 3s 13ms/step - loss: 0.2222 - accuracy: 0.9171 - val_loss: 0.2109 - val_accuracy: 0.9197\n",
            "Epoch 33/50\n",
            "211/211 [==============================] - 3s 13ms/step - loss: 0.2179 - accuracy: 0.9176 - val_loss: 0.2123 - val_accuracy: 0.9217\n",
            "Epoch 34/50\n",
            "211/211 [==============================] - 3s 13ms/step - loss: 0.2206 - accuracy: 0.9170 - val_loss: 0.2123 - val_accuracy: 0.9220\n",
            "Epoch 35/50\n",
            "211/211 [==============================] - 3s 13ms/step - loss: 0.2190 - accuracy: 0.9181 - val_loss: 0.2011 - val_accuracy: 0.9240\n",
            "Epoch 36/50\n",
            "211/211 [==============================] - 3s 13ms/step - loss: 0.2131 - accuracy: 0.9211 - val_loss: 0.2136 - val_accuracy: 0.9222\n",
            "Epoch 37/50\n",
            "211/211 [==============================] - 3s 13ms/step - loss: 0.2131 - accuracy: 0.9197 - val_loss: 0.2135 - val_accuracy: 0.9215\n",
            "Epoch 38/50\n",
            "211/211 [==============================] - 3s 13ms/step - loss: 0.2088 - accuracy: 0.9222 - val_loss: 0.2076 - val_accuracy: 0.9240\n",
            "Epoch 39/50\n",
            "211/211 [==============================] - 3s 13ms/step - loss: 0.2116 - accuracy: 0.9206 - val_loss: 0.2017 - val_accuracy: 0.9253\n",
            "Epoch 40/50\n",
            "210/211 [============================>.] - ETA: 0s - loss: 0.2071 - accuracy: 0.9233Restoring model weights from the end of the best epoch.\n",
            "211/211 [==============================] - 3s 13ms/step - loss: 0.2069 - accuracy: 0.9234 - val_loss: 0.2020 - val_accuracy: 0.9257\n",
            "Epoch 00040: early stopping\n"
          ],
          "name": "stdout"
        },
        {
          "output_type": "display_data",
          "data": {
            "text/html": [
              "<span style=\"color:#4527A0\"><h1 style=\"font-size:18px\">Trial complete</h1></span>"
            ],
            "text/plain": [
              "<IPython.core.display.HTML object>"
            ]
          },
          "metadata": {
            "tags": []
          }
        },
        {
          "output_type": "display_data",
          "data": {
            "text/html": [
              "<span style=\"color:#4527A0\"><h1 style=\"font-size:18px\">Trial summary</h1></span>"
            ],
            "text/plain": [
              "<IPython.core.display.HTML object>"
            ]
          },
          "metadata": {
            "tags": []
          }
        },
        {
          "output_type": "display_data",
          "data": {
            "text/html": [
              "<span style=\"color:cyan\"> |-Trial ID: e922bbb11ef50bbe2819a24210319819</span>"
            ],
            "text/plain": [
              "<IPython.core.display.HTML object>"
            ]
          },
          "metadata": {
            "tags": []
          }
        },
        {
          "output_type": "display_data",
          "data": {
            "text/html": [
              "<span style=\"color:cyan\"> |-Score: 0.9256666898727417</span>"
            ],
            "text/plain": [
              "<IPython.core.display.HTML object>"
            ]
          },
          "metadata": {
            "tags": []
          }
        },
        {
          "output_type": "display_data",
          "data": {
            "text/html": [
              "<span style=\"color:cyan\"> |-Best step: 0</span>"
            ],
            "text/plain": [
              "<IPython.core.display.HTML object>"
            ]
          },
          "metadata": {
            "tags": []
          }
        },
        {
          "output_type": "display_data",
          "data": {
            "text/html": [
              "<span style=\"color:#7E57C2\"><h2 style=\"font-size:16px\">Hyperparameters:</h2></span>"
            ],
            "text/plain": [
              "<IPython.core.display.HTML object>"
            ]
          },
          "metadata": {
            "tags": []
          }
        },
        {
          "output_type": "display_data",
          "data": {
            "text/html": [
              "<span style=\"color:cyan\"> |-dropout: 0.2</span>"
            ],
            "text/plain": [
              "<IPython.core.display.HTML object>"
            ]
          },
          "metadata": {
            "tags": []
          }
        },
        {
          "output_type": "display_data",
          "data": {
            "text/html": [
              "<span style=\"color:blue\"> |-hidden_activation: relu</span>"
            ],
            "text/plain": [
              "<IPython.core.display.HTML object>"
            ]
          },
          "metadata": {
            "tags": []
          }
        },
        {
          "output_type": "display_data",
          "data": {
            "text/html": [
              "<span style=\"color:cyan\"> |-hidden_layers: 2</span>"
            ],
            "text/plain": [
              "<IPython.core.display.HTML object>"
            ]
          },
          "metadata": {
            "tags": []
          }
        },
        {
          "output_type": "display_data",
          "data": {
            "text/html": [
              "<span style=\"color:blue\"> |-hidden_units: 256</span>"
            ],
            "text/plain": [
              "<IPython.core.display.HTML object>"
            ]
          },
          "metadata": {
            "tags": []
          }
        },
        {
          "output_type": "display_data",
          "data": {
            "text/html": [
              "<span style=\"color:cyan\"> |-lr: 0.006599917029213527</span>"
            ],
            "text/plain": [
              "<IPython.core.display.HTML object>"
            ]
          },
          "metadata": {
            "tags": []
          }
        },
        {
          "output_type": "stream",
          "text": [
            "Epoch 1/50\n",
            "211/211 [==============================] - 3s 14ms/step - loss: 1.4527 - accuracy: 0.4570 - val_loss: 2.0122 - val_accuracy: 0.3350\n",
            "Epoch 2/50\n",
            "211/211 [==============================] - 3s 13ms/step - loss: 0.9064 - accuracy: 0.6518 - val_loss: 1.1717 - val_accuracy: 0.6485\n",
            "Epoch 3/50\n",
            "211/211 [==============================] - 3s 13ms/step - loss: 0.7497 - accuracy: 0.7150 - val_loss: 0.6487 - val_accuracy: 0.7668\n",
            "Epoch 4/50\n",
            "211/211 [==============================] - 3s 13ms/step - loss: 0.6744 - accuracy: 0.7427 - val_loss: 0.5551 - val_accuracy: 0.7847\n",
            "Epoch 5/50\n",
            "211/211 [==============================] - 3s 13ms/step - loss: 0.6333 - accuracy: 0.7592 - val_loss: 0.5200 - val_accuracy: 0.7988\n",
            "Epoch 6/50\n",
            "211/211 [==============================] - 3s 13ms/step - loss: 0.5980 - accuracy: 0.7714 - val_loss: 0.4864 - val_accuracy: 0.8098\n",
            "Epoch 7/50\n",
            "211/211 [==============================] - 3s 13ms/step - loss: 0.5714 - accuracy: 0.7830 - val_loss: 0.4673 - val_accuracy: 0.8195\n",
            "Epoch 8/50\n",
            "211/211 [==============================] - 3s 13ms/step - loss: 0.5551 - accuracy: 0.7891 - val_loss: 0.4471 - val_accuracy: 0.8347\n",
            "Epoch 9/50\n",
            "211/211 [==============================] - 3s 13ms/step - loss: 0.5308 - accuracy: 0.8035 - val_loss: 0.4297 - val_accuracy: 0.8373\n",
            "Epoch 10/50\n",
            "211/211 [==============================] - 3s 14ms/step - loss: 0.5153 - accuracy: 0.8070 - val_loss: 0.4157 - val_accuracy: 0.8435\n",
            "Epoch 11/50\n",
            "211/211 [==============================] - 3s 13ms/step - loss: 0.4976 - accuracy: 0.8153 - val_loss: 0.4011 - val_accuracy: 0.8495\n",
            "Epoch 12/50\n",
            "211/211 [==============================] - 3s 13ms/step - loss: 0.4843 - accuracy: 0.8201 - val_loss: 0.3847 - val_accuracy: 0.8553\n",
            "Epoch 13/50\n",
            "211/211 [==============================] - 3s 14ms/step - loss: 0.4719 - accuracy: 0.8246 - val_loss: 0.3764 - val_accuracy: 0.8607\n",
            "Epoch 14/50\n",
            "211/211 [==============================] - 3s 14ms/step - loss: 0.4634 - accuracy: 0.8284 - val_loss: 0.3709 - val_accuracy: 0.8638\n",
            "Epoch 15/50\n",
            "211/211 [==============================] - 3s 14ms/step - loss: 0.4517 - accuracy: 0.8332 - val_loss: 0.3627 - val_accuracy: 0.8642\n",
            "Epoch 16/50\n",
            "211/211 [==============================] - 3s 14ms/step - loss: 0.4451 - accuracy: 0.8341 - val_loss: 0.3611 - val_accuracy: 0.8660\n",
            "Epoch 17/50\n",
            "211/211 [==============================] - 3s 13ms/step - loss: 0.4366 - accuracy: 0.8390 - val_loss: 0.3506 - val_accuracy: 0.8687\n",
            "Epoch 18/50\n",
            "211/211 [==============================] - 3s 13ms/step - loss: 0.4279 - accuracy: 0.8438 - val_loss: 0.3452 - val_accuracy: 0.8692\n",
            "Epoch 19/50\n",
            "211/211 [==============================] - 3s 13ms/step - loss: 0.4230 - accuracy: 0.8441 - val_loss: 0.3421 - val_accuracy: 0.8717\n",
            "Epoch 20/50\n",
            "211/211 [==============================] - 3s 13ms/step - loss: 0.4143 - accuracy: 0.8474 - val_loss: 0.3438 - val_accuracy: 0.8710\n",
            "Epoch 21/50\n",
            "211/211 [==============================] - 3s 13ms/step - loss: 0.4102 - accuracy: 0.8473 - val_loss: 0.3327 - val_accuracy: 0.8745\n",
            "Epoch 22/50\n",
            "211/211 [==============================] - 3s 13ms/step - loss: 0.4039 - accuracy: 0.8505 - val_loss: 0.3260 - val_accuracy: 0.8755\n",
            "Epoch 23/50\n",
            "211/211 [==============================] - 3s 13ms/step - loss: 0.4011 - accuracy: 0.8514 - val_loss: 0.3231 - val_accuracy: 0.8762\n",
            "Epoch 24/50\n",
            "211/211 [==============================] - 3s 13ms/step - loss: 0.3938 - accuracy: 0.8533 - val_loss: 0.3239 - val_accuracy: 0.8780\n",
            "Epoch 25/50\n",
            "211/211 [==============================] - 3s 13ms/step - loss: 0.3881 - accuracy: 0.8579 - val_loss: 0.3173 - val_accuracy: 0.8823\n",
            "Epoch 26/50\n",
            "211/211 [==============================] - 3s 13ms/step - loss: 0.3840 - accuracy: 0.8580 - val_loss: 0.3174 - val_accuracy: 0.8828\n",
            "Epoch 27/50\n",
            "211/211 [==============================] - 3s 13ms/step - loss: 0.3810 - accuracy: 0.8597 - val_loss: 0.3097 - val_accuracy: 0.8863\n",
            "Epoch 28/50\n",
            "211/211 [==============================] - 3s 13ms/step - loss: 0.3755 - accuracy: 0.8609 - val_loss: 0.3125 - val_accuracy: 0.8852\n",
            "Epoch 29/50\n",
            "211/211 [==============================] - 3s 13ms/step - loss: 0.3711 - accuracy: 0.8616 - val_loss: 0.3074 - val_accuracy: 0.8818\n",
            "Epoch 30/50\n",
            "211/211 [==============================] - 3s 13ms/step - loss: 0.3709 - accuracy: 0.8631 - val_loss: 0.3069 - val_accuracy: 0.8855\n",
            "Epoch 31/50\n",
            "211/211 [==============================] - 3s 13ms/step - loss: 0.3663 - accuracy: 0.8651 - val_loss: 0.3087 - val_accuracy: 0.8847\n",
            "Epoch 32/50\n",
            "211/211 [==============================] - 3s 13ms/step - loss: 0.3626 - accuracy: 0.8664 - val_loss: 0.3084 - val_accuracy: 0.8862\n",
            "Epoch 33/50\n",
            "211/211 [==============================] - 3s 13ms/step - loss: 0.3580 - accuracy: 0.8665 - val_loss: 0.2944 - val_accuracy: 0.8923\n",
            "Epoch 34/50\n",
            "211/211 [==============================] - 3s 13ms/step - loss: 0.3575 - accuracy: 0.8673 - val_loss: 0.2935 - val_accuracy: 0.8912\n",
            "Epoch 35/50\n",
            "211/211 [==============================] - 3s 13ms/step - loss: 0.3531 - accuracy: 0.8688 - val_loss: 0.2890 - val_accuracy: 0.8913\n",
            "Epoch 36/50\n",
            "211/211 [==============================] - 3s 13ms/step - loss: 0.3469 - accuracy: 0.8714 - val_loss: 0.2926 - val_accuracy: 0.8905\n",
            "Epoch 37/50\n",
            "211/211 [==============================] - 3s 13ms/step - loss: 0.3473 - accuracy: 0.8713 - val_loss: 0.2890 - val_accuracy: 0.8905\n",
            "Epoch 38/50\n",
            "211/211 [==============================] - 3s 13ms/step - loss: 0.3443 - accuracy: 0.8732 - val_loss: 0.2835 - val_accuracy: 0.8948\n",
            "Epoch 39/50\n",
            "211/211 [==============================] - 3s 13ms/step - loss: 0.3405 - accuracy: 0.8739 - val_loss: 0.2883 - val_accuracy: 0.8915\n",
            "Epoch 40/50\n",
            "211/211 [==============================] - 3s 13ms/step - loss: 0.3415 - accuracy: 0.8741 - val_loss: 0.2910 - val_accuracy: 0.8897\n",
            "Epoch 41/50\n",
            "211/211 [==============================] - 3s 13ms/step - loss: 0.3377 - accuracy: 0.8763 - val_loss: 0.2813 - val_accuracy: 0.8955\n",
            "Epoch 42/50\n",
            "211/211 [==============================] - 3s 13ms/step - loss: 0.3362 - accuracy: 0.8757 - val_loss: 0.2791 - val_accuracy: 0.8942\n",
            "Epoch 43/50\n",
            "211/211 [==============================] - 3s 13ms/step - loss: 0.3341 - accuracy: 0.8759 - val_loss: 0.2828 - val_accuracy: 0.8940\n",
            "Epoch 44/50\n",
            "211/211 [==============================] - 3s 13ms/step - loss: 0.3321 - accuracy: 0.8771 - val_loss: 0.2749 - val_accuracy: 0.8980\n",
            "Epoch 45/50\n",
            "211/211 [==============================] - 3s 13ms/step - loss: 0.3298 - accuracy: 0.8787 - val_loss: 0.2709 - val_accuracy: 0.8967\n",
            "Epoch 46/50\n",
            "211/211 [==============================] - 3s 13ms/step - loss: 0.3268 - accuracy: 0.8787 - val_loss: 0.2879 - val_accuracy: 0.8912\n",
            "Epoch 47/50\n",
            "211/211 [==============================] - 3s 13ms/step - loss: 0.3230 - accuracy: 0.8808 - val_loss: 0.2694 - val_accuracy: 0.8993\n",
            "Epoch 48/50\n",
            "211/211 [==============================] - 3s 13ms/step - loss: 0.3225 - accuracy: 0.8801 - val_loss: 0.2843 - val_accuracy: 0.8923\n",
            "Epoch 49/50\n",
            "211/211 [==============================] - 3s 13ms/step - loss: 0.3202 - accuracy: 0.8802 - val_loss: 0.2709 - val_accuracy: 0.8983\n",
            "Epoch 50/50\n",
            "211/211 [==============================] - 3s 13ms/step - loss: 0.3207 - accuracy: 0.8821 - val_loss: 0.2806 - val_accuracy: 0.8938\n"
          ],
          "name": "stdout"
        },
        {
          "output_type": "display_data",
          "data": {
            "text/html": [
              "<span style=\"color:#4527A0\"><h1 style=\"font-size:18px\">Trial complete</h1></span>"
            ],
            "text/plain": [
              "<IPython.core.display.HTML object>"
            ]
          },
          "metadata": {
            "tags": []
          }
        },
        {
          "output_type": "display_data",
          "data": {
            "text/html": [
              "<span style=\"color:#4527A0\"><h1 style=\"font-size:18px\">Trial summary</h1></span>"
            ],
            "text/plain": [
              "<IPython.core.display.HTML object>"
            ]
          },
          "metadata": {
            "tags": []
          }
        },
        {
          "output_type": "display_data",
          "data": {
            "text/html": [
              "<span style=\"color:cyan\"> |-Trial ID: 91f57b06ad17aa7c44366d840273295b</span>"
            ],
            "text/plain": [
              "<IPython.core.display.HTML object>"
            ]
          },
          "metadata": {
            "tags": []
          }
        },
        {
          "output_type": "display_data",
          "data": {
            "text/html": [
              "<span style=\"color:cyan\"> |-Score: 0.8993333578109741</span>"
            ],
            "text/plain": [
              "<IPython.core.display.HTML object>"
            ]
          },
          "metadata": {
            "tags": []
          }
        },
        {
          "output_type": "display_data",
          "data": {
            "text/html": [
              "<span style=\"color:cyan\"> |-Best step: 0</span>"
            ],
            "text/plain": [
              "<IPython.core.display.HTML object>"
            ]
          },
          "metadata": {
            "tags": []
          }
        },
        {
          "output_type": "display_data",
          "data": {
            "text/html": [
              "<span style=\"color:#7E57C2\"><h2 style=\"font-size:16px\">Hyperparameters:</h2></span>"
            ],
            "text/plain": [
              "<IPython.core.display.HTML object>"
            ]
          },
          "metadata": {
            "tags": []
          }
        },
        {
          "output_type": "display_data",
          "data": {
            "text/html": [
              "<span style=\"color:cyan\"> |-dropout: 0.2</span>"
            ],
            "text/plain": [
              "<IPython.core.display.HTML object>"
            ]
          },
          "metadata": {
            "tags": []
          }
        },
        {
          "output_type": "display_data",
          "data": {
            "text/html": [
              "<span style=\"color:blue\"> |-hidden_activation: relu</span>"
            ],
            "text/plain": [
              "<IPython.core.display.HTML object>"
            ]
          },
          "metadata": {
            "tags": []
          }
        },
        {
          "output_type": "display_data",
          "data": {
            "text/html": [
              "<span style=\"color:cyan\"> |-hidden_layers: 2</span>"
            ],
            "text/plain": [
              "<IPython.core.display.HTML object>"
            ]
          },
          "metadata": {
            "tags": []
          }
        },
        {
          "output_type": "display_data",
          "data": {
            "text/html": [
              "<span style=\"color:blue\"> |-hidden_units: 256</span>"
            ],
            "text/plain": [
              "<IPython.core.display.HTML object>"
            ]
          },
          "metadata": {
            "tags": []
          }
        },
        {
          "output_type": "display_data",
          "data": {
            "text/html": [
              "<span style=\"color:cyan\"> |-lr: 0.000797425773423712</span>"
            ],
            "text/plain": [
              "<IPython.core.display.HTML object>"
            ]
          },
          "metadata": {
            "tags": []
          }
        },
        {
          "output_type": "stream",
          "text": [
            "Epoch 1/50\n",
            "211/211 [==============================] - 3s 14ms/step - loss: 1.8316 - accuracy: 0.3538 - val_loss: 2.2031 - val_accuracy: 0.2233\n",
            "Epoch 2/50\n",
            "211/211 [==============================] - 3s 13ms/step - loss: 1.2394 - accuracy: 0.5330 - val_loss: 1.5581 - val_accuracy: 0.6037\n",
            "Epoch 3/50\n",
            "211/211 [==============================] - 3s 13ms/step - loss: 1.0445 - accuracy: 0.5982 - val_loss: 0.9937 - val_accuracy: 0.7028\n",
            "Epoch 4/50\n",
            "211/211 [==============================] - 3s 13ms/step - loss: 0.9260 - accuracy: 0.6478 - val_loss: 0.7990 - val_accuracy: 0.7293\n",
            "Epoch 5/50\n",
            "211/211 [==============================] - 3s 13ms/step - loss: 0.8358 - accuracy: 0.6856 - val_loss: 0.7045 - val_accuracy: 0.7530\n",
            "Epoch 6/50\n",
            "211/211 [==============================] - 3s 13ms/step - loss: 0.7706 - accuracy: 0.7090 - val_loss: 0.6500 - val_accuracy: 0.7630\n",
            "Epoch 7/50\n",
            "211/211 [==============================] - 3s 13ms/step - loss: 0.7317 - accuracy: 0.7222 - val_loss: 0.6150 - val_accuracy: 0.7683\n",
            "Epoch 8/50\n",
            "211/211 [==============================] - 3s 13ms/step - loss: 0.7035 - accuracy: 0.7307 - val_loss: 0.5845 - val_accuracy: 0.7788\n",
            "Epoch 9/50\n",
            "211/211 [==============================] - 3s 13ms/step - loss: 0.6764 - accuracy: 0.7427 - val_loss: 0.5680 - val_accuracy: 0.7833\n",
            "Epoch 10/50\n",
            "211/211 [==============================] - 3s 13ms/step - loss: 0.6556 - accuracy: 0.7501 - val_loss: 0.5476 - val_accuracy: 0.7902\n",
            "Epoch 11/50\n",
            "211/211 [==============================] - 3s 13ms/step - loss: 0.6404 - accuracy: 0.7549 - val_loss: 0.5379 - val_accuracy: 0.7973\n",
            "Epoch 12/50\n",
            "211/211 [==============================] - 3s 13ms/step - loss: 0.6194 - accuracy: 0.7653 - val_loss: 0.5150 - val_accuracy: 0.7998\n",
            "Epoch 13/50\n",
            "211/211 [==============================] - 3s 13ms/step - loss: 0.6102 - accuracy: 0.7673 - val_loss: 0.5051 - val_accuracy: 0.8090\n",
            "Epoch 14/50\n",
            "211/211 [==============================] - 3s 13ms/step - loss: 0.5965 - accuracy: 0.7728 - val_loss: 0.4934 - val_accuracy: 0.8133\n",
            "Epoch 15/50\n",
            "211/211 [==============================] - 3s 13ms/step - loss: 0.5833 - accuracy: 0.7795 - val_loss: 0.4825 - val_accuracy: 0.8198\n",
            "Epoch 16/50\n",
            "211/211 [==============================] - 3s 13ms/step - loss: 0.5724 - accuracy: 0.7829 - val_loss: 0.4746 - val_accuracy: 0.8230\n",
            "Epoch 17/50\n",
            "211/211 [==============================] - 3s 13ms/step - loss: 0.5655 - accuracy: 0.7874 - val_loss: 0.4638 - val_accuracy: 0.8293\n",
            "Epoch 18/50\n",
            "211/211 [==============================] - 3s 13ms/step - loss: 0.5552 - accuracy: 0.7919 - val_loss: 0.4540 - val_accuracy: 0.8305\n",
            "Epoch 19/50\n",
            "211/211 [==============================] - 3s 13ms/step - loss: 0.5469 - accuracy: 0.7949 - val_loss: 0.4476 - val_accuracy: 0.8328\n",
            "Epoch 20/50\n",
            "211/211 [==============================] - 3s 13ms/step - loss: 0.5388 - accuracy: 0.7991 - val_loss: 0.4385 - val_accuracy: 0.8357\n",
            "Epoch 21/50\n",
            "211/211 [==============================] - 3s 13ms/step - loss: 0.5312 - accuracy: 0.8021 - val_loss: 0.4283 - val_accuracy: 0.8410\n",
            "Epoch 22/50\n",
            "211/211 [==============================] - 3s 13ms/step - loss: 0.5202 - accuracy: 0.8076 - val_loss: 0.4251 - val_accuracy: 0.8433\n",
            "Epoch 23/50\n",
            "211/211 [==============================] - 3s 13ms/step - loss: 0.5131 - accuracy: 0.8089 - val_loss: 0.4200 - val_accuracy: 0.8462\n",
            "Epoch 24/50\n",
            "211/211 [==============================] - 3s 13ms/step - loss: 0.5101 - accuracy: 0.8128 - val_loss: 0.4107 - val_accuracy: 0.8493\n",
            "Epoch 25/50\n",
            "211/211 [==============================] - 3s 13ms/step - loss: 0.5020 - accuracy: 0.8149 - val_loss: 0.4040 - val_accuracy: 0.8500\n",
            "Epoch 26/50\n",
            "211/211 [==============================] - 3s 13ms/step - loss: 0.4952 - accuracy: 0.8178 - val_loss: 0.4016 - val_accuracy: 0.8507\n",
            "Epoch 27/50\n",
            "211/211 [==============================] - 3s 13ms/step - loss: 0.4885 - accuracy: 0.8217 - val_loss: 0.3965 - val_accuracy: 0.8535\n",
            "Epoch 28/50\n",
            "211/211 [==============================] - 3s 13ms/step - loss: 0.4799 - accuracy: 0.8244 - val_loss: 0.3920 - val_accuracy: 0.8570\n",
            "Epoch 29/50\n",
            "211/211 [==============================] - 3s 13ms/step - loss: 0.4790 - accuracy: 0.8244 - val_loss: 0.3887 - val_accuracy: 0.8585\n",
            "Epoch 30/50\n",
            "211/211 [==============================] - 3s 13ms/step - loss: 0.4729 - accuracy: 0.8274 - val_loss: 0.3834 - val_accuracy: 0.8582\n",
            "Epoch 31/50\n",
            "211/211 [==============================] - 3s 13ms/step - loss: 0.4673 - accuracy: 0.8285 - val_loss: 0.3825 - val_accuracy: 0.8568\n",
            "Epoch 32/50\n",
            "211/211 [==============================] - 3s 13ms/step - loss: 0.4630 - accuracy: 0.8314 - val_loss: 0.3735 - val_accuracy: 0.8625\n",
            "Epoch 33/50\n",
            "211/211 [==============================] - 3s 13ms/step - loss: 0.4570 - accuracy: 0.8320 - val_loss: 0.3745 - val_accuracy: 0.8632\n",
            "Epoch 34/50\n",
            "211/211 [==============================] - 3s 13ms/step - loss: 0.4534 - accuracy: 0.8342 - val_loss: 0.3692 - val_accuracy: 0.8645\n",
            "Epoch 35/50\n",
            "211/211 [==============================] - 3s 13ms/step - loss: 0.4511 - accuracy: 0.8352 - val_loss: 0.3643 - val_accuracy: 0.8652\n",
            "Epoch 36/50\n",
            "211/211 [==============================] - 3s 13ms/step - loss: 0.4449 - accuracy: 0.8374 - val_loss: 0.3650 - val_accuracy: 0.8670\n",
            "Epoch 37/50\n",
            "211/211 [==============================] - 3s 13ms/step - loss: 0.4435 - accuracy: 0.8372 - val_loss: 0.3587 - val_accuracy: 0.8680\n",
            "Epoch 38/50\n",
            "211/211 [==============================] - 3s 13ms/step - loss: 0.4356 - accuracy: 0.8406 - val_loss: 0.3559 - val_accuracy: 0.8688\n",
            "Epoch 39/50\n",
            "211/211 [==============================] - 3s 13ms/step - loss: 0.4322 - accuracy: 0.8416 - val_loss: 0.3521 - val_accuracy: 0.8698\n",
            "Epoch 40/50\n",
            "211/211 [==============================] - 3s 13ms/step - loss: 0.4310 - accuracy: 0.8428 - val_loss: 0.3489 - val_accuracy: 0.8712\n",
            "Epoch 41/50\n",
            "211/211 [==============================] - 3s 13ms/step - loss: 0.4289 - accuracy: 0.8421 - val_loss: 0.3472 - val_accuracy: 0.8720\n",
            "Epoch 42/50\n",
            "211/211 [==============================] - 3s 13ms/step - loss: 0.4235 - accuracy: 0.8450 - val_loss: 0.3470 - val_accuracy: 0.8722\n",
            "Epoch 43/50\n",
            "211/211 [==============================] - 3s 13ms/step - loss: 0.4214 - accuracy: 0.8450 - val_loss: 0.3433 - val_accuracy: 0.8725\n",
            "Epoch 44/50\n",
            "211/211 [==============================] - 3s 13ms/step - loss: 0.4201 - accuracy: 0.8462 - val_loss: 0.3432 - val_accuracy: 0.8742\n",
            "Epoch 45/50\n",
            "211/211 [==============================] - 3s 13ms/step - loss: 0.4157 - accuracy: 0.8487 - val_loss: 0.3404 - val_accuracy: 0.8748\n",
            "Epoch 46/50\n",
            "211/211 [==============================] - 3s 13ms/step - loss: 0.4111 - accuracy: 0.8506 - val_loss: 0.3379 - val_accuracy: 0.8752\n",
            "Epoch 47/50\n",
            "211/211 [==============================] - 3s 13ms/step - loss: 0.4111 - accuracy: 0.8487 - val_loss: 0.3330 - val_accuracy: 0.8762\n",
            "Epoch 48/50\n",
            "211/211 [==============================] - 3s 13ms/step - loss: 0.4058 - accuracy: 0.8523 - val_loss: 0.3361 - val_accuracy: 0.8752\n",
            "Epoch 49/50\n",
            "211/211 [==============================] - 3s 13ms/step - loss: 0.4082 - accuracy: 0.8489 - val_loss: 0.3313 - val_accuracy: 0.8778\n",
            "Epoch 50/50\n",
            "211/211 [==============================] - 3s 13ms/step - loss: 0.4014 - accuracy: 0.8530 - val_loss: 0.3294 - val_accuracy: 0.8787\n"
          ],
          "name": "stdout"
        },
        {
          "output_type": "display_data",
          "data": {
            "text/html": [
              "<span style=\"color:#4527A0\"><h1 style=\"font-size:18px\">Trial complete</h1></span>"
            ],
            "text/plain": [
              "<IPython.core.display.HTML object>"
            ]
          },
          "metadata": {
            "tags": []
          }
        },
        {
          "output_type": "display_data",
          "data": {
            "text/html": [
              "<span style=\"color:#4527A0\"><h1 style=\"font-size:18px\">Trial summary</h1></span>"
            ],
            "text/plain": [
              "<IPython.core.display.HTML object>"
            ]
          },
          "metadata": {
            "tags": []
          }
        },
        {
          "output_type": "display_data",
          "data": {
            "text/html": [
              "<span style=\"color:cyan\"> |-Trial ID: c9c083c2b7b728b3b44b5d56cd2c87f5</span>"
            ],
            "text/plain": [
              "<IPython.core.display.HTML object>"
            ]
          },
          "metadata": {
            "tags": []
          }
        },
        {
          "output_type": "display_data",
          "data": {
            "text/html": [
              "<span style=\"color:cyan\"> |-Score: 0.8786666393280029</span>"
            ],
            "text/plain": [
              "<IPython.core.display.HTML object>"
            ]
          },
          "metadata": {
            "tags": []
          }
        },
        {
          "output_type": "display_data",
          "data": {
            "text/html": [
              "<span style=\"color:cyan\"> |-Best step: 0</span>"
            ],
            "text/plain": [
              "<IPython.core.display.HTML object>"
            ]
          },
          "metadata": {
            "tags": []
          }
        },
        {
          "output_type": "display_data",
          "data": {
            "text/html": [
              "<span style=\"color:#7E57C2\"><h2 style=\"font-size:16px\">Hyperparameters:</h2></span>"
            ],
            "text/plain": [
              "<IPython.core.display.HTML object>"
            ]
          },
          "metadata": {
            "tags": []
          }
        },
        {
          "output_type": "display_data",
          "data": {
            "text/html": [
              "<span style=\"color:cyan\"> |-dropout: 0.2</span>"
            ],
            "text/plain": [
              "<IPython.core.display.HTML object>"
            ]
          },
          "metadata": {
            "tags": []
          }
        },
        {
          "output_type": "display_data",
          "data": {
            "text/html": [
              "<span style=\"color:blue\"> |-hidden_activation: relu</span>"
            ],
            "text/plain": [
              "<IPython.core.display.HTML object>"
            ]
          },
          "metadata": {
            "tags": []
          }
        },
        {
          "output_type": "display_data",
          "data": {
            "text/html": [
              "<span style=\"color:cyan\"> |-hidden_layers: 2</span>"
            ],
            "text/plain": [
              "<IPython.core.display.HTML object>"
            ]
          },
          "metadata": {
            "tags": []
          }
        },
        {
          "output_type": "display_data",
          "data": {
            "text/html": [
              "<span style=\"color:blue\"> |-hidden_units: 256</span>"
            ],
            "text/plain": [
              "<IPython.core.display.HTML object>"
            ]
          },
          "metadata": {
            "tags": []
          }
        },
        {
          "output_type": "display_data",
          "data": {
            "text/html": [
              "<span style=\"color:cyan\"> |-lr: 0.0003491260272208854</span>"
            ],
            "text/plain": [
              "<IPython.core.display.HTML object>"
            ]
          },
          "metadata": {
            "tags": []
          }
        },
        {
          "output_type": "stream",
          "text": [
            "Epoch 1/50\n",
            "211/211 [==============================] - 3s 14ms/step - loss: 1.9252 - accuracy: 0.3090 - val_loss: 2.2592 - val_accuracy: 0.1612\n",
            "Epoch 2/50\n",
            "211/211 [==============================] - 3s 13ms/step - loss: 1.3372 - accuracy: 0.4967 - val_loss: 1.7421 - val_accuracy: 0.4692\n",
            "Epoch 3/50\n",
            "211/211 [==============================] - 3s 13ms/step - loss: 1.1159 - accuracy: 0.5613 - val_loss: 1.1066 - val_accuracy: 0.6018\n",
            "Epoch 4/50\n",
            "211/211 [==============================] - 3s 13ms/step - loss: 0.9982 - accuracy: 0.6146 - val_loss: 0.9000 - val_accuracy: 0.6628\n",
            "Epoch 5/50\n",
            "211/211 [==============================] - 3s 13ms/step - loss: 0.9130 - accuracy: 0.6547 - val_loss: 0.8002 - val_accuracy: 0.7095\n",
            "Epoch 6/50\n",
            "211/211 [==============================] - 3s 13ms/step - loss: 0.8435 - accuracy: 0.6813 - val_loss: 0.7351 - val_accuracy: 0.7312\n",
            "Epoch 7/50\n",
            "211/211 [==============================] - 3s 13ms/step - loss: 0.7936 - accuracy: 0.7009 - val_loss: 0.6854 - val_accuracy: 0.7473\n",
            "Epoch 8/50\n",
            "211/211 [==============================] - 3s 13ms/step - loss: 0.7545 - accuracy: 0.7150 - val_loss: 0.6441 - val_accuracy: 0.7555\n",
            "Epoch 9/50\n",
            "211/211 [==============================] - 3s 13ms/step - loss: 0.7238 - accuracy: 0.7258 - val_loss: 0.6232 - val_accuracy: 0.7623\n",
            "Epoch 10/50\n",
            "211/211 [==============================] - 3s 13ms/step - loss: 0.7014 - accuracy: 0.7337 - val_loss: 0.6018 - val_accuracy: 0.7718\n",
            "Epoch 11/50\n",
            "211/211 [==============================] - 3s 13ms/step - loss: 0.6808 - accuracy: 0.7424 - val_loss: 0.5852 - val_accuracy: 0.7800\n",
            "Epoch 12/50\n",
            "211/211 [==============================] - 3s 13ms/step - loss: 0.6659 - accuracy: 0.7502 - val_loss: 0.5632 - val_accuracy: 0.7868\n",
            "Epoch 13/50\n",
            "211/211 [==============================] - 3s 13ms/step - loss: 0.6511 - accuracy: 0.7539 - val_loss: 0.5483 - val_accuracy: 0.7923\n",
            "Epoch 14/50\n",
            "211/211 [==============================] - 3s 13ms/step - loss: 0.6377 - accuracy: 0.7581 - val_loss: 0.5359 - val_accuracy: 0.7955\n",
            "Epoch 15/50\n",
            "211/211 [==============================] - 3s 13ms/step - loss: 0.6253 - accuracy: 0.7655 - val_loss: 0.5267 - val_accuracy: 0.8018\n",
            "Epoch 16/50\n",
            "211/211 [==============================] - 3s 13ms/step - loss: 0.6144 - accuracy: 0.7700 - val_loss: 0.5178 - val_accuracy: 0.8048\n",
            "Epoch 17/50\n",
            "211/211 [==============================] - 3s 13ms/step - loss: 0.6057 - accuracy: 0.7716 - val_loss: 0.5108 - val_accuracy: 0.8113\n",
            "Epoch 18/50\n",
            "211/211 [==============================] - 3s 13ms/step - loss: 0.5946 - accuracy: 0.7780 - val_loss: 0.5022 - val_accuracy: 0.8108\n",
            "Epoch 19/50\n",
            "211/211 [==============================] - 3s 14ms/step - loss: 0.5851 - accuracy: 0.7788 - val_loss: 0.4935 - val_accuracy: 0.8167\n",
            "Epoch 20/50\n",
            "211/211 [==============================] - 3s 13ms/step - loss: 0.5788 - accuracy: 0.7840 - val_loss: 0.4864 - val_accuracy: 0.8187\n",
            "Epoch 21/50\n",
            "211/211 [==============================] - 3s 13ms/step - loss: 0.5719 - accuracy: 0.7866 - val_loss: 0.4748 - val_accuracy: 0.8225\n",
            "Epoch 22/50\n",
            "211/211 [==============================] - 3s 13ms/step - loss: 0.5600 - accuracy: 0.7884 - val_loss: 0.4692 - val_accuracy: 0.8283\n",
            "Epoch 23/50\n",
            "211/211 [==============================] - 3s 13ms/step - loss: 0.5542 - accuracy: 0.7932 - val_loss: 0.4706 - val_accuracy: 0.8253\n",
            "Epoch 24/50\n",
            "211/211 [==============================] - 3s 14ms/step - loss: 0.5481 - accuracy: 0.7974 - val_loss: 0.4545 - val_accuracy: 0.8312\n",
            "Epoch 25/50\n",
            "211/211 [==============================] - 3s 14ms/step - loss: 0.5420 - accuracy: 0.8002 - val_loss: 0.4494 - val_accuracy: 0.8333\n",
            "Epoch 26/50\n",
            "211/211 [==============================] - 3s 13ms/step - loss: 0.5339 - accuracy: 0.8026 - val_loss: 0.4476 - val_accuracy: 0.8330\n",
            "Epoch 27/50\n",
            "211/211 [==============================] - 3s 13ms/step - loss: 0.5322 - accuracy: 0.8038 - val_loss: 0.4444 - val_accuracy: 0.8362\n",
            "Epoch 28/50\n",
            "211/211 [==============================] - 3s 13ms/step - loss: 0.5233 - accuracy: 0.8044 - val_loss: 0.4405 - val_accuracy: 0.8368\n",
            "Epoch 29/50\n",
            "211/211 [==============================] - 3s 13ms/step - loss: 0.5193 - accuracy: 0.8075 - val_loss: 0.4301 - val_accuracy: 0.8405\n",
            "Epoch 30/50\n",
            "211/211 [==============================] - 3s 13ms/step - loss: 0.5132 - accuracy: 0.8124 - val_loss: 0.4290 - val_accuracy: 0.8405\n",
            "Epoch 31/50\n",
            "211/211 [==============================] - 3s 13ms/step - loss: 0.5093 - accuracy: 0.8141 - val_loss: 0.4223 - val_accuracy: 0.8413\n",
            "Epoch 32/50\n",
            "211/211 [==============================] - 3s 13ms/step - loss: 0.5066 - accuracy: 0.8122 - val_loss: 0.4177 - val_accuracy: 0.8453\n",
            "Epoch 33/50\n",
            "211/211 [==============================] - 3s 13ms/step - loss: 0.5010 - accuracy: 0.8165 - val_loss: 0.4151 - val_accuracy: 0.8462\n",
            "Epoch 34/50\n",
            "211/211 [==============================] - 3s 13ms/step - loss: 0.4956 - accuracy: 0.8176 - val_loss: 0.4128 - val_accuracy: 0.8473\n",
            "Epoch 35/50\n",
            "211/211 [==============================] - 3s 13ms/step - loss: 0.4942 - accuracy: 0.8183 - val_loss: 0.4084 - val_accuracy: 0.8478\n",
            "Epoch 36/50\n",
            "211/211 [==============================] - 3s 13ms/step - loss: 0.4886 - accuracy: 0.8214 - val_loss: 0.4089 - val_accuracy: 0.8503\n",
            "Epoch 37/50\n",
            "211/211 [==============================] - 3s 13ms/step - loss: 0.4821 - accuracy: 0.8227 - val_loss: 0.4013 - val_accuracy: 0.8508\n",
            "Epoch 38/50\n",
            "211/211 [==============================] - 3s 13ms/step - loss: 0.4816 - accuracy: 0.8239 - val_loss: 0.4002 - val_accuracy: 0.8518\n",
            "Epoch 39/50\n",
            "211/211 [==============================] - 3s 13ms/step - loss: 0.4772 - accuracy: 0.8266 - val_loss: 0.3974 - val_accuracy: 0.8515\n",
            "Epoch 40/50\n",
            "211/211 [==============================] - 3s 13ms/step - loss: 0.4704 - accuracy: 0.8261 - val_loss: 0.3932 - val_accuracy: 0.8545\n",
            "Epoch 41/50\n",
            "211/211 [==============================] - 3s 13ms/step - loss: 0.4697 - accuracy: 0.8288 - val_loss: 0.3899 - val_accuracy: 0.8562\n",
            "Epoch 42/50\n",
            "211/211 [==============================] - 3s 13ms/step - loss: 0.4647 - accuracy: 0.8287 - val_loss: 0.3852 - val_accuracy: 0.8578\n",
            "Epoch 43/50\n",
            "211/211 [==============================] - 3s 13ms/step - loss: 0.4629 - accuracy: 0.8298 - val_loss: 0.3856 - val_accuracy: 0.8568\n",
            "Epoch 44/50\n",
            "211/211 [==============================] - 3s 13ms/step - loss: 0.4566 - accuracy: 0.8335 - val_loss: 0.3810 - val_accuracy: 0.8587\n",
            "Epoch 45/50\n",
            "211/211 [==============================] - 3s 13ms/step - loss: 0.4559 - accuracy: 0.8335 - val_loss: 0.3763 - val_accuracy: 0.8600\n",
            "Epoch 46/50\n",
            "211/211 [==============================] - 3s 13ms/step - loss: 0.4519 - accuracy: 0.8358 - val_loss: 0.3756 - val_accuracy: 0.8595\n",
            "Epoch 47/50\n",
            "211/211 [==============================] - 3s 13ms/step - loss: 0.4523 - accuracy: 0.8362 - val_loss: 0.3712 - val_accuracy: 0.8620\n",
            "Epoch 48/50\n",
            "211/211 [==============================] - 3s 13ms/step - loss: 0.4498 - accuracy: 0.8355 - val_loss: 0.3751 - val_accuracy: 0.8590\n",
            "Epoch 49/50\n",
            "211/211 [==============================] - 3s 13ms/step - loss: 0.4421 - accuracy: 0.8382 - val_loss: 0.3700 - val_accuracy: 0.8630\n",
            "Epoch 50/50\n",
            "211/211 [==============================] - 3s 13ms/step - loss: 0.4442 - accuracy: 0.8389 - val_loss: 0.3663 - val_accuracy: 0.8632\n"
          ],
          "name": "stdout"
        },
        {
          "output_type": "display_data",
          "data": {
            "text/html": [
              "<span style=\"color:#4527A0\"><h1 style=\"font-size:18px\">Trial complete</h1></span>"
            ],
            "text/plain": [
              "<IPython.core.display.HTML object>"
            ]
          },
          "metadata": {
            "tags": []
          }
        },
        {
          "output_type": "display_data",
          "data": {
            "text/html": [
              "<span style=\"color:#4527A0\"><h1 style=\"font-size:18px\">Trial summary</h1></span>"
            ],
            "text/plain": [
              "<IPython.core.display.HTML object>"
            ]
          },
          "metadata": {
            "tags": []
          }
        },
        {
          "output_type": "display_data",
          "data": {
            "text/html": [
              "<span style=\"color:cyan\"> |-Trial ID: a39d1acd8b59eff5ccc81d695bfe8d44</span>"
            ],
            "text/plain": [
              "<IPython.core.display.HTML object>"
            ]
          },
          "metadata": {
            "tags": []
          }
        },
        {
          "output_type": "display_data",
          "data": {
            "text/html": [
              "<span style=\"color:cyan\"> |-Score: 0.8631666898727417</span>"
            ],
            "text/plain": [
              "<IPython.core.display.HTML object>"
            ]
          },
          "metadata": {
            "tags": []
          }
        },
        {
          "output_type": "display_data",
          "data": {
            "text/html": [
              "<span style=\"color:cyan\"> |-Best step: 0</span>"
            ],
            "text/plain": [
              "<IPython.core.display.HTML object>"
            ]
          },
          "metadata": {
            "tags": []
          }
        },
        {
          "output_type": "display_data",
          "data": {
            "text/html": [
              "<span style=\"color:#7E57C2\"><h2 style=\"font-size:16px\">Hyperparameters:</h2></span>"
            ],
            "text/plain": [
              "<IPython.core.display.HTML object>"
            ]
          },
          "metadata": {
            "tags": []
          }
        },
        {
          "output_type": "display_data",
          "data": {
            "text/html": [
              "<span style=\"color:cyan\"> |-dropout: 0.2</span>"
            ],
            "text/plain": [
              "<IPython.core.display.HTML object>"
            ]
          },
          "metadata": {
            "tags": []
          }
        },
        {
          "output_type": "display_data",
          "data": {
            "text/html": [
              "<span style=\"color:blue\"> |-hidden_activation: relu</span>"
            ],
            "text/plain": [
              "<IPython.core.display.HTML object>"
            ]
          },
          "metadata": {
            "tags": []
          }
        },
        {
          "output_type": "display_data",
          "data": {
            "text/html": [
              "<span style=\"color:cyan\"> |-hidden_layers: 2</span>"
            ],
            "text/plain": [
              "<IPython.core.display.HTML object>"
            ]
          },
          "metadata": {
            "tags": []
          }
        },
        {
          "output_type": "display_data",
          "data": {
            "text/html": [
              "<span style=\"color:blue\"> |-hidden_units: 256</span>"
            ],
            "text/plain": [
              "<IPython.core.display.HTML object>"
            ]
          },
          "metadata": {
            "tags": []
          }
        },
        {
          "output_type": "display_data",
          "data": {
            "text/html": [
              "<span style=\"color:cyan\"> |-lr: 0.00025071332274895686</span>"
            ],
            "text/plain": [
              "<IPython.core.display.HTML object>"
            ]
          },
          "metadata": {
            "tags": []
          }
        },
        {
          "output_type": "stream",
          "text": [
            "Epoch 1/50\n",
            "211/211 [==============================] - 3s 14ms/step - loss: 1.8566 - accuracy: 0.3413 - val_loss: 2.1887 - val_accuracy: 0.2238\n",
            "Epoch 2/50\n",
            "211/211 [==============================] - 3s 13ms/step - loss: 1.2977 - accuracy: 0.5076 - val_loss: 1.5052 - val_accuracy: 0.5553\n",
            "Epoch 3/50\n",
            "211/211 [==============================] - 3s 13ms/step - loss: 1.1212 - accuracy: 0.5619 - val_loss: 1.0434 - val_accuracy: 0.6345\n",
            "Epoch 4/50\n",
            "211/211 [==============================] - 3s 13ms/step - loss: 1.0246 - accuracy: 0.6011 - val_loss: 0.9030 - val_accuracy: 0.6592\n",
            "Epoch 5/50\n",
            "211/211 [==============================] - 3s 13ms/step - loss: 0.9535 - accuracy: 0.6336 - val_loss: 0.8263 - val_accuracy: 0.7007\n",
            "Epoch 6/50\n",
            "211/211 [==============================] - 3s 13ms/step - loss: 0.8907 - accuracy: 0.6628 - val_loss: 0.7587 - val_accuracy: 0.7333\n",
            "Epoch 7/50\n",
            "211/211 [==============================] - 3s 13ms/step - loss: 0.8280 - accuracy: 0.6912 - val_loss: 0.7029 - val_accuracy: 0.7502\n",
            "Epoch 8/50\n",
            "211/211 [==============================] - 3s 13ms/step - loss: 0.7783 - accuracy: 0.7082 - val_loss: 0.6615 - val_accuracy: 0.7555\n",
            "Epoch 9/50\n",
            "211/211 [==============================] - 3s 13ms/step - loss: 0.7364 - accuracy: 0.7260 - val_loss: 0.6266 - val_accuracy: 0.7643\n",
            "Epoch 10/50\n",
            "211/211 [==============================] - 3s 13ms/step - loss: 0.7083 - accuracy: 0.7341 - val_loss: 0.6021 - val_accuracy: 0.7723\n",
            "Epoch 11/50\n",
            "211/211 [==============================] - 3s 13ms/step - loss: 0.6869 - accuracy: 0.7423 - val_loss: 0.5871 - val_accuracy: 0.7768\n",
            "Epoch 12/50\n",
            "211/211 [==============================] - 3s 13ms/step - loss: 0.6661 - accuracy: 0.7498 - val_loss: 0.5628 - val_accuracy: 0.7815\n",
            "Epoch 13/50\n",
            "211/211 [==============================] - 3s 13ms/step - loss: 0.6528 - accuracy: 0.7538 - val_loss: 0.5477 - val_accuracy: 0.7895\n",
            "Epoch 14/50\n",
            "211/211 [==============================] - 3s 13ms/step - loss: 0.6375 - accuracy: 0.7589 - val_loss: 0.5400 - val_accuracy: 0.7905\n",
            "Epoch 15/50\n",
            "211/211 [==============================] - 3s 13ms/step - loss: 0.6240 - accuracy: 0.7629 - val_loss: 0.5282 - val_accuracy: 0.7957\n",
            "Epoch 16/50\n",
            "211/211 [==============================] - 3s 13ms/step - loss: 0.6111 - accuracy: 0.7673 - val_loss: 0.5205 - val_accuracy: 0.7972\n",
            "Epoch 17/50\n",
            "211/211 [==============================] - 3s 13ms/step - loss: 0.6012 - accuracy: 0.7748 - val_loss: 0.5102 - val_accuracy: 0.8047\n",
            "Epoch 18/50\n",
            "211/211 [==============================] - 3s 13ms/step - loss: 0.5957 - accuracy: 0.7755 - val_loss: 0.5010 - val_accuracy: 0.8055\n",
            "Epoch 19/50\n",
            "211/211 [==============================] - 3s 13ms/step - loss: 0.5839 - accuracy: 0.7791 - val_loss: 0.4923 - val_accuracy: 0.8118\n",
            "Epoch 20/50\n",
            "211/211 [==============================] - 3s 13ms/step - loss: 0.5749 - accuracy: 0.7826 - val_loss: 0.4815 - val_accuracy: 0.8170\n",
            "Epoch 21/50\n",
            "211/211 [==============================] - 3s 13ms/step - loss: 0.5671 - accuracy: 0.7864 - val_loss: 0.4724 - val_accuracy: 0.8223\n",
            "Epoch 22/50\n",
            "211/211 [==============================] - 3s 13ms/step - loss: 0.5594 - accuracy: 0.7899 - val_loss: 0.4670 - val_accuracy: 0.8245\n",
            "Epoch 23/50\n",
            "211/211 [==============================] - 3s 13ms/step - loss: 0.5564 - accuracy: 0.7901 - val_loss: 0.4623 - val_accuracy: 0.8262\n",
            "Epoch 24/50\n",
            "211/211 [==============================] - 3s 13ms/step - loss: 0.5454 - accuracy: 0.7957 - val_loss: 0.4538 - val_accuracy: 0.8298\n",
            "Epoch 25/50\n",
            "211/211 [==============================] - 3s 13ms/step - loss: 0.5418 - accuracy: 0.7974 - val_loss: 0.4471 - val_accuracy: 0.8302\n",
            "Epoch 26/50\n",
            "211/211 [==============================] - 3s 14ms/step - loss: 0.5324 - accuracy: 0.8008 - val_loss: 0.4444 - val_accuracy: 0.8330\n",
            "Epoch 27/50\n",
            "211/211 [==============================] - 3s 13ms/step - loss: 0.5271 - accuracy: 0.8026 - val_loss: 0.4384 - val_accuracy: 0.8338\n",
            "Epoch 28/50\n",
            "211/211 [==============================] - 3s 13ms/step - loss: 0.5217 - accuracy: 0.8063 - val_loss: 0.4320 - val_accuracy: 0.8363\n",
            "Epoch 29/50\n",
            "211/211 [==============================] - 3s 13ms/step - loss: 0.5164 - accuracy: 0.8079 - val_loss: 0.4294 - val_accuracy: 0.8390\n",
            "Epoch 30/50\n",
            "211/211 [==============================] - 3s 13ms/step - loss: 0.5083 - accuracy: 0.8110 - val_loss: 0.4218 - val_accuracy: 0.8405\n",
            "Epoch 31/50\n",
            "211/211 [==============================] - 3s 13ms/step - loss: 0.5085 - accuracy: 0.8124 - val_loss: 0.4184 - val_accuracy: 0.8407\n",
            "Epoch 32/50\n",
            "211/211 [==============================] - 3s 13ms/step - loss: 0.5020 - accuracy: 0.8135 - val_loss: 0.4152 - val_accuracy: 0.8438\n",
            "Epoch 33/50\n",
            "211/211 [==============================] - 3s 13ms/step - loss: 0.4946 - accuracy: 0.8170 - val_loss: 0.4109 - val_accuracy: 0.8467\n",
            "Epoch 34/50\n",
            "211/211 [==============================] - 3s 13ms/step - loss: 0.4957 - accuracy: 0.8163 - val_loss: 0.4100 - val_accuracy: 0.8463\n",
            "Epoch 35/50\n",
            "211/211 [==============================] - 3s 13ms/step - loss: 0.4884 - accuracy: 0.8184 - val_loss: 0.4077 - val_accuracy: 0.8458\n",
            "Epoch 36/50\n",
            "211/211 [==============================] - 3s 13ms/step - loss: 0.4846 - accuracy: 0.8209 - val_loss: 0.4037 - val_accuracy: 0.8467\n",
            "Epoch 37/50\n",
            "211/211 [==============================] - 3s 13ms/step - loss: 0.4826 - accuracy: 0.8209 - val_loss: 0.3967 - val_accuracy: 0.8488\n",
            "Epoch 38/50\n",
            "211/211 [==============================] - 3s 13ms/step - loss: 0.4749 - accuracy: 0.8258 - val_loss: 0.3921 - val_accuracy: 0.8498\n",
            "Epoch 39/50\n",
            "211/211 [==============================] - 3s 13ms/step - loss: 0.4752 - accuracy: 0.8250 - val_loss: 0.3888 - val_accuracy: 0.8532\n",
            "Epoch 40/50\n",
            "211/211 [==============================] - 3s 13ms/step - loss: 0.4715 - accuracy: 0.8271 - val_loss: 0.3882 - val_accuracy: 0.8518\n",
            "Epoch 41/50\n",
            "211/211 [==============================] - 3s 13ms/step - loss: 0.4681 - accuracy: 0.8288 - val_loss: 0.3826 - val_accuracy: 0.8552\n",
            "Epoch 42/50\n",
            "211/211 [==============================] - 3s 13ms/step - loss: 0.4581 - accuracy: 0.8305 - val_loss: 0.3816 - val_accuracy: 0.8545\n",
            "Epoch 43/50\n",
            "211/211 [==============================] - 3s 13ms/step - loss: 0.4593 - accuracy: 0.8304 - val_loss: 0.3812 - val_accuracy: 0.8543\n",
            "Epoch 44/50\n",
            "211/211 [==============================] - 3s 13ms/step - loss: 0.4571 - accuracy: 0.8295 - val_loss: 0.3783 - val_accuracy: 0.8555\n",
            "Epoch 45/50\n",
            "211/211 [==============================] - 3s 13ms/step - loss: 0.4524 - accuracy: 0.8338 - val_loss: 0.3767 - val_accuracy: 0.8552\n",
            "Epoch 46/50\n",
            "211/211 [==============================] - 3s 13ms/step - loss: 0.4502 - accuracy: 0.8348 - val_loss: 0.3740 - val_accuracy: 0.8573\n",
            "Epoch 47/50\n",
            "211/211 [==============================] - 3s 13ms/step - loss: 0.4453 - accuracy: 0.8368 - val_loss: 0.3680 - val_accuracy: 0.8593\n",
            "Epoch 48/50\n",
            "211/211 [==============================] - 3s 13ms/step - loss: 0.4445 - accuracy: 0.8366 - val_loss: 0.3680 - val_accuracy: 0.8580\n",
            "Epoch 49/50\n",
            "211/211 [==============================] - 3s 13ms/step - loss: 0.4427 - accuracy: 0.8365 - val_loss: 0.3658 - val_accuracy: 0.8595\n",
            "Epoch 50/50\n",
            "211/211 [==============================] - 3s 13ms/step - loss: 0.4386 - accuracy: 0.8391 - val_loss: 0.3671 - val_accuracy: 0.8602\n"
          ],
          "name": "stdout"
        },
        {
          "output_type": "display_data",
          "data": {
            "text/html": [
              "<span style=\"color:#4527A0\"><h1 style=\"font-size:18px\">Trial complete</h1></span>"
            ],
            "text/plain": [
              "<IPython.core.display.HTML object>"
            ]
          },
          "metadata": {
            "tags": []
          }
        },
        {
          "output_type": "display_data",
          "data": {
            "text/html": [
              "<span style=\"color:#4527A0\"><h1 style=\"font-size:18px\">Trial summary</h1></span>"
            ],
            "text/plain": [
              "<IPython.core.display.HTML object>"
            ]
          },
          "metadata": {
            "tags": []
          }
        },
        {
          "output_type": "display_data",
          "data": {
            "text/html": [
              "<span style=\"color:cyan\"> |-Trial ID: ef5fdd0955a3ef4d067ee6118fb1420d</span>"
            ],
            "text/plain": [
              "<IPython.core.display.HTML object>"
            ]
          },
          "metadata": {
            "tags": []
          }
        },
        {
          "output_type": "display_data",
          "data": {
            "text/html": [
              "<span style=\"color:cyan\"> |-Score: 0.8601666688919067</span>"
            ],
            "text/plain": [
              "<IPython.core.display.HTML object>"
            ]
          },
          "metadata": {
            "tags": []
          }
        },
        {
          "output_type": "display_data",
          "data": {
            "text/html": [
              "<span style=\"color:cyan\"> |-Best step: 0</span>"
            ],
            "text/plain": [
              "<IPython.core.display.HTML object>"
            ]
          },
          "metadata": {
            "tags": []
          }
        },
        {
          "output_type": "display_data",
          "data": {
            "text/html": [
              "<span style=\"color:#7E57C2\"><h2 style=\"font-size:16px\">Hyperparameters:</h2></span>"
            ],
            "text/plain": [
              "<IPython.core.display.HTML object>"
            ]
          },
          "metadata": {
            "tags": []
          }
        },
        {
          "output_type": "display_data",
          "data": {
            "text/html": [
              "<span style=\"color:cyan\"> |-dropout: 0.2</span>"
            ],
            "text/plain": [
              "<IPython.core.display.HTML object>"
            ]
          },
          "metadata": {
            "tags": []
          }
        },
        {
          "output_type": "display_data",
          "data": {
            "text/html": [
              "<span style=\"color:blue\"> |-hidden_activation: relu</span>"
            ],
            "text/plain": [
              "<IPython.core.display.HTML object>"
            ]
          },
          "metadata": {
            "tags": []
          }
        },
        {
          "output_type": "display_data",
          "data": {
            "text/html": [
              "<span style=\"color:cyan\"> |-hidden_layers: 2</span>"
            ],
            "text/plain": [
              "<IPython.core.display.HTML object>"
            ]
          },
          "metadata": {
            "tags": []
          }
        },
        {
          "output_type": "display_data",
          "data": {
            "text/html": [
              "<span style=\"color:blue\"> |-hidden_units: 256</span>"
            ],
            "text/plain": [
              "<IPython.core.display.HTML object>"
            ]
          },
          "metadata": {
            "tags": []
          }
        },
        {
          "output_type": "display_data",
          "data": {
            "text/html": [
              "<span style=\"color:cyan\"> |-lr: 0.0002554705805046948</span>"
            ],
            "text/plain": [
              "<IPython.core.display.HTML object>"
            ]
          },
          "metadata": {
            "tags": []
          }
        },
        {
          "output_type": "stream",
          "text": [
            "Epoch 1/50\n",
            "211/211 [==============================] - 3s 14ms/step - loss: 1.0166 - accuracy: 0.6193 - val_loss: 2.1100 - val_accuracy: 0.1098\n",
            "Epoch 2/50\n",
            "211/211 [==============================] - 3s 13ms/step - loss: 0.6126 - accuracy: 0.7686 - val_loss: 0.9967 - val_accuracy: 0.6933\n",
            "Epoch 3/50\n",
            "211/211 [==============================] - 3s 13ms/step - loss: 0.5342 - accuracy: 0.8005 - val_loss: 0.4664 - val_accuracy: 0.8387\n",
            "Epoch 4/50\n",
            "211/211 [==============================] - 3s 13ms/step - loss: 0.4877 - accuracy: 0.8199 - val_loss: 0.3813 - val_accuracy: 0.8572\n",
            "Epoch 5/50\n",
            "211/211 [==============================] - 3s 13ms/step - loss: 0.4497 - accuracy: 0.8352 - val_loss: 0.3587 - val_accuracy: 0.8650\n",
            "Epoch 6/50\n",
            "211/211 [==============================] - 3s 13ms/step - loss: 0.4274 - accuracy: 0.8430 - val_loss: 0.3346 - val_accuracy: 0.8702\n",
            "Epoch 7/50\n",
            "211/211 [==============================] - 3s 13ms/step - loss: 0.4019 - accuracy: 0.8517 - val_loss: 0.3274 - val_accuracy: 0.8770\n",
            "Epoch 8/50\n",
            "211/211 [==============================] - 3s 13ms/step - loss: 0.3875 - accuracy: 0.8576 - val_loss: 0.3182 - val_accuracy: 0.8807\n",
            "Epoch 9/50\n",
            "211/211 [==============================] - 3s 13ms/step - loss: 0.3734 - accuracy: 0.8617 - val_loss: 0.3017 - val_accuracy: 0.8860\n",
            "Epoch 10/50\n",
            "211/211 [==============================] - 3s 13ms/step - loss: 0.3614 - accuracy: 0.8674 - val_loss: 0.3000 - val_accuracy: 0.8870\n",
            "Epoch 11/50\n",
            "211/211 [==============================] - 3s 13ms/step - loss: 0.3519 - accuracy: 0.8700 - val_loss: 0.3055 - val_accuracy: 0.8847\n",
            "Epoch 12/50\n",
            "211/211 [==============================] - 3s 13ms/step - loss: 0.3440 - accuracy: 0.8738 - val_loss: 0.2806 - val_accuracy: 0.8958\n",
            "Epoch 13/50\n",
            "211/211 [==============================] - 3s 13ms/step - loss: 0.3359 - accuracy: 0.8758 - val_loss: 0.2865 - val_accuracy: 0.8910\n",
            "Epoch 14/50\n",
            "211/211 [==============================] - 3s 13ms/step - loss: 0.3298 - accuracy: 0.8795 - val_loss: 0.2747 - val_accuracy: 0.8967\n",
            "Epoch 15/50\n",
            "211/211 [==============================] - 3s 13ms/step - loss: 0.3195 - accuracy: 0.8826 - val_loss: 0.2716 - val_accuracy: 0.8975\n",
            "Epoch 16/50\n",
            "211/211 [==============================] - 3s 13ms/step - loss: 0.3114 - accuracy: 0.8845 - val_loss: 0.2716 - val_accuracy: 0.8963\n",
            "Epoch 17/50\n",
            "211/211 [==============================] - 3s 13ms/step - loss: 0.3089 - accuracy: 0.8877 - val_loss: 0.2629 - val_accuracy: 0.8995\n",
            "Epoch 18/50\n",
            "211/211 [==============================] - 3s 13ms/step - loss: 0.3053 - accuracy: 0.8868 - val_loss: 0.2618 - val_accuracy: 0.9015\n",
            "Epoch 19/50\n",
            "211/211 [==============================] - 3s 13ms/step - loss: 0.2992 - accuracy: 0.8899 - val_loss: 0.2617 - val_accuracy: 0.8993\n",
            "Epoch 20/50\n",
            "211/211 [==============================] - 3s 13ms/step - loss: 0.2940 - accuracy: 0.8908 - val_loss: 0.2506 - val_accuracy: 0.9038\n",
            "Epoch 21/50\n",
            "211/211 [==============================] - 3s 13ms/step - loss: 0.2943 - accuracy: 0.8909 - val_loss: 0.2512 - val_accuracy: 0.9027\n",
            "Epoch 22/50\n",
            "211/211 [==============================] - 3s 13ms/step - loss: 0.2857 - accuracy: 0.8940 - val_loss: 0.2474 - val_accuracy: 0.9053\n",
            "Epoch 23/50\n",
            "211/211 [==============================] - 3s 13ms/step - loss: 0.2812 - accuracy: 0.8974 - val_loss: 0.2443 - val_accuracy: 0.9070\n",
            "Epoch 24/50\n",
            "211/211 [==============================] - 3s 13ms/step - loss: 0.2800 - accuracy: 0.8957 - val_loss: 0.2475 - val_accuracy: 0.9058\n",
            "Epoch 25/50\n",
            "211/211 [==============================] - 3s 13ms/step - loss: 0.2771 - accuracy: 0.8979 - val_loss: 0.2399 - val_accuracy: 0.9125\n",
            "Epoch 26/50\n",
            "211/211 [==============================] - 3s 13ms/step - loss: 0.2728 - accuracy: 0.8999 - val_loss: 0.2460 - val_accuracy: 0.9077\n",
            "Epoch 27/50\n",
            "211/211 [==============================] - 3s 14ms/step - loss: 0.2720 - accuracy: 0.8980 - val_loss: 0.2374 - val_accuracy: 0.9125\n",
            "Epoch 28/50\n",
            "211/211 [==============================] - 3s 13ms/step - loss: 0.2692 - accuracy: 0.9006 - val_loss: 0.2567 - val_accuracy: 0.9018\n",
            "Epoch 29/50\n",
            "211/211 [==============================] - 3s 13ms/step - loss: 0.2631 - accuracy: 0.9026 - val_loss: 0.2336 - val_accuracy: 0.9138\n",
            "Epoch 30/50\n",
            "211/211 [==============================] - 3s 13ms/step - loss: 0.2623 - accuracy: 0.9025 - val_loss: 0.2324 - val_accuracy: 0.9105\n",
            "Epoch 31/50\n",
            "211/211 [==============================] - 3s 13ms/step - loss: 0.2620 - accuracy: 0.9023 - val_loss: 0.2313 - val_accuracy: 0.9133\n",
            "Epoch 32/50\n",
            "211/211 [==============================] - 3s 13ms/step - loss: 0.2560 - accuracy: 0.9066 - val_loss: 0.2331 - val_accuracy: 0.9100\n",
            "Epoch 33/50\n",
            "211/211 [==============================] - 3s 13ms/step - loss: 0.2566 - accuracy: 0.9049 - val_loss: 0.2337 - val_accuracy: 0.9112\n",
            "Epoch 34/50\n",
            "211/211 [==============================] - 3s 14ms/step - loss: 0.2514 - accuracy: 0.9061 - val_loss: 0.2349 - val_accuracy: 0.9112\n",
            "Epoch 35/50\n",
            "211/211 [==============================] - 3s 14ms/step - loss: 0.2490 - accuracy: 0.9075 - val_loss: 0.2256 - val_accuracy: 0.9148\n",
            "Epoch 36/50\n",
            "211/211 [==============================] - 3s 14ms/step - loss: 0.2507 - accuracy: 0.9066 - val_loss: 0.2309 - val_accuracy: 0.9113\n",
            "Epoch 37/50\n",
            "211/211 [==============================] - 3s 13ms/step - loss: 0.2440 - accuracy: 0.9092 - val_loss: 0.2293 - val_accuracy: 0.9157\n",
            "Epoch 38/50\n",
            "211/211 [==============================] - 3s 13ms/step - loss: 0.2470 - accuracy: 0.9078 - val_loss: 0.2284 - val_accuracy: 0.9142\n",
            "Epoch 39/50\n",
            "211/211 [==============================] - 3s 13ms/step - loss: 0.2416 - accuracy: 0.9112 - val_loss: 0.2276 - val_accuracy: 0.9148\n",
            "Epoch 40/50\n",
            "209/211 [============================>.] - ETA: 0s - loss: 0.2429 - accuracy: 0.9095Restoring model weights from the end of the best epoch.\n",
            "211/211 [==============================] - 3s 13ms/step - loss: 0.2426 - accuracy: 0.9095 - val_loss: 0.2313 - val_accuracy: 0.9137\n",
            "Epoch 00040: early stopping\n"
          ],
          "name": "stdout"
        },
        {
          "output_type": "display_data",
          "data": {
            "text/html": [
              "<span style=\"color:#4527A0\"><h1 style=\"font-size:18px\">Trial complete</h1></span>"
            ],
            "text/plain": [
              "<IPython.core.display.HTML object>"
            ]
          },
          "metadata": {
            "tags": []
          }
        },
        {
          "output_type": "display_data",
          "data": {
            "text/html": [
              "<span style=\"color:#4527A0\"><h1 style=\"font-size:18px\">Trial summary</h1></span>"
            ],
            "text/plain": [
              "<IPython.core.display.HTML object>"
            ]
          },
          "metadata": {
            "tags": []
          }
        },
        {
          "output_type": "display_data",
          "data": {
            "text/html": [
              "<span style=\"color:cyan\"> |-Trial ID: 6c78119bc03a1a9968ef8f035c118d1e</span>"
            ],
            "text/plain": [
              "<IPython.core.display.HTML object>"
            ]
          },
          "metadata": {
            "tags": []
          }
        },
        {
          "output_type": "display_data",
          "data": {
            "text/html": [
              "<span style=\"color:cyan\"> |-Score: 0.9156666398048401</span>"
            ],
            "text/plain": [
              "<IPython.core.display.HTML object>"
            ]
          },
          "metadata": {
            "tags": []
          }
        },
        {
          "output_type": "display_data",
          "data": {
            "text/html": [
              "<span style=\"color:cyan\"> |-Best step: 0</span>"
            ],
            "text/plain": [
              "<IPython.core.display.HTML object>"
            ]
          },
          "metadata": {
            "tags": []
          }
        },
        {
          "output_type": "display_data",
          "data": {
            "text/html": [
              "<span style=\"color:#7E57C2\"><h2 style=\"font-size:16px\">Hyperparameters:</h2></span>"
            ],
            "text/plain": [
              "<IPython.core.display.HTML object>"
            ]
          },
          "metadata": {
            "tags": []
          }
        },
        {
          "output_type": "display_data",
          "data": {
            "text/html": [
              "<span style=\"color:cyan\"> |-dropout: 0.2</span>"
            ],
            "text/plain": [
              "<IPython.core.display.HTML object>"
            ]
          },
          "metadata": {
            "tags": []
          }
        },
        {
          "output_type": "display_data",
          "data": {
            "text/html": [
              "<span style=\"color:blue\"> |-hidden_activation: relu</span>"
            ],
            "text/plain": [
              "<IPython.core.display.HTML object>"
            ]
          },
          "metadata": {
            "tags": []
          }
        },
        {
          "output_type": "display_data",
          "data": {
            "text/html": [
              "<span style=\"color:cyan\"> |-hidden_layers: 2</span>"
            ],
            "text/plain": [
              "<IPython.core.display.HTML object>"
            ]
          },
          "metadata": {
            "tags": []
          }
        },
        {
          "output_type": "display_data",
          "data": {
            "text/html": [
              "<span style=\"color:blue\"> |-hidden_units: 256</span>"
            ],
            "text/plain": [
              "<IPython.core.display.HTML object>"
            ]
          },
          "metadata": {
            "tags": []
          }
        },
        {
          "output_type": "display_data",
          "data": {
            "text/html": [
              "<span style=\"color:cyan\"> |-lr: 0.0033137745378583987</span>"
            ],
            "text/plain": [
              "<IPython.core.display.HTML object>"
            ]
          },
          "metadata": {
            "tags": []
          }
        },
        {
          "output_type": "stream",
          "text": [
            "Epoch 1/50\n",
            "211/211 [==============================] - 3s 14ms/step - loss: 2.0137 - accuracy: 0.2826 - val_loss: 2.2555 - val_accuracy: 0.2515\n",
            "Epoch 2/50\n",
            "211/211 [==============================] - 3s 13ms/step - loss: 1.4609 - accuracy: 0.4714 - val_loss: 1.7418 - val_accuracy: 0.4173\n",
            "Epoch 3/50\n",
            "211/211 [==============================] - 3s 13ms/step - loss: 1.2287 - accuracy: 0.5235 - val_loss: 1.2052 - val_accuracy: 0.5873\n",
            "Epoch 4/50\n",
            "211/211 [==============================] - 3s 13ms/step - loss: 1.1137 - accuracy: 0.5613 - val_loss: 1.0210 - val_accuracy: 0.6300\n",
            "Epoch 5/50\n",
            "211/211 [==============================] - 3s 13ms/step - loss: 1.0393 - accuracy: 0.5927 - val_loss: 0.9323 - val_accuracy: 0.6612\n",
            "Epoch 6/50\n",
            "211/211 [==============================] - 3s 13ms/step - loss: 0.9694 - accuracy: 0.6254 - val_loss: 0.8552 - val_accuracy: 0.6857\n",
            "Epoch 7/50\n",
            "211/211 [==============================] - 3s 13ms/step - loss: 0.9091 - accuracy: 0.6534 - val_loss: 0.7885 - val_accuracy: 0.7202\n",
            "Epoch 8/50\n",
            "211/211 [==============================] - 3s 13ms/step - loss: 0.8580 - accuracy: 0.6741 - val_loss: 0.7369 - val_accuracy: 0.7317\n",
            "Epoch 9/50\n",
            "211/211 [==============================] - 3s 13ms/step - loss: 0.8128 - accuracy: 0.6921 - val_loss: 0.6941 - val_accuracy: 0.7440\n",
            "Epoch 10/50\n",
            "211/211 [==============================] - 3s 13ms/step - loss: 0.7788 - accuracy: 0.7037 - val_loss: 0.6610 - val_accuracy: 0.7575\n",
            "Epoch 11/50\n",
            "211/211 [==============================] - 3s 13ms/step - loss: 0.7512 - accuracy: 0.7165 - val_loss: 0.6404 - val_accuracy: 0.7612\n",
            "Epoch 12/50\n",
            "211/211 [==============================] - 3s 13ms/step - loss: 0.7292 - accuracy: 0.7229 - val_loss: 0.6169 - val_accuracy: 0.7700\n",
            "Epoch 13/50\n",
            "211/211 [==============================] - 3s 13ms/step - loss: 0.7161 - accuracy: 0.7284 - val_loss: 0.6014 - val_accuracy: 0.7723\n",
            "Epoch 14/50\n",
            "211/211 [==============================] - 3s 13ms/step - loss: 0.6967 - accuracy: 0.7359 - val_loss: 0.5884 - val_accuracy: 0.7720\n",
            "Epoch 15/50\n",
            "211/211 [==============================] - 3s 13ms/step - loss: 0.6790 - accuracy: 0.7414 - val_loss: 0.5742 - val_accuracy: 0.7820\n",
            "Epoch 16/50\n",
            "211/211 [==============================] - 3s 13ms/step - loss: 0.6701 - accuracy: 0.7460 - val_loss: 0.5640 - val_accuracy: 0.7845\n",
            "Epoch 17/50\n",
            "211/211 [==============================] - 3s 13ms/step - loss: 0.6586 - accuracy: 0.7499 - val_loss: 0.5561 - val_accuracy: 0.7870\n",
            "Epoch 18/50\n",
            "211/211 [==============================] - 3s 13ms/step - loss: 0.6484 - accuracy: 0.7524 - val_loss: 0.5443 - val_accuracy: 0.7913\n",
            "Epoch 19/50\n",
            "211/211 [==============================] - 3s 13ms/step - loss: 0.6407 - accuracy: 0.7556 - val_loss: 0.5389 - val_accuracy: 0.7950\n",
            "Epoch 20/50\n",
            "211/211 [==============================] - 3s 13ms/step - loss: 0.6293 - accuracy: 0.7597 - val_loss: 0.5283 - val_accuracy: 0.8002\n",
            "Epoch 21/50\n",
            "211/211 [==============================] - 3s 13ms/step - loss: 0.6220 - accuracy: 0.7632 - val_loss: 0.5200 - val_accuracy: 0.8035\n",
            "Epoch 22/50\n",
            "211/211 [==============================] - 3s 13ms/step - loss: 0.6153 - accuracy: 0.7649 - val_loss: 0.5146 - val_accuracy: 0.8057\n",
            "Epoch 23/50\n",
            "211/211 [==============================] - 3s 13ms/step - loss: 0.6069 - accuracy: 0.7728 - val_loss: 0.5087 - val_accuracy: 0.8098\n",
            "Epoch 24/50\n",
            "211/211 [==============================] - 3s 13ms/step - loss: 0.5992 - accuracy: 0.7741 - val_loss: 0.4996 - val_accuracy: 0.8097\n",
            "Epoch 25/50\n",
            "211/211 [==============================] - 3s 13ms/step - loss: 0.5950 - accuracy: 0.7752 - val_loss: 0.4902 - val_accuracy: 0.8168\n",
            "Epoch 26/50\n",
            "211/211 [==============================] - 3s 13ms/step - loss: 0.5866 - accuracy: 0.7772 - val_loss: 0.4880 - val_accuracy: 0.8197\n",
            "Epoch 27/50\n",
            "211/211 [==============================] - 3s 13ms/step - loss: 0.5795 - accuracy: 0.7805 - val_loss: 0.4831 - val_accuracy: 0.8212\n",
            "Epoch 28/50\n",
            "211/211 [==============================] - 3s 13ms/step - loss: 0.5720 - accuracy: 0.7851 - val_loss: 0.4753 - val_accuracy: 0.8248\n",
            "Epoch 29/50\n",
            "211/211 [==============================] - 3s 13ms/step - loss: 0.5687 - accuracy: 0.7854 - val_loss: 0.4691 - val_accuracy: 0.8282\n",
            "Epoch 30/50\n",
            "211/211 [==============================] - 3s 13ms/step - loss: 0.5623 - accuracy: 0.7879 - val_loss: 0.4629 - val_accuracy: 0.8297\n",
            "Epoch 31/50\n",
            "211/211 [==============================] - 3s 13ms/step - loss: 0.5568 - accuracy: 0.7908 - val_loss: 0.4592 - val_accuracy: 0.8300\n",
            "Epoch 32/50\n",
            "211/211 [==============================] - 3s 13ms/step - loss: 0.5481 - accuracy: 0.7941 - val_loss: 0.4520 - val_accuracy: 0.8323\n",
            "Epoch 33/50\n",
            "211/211 [==============================] - 3s 14ms/step - loss: 0.5462 - accuracy: 0.7956 - val_loss: 0.4459 - val_accuracy: 0.8350\n",
            "Epoch 34/50\n",
            "211/211 [==============================] - 3s 13ms/step - loss: 0.5403 - accuracy: 0.7993 - val_loss: 0.4434 - val_accuracy: 0.8362\n",
            "Epoch 35/50\n",
            "211/211 [==============================] - 3s 13ms/step - loss: 0.5341 - accuracy: 0.8016 - val_loss: 0.4391 - val_accuracy: 0.8392\n",
            "Epoch 36/50\n",
            "211/211 [==============================] - 3s 13ms/step - loss: 0.5350 - accuracy: 0.8002 - val_loss: 0.4358 - val_accuracy: 0.8380\n",
            "Epoch 37/50\n",
            "211/211 [==============================] - 3s 13ms/step - loss: 0.5269 - accuracy: 0.8059 - val_loss: 0.4302 - val_accuracy: 0.8382\n",
            "Epoch 38/50\n",
            "211/211 [==============================] - 3s 13ms/step - loss: 0.5235 - accuracy: 0.8059 - val_loss: 0.4286 - val_accuracy: 0.8413\n",
            "Epoch 39/50\n",
            "211/211 [==============================] - 3s 13ms/step - loss: 0.5200 - accuracy: 0.8080 - val_loss: 0.4230 - val_accuracy: 0.8422\n",
            "Epoch 40/50\n",
            "211/211 [==============================] - 3s 13ms/step - loss: 0.5185 - accuracy: 0.8079 - val_loss: 0.4198 - val_accuracy: 0.8430\n",
            "Epoch 41/50\n",
            "211/211 [==============================] - 3s 13ms/step - loss: 0.5124 - accuracy: 0.8086 - val_loss: 0.4156 - val_accuracy: 0.8453\n",
            "Epoch 42/50\n",
            "211/211 [==============================] - 3s 13ms/step - loss: 0.5065 - accuracy: 0.8115 - val_loss: 0.4091 - val_accuracy: 0.8455\n",
            "Epoch 43/50\n",
            "211/211 [==============================] - 3s 13ms/step - loss: 0.5059 - accuracy: 0.8121 - val_loss: 0.4099 - val_accuracy: 0.8470\n",
            "Epoch 44/50\n",
            "211/211 [==============================] - 3s 13ms/step - loss: 0.5004 - accuracy: 0.8137 - val_loss: 0.4076 - val_accuracy: 0.8468\n",
            "Epoch 45/50\n",
            "211/211 [==============================] - 3s 13ms/step - loss: 0.4935 - accuracy: 0.8188 - val_loss: 0.4034 - val_accuracy: 0.8470\n",
            "Epoch 46/50\n",
            "211/211 [==============================] - 3s 13ms/step - loss: 0.4927 - accuracy: 0.8182 - val_loss: 0.4006 - val_accuracy: 0.8492\n",
            "Epoch 47/50\n",
            "211/211 [==============================] - 3s 13ms/step - loss: 0.4884 - accuracy: 0.8196 - val_loss: 0.3947 - val_accuracy: 0.8528\n",
            "Epoch 48/50\n",
            "211/211 [==============================] - 3s 13ms/step - loss: 0.4839 - accuracy: 0.8228 - val_loss: 0.3928 - val_accuracy: 0.8512\n",
            "Epoch 49/50\n",
            "211/211 [==============================] - 3s 13ms/step - loss: 0.4810 - accuracy: 0.8215 - val_loss: 0.3933 - val_accuracy: 0.8535\n",
            "Epoch 50/50\n",
            "211/211 [==============================] - 3s 13ms/step - loss: 0.4806 - accuracy: 0.8228 - val_loss: 0.3875 - val_accuracy: 0.8532\n"
          ],
          "name": "stdout"
        },
        {
          "output_type": "display_data",
          "data": {
            "text/html": [
              "<span style=\"color:#4527A0\"><h1 style=\"font-size:18px\">Trial complete</h1></span>"
            ],
            "text/plain": [
              "<IPython.core.display.HTML object>"
            ]
          },
          "metadata": {
            "tags": []
          }
        },
        {
          "output_type": "display_data",
          "data": {
            "text/html": [
              "<span style=\"color:#4527A0\"><h1 style=\"font-size:18px\">Trial summary</h1></span>"
            ],
            "text/plain": [
              "<IPython.core.display.HTML object>"
            ]
          },
          "metadata": {
            "tags": []
          }
        },
        {
          "output_type": "display_data",
          "data": {
            "text/html": [
              "<span style=\"color:cyan\"> |-Trial ID: 9e2553b7f6b0690ebf73fcbe03025b69</span>"
            ],
            "text/plain": [
              "<IPython.core.display.HTML object>"
            ]
          },
          "metadata": {
            "tags": []
          }
        },
        {
          "output_type": "display_data",
          "data": {
            "text/html": [
              "<span style=\"color:cyan\"> |-Score: 0.8535000085830688</span>"
            ],
            "text/plain": [
              "<IPython.core.display.HTML object>"
            ]
          },
          "metadata": {
            "tags": []
          }
        },
        {
          "output_type": "display_data",
          "data": {
            "text/html": [
              "<span style=\"color:cyan\"> |-Best step: 0</span>"
            ],
            "text/plain": [
              "<IPython.core.display.HTML object>"
            ]
          },
          "metadata": {
            "tags": []
          }
        },
        {
          "output_type": "display_data",
          "data": {
            "text/html": [
              "<span style=\"color:#7E57C2\"><h2 style=\"font-size:16px\">Hyperparameters:</h2></span>"
            ],
            "text/plain": [
              "<IPython.core.display.HTML object>"
            ]
          },
          "metadata": {
            "tags": []
          }
        },
        {
          "output_type": "display_data",
          "data": {
            "text/html": [
              "<span style=\"color:cyan\"> |-dropout: 0.2</span>"
            ],
            "text/plain": [
              "<IPython.core.display.HTML object>"
            ]
          },
          "metadata": {
            "tags": []
          }
        },
        {
          "output_type": "display_data",
          "data": {
            "text/html": [
              "<span style=\"color:blue\"> |-hidden_activation: relu</span>"
            ],
            "text/plain": [
              "<IPython.core.display.HTML object>"
            ]
          },
          "metadata": {
            "tags": []
          }
        },
        {
          "output_type": "display_data",
          "data": {
            "text/html": [
              "<span style=\"color:cyan\"> |-hidden_layers: 2</span>"
            ],
            "text/plain": [
              "<IPython.core.display.HTML object>"
            ]
          },
          "metadata": {
            "tags": []
          }
        },
        {
          "output_type": "display_data",
          "data": {
            "text/html": [
              "<span style=\"color:blue\"> |-hidden_units: 256</span>"
            ],
            "text/plain": [
              "<IPython.core.display.HTML object>"
            ]
          },
          "metadata": {
            "tags": []
          }
        },
        {
          "output_type": "display_data",
          "data": {
            "text/html": [
              "<span style=\"color:cyan\"> |-lr: 0.000195586335667274</span>"
            ],
            "text/plain": [
              "<IPython.core.display.HTML object>"
            ]
          },
          "metadata": {
            "tags": []
          }
        },
        {
          "output_type": "stream",
          "text": [
            "INFO:tensorflow:Oracle triggered exit\n"
          ],
          "name": "stdout"
        }
      ]
    },
    {
      "cell_type": "code",
      "metadata": {
        "id": "CvWMj8DrnbbU",
        "colab_type": "code",
        "colab": {
          "base_uri": "https://localhost:8080/",
          "height": 104
        },
        "outputId": "c912152c-bedc-4b67-ceee-ff7e3f6b43ce"
      },
      "source": [
        "best_params=tuner_adam.get_best_hyperparameters()[0].values\n",
        "best_params"
      ],
      "execution_count": null,
      "outputs": [
        {
          "output_type": "execute_result",
          "data": {
            "text/plain": [
              "{'dropout': 0.2,\n",
              " 'hidden_activation': 'relu',\n",
              " 'hidden_layers': 2,\n",
              " 'hidden_units': 256,\n",
              " 'lr': 0.008520876742029873}"
            ]
          },
          "metadata": {
            "tags": []
          },
          "execution_count": 196
        }
      ]
    },
    {
      "cell_type": "markdown",
      "metadata": {
        "id": "VnJYcIEI0kPf",
        "colab_type": "text"
      },
      "source": [
        "### Fine Tuned CNN Model"
      ]
    },
    {
      "cell_type": "code",
      "metadata": {
        "id": "9h6CM7B30otS",
        "colab_type": "code",
        "colab": {}
      },
      "source": [
        "model_params={'conv_dropout':0.2,\n",
        "              'conv_layers':3,\n",
        "              'conv_activation':'relu',\n",
        "              'kernel_size':(3, 3),\n",
        "              'strides':(1, 1),\n",
        "              'batch_normalization':True,\n",
        "              'dropout':True,\n",
        "              'hidden_units':256,\n",
        "              'hidden_layers':1,\n",
        "              'hidden_activation':'relu',\n",
        "              'lr':0.0085,\n",
        "              'learning_rate':0.001,\n",
        "              }"
      ],
      "execution_count": null,
      "outputs": []
    },
    {
      "cell_type": "code",
      "metadata": {
        "colab_type": "code",
        "id": "omCAiEk_06R7",
        "colab": {
          "base_uri": "https://localhost:8080/",
          "height": 1000
        },
        "outputId": "37ca4ce6-8119-452a-8662-0b1ccfa5add3"
      },
      "source": [
        "#call the CNN Model through the train function\n",
        "cnn_model_tuned_adam,cnn_hs_tuned_adam=train_model(\n",
        "    train_data=X_train,\n",
        "    train_labels=y_train,\n",
        "    optimizer=Adam,\n",
        "    epochs=100,\n",
        "    batch_size=512,\n",
        "    model_params=model_params\n",
        ")"
      ],
      "execution_count": null,
      "outputs": [
        {
          "output_type": "stream",
          "text": [
            "------------------\n",
            "Model: \"model_1\"\n",
            "_________________________________________________________________\n",
            "Layer (type)                 Output Shape              Param #   \n",
            "=================================================================\n",
            "Input (InputLayer)           (None, 28, 28, 1)         0         \n",
            "_________________________________________________________________\n",
            "Conv2D-1 (Conv2D)            (None, 28, 28, 16)        160       \n",
            "_________________________________________________________________\n",
            "Batch_Normalization-1 (Batch (None, 28, 28, 16)        112       \n",
            "_________________________________________________________________\n",
            "MaxPool2D-1 (MaxPooling2D)   (None, 14, 14, 16)        0         \n",
            "_________________________________________________________________\n",
            "Conv_Dropout-1 (Dropout)     (None, 14, 14, 16)        0         \n",
            "_________________________________________________________________\n",
            "Conv2D-2 (Conv2D)            (None, 14, 14, 32)        4640      \n",
            "_________________________________________________________________\n",
            "Batch_Normalization-2 (Batch (None, 14, 14, 32)        56        \n",
            "_________________________________________________________________\n",
            "MaxPool2D-2 (MaxPooling2D)   (None, 7, 7, 32)          0         \n",
            "_________________________________________________________________\n",
            "Conv_Dropout-2 (Dropout)     (None, 7, 7, 32)          0         \n",
            "_________________________________________________________________\n",
            "Conv2D-3 (Conv2D)            (None, 7, 7, 64)          18496     \n",
            "_________________________________________________________________\n",
            "Batch_Normalization-3 (Batch (None, 7, 7, 64)          28        \n",
            "_________________________________________________________________\n",
            "MaxPool2D-3 (MaxPooling2D)   (None, 4, 4, 64)          0         \n",
            "_________________________________________________________________\n",
            "Conv_Dropout-3 (Dropout)     (None, 4, 4, 64)          0         \n",
            "_________________________________________________________________\n",
            "Flatten (Flatten)            (None, 1024)              0         \n",
            "_________________________________________________________________\n",
            "Hidden-1 (Dense)             (None, 256)               262400    \n",
            "_________________________________________________________________\n",
            "Dropout-1 (Dropout)          (None, 256)               0         \n",
            "_________________________________________________________________\n",
            "Output (Dense)               (None, 10)                2570      \n",
            "=================================================================\n",
            "Total params: 288,462\n",
            "Trainable params: 288,364\n",
            "Non-trainable params: 98\n",
            "_________________________________________________________________\n"
          ],
          "name": "stdout"
        },
        {
          "output_type": "display_data",
          "data": {
            "image/png": "[encoded data removed]",
            "text/plain": [
              "<IPython.core.display.Image object>"
            ]
          },
          "metadata": {
            "tags": []
          }
        },
        {
          "output_type": "stream",
          "text": [
            "Train on 54000 samples, validate on 6000 samples\n",
            "Epoch 1/100\n",
            "54000/54000 [==============================] - 9s 166us/step - loss: 0.6842 - accuracy: 0.7448 - val_loss: 2.2319 - val_accuracy: 0.0942\n",
            "Epoch 2/100\n",
            "54000/54000 [==============================] - 2s 39us/step - loss: 0.3996 - accuracy: 0.8520 - val_loss: 2.1255 - val_accuracy: 0.2313\n",
            "Epoch 3/100\n",
            "54000/54000 [==============================] - 2s 40us/step - loss: 0.3358 - accuracy: 0.8740 - val_loss: 1.5665 - val_accuracy: 0.4468\n",
            "Epoch 4/100\n",
            "54000/54000 [==============================] - 2s 39us/step - loss: 0.3039 - accuracy: 0.8855 - val_loss: 0.9641 - val_accuracy: 0.6862\n",
            "Epoch 5/100\n",
            "54000/54000 [==============================] - 2s 39us/step - loss: 0.2821 - accuracy: 0.8945 - val_loss: 0.5473 - val_accuracy: 0.8033\n",
            "Epoch 6/100\n",
            "54000/54000 [==============================] - 2s 39us/step - loss: 0.2643 - accuracy: 0.9018 - val_loss: 0.3168 - val_accuracy: 0.8820\n",
            "Epoch 7/100\n",
            "54000/54000 [==============================] - 2s 39us/step - loss: 0.2509 - accuracy: 0.9060 - val_loss: 0.2663 - val_accuracy: 0.9022\n",
            "Epoch 8/100\n",
            "54000/54000 [==============================] - 2s 40us/step - loss: 0.2365 - accuracy: 0.9115 - val_loss: 0.2250 - val_accuracy: 0.9167\n",
            "Epoch 9/100\n",
            "54000/54000 [==============================] - 2s 39us/step - loss: 0.2310 - accuracy: 0.9138 - val_loss: 0.2285 - val_accuracy: 0.9142\n",
            "Epoch 10/100\n",
            "54000/54000 [==============================] - 2s 39us/step - loss: 0.2184 - accuracy: 0.9192 - val_loss: 0.2202 - val_accuracy: 0.9192\n",
            "Epoch 11/100\n",
            "54000/54000 [==============================] - 2s 39us/step - loss: 0.2132 - accuracy: 0.9200 - val_loss: 0.2335 - val_accuracy: 0.9130\n",
            "Epoch 12/100\n",
            "54000/54000 [==============================] - 2s 39us/step - loss: 0.2061 - accuracy: 0.9226 - val_loss: 0.2213 - val_accuracy: 0.9173\n",
            "Epoch 13/100\n",
            "54000/54000 [==============================] - 2s 39us/step - loss: 0.1970 - accuracy: 0.9260 - val_loss: 0.2223 - val_accuracy: 0.9168\n",
            "Epoch 14/100\n",
            "54000/54000 [==============================] - 2s 39us/step - loss: 0.1897 - accuracy: 0.9282 - val_loss: 0.2202 - val_accuracy: 0.9175\n",
            "Epoch 15/100\n",
            "54000/54000 [==============================] - 2s 39us/step - loss: 0.1845 - accuracy: 0.9306 - val_loss: 0.2139 - val_accuracy: 0.9232\n",
            "Epoch 16/100\n",
            "54000/54000 [==============================] - 2s 39us/step - loss: 0.1809 - accuracy: 0.9320 - val_loss: 0.2141 - val_accuracy: 0.9233\n",
            "Epoch 17/100\n",
            "54000/54000 [==============================] - 2s 39us/step - loss: 0.1727 - accuracy: 0.9342 - val_loss: 0.2176 - val_accuracy: 0.9245\n",
            "Epoch 18/100\n",
            "54000/54000 [==============================] - 2s 39us/step - loss: 0.1728 - accuracy: 0.9342 - val_loss: 0.2251 - val_accuracy: 0.9185\n",
            "Epoch 19/100\n",
            "54000/54000 [==============================] - 2s 39us/step - loss: 0.1667 - accuracy: 0.9364 - val_loss: 0.2181 - val_accuracy: 0.9200\n",
            "Epoch 20/100\n",
            "54000/54000 [==============================] - 2s 39us/step - loss: 0.1631 - accuracy: 0.9378 - val_loss: 0.2109 - val_accuracy: 0.9227\n",
            "Epoch 21/100\n",
            "54000/54000 [==============================] - 2s 40us/step - loss: 0.1542 - accuracy: 0.9407 - val_loss: 0.2191 - val_accuracy: 0.9237\n",
            "Epoch 22/100\n",
            "54000/54000 [==============================] - 2s 40us/step - loss: 0.1515 - accuracy: 0.9426 - val_loss: 0.2106 - val_accuracy: 0.9270\n",
            "Epoch 23/100\n",
            "54000/54000 [==============================] - 2s 39us/step - loss: 0.1485 - accuracy: 0.9429 - val_loss: 0.2222 - val_accuracy: 0.9213\n",
            "Epoch 24/100\n",
            "54000/54000 [==============================] - 2s 39us/step - loss: 0.1447 - accuracy: 0.9447 - val_loss: 0.2202 - val_accuracy: 0.9218\n",
            "Epoch 25/100\n",
            "54000/54000 [==============================] - 2s 39us/step - loss: 0.1448 - accuracy: 0.9455 - val_loss: 0.2271 - val_accuracy: 0.9217\n",
            "Epoch 26/100\n",
            "54000/54000 [==============================] - 2s 39us/step - loss: 0.1397 - accuracy: 0.9473 - val_loss: 0.2212 - val_accuracy: 0.9237\n",
            "Epoch 27/100\n",
            "54000/54000 [==============================] - 2s 38us/step - loss: 0.1344 - accuracy: 0.9491 - val_loss: 0.2230 - val_accuracy: 0.9203\n",
            "Epoch 28/100\n",
            "54000/54000 [==============================] - 2s 39us/step - loss: 0.1328 - accuracy: 0.9498 - val_loss: 0.2222 - val_accuracy: 0.9230\n",
            "Epoch 29/100\n",
            "54000/54000 [==============================] - 2s 39us/step - loss: 0.1282 - accuracy: 0.9516 - val_loss: 0.2204 - val_accuracy: 0.9225\n",
            "Epoch 30/100\n",
            "54000/54000 [==============================] - 2s 40us/step - loss: 0.1241 - accuracy: 0.9525 - val_loss: 0.2278 - val_accuracy: 0.9198\n",
            "Epoch 31/100\n",
            "54000/54000 [==============================] - 2s 40us/step - loss: 0.1259 - accuracy: 0.9517 - val_loss: 0.2325 - val_accuracy: 0.9227\n",
            "Epoch 32/100\n",
            "54000/54000 [==============================] - 2s 39us/step - loss: 0.1211 - accuracy: 0.9536 - val_loss: 0.2257 - val_accuracy: 0.9250\n",
            "Restoring model weights from the end of the best epoch\n",
            "Epoch 00032: early stopping\n",
            "Finished training.\n",
            "------------------\n"
          ],
          "name": "stdout"
        }
      ]
    },
    {
      "cell_type": "code",
      "metadata": {
        "id": "aXmPJy6p9-bs",
        "colab_type": "code",
        "colab": {
          "base_uri": "https://localhost:8080/",
          "height": 507
        },
        "outputId": "f0f0dcc9-19f8-49b7-8eb6-42a400f16bac"
      },
      "source": [
        "viz_history(hs_dict={'CNN_adam':cnn_hs_tuned_adam},metric='accuracy')"
      ],
      "execution_count": null,
      "outputs": [
        {
          "output_type": "display_data",
          "data": {
            "image/png": "[encoded data removed]",
            "text/plain": [
              "<Figure size 1080x576 with 1 Axes>"
            ]
          },
          "metadata": {
            "tags": []
          }
        }
      ]
    },
    {
      "cell_type": "code",
      "metadata": {
        "colab_type": "code",
        "id": "X2n_tc3d06Sh",
        "colab": {
          "base_uri": "https://localhost:8080/",
          "height": 52
        },
        "outputId": "0c46dab3-2158-48d3-d14f-0851e5bc08db"
      },
      "source": [
        "# Find the scores from the epochs according to Early stopping\n",
        "best_epoch = np.argmax(cnn_hs_tuned_adam.history['val_accuracy']) \n",
        "print('Best epoch=',best_epoch)\n",
        "print('Best val_accuracy=',np.max(cnn_hs_tuned_adam.history['val_accuracy']))"
      ],
      "execution_count": null,
      "outputs": [
        {
          "output_type": "stream",
          "text": [
            "Best epoch= 21\n",
            "Best val_accuracy= 0.9269999861717224\n"
          ],
          "name": "stdout"
        }
      ]
    },
    {
      "cell_type": "code",
      "metadata": {
        "colab_type": "code",
        "id": "nT9mOmFM06Sy",
        "colab": {
          "base_uri": "https://localhost:8080/",
          "height": 139
        },
        "outputId": "8380b2fe-b4e2-4120-e1a3-42047b872b7d"
      },
      "source": [
        "#print results at best epoch\n",
        "print_results(cnn_hs_tuned_adam,cnn_model_tuned_adam,best_epoch=best_epoch)"
      ],
      "execution_count": null,
      "outputs": [
        {
          "output_type": "stream",
          "text": [
            "Train Loss     : 0.15153\n",
            "Validation Loss: 0.21061\n",
            "Test Loss: 0.22188\n",
            "-------\n",
            "Train Accuracy     : 0.94257\n",
            "Validation Accuracy: 0.92700\n",
            "Test Accuracy: 0.92910\n"
          ],
          "name": "stdout"
        }
      ]
    },
    {
      "cell_type": "markdown",
      "metadata": {
        "id": "xm3mISQE4FMR",
        "colab_type": "text"
      },
      "source": [
        "### Model Assesment"
      ]
    },
    {
      "cell_type": "code",
      "metadata": {
        "id": "M9nRzzon7Uaa",
        "colab_type": "code",
        "colab": {}
      },
      "source": [
        "import pandas as pd"
      ],
      "execution_count": null,
      "outputs": []
    },
    {
      "cell_type": "code",
      "metadata": {
        "id": "PPDLwQc-5fD4",
        "colab_type": "code",
        "colab": {}
      },
      "source": [
        "predictions=cnn_model_tuned_adam.predict(X_test)\n",
        "predicted_classes=np.argmax(predictions,axis=1)"
      ],
      "execution_count": null,
      "outputs": []
    },
    {
      "cell_type": "code",
      "metadata": {
        "id": "4wY14YMG5kwa",
        "colab_type": "code",
        "colab": {}
      },
      "source": [
        "\n",
        "\n",
        "p = predicted_classes[:10000]\n",
        "y = test_labels[:10000]\n",
        "correct = np.nonzero(p==y)[0]\n",
        "incorrect = np.nonzero(p!=y)[0]\n",
        "\n"
      ],
      "execution_count": null,
      "outputs": []
    },
    {
      "cell_type": "code",
      "metadata": {
        "id": "5o4t15Eb8hvi",
        "colab_type": "code",
        "colab": {
          "base_uri": "https://localhost:8080/",
          "height": 52
        },
        "outputId": "e2bf9922-9ecf-4636-b23a-1ba580182b5f"
      },
      "source": [
        "print(\"Correct predicted classes:\",correct.shape[0])\n",
        "print(\"Incorrect predicted classes:\",incorrect.shape[0])"
      ],
      "execution_count": null,
      "outputs": [
        {
          "output_type": "stream",
          "text": [
            "Correct predicted classes: 9291\n",
            "Incorrect predicted classes: 709\n"
          ],
          "name": "stdout"
        }
      ]
    },
    {
      "cell_type": "code",
      "metadata": {
        "id": "lWthBNTFlu3P",
        "colab_type": "code",
        "colab": {}
      },
      "source": [
        "from sklearn.metrics import confusion_matrix,classification_report"
      ],
      "execution_count": null,
      "outputs": []
    },
    {
      "cell_type": "code",
      "metadata": {
        "id": "dEwdbxP381ZV",
        "colab_type": "code",
        "colab": {}
      },
      "source": [
        "labels = {0 : \"T-shirt/top\", 1: \"Trouser\", 2: \"Pullover\", 3: \"Dress\", 4: \"Coat\",\n",
        "          5: \"Sandal\", 6: \"Shirt\", 7: \"Sneaker\", 8: \"Bag\", 9: \"Ankle Boot\"}"
      ],
      "execution_count": null,
      "outputs": []
    },
    {
      "cell_type": "code",
      "metadata": {
        "id": "KMHvu3IKl94X",
        "colab_type": "code",
        "colab": {}
      },
      "source": [
        "def cm2df(cm, labels):\n",
        "    df = pd.DataFrame()\n",
        "    # rows\n",
        "    for i, row_label in enumerate(labels):\n",
        "        rowdata={}\n",
        "        # columns\n",
        "        for j, col_label in enumerate(labels): \n",
        "            rowdata[col_label]=cm[i,j]\n",
        "        df = df.append(pd.DataFrame.from_dict({row_label:rowdata}, orient='index'))\n",
        "    return df[labels]"
      ],
      "execution_count": null,
      "outputs": []
    },
    {
      "cell_type": "code",
      "metadata": {
        "id": "ykoe174G8ju6",
        "colab_type": "code",
        "colab": {
          "base_uri": "https://localhost:8080/",
          "height": 312
        },
        "outputId": "c2da4cb2-6681-4579-e942-52868fdf6211"
      },
      "source": [
        "target_names = [\"Class {} ({}) :\".format(i,labels[i]) for i in range(10)]\n",
        "print(classification_report(test_labels, predicted_classes, target_names=target_names))"
      ],
      "execution_count": null,
      "outputs": [
        {
          "output_type": "stream",
          "text": [
            "                         precision    recall  f1-score   support\n",
            "\n",
            "Class 0 (T-shirt/top) :       0.87      0.89      0.88      1000\n",
            "    Class 1 (Trouser) :       0.99      0.98      0.99      1000\n",
            "   Class 2 (Pullover) :       0.89      0.90      0.89      1000\n",
            "      Class 3 (Dress) :       0.93      0.93      0.93      1000\n",
            "       Class 4 (Coat) :       0.88      0.89      0.88      1000\n",
            "     Class 5 (Sandal) :       0.99      0.99      0.99      1000\n",
            "      Class 6 (Shirt) :       0.79      0.75      0.77      1000\n",
            "    Class 7 (Sneaker) :       0.96      0.98      0.97      1000\n",
            "        Class 8 (Bag) :       0.99      0.98      0.99      1000\n",
            " Class 9 (Ankle Boot) :       0.98      0.96      0.97      1000\n",
            "\n",
            "               accuracy                           0.93     10000\n",
            "              macro avg       0.93      0.93      0.93     10000\n",
            "           weighted avg       0.93      0.93      0.93     10000\n",
            "\n"
          ],
          "name": "stdout"
        }
      ]
    },
    {
      "cell_type": "markdown",
      "metadata": {
        "id": "EcajOQOKj1Xr",
        "colab_type": "text"
      },
      "source": [
        "\n",
        "\n",
        "The best accuracy is obtained for Class 1, Class 5, Class 8, Class 9 and Class 7. Worst accuracy is for Class 6.\n",
        "\n",
        "The recall is highest for Class 8, Class 5 and smallest for Class 6 and Class 4.\n",
        "\n",
        "f1-score is highest for Class 1, Class 5 and Class 8 and smallest for Class 6 followed by Class 4 and Class 2.\n",
        "\n",
        "\n",
        "\n"
      ]
    },
    {
      "cell_type": "code",
      "metadata": {
        "id": "0Ir8ht8tmuKF",
        "colab_type": "code",
        "colab": {
          "base_uri": "https://localhost:8080/",
          "height": 363
        },
        "outputId": "a4432c79-74ea-4f98-cbf4-19a643a8d52c"
      },
      "source": [
        "cm=confusion_matrix(test_labels,predicted_classes)\n",
        "cm2df(cm, labels.values())"
      ],
      "execution_count": null,
      "outputs": [
        {
          "output_type": "execute_result",
          "data": {
            "text/html": [
              "<div>\n",
              "<style scoped>\n",
              "    .dataframe tbody tr th:only-of-type {\n",
              "        vertical-align: middle;\n",
              "    }\n",
              "\n",
              "    .dataframe tbody tr th {\n",
              "        vertical-align: top;\n",
              "    }\n",
              "\n",
              "    .dataframe thead th {\n",
              "        text-align: right;\n",
              "    }\n",
              "</style>\n",
              "<table border=\"1\" class=\"dataframe\">\n",
              "  <thead>\n",
              "    <tr style=\"text-align: right;\">\n",
              "      <th></th>\n",
              "      <th>T-shirt/top</th>\n",
              "      <th>Trouser</th>\n",
              "      <th>Pullover</th>\n",
              "      <th>Dress</th>\n",
              "      <th>Coat</th>\n",
              "      <th>Sandal</th>\n",
              "      <th>Shirt</th>\n",
              "      <th>Sneaker</th>\n",
              "      <th>Bag</th>\n",
              "      <th>Ankle Boot</th>\n",
              "    </tr>\n",
              "  </thead>\n",
              "  <tbody>\n",
              "    <tr>\n",
              "      <th>T-shirt/top</th>\n",
              "      <td>870</td>\n",
              "      <td>0</td>\n",
              "      <td>19</td>\n",
              "      <td>10</td>\n",
              "      <td>1</td>\n",
              "      <td>1</td>\n",
              "      <td>96</td>\n",
              "      <td>0</td>\n",
              "      <td>3</td>\n",
              "      <td>0</td>\n",
              "    </tr>\n",
              "    <tr>\n",
              "      <th>Trouser</th>\n",
              "      <td>1</td>\n",
              "      <td>990</td>\n",
              "      <td>0</td>\n",
              "      <td>4</td>\n",
              "      <td>1</td>\n",
              "      <td>0</td>\n",
              "      <td>3</td>\n",
              "      <td>0</td>\n",
              "      <td>1</td>\n",
              "      <td>0</td>\n",
              "    </tr>\n",
              "    <tr>\n",
              "      <th>Pullover</th>\n",
              "      <td>16</td>\n",
              "      <td>1</td>\n",
              "      <td>897</td>\n",
              "      <td>8</td>\n",
              "      <td>34</td>\n",
              "      <td>0</td>\n",
              "      <td>44</td>\n",
              "      <td>0</td>\n",
              "      <td>0</td>\n",
              "      <td>0</td>\n",
              "    </tr>\n",
              "    <tr>\n",
              "      <th>Dress</th>\n",
              "      <td>12</td>\n",
              "      <td>5</td>\n",
              "      <td>8</td>\n",
              "      <td>933</td>\n",
              "      <td>21</td>\n",
              "      <td>0</td>\n",
              "      <td>21</td>\n",
              "      <td>0</td>\n",
              "      <td>0</td>\n",
              "      <td>0</td>\n",
              "    </tr>\n",
              "    <tr>\n",
              "      <th>Coat</th>\n",
              "      <td>0</td>\n",
              "      <td>1</td>\n",
              "      <td>43</td>\n",
              "      <td>21</td>\n",
              "      <td>886</td>\n",
              "      <td>0</td>\n",
              "      <td>49</td>\n",
              "      <td>0</td>\n",
              "      <td>0</td>\n",
              "      <td>0</td>\n",
              "    </tr>\n",
              "    <tr>\n",
              "      <th>Sandal</th>\n",
              "      <td>0</td>\n",
              "      <td>0</td>\n",
              "      <td>0</td>\n",
              "      <td>0</td>\n",
              "      <td>0</td>\n",
              "      <td>986</td>\n",
              "      <td>0</td>\n",
              "      <td>11</td>\n",
              "      <td>0</td>\n",
              "      <td>3</td>\n",
              "    </tr>\n",
              "    <tr>\n",
              "      <th>Shirt</th>\n",
              "      <td>79</td>\n",
              "      <td>2</td>\n",
              "      <td>50</td>\n",
              "      <td>22</td>\n",
              "      <td>51</td>\n",
              "      <td>0</td>\n",
              "      <td>794</td>\n",
              "      <td>0</td>\n",
              "      <td>2</td>\n",
              "      <td>0</td>\n",
              "    </tr>\n",
              "    <tr>\n",
              "      <th>Sneaker</th>\n",
              "      <td>0</td>\n",
              "      <td>0</td>\n",
              "      <td>0</td>\n",
              "      <td>0</td>\n",
              "      <td>0</td>\n",
              "      <td>5</td>\n",
              "      <td>0</td>\n",
              "      <td>984</td>\n",
              "      <td>0</td>\n",
              "      <td>11</td>\n",
              "    </tr>\n",
              "    <tr>\n",
              "      <th>Bag</th>\n",
              "      <td>1</td>\n",
              "      <td>0</td>\n",
              "      <td>0</td>\n",
              "      <td>5</td>\n",
              "      <td>1</td>\n",
              "      <td>1</td>\n",
              "      <td>4</td>\n",
              "      <td>3</td>\n",
              "      <td>985</td>\n",
              "      <td>0</td>\n",
              "    </tr>\n",
              "    <tr>\n",
              "      <th>Ankle Boot</th>\n",
              "      <td>0</td>\n",
              "      <td>0</td>\n",
              "      <td>0</td>\n",
              "      <td>0</td>\n",
              "      <td>0</td>\n",
              "      <td>4</td>\n",
              "      <td>1</td>\n",
              "      <td>29</td>\n",
              "      <td>0</td>\n",
              "      <td>966</td>\n",
              "    </tr>\n",
              "  </tbody>\n",
              "</table>\n",
              "</div>"
            ],
            "text/plain": [
              "             T-shirt/top  Trouser  Pullover  ...  Sneaker  Bag  Ankle Boot\n",
              "T-shirt/top          870        0        19  ...        0    3           0\n",
              "Trouser                1      990         0  ...        0    1           0\n",
              "Pullover              16        1       897  ...        0    0           0\n",
              "Dress                 12        5         8  ...        0    0           0\n",
              "Coat                   0        1        43  ...        0    0           0\n",
              "Sandal                 0        0         0  ...       11    0           3\n",
              "Shirt                 79        2        50  ...        0    2           0\n",
              "Sneaker                0        0         0  ...      984    0          11\n",
              "Bag                    1        0         0  ...        3  985           0\n",
              "Ankle Boot             0        0         0  ...       29    0         966\n",
              "\n",
              "[10 rows x 10 columns]"
            ]
          },
          "metadata": {
            "tags": []
          },
          "execution_count": 37
        }
      ]
    },
    {
      "cell_type": "markdown",
      "metadata": {
        "id": "XUWD0ZbQodQZ",
        "colab_type": "text"
      },
      "source": [
        "We can see that the Shirt which has the lowest accuracy is mostly confused with the T-shirt/top,the Pullover and the Dress. "
      ]
    }
  ]
}